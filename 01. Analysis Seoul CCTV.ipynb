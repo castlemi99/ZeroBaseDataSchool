{
 "cells": [
  {
   "cell_type": "markdown",
   "id": "317c0490",
   "metadata": {},
   "source": [
    "# 01. Analysis Seoul CCTV"
   ]
  },
  {
   "cell_type": "code",
   "execution_count": 62,
   "id": "a4cf1ff2",
   "metadata": {},
   "outputs": [],
   "source": [
    "import pandas as pd"
   ]
  },
  {
   "cell_type": "markdown",
   "id": "f2102439",
   "metadata": {},
   "source": [
    "## CCTV 데이터 읽기"
   ]
  },
  {
   "cell_type": "code",
   "execution_count": 63,
   "id": "dceeee95",
   "metadata": {},
   "outputs": [
    {
     "data": {
      "text/html": [
       "<div>\n",
       "<style scoped>\n",
       "    .dataframe tbody tr th:only-of-type {\n",
       "        vertical-align: middle;\n",
       "    }\n",
       "\n",
       "    .dataframe tbody tr th {\n",
       "        vertical-align: top;\n",
       "    }\n",
       "\n",
       "    .dataframe thead th {\n",
       "        text-align: right;\n",
       "    }\n",
       "</style>\n",
       "<table border=\"1\" class=\"dataframe\">\n",
       "  <thead>\n",
       "    <tr style=\"text-align: right;\">\n",
       "      <th></th>\n",
       "      <th>구분</th>\n",
       "      <th>총계</th>\n",
       "      <th>2013년 이전 설치된 CCTV</th>\n",
       "      <th>2013년</th>\n",
       "      <th>2014년</th>\n",
       "      <th>2015년</th>\n",
       "      <th>2016년</th>\n",
       "      <th>2017년</th>\n",
       "      <th>2018년</th>\n",
       "      <th>2019년</th>\n",
       "      <th>2020년</th>\n",
       "      <th>2021년</th>\n",
       "      <th>2022년</th>\n",
       "    </tr>\n",
       "  </thead>\n",
       "  <tbody>\n",
       "    <tr>\n",
       "      <th>0</th>\n",
       "      <td>계</td>\n",
       "      <td>91,341</td>\n",
       "      <td>2,804</td>\n",
       "      <td>3,097</td>\n",
       "      <td>3,981</td>\n",
       "      <td>6,576</td>\n",
       "      <td>8,850</td>\n",
       "      <td>11,566</td>\n",
       "      <td>11,024</td>\n",
       "      <td>13,151</td>\n",
       "      <td>11,912</td>\n",
       "      <td>9,144</td>\n",
       "      <td>9,236</td>\n",
       "    </tr>\n",
       "    <tr>\n",
       "      <th>1</th>\n",
       "      <td>종로구</td>\n",
       "      <td>1,980</td>\n",
       "      <td>36</td>\n",
       "      <td>540</td>\n",
       "      <td>107</td>\n",
       "      <td>161</td>\n",
       "      <td>131</td>\n",
       "      <td>158</td>\n",
       "      <td>152</td>\n",
       "      <td>69</td>\n",
       "      <td>250</td>\n",
       "      <td>85</td>\n",
       "      <td>291</td>\n",
       "    </tr>\n",
       "    <tr>\n",
       "      <th>2</th>\n",
       "      <td>중 구</td>\n",
       "      <td>2,584</td>\n",
       "      <td>130</td>\n",
       "      <td>87</td>\n",
       "      <td>77</td>\n",
       "      <td>236</td>\n",
       "      <td>240</td>\n",
       "      <td>372</td>\n",
       "      <td>386</td>\n",
       "      <td>155</td>\n",
       "      <td>361</td>\n",
       "      <td>403</td>\n",
       "      <td>137</td>\n",
       "    </tr>\n",
       "    <tr>\n",
       "      <th>3</th>\n",
       "      <td>용산구</td>\n",
       "      <td>2,847</td>\n",
       "      <td>44</td>\n",
       "      <td>50</td>\n",
       "      <td>68</td>\n",
       "      <td>83</td>\n",
       "      <td>295</td>\n",
       "      <td>491</td>\n",
       "      <td>115</td>\n",
       "      <td>322</td>\n",
       "      <td>623</td>\n",
       "      <td>422</td>\n",
       "      <td>334</td>\n",
       "    </tr>\n",
       "    <tr>\n",
       "      <th>4</th>\n",
       "      <td>성동구</td>\n",
       "      <td>4,047</td>\n",
       "      <td>58</td>\n",
       "      <td>99</td>\n",
       "      <td>110</td>\n",
       "      <td>366</td>\n",
       "      <td>279</td>\n",
       "      <td>945</td>\n",
       "      <td>459</td>\n",
       "      <td>647</td>\n",
       "      <td>485</td>\n",
       "      <td>367</td>\n",
       "      <td>232</td>\n",
       "    </tr>\n",
       "  </tbody>\n",
       "</table>\n",
       "</div>"
      ],
      "text/plain": [
       "    구분      총계 2013년 이전 설치된 CCTV  2013년  2014년  2015년  2016년   2017년   2018년  \\\n",
       "0    계  91,341             2,804  3,097  3,981  6,576  8,850  11,566  11,024   \n",
       "1  종로구   1,980                36    540    107    161    131     158     152   \n",
       "2  중 구   2,584               130     87     77    236    240     372     386   \n",
       "3  용산구   2,847                44     50     68     83    295     491     115   \n",
       "4  성동구   4,047                58     99    110    366    279     945     459   \n",
       "\n",
       "    2019년   2020년  2021년  2022년  \n",
       "0  13,151  11,912  9,144  9,236  \n",
       "1      69     250     85    291  \n",
       "2     155     361    403    137  \n",
       "3     322     623    422    334  \n",
       "4     647     485    367    232  "
      ]
     },
     "execution_count": 63,
     "metadata": {},
     "output_type": "execute_result"
    }
   ],
   "source": [
    "#데이터 읽기\n",
    "CCTV_Seoul = pd.read_csv(\"../data/01. Seoul_CCTV.csv\", encoding = \"cp949\")\n",
    "CCTV_Seoul.head()\n",
    "#read_csv 했을 때 UnicodeDecodeError: 'utf-8' codec can't decode byte 0xc0 in position 0: invalid start byte\n",
    "#와 같은 에러가 떴음\n",
    "#https://jonhyuk0922.tistory.com/232\n",
    "#위 사이트를 보고 'cp949'로 인코딩했을때 문제 없이 테이블을 볼 수 있었음."
   ]
  },
  {
   "cell_type": "code",
   "execution_count": 64,
   "id": "72006b5b",
   "metadata": {},
   "outputs": [
    {
     "data": {
      "text/plain": [
       "Index(['구분', '총계', '2013년 이전 설치된 CCTV', '2013년', '2014년', '2015년', '2016년',\n",
       "       '2017년', '2018년', '2019년', '2020년', '2021년', '2022년'],\n",
       "      dtype='object')"
      ]
     },
     "execution_count": 64,
     "metadata": {},
     "output_type": "execute_result"
    }
   ],
   "source": [
    "#데이터 컬럼명 보기\n",
    "CCTV_Seoul.columns"
   ]
  },
  {
   "cell_type": "code",
   "execution_count": 65,
   "id": "ba60984a",
   "metadata": {},
   "outputs": [
    {
     "data": {
      "text/plain": [
       "'구분'"
      ]
     },
     "execution_count": 65,
     "metadata": {},
     "output_type": "execute_result"
    }
   ],
   "source": [
    "#컬럼명 선택\n",
    "CCTV_Seoul.columns[0]"
   ]
  },
  {
   "cell_type": "code",
   "execution_count": 66,
   "id": "ea5cb4f0",
   "metadata": {},
   "outputs": [
    {
     "data": {
      "text/html": [
       "<div>\n",
       "<style scoped>\n",
       "    .dataframe tbody tr th:only-of-type {\n",
       "        vertical-align: middle;\n",
       "    }\n",
       "\n",
       "    .dataframe tbody tr th {\n",
       "        vertical-align: top;\n",
       "    }\n",
       "\n",
       "    .dataframe thead th {\n",
       "        text-align: right;\n",
       "    }\n",
       "</style>\n",
       "<table border=\"1\" class=\"dataframe\">\n",
       "  <thead>\n",
       "    <tr style=\"text-align: right;\">\n",
       "      <th></th>\n",
       "      <th>구별</th>\n",
       "      <th>총계</th>\n",
       "      <th>2013년 이전 설치된 CCTV</th>\n",
       "      <th>2013년</th>\n",
       "      <th>2014년</th>\n",
       "      <th>2015년</th>\n",
       "      <th>2016년</th>\n",
       "      <th>2017년</th>\n",
       "      <th>2018년</th>\n",
       "      <th>2019년</th>\n",
       "      <th>2020년</th>\n",
       "      <th>2021년</th>\n",
       "      <th>2022년</th>\n",
       "    </tr>\n",
       "  </thead>\n",
       "  <tbody>\n",
       "    <tr>\n",
       "      <th>0</th>\n",
       "      <td>계</td>\n",
       "      <td>91,341</td>\n",
       "      <td>2,804</td>\n",
       "      <td>3,097</td>\n",
       "      <td>3,981</td>\n",
       "      <td>6,576</td>\n",
       "      <td>8,850</td>\n",
       "      <td>11,566</td>\n",
       "      <td>11,024</td>\n",
       "      <td>13,151</td>\n",
       "      <td>11,912</td>\n",
       "      <td>9,144</td>\n",
       "      <td>9,236</td>\n",
       "    </tr>\n",
       "    <tr>\n",
       "      <th>1</th>\n",
       "      <td>종로구</td>\n",
       "      <td>1,980</td>\n",
       "      <td>36</td>\n",
       "      <td>540</td>\n",
       "      <td>107</td>\n",
       "      <td>161</td>\n",
       "      <td>131</td>\n",
       "      <td>158</td>\n",
       "      <td>152</td>\n",
       "      <td>69</td>\n",
       "      <td>250</td>\n",
       "      <td>85</td>\n",
       "      <td>291</td>\n",
       "    </tr>\n",
       "    <tr>\n",
       "      <th>2</th>\n",
       "      <td>중 구</td>\n",
       "      <td>2,584</td>\n",
       "      <td>130</td>\n",
       "      <td>87</td>\n",
       "      <td>77</td>\n",
       "      <td>236</td>\n",
       "      <td>240</td>\n",
       "      <td>372</td>\n",
       "      <td>386</td>\n",
       "      <td>155</td>\n",
       "      <td>361</td>\n",
       "      <td>403</td>\n",
       "      <td>137</td>\n",
       "    </tr>\n",
       "    <tr>\n",
       "      <th>3</th>\n",
       "      <td>용산구</td>\n",
       "      <td>2,847</td>\n",
       "      <td>44</td>\n",
       "      <td>50</td>\n",
       "      <td>68</td>\n",
       "      <td>83</td>\n",
       "      <td>295</td>\n",
       "      <td>491</td>\n",
       "      <td>115</td>\n",
       "      <td>322</td>\n",
       "      <td>623</td>\n",
       "      <td>422</td>\n",
       "      <td>334</td>\n",
       "    </tr>\n",
       "    <tr>\n",
       "      <th>4</th>\n",
       "      <td>성동구</td>\n",
       "      <td>4,047</td>\n",
       "      <td>58</td>\n",
       "      <td>99</td>\n",
       "      <td>110</td>\n",
       "      <td>366</td>\n",
       "      <td>279</td>\n",
       "      <td>945</td>\n",
       "      <td>459</td>\n",
       "      <td>647</td>\n",
       "      <td>485</td>\n",
       "      <td>367</td>\n",
       "      <td>232</td>\n",
       "    </tr>\n",
       "  </tbody>\n",
       "</table>\n",
       "</div>"
      ],
      "text/plain": [
       "    구별      총계 2013년 이전 설치된 CCTV  2013년  2014년  2015년  2016년   2017년   2018년  \\\n",
       "0    계  91,341             2,804  3,097  3,981  6,576  8,850  11,566  11,024   \n",
       "1  종로구   1,980                36    540    107    161    131     158     152   \n",
       "2  중 구   2,584               130     87     77    236    240     372     386   \n",
       "3  용산구   2,847                44     50     68     83    295     491     115   \n",
       "4  성동구   4,047                58     99    110    366    279     945     459   \n",
       "\n",
       "    2019년   2020년  2021년  2022년  \n",
       "0  13,151  11,912  9,144  9,236  \n",
       "1      69     250     85    291  \n",
       "2     155     361    403    137  \n",
       "3     322     623    422    334  \n",
       "4     647     485    367    232  "
      ]
     },
     "execution_count": 66,
     "metadata": {},
     "output_type": "execute_result"
    }
   ],
   "source": [
    "#컬렴명 변경 \n",
    "#데이터프레임명.rename(columns = {변경할 컬럼명 : \"변경 내용\"), inplace = True)\n",
    "#inplace = True 옵션을 해줘야 원본 데이터프레임에 변경이 적용됨.\n",
    "\n",
    "CCTV_Seoul.rename(columns = {CCTV_Seoul.columns[0] : \"구별\"}, inplace = True)\n",
    "CCTV_Seoul.head()"
   ]
  },
  {
   "cell_type": "markdown",
   "id": "7a317daf",
   "metadata": {},
   "source": [
    "## 인구수 데이터 읽기"
   ]
  },
  {
   "cell_type": "code",
   "execution_count": 17,
   "id": "d4ee31ee",
   "metadata": {},
   "outputs": [
    {
     "name": "stderr",
     "output_type": "stream",
     "text": [
      "C:\\Users\\nabi4\\anaconda3\\lib\\site-packages\\openpyxl\\styles\\stylesheet.py:226: UserWarning: Workbook contains no default style, apply openpyxl's default\n",
      "  warn(\"Workbook contains no default style, apply openpyxl's default\")\n"
     ]
    },
    {
     "data": {
      "text/html": [
       "<div>\n",
       "<style scoped>\n",
       "    .dataframe tbody tr th:only-of-type {\n",
       "        vertical-align: middle;\n",
       "    }\n",
       "\n",
       "    .dataframe tbody tr th {\n",
       "        vertical-align: top;\n",
       "    }\n",
       "\n",
       "    .dataframe thead th {\n",
       "        text-align: right;\n",
       "    }\n",
       "</style>\n",
       "<table border=\"1\" class=\"dataframe\">\n",
       "  <thead>\n",
       "    <tr style=\"text-align: right;\">\n",
       "      <th></th>\n",
       "      <th>동별(1)</th>\n",
       "      <th>동별(2)</th>\n",
       "      <th>2023 1/4</th>\n",
       "      <th>2023 1/4.1</th>\n",
       "      <th>2023 1/4.2</th>\n",
       "      <th>2023 1/4.3</th>\n",
       "      <th>2023 1/4.4</th>\n",
       "      <th>2023 1/4.5</th>\n",
       "      <th>2023 2/4</th>\n",
       "      <th>2023 2/4.1</th>\n",
       "      <th>2023 2/4.2</th>\n",
       "      <th>2023 2/4.3</th>\n",
       "      <th>2023 2/4.4</th>\n",
       "    </tr>\n",
       "  </thead>\n",
       "  <tbody>\n",
       "    <tr>\n",
       "      <th>0</th>\n",
       "      <td>동별(1)</td>\n",
       "      <td>동별(2)</td>\n",
       "      <td>세대 (세대)</td>\n",
       "      <td>계 (명)</td>\n",
       "      <td>한국인 (명)</td>\n",
       "      <td>등록외국인 (명)</td>\n",
       "      <td>세대당인구 (명)</td>\n",
       "      <td>65세이상고령자 (명)</td>\n",
       "      <td>세대 (세대)</td>\n",
       "      <td>계 (명)</td>\n",
       "      <td>한국인 (명)</td>\n",
       "      <td>등록외국인 (명)</td>\n",
       "      <td>인구밀도</td>\n",
       "    </tr>\n",
       "    <tr>\n",
       "      <th>1</th>\n",
       "      <td>합계</td>\n",
       "      <td>소계</td>\n",
       "      <td>4463385</td>\n",
       "      <td>9668008</td>\n",
       "      <td>9426404</td>\n",
       "      <td>241604</td>\n",
       "      <td>2.11</td>\n",
       "      <td>1690961</td>\n",
       "      <td>4469158</td>\n",
       "      <td>9659322</td>\n",
       "      <td>9414093</td>\n",
       "      <td>245229</td>\n",
       "      <td>2</td>\n",
       "    </tr>\n",
       "    <tr>\n",
       "      <th>2</th>\n",
       "      <td>NaN</td>\n",
       "      <td>종로구</td>\n",
       "      <td>72679</td>\n",
       "      <td>152212</td>\n",
       "      <td>141060</td>\n",
       "      <td>11152</td>\n",
       "      <td>1.94</td>\n",
       "      <td>28265</td>\n",
       "      <td>72507</td>\n",
       "      <td>151349</td>\n",
       "      <td>140397</td>\n",
       "      <td>10952</td>\n",
       "      <td>2</td>\n",
       "    </tr>\n",
       "    <tr>\n",
       "      <th>3</th>\n",
       "      <td>NaN</td>\n",
       "      <td>중구</td>\n",
       "      <td>63862</td>\n",
       "      <td>131390</td>\n",
       "      <td>120963</td>\n",
       "      <td>10427</td>\n",
       "      <td>1.89</td>\n",
       "      <td>25353</td>\n",
       "      <td>64375</td>\n",
       "      <td>132054</td>\n",
       "      <td>121441</td>\n",
       "      <td>10613</td>\n",
       "      <td>2</td>\n",
       "    </tr>\n",
       "    <tr>\n",
       "      <th>4</th>\n",
       "      <td>NaN</td>\n",
       "      <td>용산구</td>\n",
       "      <td>109735</td>\n",
       "      <td>232482</td>\n",
       "      <td>217756</td>\n",
       "      <td>14726</td>\n",
       "      <td>1.98</td>\n",
       "      <td>39478</td>\n",
       "      <td>109679</td>\n",
       "      <td>232069</td>\n",
       "      <td>217288</td>\n",
       "      <td>14781</td>\n",
       "      <td>2</td>\n",
       "    </tr>\n",
       "  </tbody>\n",
       "</table>\n",
       "</div>"
      ],
      "text/plain": [
       "   동별(1)  동별(2) 2023 1/4 2023 1/4.1 2023 1/4.2 2023 1/4.3 2023 1/4.4  \\\n",
       "0  동별(1)  동별(2)  세대 (세대)      계 (명)    한국인 (명)  등록외국인 (명)  세대당인구 (명)   \n",
       "1     합계     소계  4463385    9668008    9426404     241604       2.11   \n",
       "2    NaN    종로구    72679     152212     141060      11152       1.94   \n",
       "3    NaN     중구    63862     131390     120963      10427       1.89   \n",
       "4    NaN    용산구   109735     232482     217756      14726       1.98   \n",
       "\n",
       "     2023 1/4.5 2023 2/4 2023 2/4.1 2023 2/4.2 2023 2/4.3 2023 2/4.4  \n",
       "0  65세이상고령자 (명)  세대 (세대)      계 (명)    한국인 (명)  등록외국인 (명)       인구밀도  \n",
       "1       1690961  4469158    9659322    9414093     245229          2  \n",
       "2         28265    72507     151349     140397      10952          2  \n",
       "3         25353    64375     132054     121441      10613          2  \n",
       "4         39478   109679     232069     217288      14781          2  "
      ]
     },
     "execution_count": 17,
     "metadata": {},
     "output_type": "execute_result"
    }
   ],
   "source": [
    "pop_Seoul = pd.read_excel(\"../data/01. Seoul_Population.xlsx\")\n",
    "pop_Seoul.head()"
   ]
  },
  {
   "cell_type": "code",
   "execution_count": 18,
   "id": "d10b689b",
   "metadata": {},
   "outputs": [],
   "source": [
    "#데이터프레임이 지저분함.\n",
    "#원본 파일을 열어서 확인한 후 내가 원하는대로 데이터 추출해주기\n",
    "#자치구명, 인구수 합계, 한국인 인구수 합계, 등록 외국인 인구수 합계, 65세 이상 고령자 수 "
   ]
  },
  {
   "cell_type": "code",
   "execution_count": 19,
   "id": "ab6c77a8",
   "metadata": {},
   "outputs": [
    {
     "name": "stderr",
     "output_type": "stream",
     "text": [
      "C:\\Users\\nabi4\\anaconda3\\lib\\site-packages\\openpyxl\\styles\\stylesheet.py:226: UserWarning: Workbook contains no default style, apply openpyxl's default\n",
      "  warn(\"Workbook contains no default style, apply openpyxl's default\")\n"
     ]
    },
    {
     "data": {
      "text/html": [
       "<div>\n",
       "<style scoped>\n",
       "    .dataframe tbody tr th:only-of-type {\n",
       "        vertical-align: middle;\n",
       "    }\n",
       "\n",
       "    .dataframe tbody tr th {\n",
       "        vertical-align: top;\n",
       "    }\n",
       "\n",
       "    .dataframe thead th {\n",
       "        text-align: right;\n",
       "    }\n",
       "</style>\n",
       "<table border=\"1\" class=\"dataframe\">\n",
       "  <thead>\n",
       "    <tr style=\"text-align: right;\">\n",
       "      <th></th>\n",
       "      <th>동별(2)</th>\n",
       "      <th>계 (명)</th>\n",
       "      <th>한국인 (명)</th>\n",
       "      <th>등록외국인 (명)</th>\n",
       "      <th>65세이상고령자 (명)</th>\n",
       "    </tr>\n",
       "  </thead>\n",
       "  <tbody>\n",
       "    <tr>\n",
       "      <th>0</th>\n",
       "      <td>소계</td>\n",
       "      <td>9668008</td>\n",
       "      <td>9426404</td>\n",
       "      <td>241604</td>\n",
       "      <td>1690961</td>\n",
       "    </tr>\n",
       "    <tr>\n",
       "      <th>1</th>\n",
       "      <td>종로구</td>\n",
       "      <td>152212</td>\n",
       "      <td>141060</td>\n",
       "      <td>11152</td>\n",
       "      <td>28265</td>\n",
       "    </tr>\n",
       "    <tr>\n",
       "      <th>2</th>\n",
       "      <td>중구</td>\n",
       "      <td>131390</td>\n",
       "      <td>120963</td>\n",
       "      <td>10427</td>\n",
       "      <td>25353</td>\n",
       "    </tr>\n",
       "    <tr>\n",
       "      <th>3</th>\n",
       "      <td>용산구</td>\n",
       "      <td>232482</td>\n",
       "      <td>217756</td>\n",
       "      <td>14726</td>\n",
       "      <td>39478</td>\n",
       "    </tr>\n",
       "    <tr>\n",
       "      <th>4</th>\n",
       "      <td>성동구</td>\n",
       "      <td>287240</td>\n",
       "      <td>280240</td>\n",
       "      <td>7000</td>\n",
       "      <td>48238</td>\n",
       "    </tr>\n",
       "  </tbody>\n",
       "</table>\n",
       "</div>"
      ],
      "text/plain": [
       "  동별(2)    계 (명)  한국인 (명)  등록외국인 (명)  65세이상고령자 (명)\n",
       "0    소계  9668008  9426404     241604       1690961\n",
       "1   종로구   152212   141060      11152         28265\n",
       "2    중구   131390   120963      10427         25353\n",
       "3   용산구   232482   217756      14726         39478\n",
       "4   성동구   287240   280240       7000         48238"
      ]
     },
     "execution_count": 19,
     "metadata": {},
     "output_type": "execute_result"
    }
   ],
   "source": [
    "pop_Seoul = pd.read_excel(\n",
    "    \"../data/01. Seoul_Population.xlsx\", header = 1, usecols = \"B,D,E,F,H\"\n",
    ")\n",
    "pop_Seoul.head()"
   ]
  },
  {
   "cell_type": "code",
   "execution_count": 20,
   "id": "f684b2d7",
   "metadata": {},
   "outputs": [
    {
     "data": {
      "text/html": [
       "<div>\n",
       "<style scoped>\n",
       "    .dataframe tbody tr th:only-of-type {\n",
       "        vertical-align: middle;\n",
       "    }\n",
       "\n",
       "    .dataframe tbody tr th {\n",
       "        vertical-align: top;\n",
       "    }\n",
       "\n",
       "    .dataframe thead th {\n",
       "        text-align: right;\n",
       "    }\n",
       "</style>\n",
       "<table border=\"1\" class=\"dataframe\">\n",
       "  <thead>\n",
       "    <tr style=\"text-align: right;\">\n",
       "      <th></th>\n",
       "      <th>구별</th>\n",
       "      <th>인구수</th>\n",
       "      <th>한국인</th>\n",
       "      <th>외국인</th>\n",
       "      <th>고령자</th>\n",
       "    </tr>\n",
       "  </thead>\n",
       "  <tbody>\n",
       "    <tr>\n",
       "      <th>0</th>\n",
       "      <td>소계</td>\n",
       "      <td>9668008</td>\n",
       "      <td>9426404</td>\n",
       "      <td>241604</td>\n",
       "      <td>1690961</td>\n",
       "    </tr>\n",
       "    <tr>\n",
       "      <th>1</th>\n",
       "      <td>종로구</td>\n",
       "      <td>152212</td>\n",
       "      <td>141060</td>\n",
       "      <td>11152</td>\n",
       "      <td>28265</td>\n",
       "    </tr>\n",
       "    <tr>\n",
       "      <th>2</th>\n",
       "      <td>중구</td>\n",
       "      <td>131390</td>\n",
       "      <td>120963</td>\n",
       "      <td>10427</td>\n",
       "      <td>25353</td>\n",
       "    </tr>\n",
       "    <tr>\n",
       "      <th>3</th>\n",
       "      <td>용산구</td>\n",
       "      <td>232482</td>\n",
       "      <td>217756</td>\n",
       "      <td>14726</td>\n",
       "      <td>39478</td>\n",
       "    </tr>\n",
       "    <tr>\n",
       "      <th>4</th>\n",
       "      <td>성동구</td>\n",
       "      <td>287240</td>\n",
       "      <td>280240</td>\n",
       "      <td>7000</td>\n",
       "      <td>48238</td>\n",
       "    </tr>\n",
       "  </tbody>\n",
       "</table>\n",
       "</div>"
      ],
      "text/plain": [
       "    구별      인구수      한국인     외국인      고령자\n",
       "0   소계  9668008  9426404  241604  1690961\n",
       "1  종로구   152212   141060   11152    28265\n",
       "2   중구   131390   120963   10427    25353\n",
       "3  용산구   232482   217756   14726    39478\n",
       "4  성동구   287240   280240    7000    48238"
      ]
     },
     "execution_count": 20,
     "metadata": {},
     "output_type": "execute_result"
    }
   ],
   "source": [
    "# 컬럼명 변경\n",
    "pop_Seoul.rename(\n",
    "    columns = {\n",
    "        pop_Seoul.columns[0] : \"구별\",\n",
    "        pop_Seoul.columns[1] : \"인구수\",\n",
    "        pop_Seoul.columns[2] : \"한국인\",\n",
    "        pop_Seoul.columns[3] : \"외국인\",\n",
    "        pop_Seoul.columns[4] : \"고령자\"\n",
    "    },\n",
    "    inplace = True\n",
    ")\n",
    "pop_Seoul.head()"
   ]
  },
  {
   "cell_type": "markdown",
   "id": "9f70c3f8",
   "metadata": {},
   "source": [
    "## Pandas 기초\n",
    "- Python에서 R 만큼의 강력한 데이터 핸들링 성능을 제공하는 모듈\n",
    "- 단일 프로세스에서는 최대 효율\n",
    "- 코딩 가능하고 응용 가능한 엑셀로 받아들여도 됨\n",
    "- 누군가 스테로이드를 맞은 엑셀로 표현함"
   ]
  },
  {
   "cell_type": "markdown",
   "id": "0f00c061",
   "metadata": {},
   "source": [
    "#### Series\n",
    "- index와 value 로 이루어져 있음\n",
    "- 한가지 데이터 타입만 가질 수 있음 "
   ]
  },
  {
   "cell_type": "code",
   "execution_count": 2,
   "id": "5f5b74d5",
   "metadata": {},
   "outputs": [],
   "source": [
    "import pandas as pd\n",
    "import numpy as np"
   ]
  },
  {
   "cell_type": "code",
   "execution_count": 3,
   "id": "f9880a29",
   "metadata": {},
   "outputs": [
    {
     "data": {
      "text/plain": [
       "0    1\n",
       "1    2\n",
       "2    3\n",
       "3    4\n",
       "dtype: int64"
      ]
     },
     "execution_count": 3,
     "metadata": {},
     "output_type": "execute_result"
    }
   ],
   "source": [
    "pd.Series([1,2,3,4]) #데이터를 직접 만들 수 있음"
   ]
  },
  {
   "cell_type": "code",
   "execution_count": 4,
   "id": "6d2eaa92",
   "metadata": {},
   "outputs": [
    {
     "data": {
      "text/plain": [
       "0    1.0\n",
       "1    2.0\n",
       "2    3.0\n",
       "3    4.0\n",
       "dtype: float64"
      ]
     },
     "execution_count": 4,
     "metadata": {},
     "output_type": "execute_result"
    }
   ],
   "source": [
    "pd.Series([1,2,3,4], dtype = np.float64) #데이터형을 정할 수도 있음(자세한 내용은 공식문서 참고) "
   ]
  },
  {
   "cell_type": "code",
   "execution_count": 5,
   "id": "bae2db80",
   "metadata": {},
   "outputs": [
    {
     "data": {
      "text/plain": [
       "0    1\n",
       "1    2\n",
       "2    3\n",
       "3    4\n",
       "4    5\n",
       "dtype: object"
      ]
     },
     "execution_count": 5,
     "metadata": {},
     "output_type": "execute_result"
    }
   ],
   "source": [
    "pd.Series([1,2,3,4, \"5\"]) "
   ]
  },
  {
   "cell_type": "markdown",
   "id": "b15f7c31",
   "metadata": {},
   "source": [
    "#### 날짜 데이터 "
   ]
  },
  {
   "cell_type": "code",
   "execution_count": 10,
   "id": "1b96aa14",
   "metadata": {},
   "outputs": [],
   "source": [
    "date = pd.date_range(\"2023-07-28\", periods = 6) #원하는 기간 만큼의 날짜 생성 가능"
   ]
  },
  {
   "cell_type": "markdown",
   "id": "40250d6a",
   "metadata": {},
   "source": [
    "### DataFrame\n",
    "- pd.Series()\n",
    "    - index, value\n",
    "- pd.DataFrame()\n",
    "    - index, value, column"
   ]
  },
  {
   "cell_type": "code",
   "execution_count": 8,
   "id": "c0ff5196",
   "metadata": {},
   "outputs": [
    {
     "data": {
      "text/plain": [
       "array([[0.82038986, 0.10821252, 0.32670412, 0.59584036],\n",
       "       [0.80083311, 0.38967447, 0.42219916, 0.15376446],\n",
       "       [0.2491869 , 0.5003393 , 0.49432008, 0.00770721],\n",
       "       [0.86834178, 0.35810617, 0.67830007, 0.73768428],\n",
       "       [0.00510063, 0.20460398, 0.88545834, 0.84299775],\n",
       "       [0.1583514 , 0.54609675, 0.57937783, 0.96502905]])"
      ]
     },
     "execution_count": 8,
     "metadata": {},
     "output_type": "execute_result"
    }
   ],
   "source": [
    "#표준 정규분포에서 샘플링한 난수 생성\n",
    "data = np.random.rand(6,4)\n",
    "data"
   ]
  },
  {
   "cell_type": "code",
   "execution_count": 12,
   "id": "ff5a3e5f",
   "metadata": {},
   "outputs": [
    {
     "data": {
      "text/html": [
       "<div>\n",
       "<style scoped>\n",
       "    .dataframe tbody tr th:only-of-type {\n",
       "        vertical-align: middle;\n",
       "    }\n",
       "\n",
       "    .dataframe tbody tr th {\n",
       "        vertical-align: top;\n",
       "    }\n",
       "\n",
       "    .dataframe thead th {\n",
       "        text-align: right;\n",
       "    }\n",
       "</style>\n",
       "<table border=\"1\" class=\"dataframe\">\n",
       "  <thead>\n",
       "    <tr style=\"text-align: right;\">\n",
       "      <th></th>\n",
       "      <th>A</th>\n",
       "      <th>B</th>\n",
       "      <th>C</th>\n",
       "      <th>D</th>\n",
       "    </tr>\n",
       "  </thead>\n",
       "  <tbody>\n",
       "    <tr>\n",
       "      <th>2023-07-28</th>\n",
       "      <td>0.820390</td>\n",
       "      <td>0.108213</td>\n",
       "      <td>0.326704</td>\n",
       "      <td>0.595840</td>\n",
       "    </tr>\n",
       "    <tr>\n",
       "      <th>2023-07-29</th>\n",
       "      <td>0.800833</td>\n",
       "      <td>0.389674</td>\n",
       "      <td>0.422199</td>\n",
       "      <td>0.153764</td>\n",
       "    </tr>\n",
       "    <tr>\n",
       "      <th>2023-07-30</th>\n",
       "      <td>0.249187</td>\n",
       "      <td>0.500339</td>\n",
       "      <td>0.494320</td>\n",
       "      <td>0.007707</td>\n",
       "    </tr>\n",
       "    <tr>\n",
       "      <th>2023-07-31</th>\n",
       "      <td>0.868342</td>\n",
       "      <td>0.358106</td>\n",
       "      <td>0.678300</td>\n",
       "      <td>0.737684</td>\n",
       "    </tr>\n",
       "    <tr>\n",
       "      <th>2023-08-01</th>\n",
       "      <td>0.005101</td>\n",
       "      <td>0.204604</td>\n",
       "      <td>0.885458</td>\n",
       "      <td>0.842998</td>\n",
       "    </tr>\n",
       "    <tr>\n",
       "      <th>2023-08-02</th>\n",
       "      <td>0.158351</td>\n",
       "      <td>0.546097</td>\n",
       "      <td>0.579378</td>\n",
       "      <td>0.965029</td>\n",
       "    </tr>\n",
       "  </tbody>\n",
       "</table>\n",
       "</div>"
      ],
      "text/plain": [
       "                   A         B         C         D\n",
       "2023-07-28  0.820390  0.108213  0.326704  0.595840\n",
       "2023-07-29  0.800833  0.389674  0.422199  0.153764\n",
       "2023-07-30  0.249187  0.500339  0.494320  0.007707\n",
       "2023-07-31  0.868342  0.358106  0.678300  0.737684\n",
       "2023-08-01  0.005101  0.204604  0.885458  0.842998\n",
       "2023-08-02  0.158351  0.546097  0.579378  0.965029"
      ]
     },
     "execution_count": 12,
     "metadata": {},
     "output_type": "execute_result"
    }
   ],
   "source": [
    "df = pd.DataFrame(data, index = date, columns = [\"A\", \"B\", \"C\", \"D\"])\n",
    "df"
   ]
  },
  {
   "cell_type": "markdown",
   "id": "17093157",
   "metadata": {},
   "source": [
    "### 데이터프레임 정보 탐색"
   ]
  },
  {
   "cell_type": "code",
   "execution_count": 13,
   "id": "73757451",
   "metadata": {},
   "outputs": [
    {
     "data": {
      "text/html": [
       "<div>\n",
       "<style scoped>\n",
       "    .dataframe tbody tr th:only-of-type {\n",
       "        vertical-align: middle;\n",
       "    }\n",
       "\n",
       "    .dataframe tbody tr th {\n",
       "        vertical-align: top;\n",
       "    }\n",
       "\n",
       "    .dataframe thead th {\n",
       "        text-align: right;\n",
       "    }\n",
       "</style>\n",
       "<table border=\"1\" class=\"dataframe\">\n",
       "  <thead>\n",
       "    <tr style=\"text-align: right;\">\n",
       "      <th></th>\n",
       "      <th>A</th>\n",
       "      <th>B</th>\n",
       "      <th>C</th>\n",
       "      <th>D</th>\n",
       "    </tr>\n",
       "  </thead>\n",
       "  <tbody>\n",
       "    <tr>\n",
       "      <th>2023-07-28</th>\n",
       "      <td>0.820390</td>\n",
       "      <td>0.108213</td>\n",
       "      <td>0.326704</td>\n",
       "      <td>0.595840</td>\n",
       "    </tr>\n",
       "    <tr>\n",
       "      <th>2023-07-29</th>\n",
       "      <td>0.800833</td>\n",
       "      <td>0.389674</td>\n",
       "      <td>0.422199</td>\n",
       "      <td>0.153764</td>\n",
       "    </tr>\n",
       "    <tr>\n",
       "      <th>2023-07-30</th>\n",
       "      <td>0.249187</td>\n",
       "      <td>0.500339</td>\n",
       "      <td>0.494320</td>\n",
       "      <td>0.007707</td>\n",
       "    </tr>\n",
       "    <tr>\n",
       "      <th>2023-07-31</th>\n",
       "      <td>0.868342</td>\n",
       "      <td>0.358106</td>\n",
       "      <td>0.678300</td>\n",
       "      <td>0.737684</td>\n",
       "    </tr>\n",
       "    <tr>\n",
       "      <th>2023-08-01</th>\n",
       "      <td>0.005101</td>\n",
       "      <td>0.204604</td>\n",
       "      <td>0.885458</td>\n",
       "      <td>0.842998</td>\n",
       "    </tr>\n",
       "  </tbody>\n",
       "</table>\n",
       "</div>"
      ],
      "text/plain": [
       "                   A         B         C         D\n",
       "2023-07-28  0.820390  0.108213  0.326704  0.595840\n",
       "2023-07-29  0.800833  0.389674  0.422199  0.153764\n",
       "2023-07-30  0.249187  0.500339  0.494320  0.007707\n",
       "2023-07-31  0.868342  0.358106  0.678300  0.737684\n",
       "2023-08-01  0.005101  0.204604  0.885458  0.842998"
      ]
     },
     "execution_count": 13,
     "metadata": {},
     "output_type": "execute_result"
    }
   ],
   "source": [
    "df.head()"
   ]
  },
  {
   "cell_type": "markdown",
   "id": "ecc06a5f",
   "metadata": {},
   "source": [
    "#### 데이터 인덱스, 컬럼명, 값 확인"
   ]
  },
  {
   "cell_type": "code",
   "execution_count": 14,
   "id": "4a882713",
   "metadata": {},
   "outputs": [
    {
     "data": {
      "text/plain": [
       "DatetimeIndex(['2023-07-28', '2023-07-29', '2023-07-30', '2023-07-31',\n",
       "               '2023-08-01', '2023-08-02'],\n",
       "              dtype='datetime64[ns]', freq='D')"
      ]
     },
     "execution_count": 14,
     "metadata": {},
     "output_type": "execute_result"
    }
   ],
   "source": [
    "df.index"
   ]
  },
  {
   "cell_type": "code",
   "execution_count": 15,
   "id": "b5fd8295",
   "metadata": {},
   "outputs": [
    {
     "data": {
      "text/plain": [
       "Index(['A', 'B', 'C', 'D'], dtype='object')"
      ]
     },
     "execution_count": 15,
     "metadata": {},
     "output_type": "execute_result"
    }
   ],
   "source": [
    "df.columns"
   ]
  },
  {
   "cell_type": "code",
   "execution_count": 16,
   "id": "2c3493bb",
   "metadata": {},
   "outputs": [
    {
     "data": {
      "text/plain": [
       "array([[0.82038986, 0.10821252, 0.32670412, 0.59584036],\n",
       "       [0.80083311, 0.38967447, 0.42219916, 0.15376446],\n",
       "       [0.2491869 , 0.5003393 , 0.49432008, 0.00770721],\n",
       "       [0.86834178, 0.35810617, 0.67830007, 0.73768428],\n",
       "       [0.00510063, 0.20460398, 0.88545834, 0.84299775],\n",
       "       [0.1583514 , 0.54609675, 0.57937783, 0.96502905]])"
      ]
     },
     "execution_count": 16,
     "metadata": {},
     "output_type": "execute_result"
    }
   ],
   "source": [
    "df.values"
   ]
  },
  {
   "cell_type": "code",
   "execution_count": 17,
   "id": "5de1363a",
   "metadata": {},
   "outputs": [
    {
     "name": "stdout",
     "output_type": "stream",
     "text": [
      "<class 'pandas.core.frame.DataFrame'>\n",
      "DatetimeIndex: 6 entries, 2023-07-28 to 2023-08-02\n",
      "Freq: D\n",
      "Data columns (total 4 columns):\n",
      " #   Column  Non-Null Count  Dtype  \n",
      "---  ------  --------------  -----  \n",
      " 0   A       6 non-null      float64\n",
      " 1   B       6 non-null      float64\n",
      " 2   C       6 non-null      float64\n",
      " 3   D       6 non-null      float64\n",
      "dtypes: float64(4)\n",
      "memory usage: 240.0 bytes\n"
     ]
    }
   ],
   "source": [
    "df.info() #데이터 프레임 정보 확인"
   ]
  },
  {
   "cell_type": "code",
   "execution_count": 18,
   "id": "d5302c11",
   "metadata": {},
   "outputs": [
    {
     "data": {
      "text/html": [
       "<div>\n",
       "<style scoped>\n",
       "    .dataframe tbody tr th:only-of-type {\n",
       "        vertical-align: middle;\n",
       "    }\n",
       "\n",
       "    .dataframe tbody tr th {\n",
       "        vertical-align: top;\n",
       "    }\n",
       "\n",
       "    .dataframe thead th {\n",
       "        text-align: right;\n",
       "    }\n",
       "</style>\n",
       "<table border=\"1\" class=\"dataframe\">\n",
       "  <thead>\n",
       "    <tr style=\"text-align: right;\">\n",
       "      <th></th>\n",
       "      <th>A</th>\n",
       "      <th>B</th>\n",
       "      <th>C</th>\n",
       "      <th>D</th>\n",
       "    </tr>\n",
       "  </thead>\n",
       "  <tbody>\n",
       "    <tr>\n",
       "      <th>count</th>\n",
       "      <td>6.000000</td>\n",
       "      <td>6.000000</td>\n",
       "      <td>6.000000</td>\n",
       "      <td>6.000000</td>\n",
       "    </tr>\n",
       "    <tr>\n",
       "      <th>mean</th>\n",
       "      <td>0.483701</td>\n",
       "      <td>0.351172</td>\n",
       "      <td>0.564393</td>\n",
       "      <td>0.550504</td>\n",
       "    </tr>\n",
       "    <tr>\n",
       "      <th>std</th>\n",
       "      <td>0.387760</td>\n",
       "      <td>0.168694</td>\n",
       "      <td>0.198951</td>\n",
       "      <td>0.386395</td>\n",
       "    </tr>\n",
       "    <tr>\n",
       "      <th>min</th>\n",
       "      <td>0.005101</td>\n",
       "      <td>0.108213</td>\n",
       "      <td>0.326704</td>\n",
       "      <td>0.007707</td>\n",
       "    </tr>\n",
       "    <tr>\n",
       "      <th>25%</th>\n",
       "      <td>0.181060</td>\n",
       "      <td>0.242980</td>\n",
       "      <td>0.440229</td>\n",
       "      <td>0.264283</td>\n",
       "    </tr>\n",
       "    <tr>\n",
       "      <th>50%</th>\n",
       "      <td>0.525010</td>\n",
       "      <td>0.373890</td>\n",
       "      <td>0.536849</td>\n",
       "      <td>0.666762</td>\n",
       "    </tr>\n",
       "    <tr>\n",
       "      <th>75%</th>\n",
       "      <td>0.815501</td>\n",
       "      <td>0.472673</td>\n",
       "      <td>0.653570</td>\n",
       "      <td>0.816669</td>\n",
       "    </tr>\n",
       "    <tr>\n",
       "      <th>max</th>\n",
       "      <td>0.868342</td>\n",
       "      <td>0.546097</td>\n",
       "      <td>0.885458</td>\n",
       "      <td>0.965029</td>\n",
       "    </tr>\n",
       "  </tbody>\n",
       "</table>\n",
       "</div>"
      ],
      "text/plain": [
       "              A         B         C         D\n",
       "count  6.000000  6.000000  6.000000  6.000000\n",
       "mean   0.483701  0.351172  0.564393  0.550504\n",
       "std    0.387760  0.168694  0.198951  0.386395\n",
       "min    0.005101  0.108213  0.326704  0.007707\n",
       "25%    0.181060  0.242980  0.440229  0.264283\n",
       "50%    0.525010  0.373890  0.536849  0.666762\n",
       "75%    0.815501  0.472673  0.653570  0.816669\n",
       "max    0.868342  0.546097  0.885458  0.965029"
      ]
     },
     "execution_count": 18,
     "metadata": {},
     "output_type": "execute_result"
    }
   ],
   "source": [
    "df.describe() #데이터 프레임 기술통계 정보 확인"
   ]
  },
  {
   "cell_type": "markdown",
   "id": "13e8affc",
   "metadata": {},
   "source": [
    "#### 데이터 정렬"
   ]
  },
  {
   "cell_type": "code",
   "execution_count": 20,
   "id": "1e3512b8",
   "metadata": {},
   "outputs": [
    {
     "data": {
      "text/html": [
       "<div>\n",
       "<style scoped>\n",
       "    .dataframe tbody tr th:only-of-type {\n",
       "        vertical-align: middle;\n",
       "    }\n",
       "\n",
       "    .dataframe tbody tr th {\n",
       "        vertical-align: top;\n",
       "    }\n",
       "\n",
       "    .dataframe thead th {\n",
       "        text-align: right;\n",
       "    }\n",
       "</style>\n",
       "<table border=\"1\" class=\"dataframe\">\n",
       "  <thead>\n",
       "    <tr style=\"text-align: right;\">\n",
       "      <th></th>\n",
       "      <th>A</th>\n",
       "      <th>B</th>\n",
       "      <th>C</th>\n",
       "      <th>D</th>\n",
       "    </tr>\n",
       "  </thead>\n",
       "  <tbody>\n",
       "    <tr>\n",
       "      <th>2023-07-28</th>\n",
       "      <td>0.820390</td>\n",
       "      <td>0.108213</td>\n",
       "      <td>0.326704</td>\n",
       "      <td>0.595840</td>\n",
       "    </tr>\n",
       "    <tr>\n",
       "      <th>2023-08-01</th>\n",
       "      <td>0.005101</td>\n",
       "      <td>0.204604</td>\n",
       "      <td>0.885458</td>\n",
       "      <td>0.842998</td>\n",
       "    </tr>\n",
       "    <tr>\n",
       "      <th>2023-07-31</th>\n",
       "      <td>0.868342</td>\n",
       "      <td>0.358106</td>\n",
       "      <td>0.678300</td>\n",
       "      <td>0.737684</td>\n",
       "    </tr>\n",
       "    <tr>\n",
       "      <th>2023-07-29</th>\n",
       "      <td>0.800833</td>\n",
       "      <td>0.389674</td>\n",
       "      <td>0.422199</td>\n",
       "      <td>0.153764</td>\n",
       "    </tr>\n",
       "    <tr>\n",
       "      <th>2023-07-30</th>\n",
       "      <td>0.249187</td>\n",
       "      <td>0.500339</td>\n",
       "      <td>0.494320</td>\n",
       "      <td>0.007707</td>\n",
       "    </tr>\n",
       "    <tr>\n",
       "      <th>2023-08-02</th>\n",
       "      <td>0.158351</td>\n",
       "      <td>0.546097</td>\n",
       "      <td>0.579378</td>\n",
       "      <td>0.965029</td>\n",
       "    </tr>\n",
       "  </tbody>\n",
       "</table>\n",
       "</div>"
      ],
      "text/plain": [
       "                   A         B         C         D\n",
       "2023-07-28  0.820390  0.108213  0.326704  0.595840\n",
       "2023-08-01  0.005101  0.204604  0.885458  0.842998\n",
       "2023-07-31  0.868342  0.358106  0.678300  0.737684\n",
       "2023-07-29  0.800833  0.389674  0.422199  0.153764\n",
       "2023-07-30  0.249187  0.500339  0.494320  0.007707\n",
       "2023-08-02  0.158351  0.546097  0.579378  0.965029"
      ]
     },
     "execution_count": 20,
     "metadata": {},
     "output_type": "execute_result"
    }
   ],
   "source": [
    "df.sort_values(by = \"B\")#특정 컬럼을 기준으로 데이터 정렬\n",
    "#ascending = False 내림차순 정렬\n",
    "#inplace = True 원본 데이터에 저장"
   ]
  },
  {
   "cell_type": "markdown",
   "id": "54e9219e",
   "metadata": {},
   "source": [
    "#### 데이터 선택"
   ]
  },
  {
   "cell_type": "code",
   "execution_count": 22,
   "id": "1f26fa16",
   "metadata": {},
   "outputs": [
    {
     "data": {
      "text/plain": [
       "2023-07-28    0.820390\n",
       "2023-07-29    0.800833\n",
       "2023-07-30    0.249187\n",
       "2023-07-31    0.868342\n",
       "2023-08-01    0.005101\n",
       "2023-08-02    0.158351\n",
       "Freq: D, Name: A, dtype: float64"
      ]
     },
     "execution_count": 22,
     "metadata": {},
     "output_type": "execute_result"
    }
   ],
   "source": [
    "#한 개 컬럼 선택\n",
    "df['A'] #컬럼명이 문자열인 경우 df.A 로도 선택 가능"
   ]
  },
  {
   "cell_type": "code",
   "execution_count": 23,
   "id": "9e9921f7",
   "metadata": {},
   "outputs": [
    {
     "data": {
      "text/plain": [
       "pandas.core.series.Series"
      ]
     },
     "execution_count": 23,
     "metadata": {},
     "output_type": "execute_result"
    }
   ],
   "source": [
    "type(df[\"A\"])"
   ]
  },
  {
   "cell_type": "code",
   "execution_count": 24,
   "id": "b3ef5f60",
   "metadata": {},
   "outputs": [
    {
     "data": {
      "text/html": [
       "<div>\n",
       "<style scoped>\n",
       "    .dataframe tbody tr th:only-of-type {\n",
       "        vertical-align: middle;\n",
       "    }\n",
       "\n",
       "    .dataframe tbody tr th {\n",
       "        vertical-align: top;\n",
       "    }\n",
       "\n",
       "    .dataframe thead th {\n",
       "        text-align: right;\n",
       "    }\n",
       "</style>\n",
       "<table border=\"1\" class=\"dataframe\">\n",
       "  <thead>\n",
       "    <tr style=\"text-align: right;\">\n",
       "      <th></th>\n",
       "      <th>A</th>\n",
       "      <th>B</th>\n",
       "    </tr>\n",
       "  </thead>\n",
       "  <tbody>\n",
       "    <tr>\n",
       "      <th>2023-07-28</th>\n",
       "      <td>0.820390</td>\n",
       "      <td>0.108213</td>\n",
       "    </tr>\n",
       "    <tr>\n",
       "      <th>2023-07-29</th>\n",
       "      <td>0.800833</td>\n",
       "      <td>0.389674</td>\n",
       "    </tr>\n",
       "    <tr>\n",
       "      <th>2023-07-30</th>\n",
       "      <td>0.249187</td>\n",
       "      <td>0.500339</td>\n",
       "    </tr>\n",
       "    <tr>\n",
       "      <th>2023-07-31</th>\n",
       "      <td>0.868342</td>\n",
       "      <td>0.358106</td>\n",
       "    </tr>\n",
       "    <tr>\n",
       "      <th>2023-08-01</th>\n",
       "      <td>0.005101</td>\n",
       "      <td>0.204604</td>\n",
       "    </tr>\n",
       "    <tr>\n",
       "      <th>2023-08-02</th>\n",
       "      <td>0.158351</td>\n",
       "      <td>0.546097</td>\n",
       "    </tr>\n",
       "  </tbody>\n",
       "</table>\n",
       "</div>"
      ],
      "text/plain": [
       "                   A         B\n",
       "2023-07-28  0.820390  0.108213\n",
       "2023-07-29  0.800833  0.389674\n",
       "2023-07-30  0.249187  0.500339\n",
       "2023-07-31  0.868342  0.358106\n",
       "2023-08-01  0.005101  0.204604\n",
       "2023-08-02  0.158351  0.546097"
      ]
     },
     "execution_count": 24,
     "metadata": {},
     "output_type": "execute_result"
    }
   ],
   "source": [
    "#두 개 이상 컬럼 선택\n",
    "df[[\"A\", \"B\"]]"
   ]
  },
  {
   "cell_type": "markdown",
   "id": "0a5c9456",
   "metadata": {},
   "source": [
    "### offset index\n",
    "- [n:m] : n부터 m-1까지\n",
    "- 인덱스나 컬럼명으로 slice하는 경우는 끝까지 포함"
   ]
  },
  {
   "cell_type": "code",
   "execution_count": 25,
   "id": "d7a60b2d",
   "metadata": {},
   "outputs": [
    {
     "data": {
      "text/html": [
       "<div>\n",
       "<style scoped>\n",
       "    .dataframe tbody tr th:only-of-type {\n",
       "        vertical-align: middle;\n",
       "    }\n",
       "\n",
       "    .dataframe tbody tr th {\n",
       "        vertical-align: top;\n",
       "    }\n",
       "\n",
       "    .dataframe thead th {\n",
       "        text-align: right;\n",
       "    }\n",
       "</style>\n",
       "<table border=\"1\" class=\"dataframe\">\n",
       "  <thead>\n",
       "    <tr style=\"text-align: right;\">\n",
       "      <th></th>\n",
       "      <th>A</th>\n",
       "      <th>B</th>\n",
       "      <th>C</th>\n",
       "      <th>D</th>\n",
       "    </tr>\n",
       "  </thead>\n",
       "  <tbody>\n",
       "    <tr>\n",
       "      <th>2023-07-28</th>\n",
       "      <td>0.820390</td>\n",
       "      <td>0.108213</td>\n",
       "      <td>0.326704</td>\n",
       "      <td>0.595840</td>\n",
       "    </tr>\n",
       "    <tr>\n",
       "      <th>2023-07-29</th>\n",
       "      <td>0.800833</td>\n",
       "      <td>0.389674</td>\n",
       "      <td>0.422199</td>\n",
       "      <td>0.153764</td>\n",
       "    </tr>\n",
       "    <tr>\n",
       "      <th>2023-07-30</th>\n",
       "      <td>0.249187</td>\n",
       "      <td>0.500339</td>\n",
       "      <td>0.494320</td>\n",
       "      <td>0.007707</td>\n",
       "    </tr>\n",
       "    <tr>\n",
       "      <th>2023-07-31</th>\n",
       "      <td>0.868342</td>\n",
       "      <td>0.358106</td>\n",
       "      <td>0.678300</td>\n",
       "      <td>0.737684</td>\n",
       "    </tr>\n",
       "    <tr>\n",
       "      <th>2023-08-01</th>\n",
       "      <td>0.005101</td>\n",
       "      <td>0.204604</td>\n",
       "      <td>0.885458</td>\n",
       "      <td>0.842998</td>\n",
       "    </tr>\n",
       "    <tr>\n",
       "      <th>2023-08-02</th>\n",
       "      <td>0.158351</td>\n",
       "      <td>0.546097</td>\n",
       "      <td>0.579378</td>\n",
       "      <td>0.965029</td>\n",
       "    </tr>\n",
       "  </tbody>\n",
       "</table>\n",
       "</div>"
      ],
      "text/plain": [
       "                   A         B         C         D\n",
       "2023-07-28  0.820390  0.108213  0.326704  0.595840\n",
       "2023-07-29  0.800833  0.389674  0.422199  0.153764\n",
       "2023-07-30  0.249187  0.500339  0.494320  0.007707\n",
       "2023-07-31  0.868342  0.358106  0.678300  0.737684\n",
       "2023-08-01  0.005101  0.204604  0.885458  0.842998\n",
       "2023-08-02  0.158351  0.546097  0.579378  0.965029"
      ]
     },
     "execution_count": 25,
     "metadata": {},
     "output_type": "execute_result"
    }
   ],
   "source": [
    "df"
   ]
  },
  {
   "cell_type": "code",
   "execution_count": 26,
   "id": "9addfc31",
   "metadata": {},
   "outputs": [
    {
     "data": {
      "text/html": [
       "<div>\n",
       "<style scoped>\n",
       "    .dataframe tbody tr th:only-of-type {\n",
       "        vertical-align: middle;\n",
       "    }\n",
       "\n",
       "    .dataframe tbody tr th {\n",
       "        vertical-align: top;\n",
       "    }\n",
       "\n",
       "    .dataframe thead th {\n",
       "        text-align: right;\n",
       "    }\n",
       "</style>\n",
       "<table border=\"1\" class=\"dataframe\">\n",
       "  <thead>\n",
       "    <tr style=\"text-align: right;\">\n",
       "      <th></th>\n",
       "      <th>A</th>\n",
       "      <th>B</th>\n",
       "      <th>C</th>\n",
       "      <th>D</th>\n",
       "    </tr>\n",
       "  </thead>\n",
       "  <tbody>\n",
       "    <tr>\n",
       "      <th>2023-07-28</th>\n",
       "      <td>0.820390</td>\n",
       "      <td>0.108213</td>\n",
       "      <td>0.326704</td>\n",
       "      <td>0.595840</td>\n",
       "    </tr>\n",
       "    <tr>\n",
       "      <th>2023-07-29</th>\n",
       "      <td>0.800833</td>\n",
       "      <td>0.389674</td>\n",
       "      <td>0.422199</td>\n",
       "      <td>0.153764</td>\n",
       "    </tr>\n",
       "    <tr>\n",
       "      <th>2023-07-30</th>\n",
       "      <td>0.249187</td>\n",
       "      <td>0.500339</td>\n",
       "      <td>0.494320</td>\n",
       "      <td>0.007707</td>\n",
       "    </tr>\n",
       "  </tbody>\n",
       "</table>\n",
       "</div>"
      ],
      "text/plain": [
       "                   A         B         C         D\n",
       "2023-07-28  0.820390  0.108213  0.326704  0.595840\n",
       "2023-07-29  0.800833  0.389674  0.422199  0.153764\n",
       "2023-07-30  0.249187  0.500339  0.494320  0.007707"
      ]
     },
     "execution_count": 26,
     "metadata": {},
     "output_type": "execute_result"
    }
   ],
   "source": [
    "df[0:3]"
   ]
  },
  {
   "cell_type": "code",
   "execution_count": 28,
   "id": "e4d383f0",
   "metadata": {},
   "outputs": [
    {
     "data": {
      "text/html": [
       "<div>\n",
       "<style scoped>\n",
       "    .dataframe tbody tr th:only-of-type {\n",
       "        vertical-align: middle;\n",
       "    }\n",
       "\n",
       "    .dataframe tbody tr th {\n",
       "        vertical-align: top;\n",
       "    }\n",
       "\n",
       "    .dataframe thead th {\n",
       "        text-align: right;\n",
       "    }\n",
       "</style>\n",
       "<table border=\"1\" class=\"dataframe\">\n",
       "  <thead>\n",
       "    <tr style=\"text-align: right;\">\n",
       "      <th></th>\n",
       "      <th>A</th>\n",
       "      <th>B</th>\n",
       "      <th>C</th>\n",
       "      <th>D</th>\n",
       "    </tr>\n",
       "  </thead>\n",
       "  <tbody>\n",
       "    <tr>\n",
       "      <th>2023-07-28</th>\n",
       "      <td>0.820390</td>\n",
       "      <td>0.108213</td>\n",
       "      <td>0.326704</td>\n",
       "      <td>0.595840</td>\n",
       "    </tr>\n",
       "    <tr>\n",
       "      <th>2023-07-29</th>\n",
       "      <td>0.800833</td>\n",
       "      <td>0.389674</td>\n",
       "      <td>0.422199</td>\n",
       "      <td>0.153764</td>\n",
       "    </tr>\n",
       "    <tr>\n",
       "      <th>2023-07-30</th>\n",
       "      <td>0.249187</td>\n",
       "      <td>0.500339</td>\n",
       "      <td>0.494320</td>\n",
       "      <td>0.007707</td>\n",
       "    </tr>\n",
       "    <tr>\n",
       "      <th>2023-07-31</th>\n",
       "      <td>0.868342</td>\n",
       "      <td>0.358106</td>\n",
       "      <td>0.678300</td>\n",
       "      <td>0.737684</td>\n",
       "    </tr>\n",
       "  </tbody>\n",
       "</table>\n",
       "</div>"
      ],
      "text/plain": [
       "                   A         B         C         D\n",
       "2023-07-28  0.820390  0.108213  0.326704  0.595840\n",
       "2023-07-29  0.800833  0.389674  0.422199  0.153764\n",
       "2023-07-30  0.249187  0.500339  0.494320  0.007707\n",
       "2023-07-31  0.868342  0.358106  0.678300  0.737684"
      ]
     },
     "execution_count": 28,
     "metadata": {},
     "output_type": "execute_result"
    }
   ],
   "source": [
    "df[\"2023-07-28\":\"2023-07-31\"]"
   ]
  },
  {
   "cell_type": "markdown",
   "id": "2d314002",
   "metadata": {},
   "source": [
    "- loc : location\n",
    "- index 이름으로 특정 행, 열 선택"
   ]
  },
  {
   "cell_type": "code",
   "execution_count": 29,
   "id": "cddbf309",
   "metadata": {},
   "outputs": [
    {
     "data": {
      "text/html": [
       "<div>\n",
       "<style scoped>\n",
       "    .dataframe tbody tr th:only-of-type {\n",
       "        vertical-align: middle;\n",
       "    }\n",
       "\n",
       "    .dataframe tbody tr th {\n",
       "        vertical-align: top;\n",
       "    }\n",
       "\n",
       "    .dataframe thead th {\n",
       "        text-align: right;\n",
       "    }\n",
       "</style>\n",
       "<table border=\"1\" class=\"dataframe\">\n",
       "  <thead>\n",
       "    <tr style=\"text-align: right;\">\n",
       "      <th></th>\n",
       "      <th>A</th>\n",
       "      <th>B</th>\n",
       "    </tr>\n",
       "  </thead>\n",
       "  <tbody>\n",
       "    <tr>\n",
       "      <th>2023-07-28</th>\n",
       "      <td>0.820390</td>\n",
       "      <td>0.108213</td>\n",
       "    </tr>\n",
       "    <tr>\n",
       "      <th>2023-07-29</th>\n",
       "      <td>0.800833</td>\n",
       "      <td>0.389674</td>\n",
       "    </tr>\n",
       "    <tr>\n",
       "      <th>2023-07-30</th>\n",
       "      <td>0.249187</td>\n",
       "      <td>0.500339</td>\n",
       "    </tr>\n",
       "    <tr>\n",
       "      <th>2023-07-31</th>\n",
       "      <td>0.868342</td>\n",
       "      <td>0.358106</td>\n",
       "    </tr>\n",
       "    <tr>\n",
       "      <th>2023-08-01</th>\n",
       "      <td>0.005101</td>\n",
       "      <td>0.204604</td>\n",
       "    </tr>\n",
       "    <tr>\n",
       "      <th>2023-08-02</th>\n",
       "      <td>0.158351</td>\n",
       "      <td>0.546097</td>\n",
       "    </tr>\n",
       "  </tbody>\n",
       "</table>\n",
       "</div>"
      ],
      "text/plain": [
       "                   A         B\n",
       "2023-07-28  0.820390  0.108213\n",
       "2023-07-29  0.800833  0.389674\n",
       "2023-07-30  0.249187  0.500339\n",
       "2023-07-31  0.868342  0.358106\n",
       "2023-08-01  0.005101  0.204604\n",
       "2023-08-02  0.158351  0.546097"
      ]
     },
     "execution_count": 29,
     "metadata": {},
     "output_type": "execute_result"
    }
   ],
   "source": [
    "df.loc[:, [\"A\" , \"B\"]] #행, 열"
   ]
  },
  {
   "cell_type": "code",
   "execution_count": 31,
   "id": "4affa6a9",
   "metadata": {},
   "outputs": [
    {
     "data": {
      "text/html": [
       "<div>\n",
       "<style scoped>\n",
       "    .dataframe tbody tr th:only-of-type {\n",
       "        vertical-align: middle;\n",
       "    }\n",
       "\n",
       "    .dataframe tbody tr th {\n",
       "        vertical-align: top;\n",
       "    }\n",
       "\n",
       "    .dataframe thead th {\n",
       "        text-align: right;\n",
       "    }\n",
       "</style>\n",
       "<table border=\"1\" class=\"dataframe\">\n",
       "  <thead>\n",
       "    <tr style=\"text-align: right;\">\n",
       "      <th></th>\n",
       "      <th>A</th>\n",
       "      <th>C</th>\n",
       "    </tr>\n",
       "  </thead>\n",
       "  <tbody>\n",
       "    <tr>\n",
       "      <th>2023-07-28</th>\n",
       "      <td>0.820390</td>\n",
       "      <td>0.326704</td>\n",
       "    </tr>\n",
       "    <tr>\n",
       "      <th>2023-07-29</th>\n",
       "      <td>0.800833</td>\n",
       "      <td>0.422199</td>\n",
       "    </tr>\n",
       "    <tr>\n",
       "      <th>2023-07-30</th>\n",
       "      <td>0.249187</td>\n",
       "      <td>0.494320</td>\n",
       "    </tr>\n",
       "    <tr>\n",
       "      <th>2023-07-31</th>\n",
       "      <td>0.868342</td>\n",
       "      <td>0.678300</td>\n",
       "    </tr>\n",
       "  </tbody>\n",
       "</table>\n",
       "</div>"
      ],
      "text/plain": [
       "                   A         C\n",
       "2023-07-28  0.820390  0.326704\n",
       "2023-07-29  0.800833  0.422199\n",
       "2023-07-30  0.249187  0.494320\n",
       "2023-07-31  0.868342  0.678300"
      ]
     },
     "execution_count": 31,
     "metadata": {},
     "output_type": "execute_result"
    }
   ],
   "source": [
    "df.loc[\"2023-07-28\":\"2023-07-31\", [\"A\", \"C\"]]"
   ]
  },
  {
   "cell_type": "code",
   "execution_count": 32,
   "id": "45a72487",
   "metadata": {},
   "outputs": [
    {
     "data": {
      "text/html": [
       "<div>\n",
       "<style scoped>\n",
       "    .dataframe tbody tr th:only-of-type {\n",
       "        vertical-align: middle;\n",
       "    }\n",
       "\n",
       "    .dataframe tbody tr th {\n",
       "        vertical-align: top;\n",
       "    }\n",
       "\n",
       "    .dataframe thead th {\n",
       "        text-align: right;\n",
       "    }\n",
       "</style>\n",
       "<table border=\"1\" class=\"dataframe\">\n",
       "  <thead>\n",
       "    <tr style=\"text-align: right;\">\n",
       "      <th></th>\n",
       "      <th>A</th>\n",
       "      <th>B</th>\n",
       "      <th>C</th>\n",
       "    </tr>\n",
       "  </thead>\n",
       "  <tbody>\n",
       "    <tr>\n",
       "      <th>2023-07-28</th>\n",
       "      <td>0.820390</td>\n",
       "      <td>0.108213</td>\n",
       "      <td>0.326704</td>\n",
       "    </tr>\n",
       "    <tr>\n",
       "      <th>2023-07-29</th>\n",
       "      <td>0.800833</td>\n",
       "      <td>0.389674</td>\n",
       "      <td>0.422199</td>\n",
       "    </tr>\n",
       "    <tr>\n",
       "      <th>2023-07-30</th>\n",
       "      <td>0.249187</td>\n",
       "      <td>0.500339</td>\n",
       "      <td>0.494320</td>\n",
       "    </tr>\n",
       "    <tr>\n",
       "      <th>2023-07-31</th>\n",
       "      <td>0.868342</td>\n",
       "      <td>0.358106</td>\n",
       "      <td>0.678300</td>\n",
       "    </tr>\n",
       "  </tbody>\n",
       "</table>\n",
       "</div>"
      ],
      "text/plain": [
       "                   A         B         C\n",
       "2023-07-28  0.820390  0.108213  0.326704\n",
       "2023-07-29  0.800833  0.389674  0.422199\n",
       "2023-07-30  0.249187  0.500339  0.494320\n",
       "2023-07-31  0.868342  0.358106  0.678300"
      ]
     },
     "execution_count": 32,
     "metadata": {},
     "output_type": "execute_result"
    }
   ],
   "source": [
    "df.loc[\"2023-07-28\":\"2023-07-31\", \"A\":\"C\"]"
   ]
  },
  {
   "cell_type": "markdown",
   "id": "0842f34b",
   "metadata": {},
   "source": [
    "- iloc : integer location\n",
    "    - 컴퓨터가 인식하는 인덱스 값으로 선택"
   ]
  },
  {
   "cell_type": "code",
   "execution_count": 34,
   "id": "87a894a1",
   "metadata": {},
   "outputs": [
    {
     "data": {
      "text/html": [
       "<div>\n",
       "<style scoped>\n",
       "    .dataframe tbody tr th:only-of-type {\n",
       "        vertical-align: middle;\n",
       "    }\n",
       "\n",
       "    .dataframe tbody tr th {\n",
       "        vertical-align: top;\n",
       "    }\n",
       "\n",
       "    .dataframe thead th {\n",
       "        text-align: right;\n",
       "    }\n",
       "</style>\n",
       "<table border=\"1\" class=\"dataframe\">\n",
       "  <thead>\n",
       "    <tr style=\"text-align: right;\">\n",
       "      <th></th>\n",
       "      <th>A</th>\n",
       "      <th>B</th>\n",
       "      <th>C</th>\n",
       "      <th>D</th>\n",
       "    </tr>\n",
       "  </thead>\n",
       "  <tbody>\n",
       "    <tr>\n",
       "      <th>2023-07-28</th>\n",
       "      <td>0.820390</td>\n",
       "      <td>0.108213</td>\n",
       "      <td>0.326704</td>\n",
       "      <td>0.595840</td>\n",
       "    </tr>\n",
       "    <tr>\n",
       "      <th>2023-07-29</th>\n",
       "      <td>0.800833</td>\n",
       "      <td>0.389674</td>\n",
       "      <td>0.422199</td>\n",
       "      <td>0.153764</td>\n",
       "    </tr>\n",
       "    <tr>\n",
       "      <th>2023-07-30</th>\n",
       "      <td>0.249187</td>\n",
       "      <td>0.500339</td>\n",
       "      <td>0.494320</td>\n",
       "      <td>0.007707</td>\n",
       "    </tr>\n",
       "    <tr>\n",
       "      <th>2023-07-31</th>\n",
       "      <td>0.868342</td>\n",
       "      <td>0.358106</td>\n",
       "      <td>0.678300</td>\n",
       "      <td>0.737684</td>\n",
       "    </tr>\n",
       "    <tr>\n",
       "      <th>2023-08-01</th>\n",
       "      <td>0.005101</td>\n",
       "      <td>0.204604</td>\n",
       "      <td>0.885458</td>\n",
       "      <td>0.842998</td>\n",
       "    </tr>\n",
       "    <tr>\n",
       "      <th>2023-08-02</th>\n",
       "      <td>0.158351</td>\n",
       "      <td>0.546097</td>\n",
       "      <td>0.579378</td>\n",
       "      <td>0.965029</td>\n",
       "    </tr>\n",
       "  </tbody>\n",
       "</table>\n",
       "</div>"
      ],
      "text/plain": [
       "                   A         B         C         D\n",
       "2023-07-28  0.820390  0.108213  0.326704  0.595840\n",
       "2023-07-29  0.800833  0.389674  0.422199  0.153764\n",
       "2023-07-30  0.249187  0.500339  0.494320  0.007707\n",
       "2023-07-31  0.868342  0.358106  0.678300  0.737684\n",
       "2023-08-01  0.005101  0.204604  0.885458  0.842998\n",
       "2023-08-02  0.158351  0.546097  0.579378  0.965029"
      ]
     },
     "execution_count": 34,
     "metadata": {},
     "output_type": "execute_result"
    }
   ],
   "source": [
    "df"
   ]
  },
  {
   "cell_type": "code",
   "execution_count": 35,
   "id": "a0bd7b9f",
   "metadata": {},
   "outputs": [
    {
     "data": {
      "text/plain": [
       "A    0.868342\n",
       "B    0.358106\n",
       "C    0.678300\n",
       "D    0.737684\n",
       "Name: 2023-07-31 00:00:00, dtype: float64"
      ]
     },
     "execution_count": 35,
     "metadata": {},
     "output_type": "execute_result"
    }
   ],
   "source": [
    "df.iloc[3] #행"
   ]
  },
  {
   "cell_type": "code",
   "execution_count": 36,
   "id": "8bd17a4e",
   "metadata": {},
   "outputs": [
    {
     "data": {
      "text/plain": [
       "0.6783000671937987"
      ]
     },
     "execution_count": 36,
     "metadata": {},
     "output_type": "execute_result"
    }
   ],
   "source": [
    "df.iloc[3,2] #행, 열"
   ]
  },
  {
   "cell_type": "code",
   "execution_count": 37,
   "id": "4454de78",
   "metadata": {},
   "outputs": [
    {
     "data": {
      "text/html": [
       "<div>\n",
       "<style scoped>\n",
       "    .dataframe tbody tr th:only-of-type {\n",
       "        vertical-align: middle;\n",
       "    }\n",
       "\n",
       "    .dataframe tbody tr th {\n",
       "        vertical-align: top;\n",
       "    }\n",
       "\n",
       "    .dataframe thead th {\n",
       "        text-align: right;\n",
       "    }\n",
       "</style>\n",
       "<table border=\"1\" class=\"dataframe\">\n",
       "  <thead>\n",
       "    <tr style=\"text-align: right;\">\n",
       "      <th></th>\n",
       "      <th>A</th>\n",
       "      <th>B</th>\n",
       "    </tr>\n",
       "  </thead>\n",
       "  <tbody>\n",
       "    <tr>\n",
       "      <th>2023-07-31</th>\n",
       "      <td>0.868342</td>\n",
       "      <td>0.358106</td>\n",
       "    </tr>\n",
       "    <tr>\n",
       "      <th>2023-08-01</th>\n",
       "      <td>0.005101</td>\n",
       "      <td>0.204604</td>\n",
       "    </tr>\n",
       "  </tbody>\n",
       "</table>\n",
       "</div>"
      ],
      "text/plain": [
       "                   A         B\n",
       "2023-07-31  0.868342  0.358106\n",
       "2023-08-01  0.005101  0.204604"
      ]
     },
     "execution_count": 37,
     "metadata": {},
     "output_type": "execute_result"
    }
   ],
   "source": [
    "df.iloc[3:5, 0:2]"
   ]
  },
  {
   "cell_type": "markdown",
   "id": "8558001d",
   "metadata": {},
   "source": [
    "### condition"
   ]
  },
  {
   "cell_type": "code",
   "execution_count": 38,
   "id": "b10d2921",
   "metadata": {},
   "outputs": [
    {
     "data": {
      "text/html": [
       "<div>\n",
       "<style scoped>\n",
       "    .dataframe tbody tr th:only-of-type {\n",
       "        vertical-align: middle;\n",
       "    }\n",
       "\n",
       "    .dataframe tbody tr th {\n",
       "        vertical-align: top;\n",
       "    }\n",
       "\n",
       "    .dataframe thead th {\n",
       "        text-align: right;\n",
       "    }\n",
       "</style>\n",
       "<table border=\"1\" class=\"dataframe\">\n",
       "  <thead>\n",
       "    <tr style=\"text-align: right;\">\n",
       "      <th></th>\n",
       "      <th>A</th>\n",
       "      <th>B</th>\n",
       "      <th>C</th>\n",
       "      <th>D</th>\n",
       "    </tr>\n",
       "  </thead>\n",
       "  <tbody>\n",
       "    <tr>\n",
       "      <th>2023-07-28</th>\n",
       "      <td>0.820390</td>\n",
       "      <td>0.108213</td>\n",
       "      <td>0.326704</td>\n",
       "      <td>0.595840</td>\n",
       "    </tr>\n",
       "    <tr>\n",
       "      <th>2023-07-29</th>\n",
       "      <td>0.800833</td>\n",
       "      <td>0.389674</td>\n",
       "      <td>0.422199</td>\n",
       "      <td>0.153764</td>\n",
       "    </tr>\n",
       "    <tr>\n",
       "      <th>2023-07-30</th>\n",
       "      <td>0.249187</td>\n",
       "      <td>0.500339</td>\n",
       "      <td>0.494320</td>\n",
       "      <td>0.007707</td>\n",
       "    </tr>\n",
       "    <tr>\n",
       "      <th>2023-07-31</th>\n",
       "      <td>0.868342</td>\n",
       "      <td>0.358106</td>\n",
       "      <td>0.678300</td>\n",
       "      <td>0.737684</td>\n",
       "    </tr>\n",
       "    <tr>\n",
       "      <th>2023-08-01</th>\n",
       "      <td>0.005101</td>\n",
       "      <td>0.204604</td>\n",
       "      <td>0.885458</td>\n",
       "      <td>0.842998</td>\n",
       "    </tr>\n",
       "    <tr>\n",
       "      <th>2023-08-02</th>\n",
       "      <td>0.158351</td>\n",
       "      <td>0.546097</td>\n",
       "      <td>0.579378</td>\n",
       "      <td>0.965029</td>\n",
       "    </tr>\n",
       "  </tbody>\n",
       "</table>\n",
       "</div>"
      ],
      "text/plain": [
       "                   A         B         C         D\n",
       "2023-07-28  0.820390  0.108213  0.326704  0.595840\n",
       "2023-07-29  0.800833  0.389674  0.422199  0.153764\n",
       "2023-07-30  0.249187  0.500339  0.494320  0.007707\n",
       "2023-07-31  0.868342  0.358106  0.678300  0.737684\n",
       "2023-08-01  0.005101  0.204604  0.885458  0.842998\n",
       "2023-08-02  0.158351  0.546097  0.579378  0.965029"
      ]
     },
     "execution_count": 38,
     "metadata": {},
     "output_type": "execute_result"
    }
   ],
   "source": [
    "df"
   ]
  },
  {
   "cell_type": "code",
   "execution_count": 40,
   "id": "16de427a",
   "metadata": {},
   "outputs": [
    {
     "data": {
      "text/plain": [
       "2023-07-28    True\n",
       "2023-07-29    True\n",
       "2023-07-30    True\n",
       "2023-07-31    True\n",
       "2023-08-01    True\n",
       "2023-08-02    True\n",
       "Freq: D, Name: A, dtype: bool"
      ]
     },
     "execution_count": 40,
     "metadata": {},
     "output_type": "execute_result"
    }
   ],
   "source": [
    "# A 컬럼에서 양수만 선택\n",
    "df[\"A\"] > 0"
   ]
  },
  {
   "cell_type": "code",
   "execution_count": 41,
   "id": "b126a7e9",
   "metadata": {},
   "outputs": [
    {
     "data": {
      "text/html": [
       "<div>\n",
       "<style scoped>\n",
       "    .dataframe tbody tr th:only-of-type {\n",
       "        vertical-align: middle;\n",
       "    }\n",
       "\n",
       "    .dataframe tbody tr th {\n",
       "        vertical-align: top;\n",
       "    }\n",
       "\n",
       "    .dataframe thead th {\n",
       "        text-align: right;\n",
       "    }\n",
       "</style>\n",
       "<table border=\"1\" class=\"dataframe\">\n",
       "  <thead>\n",
       "    <tr style=\"text-align: right;\">\n",
       "      <th></th>\n",
       "      <th>A</th>\n",
       "      <th>B</th>\n",
       "      <th>C</th>\n",
       "      <th>D</th>\n",
       "    </tr>\n",
       "  </thead>\n",
       "  <tbody>\n",
       "    <tr>\n",
       "      <th>2023-07-28</th>\n",
       "      <td>0.820390</td>\n",
       "      <td>0.108213</td>\n",
       "      <td>0.326704</td>\n",
       "      <td>0.595840</td>\n",
       "    </tr>\n",
       "    <tr>\n",
       "      <th>2023-07-29</th>\n",
       "      <td>0.800833</td>\n",
       "      <td>0.389674</td>\n",
       "      <td>0.422199</td>\n",
       "      <td>0.153764</td>\n",
       "    </tr>\n",
       "    <tr>\n",
       "      <th>2023-07-30</th>\n",
       "      <td>0.249187</td>\n",
       "      <td>0.500339</td>\n",
       "      <td>0.494320</td>\n",
       "      <td>0.007707</td>\n",
       "    </tr>\n",
       "    <tr>\n",
       "      <th>2023-07-31</th>\n",
       "      <td>0.868342</td>\n",
       "      <td>0.358106</td>\n",
       "      <td>0.678300</td>\n",
       "      <td>0.737684</td>\n",
       "    </tr>\n",
       "    <tr>\n",
       "      <th>2023-08-01</th>\n",
       "      <td>0.005101</td>\n",
       "      <td>0.204604</td>\n",
       "      <td>0.885458</td>\n",
       "      <td>0.842998</td>\n",
       "    </tr>\n",
       "    <tr>\n",
       "      <th>2023-08-02</th>\n",
       "      <td>0.158351</td>\n",
       "      <td>0.546097</td>\n",
       "      <td>0.579378</td>\n",
       "      <td>0.965029</td>\n",
       "    </tr>\n",
       "  </tbody>\n",
       "</table>\n",
       "</div>"
      ],
      "text/plain": [
       "                   A         B         C         D\n",
       "2023-07-28  0.820390  0.108213  0.326704  0.595840\n",
       "2023-07-29  0.800833  0.389674  0.422199  0.153764\n",
       "2023-07-30  0.249187  0.500339  0.494320  0.007707\n",
       "2023-07-31  0.868342  0.358106  0.678300  0.737684\n",
       "2023-08-01  0.005101  0.204604  0.885458  0.842998\n",
       "2023-08-02  0.158351  0.546097  0.579378  0.965029"
      ]
     },
     "execution_count": 41,
     "metadata": {},
     "output_type": "execute_result"
    }
   ],
   "source": [
    "df[df[\"A\"] > 0]"
   ]
  },
  {
   "cell_type": "markdown",
   "id": "11d19736",
   "metadata": {},
   "source": [
    "#### 컬럼 추가\n",
    "- 기존 컬럼이 있으면 변경, 없으면 추가하는 방식"
   ]
  },
  {
   "cell_type": "code",
   "execution_count": 42,
   "id": "f5b33e92",
   "metadata": {},
   "outputs": [
    {
     "data": {
      "text/html": [
       "<div>\n",
       "<style scoped>\n",
       "    .dataframe tbody tr th:only-of-type {\n",
       "        vertical-align: middle;\n",
       "    }\n",
       "\n",
       "    .dataframe tbody tr th {\n",
       "        vertical-align: top;\n",
       "    }\n",
       "\n",
       "    .dataframe thead th {\n",
       "        text-align: right;\n",
       "    }\n",
       "</style>\n",
       "<table border=\"1\" class=\"dataframe\">\n",
       "  <thead>\n",
       "    <tr style=\"text-align: right;\">\n",
       "      <th></th>\n",
       "      <th>A</th>\n",
       "      <th>B</th>\n",
       "      <th>C</th>\n",
       "      <th>D</th>\n",
       "    </tr>\n",
       "  </thead>\n",
       "  <tbody>\n",
       "    <tr>\n",
       "      <th>2023-07-28</th>\n",
       "      <td>0.820390</td>\n",
       "      <td>0.108213</td>\n",
       "      <td>0.326704</td>\n",
       "      <td>0.595840</td>\n",
       "    </tr>\n",
       "    <tr>\n",
       "      <th>2023-07-29</th>\n",
       "      <td>0.800833</td>\n",
       "      <td>0.389674</td>\n",
       "      <td>0.422199</td>\n",
       "      <td>0.153764</td>\n",
       "    </tr>\n",
       "    <tr>\n",
       "      <th>2023-07-30</th>\n",
       "      <td>0.249187</td>\n",
       "      <td>0.500339</td>\n",
       "      <td>0.494320</td>\n",
       "      <td>0.007707</td>\n",
       "    </tr>\n",
       "    <tr>\n",
       "      <th>2023-07-31</th>\n",
       "      <td>0.868342</td>\n",
       "      <td>0.358106</td>\n",
       "      <td>0.678300</td>\n",
       "      <td>0.737684</td>\n",
       "    </tr>\n",
       "    <tr>\n",
       "      <th>2023-08-01</th>\n",
       "      <td>0.005101</td>\n",
       "      <td>0.204604</td>\n",
       "      <td>0.885458</td>\n",
       "      <td>0.842998</td>\n",
       "    </tr>\n",
       "    <tr>\n",
       "      <th>2023-08-02</th>\n",
       "      <td>0.158351</td>\n",
       "      <td>0.546097</td>\n",
       "      <td>0.579378</td>\n",
       "      <td>0.965029</td>\n",
       "    </tr>\n",
       "  </tbody>\n",
       "</table>\n",
       "</div>"
      ],
      "text/plain": [
       "                   A         B         C         D\n",
       "2023-07-28  0.820390  0.108213  0.326704  0.595840\n",
       "2023-07-29  0.800833  0.389674  0.422199  0.153764\n",
       "2023-07-30  0.249187  0.500339  0.494320  0.007707\n",
       "2023-07-31  0.868342  0.358106  0.678300  0.737684\n",
       "2023-08-01  0.005101  0.204604  0.885458  0.842998\n",
       "2023-08-02  0.158351  0.546097  0.579378  0.965029"
      ]
     },
     "execution_count": 42,
     "metadata": {},
     "output_type": "execute_result"
    }
   ],
   "source": [
    "df"
   ]
  },
  {
   "cell_type": "code",
   "execution_count": 44,
   "id": "cbf84d9c",
   "metadata": {},
   "outputs": [
    {
     "data": {
      "text/html": [
       "<div>\n",
       "<style scoped>\n",
       "    .dataframe tbody tr th:only-of-type {\n",
       "        vertical-align: middle;\n",
       "    }\n",
       "\n",
       "    .dataframe tbody tr th {\n",
       "        vertical-align: top;\n",
       "    }\n",
       "\n",
       "    .dataframe thead th {\n",
       "        text-align: right;\n",
       "    }\n",
       "</style>\n",
       "<table border=\"1\" class=\"dataframe\">\n",
       "  <thead>\n",
       "    <tr style=\"text-align: right;\">\n",
       "      <th></th>\n",
       "      <th>A</th>\n",
       "      <th>B</th>\n",
       "      <th>C</th>\n",
       "      <th>D</th>\n",
       "      <th>E</th>\n",
       "    </tr>\n",
       "  </thead>\n",
       "  <tbody>\n",
       "    <tr>\n",
       "      <th>2023-07-28</th>\n",
       "      <td>0.820390</td>\n",
       "      <td>0.108213</td>\n",
       "      <td>0.326704</td>\n",
       "      <td>0.595840</td>\n",
       "      <td>one</td>\n",
       "    </tr>\n",
       "    <tr>\n",
       "      <th>2023-07-29</th>\n",
       "      <td>0.800833</td>\n",
       "      <td>0.389674</td>\n",
       "      <td>0.422199</td>\n",
       "      <td>0.153764</td>\n",
       "      <td>two</td>\n",
       "    </tr>\n",
       "    <tr>\n",
       "      <th>2023-07-30</th>\n",
       "      <td>0.249187</td>\n",
       "      <td>0.500339</td>\n",
       "      <td>0.494320</td>\n",
       "      <td>0.007707</td>\n",
       "      <td>three</td>\n",
       "    </tr>\n",
       "    <tr>\n",
       "      <th>2023-07-31</th>\n",
       "      <td>0.868342</td>\n",
       "      <td>0.358106</td>\n",
       "      <td>0.678300</td>\n",
       "      <td>0.737684</td>\n",
       "      <td>four</td>\n",
       "    </tr>\n",
       "    <tr>\n",
       "      <th>2023-08-01</th>\n",
       "      <td>0.005101</td>\n",
       "      <td>0.204604</td>\n",
       "      <td>0.885458</td>\n",
       "      <td>0.842998</td>\n",
       "      <td>five</td>\n",
       "    </tr>\n",
       "    <tr>\n",
       "      <th>2023-08-02</th>\n",
       "      <td>0.158351</td>\n",
       "      <td>0.546097</td>\n",
       "      <td>0.579378</td>\n",
       "      <td>0.965029</td>\n",
       "      <td>six</td>\n",
       "    </tr>\n",
       "  </tbody>\n",
       "</table>\n",
       "</div>"
      ],
      "text/plain": [
       "                   A         B         C         D      E\n",
       "2023-07-28  0.820390  0.108213  0.326704  0.595840    one\n",
       "2023-07-29  0.800833  0.389674  0.422199  0.153764    two\n",
       "2023-07-30  0.249187  0.500339  0.494320  0.007707  three\n",
       "2023-07-31  0.868342  0.358106  0.678300  0.737684   four\n",
       "2023-08-01  0.005101  0.204604  0.885458  0.842998   five\n",
       "2023-08-02  0.158351  0.546097  0.579378  0.965029    six"
      ]
     },
     "execution_count": 44,
     "metadata": {},
     "output_type": "execute_result"
    }
   ],
   "source": [
    "df[\"E\"] = [\"one\", \"two\", \"three\", \"four\", \"five\", \"six\"]\n",
    "df"
   ]
  },
  {
   "cell_type": "markdown",
   "id": "a0233e3b",
   "metadata": {},
   "source": [
    "- isin()\n",
    "    특정 요소가 있는지 확인"
   ]
  },
  {
   "cell_type": "code",
   "execution_count": 45,
   "id": "cfac54bb",
   "metadata": {},
   "outputs": [
    {
     "data": {
      "text/plain": [
       "2023-07-28    False\n",
       "2023-07-29     True\n",
       "2023-07-30    False\n",
       "2023-07-31     True\n",
       "2023-08-01    False\n",
       "2023-08-02    False\n",
       "Freq: D, Name: E, dtype: bool"
      ]
     },
     "execution_count": 45,
     "metadata": {},
     "output_type": "execute_result"
    }
   ],
   "source": [
    "df[\"E\"] .isin([\"two\", \"four\"])"
   ]
  },
  {
   "cell_type": "code",
   "execution_count": 46,
   "id": "5be798dc",
   "metadata": {},
   "outputs": [
    {
     "data": {
      "text/html": [
       "<div>\n",
       "<style scoped>\n",
       "    .dataframe tbody tr th:only-of-type {\n",
       "        vertical-align: middle;\n",
       "    }\n",
       "\n",
       "    .dataframe tbody tr th {\n",
       "        vertical-align: top;\n",
       "    }\n",
       "\n",
       "    .dataframe thead th {\n",
       "        text-align: right;\n",
       "    }\n",
       "</style>\n",
       "<table border=\"1\" class=\"dataframe\">\n",
       "  <thead>\n",
       "    <tr style=\"text-align: right;\">\n",
       "      <th></th>\n",
       "      <th>A</th>\n",
       "      <th>B</th>\n",
       "      <th>C</th>\n",
       "      <th>D</th>\n",
       "      <th>E</th>\n",
       "    </tr>\n",
       "  </thead>\n",
       "  <tbody>\n",
       "    <tr>\n",
       "      <th>2023-07-29</th>\n",
       "      <td>0.800833</td>\n",
       "      <td>0.389674</td>\n",
       "      <td>0.422199</td>\n",
       "      <td>0.153764</td>\n",
       "      <td>two</td>\n",
       "    </tr>\n",
       "    <tr>\n",
       "      <th>2023-07-31</th>\n",
       "      <td>0.868342</td>\n",
       "      <td>0.358106</td>\n",
       "      <td>0.678300</td>\n",
       "      <td>0.737684</td>\n",
       "      <td>four</td>\n",
       "    </tr>\n",
       "  </tbody>\n",
       "</table>\n",
       "</div>"
      ],
      "text/plain": [
       "                   A         B         C         D     E\n",
       "2023-07-29  0.800833  0.389674  0.422199  0.153764   two\n",
       "2023-07-31  0.868342  0.358106  0.678300  0.737684  four"
      ]
     },
     "execution_count": 46,
     "metadata": {},
     "output_type": "execute_result"
    }
   ],
   "source": [
    "df[df[\"E\"] .isin([\"two\", \"four\"])] #특정 조건에 맞는 행만 추출"
   ]
  },
  {
   "cell_type": "markdown",
   "id": "278e1ad0",
   "metadata": {},
   "source": [
    "#### 특정 컬럼 제거\n",
    "- del\n",
    "- drop"
   ]
  },
  {
   "cell_type": "code",
   "execution_count": 47,
   "id": "12b9ed06",
   "metadata": {},
   "outputs": [
    {
     "data": {
      "text/html": [
       "<div>\n",
       "<style scoped>\n",
       "    .dataframe tbody tr th:only-of-type {\n",
       "        vertical-align: middle;\n",
       "    }\n",
       "\n",
       "    .dataframe tbody tr th {\n",
       "        vertical-align: top;\n",
       "    }\n",
       "\n",
       "    .dataframe thead th {\n",
       "        text-align: right;\n",
       "    }\n",
       "</style>\n",
       "<table border=\"1\" class=\"dataframe\">\n",
       "  <thead>\n",
       "    <tr style=\"text-align: right;\">\n",
       "      <th></th>\n",
       "      <th>A</th>\n",
       "      <th>B</th>\n",
       "      <th>C</th>\n",
       "      <th>D</th>\n",
       "      <th>E</th>\n",
       "    </tr>\n",
       "  </thead>\n",
       "  <tbody>\n",
       "    <tr>\n",
       "      <th>2023-07-28</th>\n",
       "      <td>0.820390</td>\n",
       "      <td>0.108213</td>\n",
       "      <td>0.326704</td>\n",
       "      <td>0.595840</td>\n",
       "      <td>one</td>\n",
       "    </tr>\n",
       "    <tr>\n",
       "      <th>2023-07-29</th>\n",
       "      <td>0.800833</td>\n",
       "      <td>0.389674</td>\n",
       "      <td>0.422199</td>\n",
       "      <td>0.153764</td>\n",
       "      <td>two</td>\n",
       "    </tr>\n",
       "    <tr>\n",
       "      <th>2023-07-30</th>\n",
       "      <td>0.249187</td>\n",
       "      <td>0.500339</td>\n",
       "      <td>0.494320</td>\n",
       "      <td>0.007707</td>\n",
       "      <td>three</td>\n",
       "    </tr>\n",
       "    <tr>\n",
       "      <th>2023-07-31</th>\n",
       "      <td>0.868342</td>\n",
       "      <td>0.358106</td>\n",
       "      <td>0.678300</td>\n",
       "      <td>0.737684</td>\n",
       "      <td>four</td>\n",
       "    </tr>\n",
       "    <tr>\n",
       "      <th>2023-08-01</th>\n",
       "      <td>0.005101</td>\n",
       "      <td>0.204604</td>\n",
       "      <td>0.885458</td>\n",
       "      <td>0.842998</td>\n",
       "      <td>five</td>\n",
       "    </tr>\n",
       "    <tr>\n",
       "      <th>2023-08-02</th>\n",
       "      <td>0.158351</td>\n",
       "      <td>0.546097</td>\n",
       "      <td>0.579378</td>\n",
       "      <td>0.965029</td>\n",
       "      <td>six</td>\n",
       "    </tr>\n",
       "  </tbody>\n",
       "</table>\n",
       "</div>"
      ],
      "text/plain": [
       "                   A         B         C         D      E\n",
       "2023-07-28  0.820390  0.108213  0.326704  0.595840    one\n",
       "2023-07-29  0.800833  0.389674  0.422199  0.153764    two\n",
       "2023-07-30  0.249187  0.500339  0.494320  0.007707  three\n",
       "2023-07-31  0.868342  0.358106  0.678300  0.737684   four\n",
       "2023-08-01  0.005101  0.204604  0.885458  0.842998   five\n",
       "2023-08-02  0.158351  0.546097  0.579378  0.965029    six"
      ]
     },
     "execution_count": 47,
     "metadata": {},
     "output_type": "execute_result"
    }
   ],
   "source": [
    "df"
   ]
  },
  {
   "cell_type": "code",
   "execution_count": 48,
   "id": "61f7a6a0",
   "metadata": {},
   "outputs": [
    {
     "data": {
      "text/html": [
       "<div>\n",
       "<style scoped>\n",
       "    .dataframe tbody tr th:only-of-type {\n",
       "        vertical-align: middle;\n",
       "    }\n",
       "\n",
       "    .dataframe tbody tr th {\n",
       "        vertical-align: top;\n",
       "    }\n",
       "\n",
       "    .dataframe thead th {\n",
       "        text-align: right;\n",
       "    }\n",
       "</style>\n",
       "<table border=\"1\" class=\"dataframe\">\n",
       "  <thead>\n",
       "    <tr style=\"text-align: right;\">\n",
       "      <th></th>\n",
       "      <th>A</th>\n",
       "      <th>B</th>\n",
       "      <th>C</th>\n",
       "      <th>D</th>\n",
       "    </tr>\n",
       "  </thead>\n",
       "  <tbody>\n",
       "    <tr>\n",
       "      <th>2023-07-28</th>\n",
       "      <td>0.820390</td>\n",
       "      <td>0.108213</td>\n",
       "      <td>0.326704</td>\n",
       "      <td>0.595840</td>\n",
       "    </tr>\n",
       "    <tr>\n",
       "      <th>2023-07-29</th>\n",
       "      <td>0.800833</td>\n",
       "      <td>0.389674</td>\n",
       "      <td>0.422199</td>\n",
       "      <td>0.153764</td>\n",
       "    </tr>\n",
       "    <tr>\n",
       "      <th>2023-07-30</th>\n",
       "      <td>0.249187</td>\n",
       "      <td>0.500339</td>\n",
       "      <td>0.494320</td>\n",
       "      <td>0.007707</td>\n",
       "    </tr>\n",
       "    <tr>\n",
       "      <th>2023-07-31</th>\n",
       "      <td>0.868342</td>\n",
       "      <td>0.358106</td>\n",
       "      <td>0.678300</td>\n",
       "      <td>0.737684</td>\n",
       "    </tr>\n",
       "    <tr>\n",
       "      <th>2023-08-01</th>\n",
       "      <td>0.005101</td>\n",
       "      <td>0.204604</td>\n",
       "      <td>0.885458</td>\n",
       "      <td>0.842998</td>\n",
       "    </tr>\n",
       "    <tr>\n",
       "      <th>2023-08-02</th>\n",
       "      <td>0.158351</td>\n",
       "      <td>0.546097</td>\n",
       "      <td>0.579378</td>\n",
       "      <td>0.965029</td>\n",
       "    </tr>\n",
       "  </tbody>\n",
       "</table>\n",
       "</div>"
      ],
      "text/plain": [
       "                   A         B         C         D\n",
       "2023-07-28  0.820390  0.108213  0.326704  0.595840\n",
       "2023-07-29  0.800833  0.389674  0.422199  0.153764\n",
       "2023-07-30  0.249187  0.500339  0.494320  0.007707\n",
       "2023-07-31  0.868342  0.358106  0.678300  0.737684\n",
       "2023-08-01  0.005101  0.204604  0.885458  0.842998\n",
       "2023-08-02  0.158351  0.546097  0.579378  0.965029"
      ]
     },
     "execution_count": 48,
     "metadata": {},
     "output_type": "execute_result"
    }
   ],
   "source": [
    "del df[\"E\"] #원본 데이터까지 삭제해버림\n",
    "df"
   ]
  },
  {
   "cell_type": "code",
   "execution_count": 49,
   "id": "9200b99f",
   "metadata": {},
   "outputs": [
    {
     "data": {
      "text/html": [
       "<div>\n",
       "<style scoped>\n",
       "    .dataframe tbody tr th:only-of-type {\n",
       "        vertical-align: middle;\n",
       "    }\n",
       "\n",
       "    .dataframe tbody tr th {\n",
       "        vertical-align: top;\n",
       "    }\n",
       "\n",
       "    .dataframe thead th {\n",
       "        text-align: right;\n",
       "    }\n",
       "</style>\n",
       "<table border=\"1\" class=\"dataframe\">\n",
       "  <thead>\n",
       "    <tr style=\"text-align: right;\">\n",
       "      <th></th>\n",
       "      <th>A</th>\n",
       "      <th>B</th>\n",
       "      <th>C</th>\n",
       "    </tr>\n",
       "  </thead>\n",
       "  <tbody>\n",
       "    <tr>\n",
       "      <th>2023-07-28</th>\n",
       "      <td>0.820390</td>\n",
       "      <td>0.108213</td>\n",
       "      <td>0.326704</td>\n",
       "    </tr>\n",
       "    <tr>\n",
       "      <th>2023-07-29</th>\n",
       "      <td>0.800833</td>\n",
       "      <td>0.389674</td>\n",
       "      <td>0.422199</td>\n",
       "    </tr>\n",
       "    <tr>\n",
       "      <th>2023-07-30</th>\n",
       "      <td>0.249187</td>\n",
       "      <td>0.500339</td>\n",
       "      <td>0.494320</td>\n",
       "    </tr>\n",
       "    <tr>\n",
       "      <th>2023-07-31</th>\n",
       "      <td>0.868342</td>\n",
       "      <td>0.358106</td>\n",
       "      <td>0.678300</td>\n",
       "    </tr>\n",
       "    <tr>\n",
       "      <th>2023-08-01</th>\n",
       "      <td>0.005101</td>\n",
       "      <td>0.204604</td>\n",
       "      <td>0.885458</td>\n",
       "    </tr>\n",
       "    <tr>\n",
       "      <th>2023-08-02</th>\n",
       "      <td>0.158351</td>\n",
       "      <td>0.546097</td>\n",
       "      <td>0.579378</td>\n",
       "    </tr>\n",
       "  </tbody>\n",
       "</table>\n",
       "</div>"
      ],
      "text/plain": [
       "                   A         B         C\n",
       "2023-07-28  0.820390  0.108213  0.326704\n",
       "2023-07-29  0.800833  0.389674  0.422199\n",
       "2023-07-30  0.249187  0.500339  0.494320\n",
       "2023-07-31  0.868342  0.358106  0.678300\n",
       "2023-08-01  0.005101  0.204604  0.885458\n",
       "2023-08-02  0.158351  0.546097  0.579378"
      ]
     },
     "execution_count": 49,
     "metadata": {},
     "output_type": "execute_result"
    }
   ],
   "source": [
    "#그에 반해, drop은 원본 데이터까지 삭제하진 않음\n",
    "df.drop([\"D\"], axis = 1) #axis = 0 가로, axis = 1세로"
   ]
  },
  {
   "cell_type": "code",
   "execution_count": 50,
   "id": "c48620d3",
   "metadata": {},
   "outputs": [
    {
     "data": {
      "text/html": [
       "<div>\n",
       "<style scoped>\n",
       "    .dataframe tbody tr th:only-of-type {\n",
       "        vertical-align: middle;\n",
       "    }\n",
       "\n",
       "    .dataframe tbody tr th {\n",
       "        vertical-align: top;\n",
       "    }\n",
       "\n",
       "    .dataframe thead th {\n",
       "        text-align: right;\n",
       "    }\n",
       "</style>\n",
       "<table border=\"1\" class=\"dataframe\">\n",
       "  <thead>\n",
       "    <tr style=\"text-align: right;\">\n",
       "      <th></th>\n",
       "      <th>A</th>\n",
       "      <th>B</th>\n",
       "      <th>C</th>\n",
       "      <th>D</th>\n",
       "    </tr>\n",
       "  </thead>\n",
       "  <tbody>\n",
       "    <tr>\n",
       "      <th>2023-07-28</th>\n",
       "      <td>0.820390</td>\n",
       "      <td>0.108213</td>\n",
       "      <td>0.326704</td>\n",
       "      <td>0.595840</td>\n",
       "    </tr>\n",
       "    <tr>\n",
       "      <th>2023-07-29</th>\n",
       "      <td>0.800833</td>\n",
       "      <td>0.389674</td>\n",
       "      <td>0.422199</td>\n",
       "      <td>0.153764</td>\n",
       "    </tr>\n",
       "    <tr>\n",
       "      <th>2023-07-30</th>\n",
       "      <td>0.249187</td>\n",
       "      <td>0.500339</td>\n",
       "      <td>0.494320</td>\n",
       "      <td>0.007707</td>\n",
       "    </tr>\n",
       "    <tr>\n",
       "      <th>2023-07-31</th>\n",
       "      <td>0.868342</td>\n",
       "      <td>0.358106</td>\n",
       "      <td>0.678300</td>\n",
       "      <td>0.737684</td>\n",
       "    </tr>\n",
       "    <tr>\n",
       "      <th>2023-08-01</th>\n",
       "      <td>0.005101</td>\n",
       "      <td>0.204604</td>\n",
       "      <td>0.885458</td>\n",
       "      <td>0.842998</td>\n",
       "    </tr>\n",
       "  </tbody>\n",
       "</table>\n",
       "</div>"
      ],
      "text/plain": [
       "                   A         B         C         D\n",
       "2023-07-28  0.820390  0.108213  0.326704  0.595840\n",
       "2023-07-29  0.800833  0.389674  0.422199  0.153764\n",
       "2023-07-30  0.249187  0.500339  0.494320  0.007707\n",
       "2023-07-31  0.868342  0.358106  0.678300  0.737684\n",
       "2023-08-01  0.005101  0.204604  0.885458  0.842998"
      ]
     },
     "execution_count": 50,
     "metadata": {},
     "output_type": "execute_result"
    }
   ],
   "source": [
    "df.drop([\"2023-08-02\"])"
   ]
  },
  {
   "cell_type": "markdown",
   "id": "0cb768f0",
   "metadata": {},
   "source": [
    "#### apply()\n",
    "괄호 안에 들어가는 함수를 데이터프레임에 적용시켜줌"
   ]
  },
  {
   "cell_type": "code",
   "execution_count": 51,
   "id": "d7919470",
   "metadata": {},
   "outputs": [
    {
     "data": {
      "text/html": [
       "<div>\n",
       "<style scoped>\n",
       "    .dataframe tbody tr th:only-of-type {\n",
       "        vertical-align: middle;\n",
       "    }\n",
       "\n",
       "    .dataframe tbody tr th {\n",
       "        vertical-align: top;\n",
       "    }\n",
       "\n",
       "    .dataframe thead th {\n",
       "        text-align: right;\n",
       "    }\n",
       "</style>\n",
       "<table border=\"1\" class=\"dataframe\">\n",
       "  <thead>\n",
       "    <tr style=\"text-align: right;\">\n",
       "      <th></th>\n",
       "      <th>A</th>\n",
       "      <th>B</th>\n",
       "      <th>C</th>\n",
       "      <th>D</th>\n",
       "    </tr>\n",
       "  </thead>\n",
       "  <tbody>\n",
       "    <tr>\n",
       "      <th>2023-07-28</th>\n",
       "      <td>0.820390</td>\n",
       "      <td>0.108213</td>\n",
       "      <td>0.326704</td>\n",
       "      <td>0.595840</td>\n",
       "    </tr>\n",
       "    <tr>\n",
       "      <th>2023-07-29</th>\n",
       "      <td>0.800833</td>\n",
       "      <td>0.389674</td>\n",
       "      <td>0.422199</td>\n",
       "      <td>0.153764</td>\n",
       "    </tr>\n",
       "    <tr>\n",
       "      <th>2023-07-30</th>\n",
       "      <td>0.249187</td>\n",
       "      <td>0.500339</td>\n",
       "      <td>0.494320</td>\n",
       "      <td>0.007707</td>\n",
       "    </tr>\n",
       "    <tr>\n",
       "      <th>2023-07-31</th>\n",
       "      <td>0.868342</td>\n",
       "      <td>0.358106</td>\n",
       "      <td>0.678300</td>\n",
       "      <td>0.737684</td>\n",
       "    </tr>\n",
       "    <tr>\n",
       "      <th>2023-08-01</th>\n",
       "      <td>0.005101</td>\n",
       "      <td>0.204604</td>\n",
       "      <td>0.885458</td>\n",
       "      <td>0.842998</td>\n",
       "    </tr>\n",
       "    <tr>\n",
       "      <th>2023-08-02</th>\n",
       "      <td>0.158351</td>\n",
       "      <td>0.546097</td>\n",
       "      <td>0.579378</td>\n",
       "      <td>0.965029</td>\n",
       "    </tr>\n",
       "  </tbody>\n",
       "</table>\n",
       "</div>"
      ],
      "text/plain": [
       "                   A         B         C         D\n",
       "2023-07-28  0.820390  0.108213  0.326704  0.595840\n",
       "2023-07-29  0.800833  0.389674  0.422199  0.153764\n",
       "2023-07-30  0.249187  0.500339  0.494320  0.007707\n",
       "2023-07-31  0.868342  0.358106  0.678300  0.737684\n",
       "2023-08-01  0.005101  0.204604  0.885458  0.842998\n",
       "2023-08-02  0.158351  0.546097  0.579378  0.965029"
      ]
     },
     "execution_count": 51,
     "metadata": {},
     "output_type": "execute_result"
    }
   ],
   "source": [
    "df"
   ]
  },
  {
   "cell_type": "code",
   "execution_count": 52,
   "id": "b3cab2cc",
   "metadata": {},
   "outputs": [
    {
     "data": {
      "text/plain": [
       "2.9022036790503596"
      ]
     },
     "execution_count": 52,
     "metadata": {},
     "output_type": "execute_result"
    }
   ],
   "source": [
    "df[\"A\"].apply(\"sum\")"
   ]
  },
  {
   "cell_type": "code",
   "execution_count": 54,
   "id": "cedf0fe2",
   "metadata": {},
   "outputs": [
    {
     "data": {
      "text/plain": [
       "(0.005100631162870517, 0.8683417812764914)"
      ]
     },
     "execution_count": 54,
     "metadata": {},
     "output_type": "execute_result"
    }
   ],
   "source": [
    "df[\"A\"].apply(\"min\") , df[\"A\"].apply('max')"
   ]
  },
  {
   "cell_type": "code",
   "execution_count": 55,
   "id": "f7ee4cb6",
   "metadata": {},
   "outputs": [
    {
     "data": {
      "text/plain": [
       "A    2.902204\n",
       "D    3.303023\n",
       "dtype: float64"
      ]
     },
     "execution_count": 55,
     "metadata": {},
     "output_type": "execute_result"
    }
   ],
   "source": [
    "df[[\"A\", \"D\"]].apply(\"sum\")"
   ]
  },
  {
   "cell_type": "code",
   "execution_count": 56,
   "id": "2979b082",
   "metadata": {},
   "outputs": [
    {
     "data": {
      "text/plain": [
       "2023-07-28    0.820390\n",
       "2023-07-29    0.800833\n",
       "2023-07-30    0.249187\n",
       "2023-07-31    0.868342\n",
       "2023-08-01    0.005101\n",
       "2023-08-02    0.158351\n",
       "Freq: D, Name: A, dtype: float64"
      ]
     },
     "execution_count": 56,
     "metadata": {},
     "output_type": "execute_result"
    }
   ],
   "source": [
    "df[\"A\"].apply(np.sum)"
   ]
  },
  {
   "cell_type": "code",
   "execution_count": 57,
   "id": "b15439f5",
   "metadata": {},
   "outputs": [],
   "source": [
    "def plusminus(num): #사용자 함수를 집어넣어 데이터프레임을 변환시킬 수도 있음\n",
    "    return \"plus\" if num > 0 else \"minus\""
   ]
  },
  {
   "cell_type": "code",
   "execution_count": 58,
   "id": "f68e9c8a",
   "metadata": {},
   "outputs": [
    {
     "data": {
      "text/plain": [
       "2023-07-28    plus\n",
       "2023-07-29    plus\n",
       "2023-07-30    plus\n",
       "2023-07-31    plus\n",
       "2023-08-01    plus\n",
       "2023-08-02    plus\n",
       "Freq: D, Name: A, dtype: object"
      ]
     },
     "execution_count": 58,
     "metadata": {},
     "output_type": "execute_result"
    }
   ],
   "source": [
    "df[\"A\"].apply(plusminus)"
   ]
  },
  {
   "cell_type": "code",
   "execution_count": 59,
   "id": "4669d108",
   "metadata": {},
   "outputs": [
    {
     "data": {
      "text/plain": [
       "2023-07-28    plus\n",
       "2023-07-29    plus\n",
       "2023-07-30    plus\n",
       "2023-07-31    plus\n",
       "2023-08-01    plus\n",
       "2023-08-02    plus\n",
       "Freq: D, Name: A, dtype: object"
      ]
     },
     "execution_count": 59,
     "metadata": {},
     "output_type": "execute_result"
    }
   ],
   "source": [
    "df[\"A\"].apply(lambda num : \"plus\" if num > 0 else \"minus\" )"
   ]
  },
  {
   "cell_type": "markdown",
   "id": "bb4e01e2",
   "metadata": {},
   "source": [
    "### CCTV 데이터 훑어보기"
   ]
  },
  {
   "cell_type": "code",
   "execution_count": 67,
   "id": "639891ba",
   "metadata": {},
   "outputs": [
    {
     "data": {
      "text/html": [
       "<div>\n",
       "<style scoped>\n",
       "    .dataframe tbody tr th:only-of-type {\n",
       "        vertical-align: middle;\n",
       "    }\n",
       "\n",
       "    .dataframe tbody tr th {\n",
       "        vertical-align: top;\n",
       "    }\n",
       "\n",
       "    .dataframe thead th {\n",
       "        text-align: right;\n",
       "    }\n",
       "</style>\n",
       "<table border=\"1\" class=\"dataframe\">\n",
       "  <thead>\n",
       "    <tr style=\"text-align: right;\">\n",
       "      <th></th>\n",
       "      <th>구별</th>\n",
       "      <th>총계</th>\n",
       "      <th>2013년 이전 설치된 CCTV</th>\n",
       "      <th>2013년</th>\n",
       "      <th>2014년</th>\n",
       "      <th>2015년</th>\n",
       "      <th>2016년</th>\n",
       "      <th>2017년</th>\n",
       "      <th>2018년</th>\n",
       "      <th>2019년</th>\n",
       "      <th>2020년</th>\n",
       "      <th>2021년</th>\n",
       "      <th>2022년</th>\n",
       "    </tr>\n",
       "  </thead>\n",
       "  <tbody>\n",
       "    <tr>\n",
       "      <th>0</th>\n",
       "      <td>계</td>\n",
       "      <td>91,341</td>\n",
       "      <td>2,804</td>\n",
       "      <td>3,097</td>\n",
       "      <td>3,981</td>\n",
       "      <td>6,576</td>\n",
       "      <td>8,850</td>\n",
       "      <td>11,566</td>\n",
       "      <td>11,024</td>\n",
       "      <td>13,151</td>\n",
       "      <td>11,912</td>\n",
       "      <td>9,144</td>\n",
       "      <td>9,236</td>\n",
       "    </tr>\n",
       "    <tr>\n",
       "      <th>1</th>\n",
       "      <td>종로구</td>\n",
       "      <td>1,980</td>\n",
       "      <td>36</td>\n",
       "      <td>540</td>\n",
       "      <td>107</td>\n",
       "      <td>161</td>\n",
       "      <td>131</td>\n",
       "      <td>158</td>\n",
       "      <td>152</td>\n",
       "      <td>69</td>\n",
       "      <td>250</td>\n",
       "      <td>85</td>\n",
       "      <td>291</td>\n",
       "    </tr>\n",
       "    <tr>\n",
       "      <th>2</th>\n",
       "      <td>중 구</td>\n",
       "      <td>2,584</td>\n",
       "      <td>130</td>\n",
       "      <td>87</td>\n",
       "      <td>77</td>\n",
       "      <td>236</td>\n",
       "      <td>240</td>\n",
       "      <td>372</td>\n",
       "      <td>386</td>\n",
       "      <td>155</td>\n",
       "      <td>361</td>\n",
       "      <td>403</td>\n",
       "      <td>137</td>\n",
       "    </tr>\n",
       "    <tr>\n",
       "      <th>3</th>\n",
       "      <td>용산구</td>\n",
       "      <td>2,847</td>\n",
       "      <td>44</td>\n",
       "      <td>50</td>\n",
       "      <td>68</td>\n",
       "      <td>83</td>\n",
       "      <td>295</td>\n",
       "      <td>491</td>\n",
       "      <td>115</td>\n",
       "      <td>322</td>\n",
       "      <td>623</td>\n",
       "      <td>422</td>\n",
       "      <td>334</td>\n",
       "    </tr>\n",
       "    <tr>\n",
       "      <th>4</th>\n",
       "      <td>성동구</td>\n",
       "      <td>4,047</td>\n",
       "      <td>58</td>\n",
       "      <td>99</td>\n",
       "      <td>110</td>\n",
       "      <td>366</td>\n",
       "      <td>279</td>\n",
       "      <td>945</td>\n",
       "      <td>459</td>\n",
       "      <td>647</td>\n",
       "      <td>485</td>\n",
       "      <td>367</td>\n",
       "      <td>232</td>\n",
       "    </tr>\n",
       "  </tbody>\n",
       "</table>\n",
       "</div>"
      ],
      "text/plain": [
       "    구별      총계 2013년 이전 설치된 CCTV  2013년  2014년  2015년  2016년   2017년   2018년  \\\n",
       "0    계  91,341             2,804  3,097  3,981  6,576  8,850  11,566  11,024   \n",
       "1  종로구   1,980                36    540    107    161    131     158     152   \n",
       "2  중 구   2,584               130     87     77    236    240     372     386   \n",
       "3  용산구   2,847                44     50     68     83    295     491     115   \n",
       "4  성동구   4,047                58     99    110    366    279     945     459   \n",
       "\n",
       "    2019년   2020년  2021년  2022년  \n",
       "0  13,151  11,912  9,144  9,236  \n",
       "1      69     250     85    291  \n",
       "2     155     361    403    137  \n",
       "3     322     623    422    334  \n",
       "4     647     485    367    232  "
      ]
     },
     "execution_count": 67,
     "metadata": {},
     "output_type": "execute_result"
    }
   ],
   "source": [
    "CCTV_Seoul.head()"
   ]
  },
  {
   "cell_type": "code",
   "execution_count": 69,
   "id": "8533cc76",
   "metadata": {},
   "outputs": [
    {
     "data": {
      "text/html": [
       "<div>\n",
       "<style scoped>\n",
       "    .dataframe tbody tr th:only-of-type {\n",
       "        vertical-align: middle;\n",
       "    }\n",
       "\n",
       "    .dataframe tbody tr th {\n",
       "        vertical-align: top;\n",
       "    }\n",
       "\n",
       "    .dataframe thead th {\n",
       "        text-align: right;\n",
       "    }\n",
       "</style>\n",
       "<table border=\"1\" class=\"dataframe\">\n",
       "  <thead>\n",
       "    <tr style=\"text-align: right;\">\n",
       "      <th></th>\n",
       "      <th>구별</th>\n",
       "      <th>총계</th>\n",
       "      <th>2013년 이전 설치된 CCTV</th>\n",
       "      <th>2013년</th>\n",
       "      <th>2014년</th>\n",
       "      <th>2015년</th>\n",
       "      <th>2016년</th>\n",
       "      <th>2017년</th>\n",
       "      <th>2018년</th>\n",
       "      <th>2019년</th>\n",
       "      <th>2020년</th>\n",
       "      <th>2021년</th>\n",
       "      <th>2022년</th>\n",
       "    </tr>\n",
       "  </thead>\n",
       "  <tbody>\n",
       "    <tr>\n",
       "      <th>1</th>\n",
       "      <td>종로구</td>\n",
       "      <td>1,980</td>\n",
       "      <td>36</td>\n",
       "      <td>540</td>\n",
       "      <td>107</td>\n",
       "      <td>161</td>\n",
       "      <td>131</td>\n",
       "      <td>158</td>\n",
       "      <td>152</td>\n",
       "      <td>69</td>\n",
       "      <td>250</td>\n",
       "      <td>85</td>\n",
       "      <td>291</td>\n",
       "    </tr>\n",
       "    <tr>\n",
       "      <th>2</th>\n",
       "      <td>중 구</td>\n",
       "      <td>2,584</td>\n",
       "      <td>130</td>\n",
       "      <td>87</td>\n",
       "      <td>77</td>\n",
       "      <td>236</td>\n",
       "      <td>240</td>\n",
       "      <td>372</td>\n",
       "      <td>386</td>\n",
       "      <td>155</td>\n",
       "      <td>361</td>\n",
       "      <td>403</td>\n",
       "      <td>137</td>\n",
       "    </tr>\n",
       "    <tr>\n",
       "      <th>3</th>\n",
       "      <td>용산구</td>\n",
       "      <td>2,847</td>\n",
       "      <td>44</td>\n",
       "      <td>50</td>\n",
       "      <td>68</td>\n",
       "      <td>83</td>\n",
       "      <td>295</td>\n",
       "      <td>491</td>\n",
       "      <td>115</td>\n",
       "      <td>322</td>\n",
       "      <td>623</td>\n",
       "      <td>422</td>\n",
       "      <td>334</td>\n",
       "    </tr>\n",
       "    <tr>\n",
       "      <th>4</th>\n",
       "      <td>성동구</td>\n",
       "      <td>4,047</td>\n",
       "      <td>58</td>\n",
       "      <td>99</td>\n",
       "      <td>110</td>\n",
       "      <td>366</td>\n",
       "      <td>279</td>\n",
       "      <td>945</td>\n",
       "      <td>459</td>\n",
       "      <td>647</td>\n",
       "      <td>485</td>\n",
       "      <td>367</td>\n",
       "      <td>232</td>\n",
       "    </tr>\n",
       "    <tr>\n",
       "      <th>5</th>\n",
       "      <td>광진구</td>\n",
       "      <td>3,480</td>\n",
       "      <td>507</td>\n",
       "      <td>82</td>\n",
       "      <td>84</td>\n",
       "      <td>64</td>\n",
       "      <td>21</td>\n",
       "      <td>465</td>\n",
       "      <td>443</td>\n",
       "      <td>709</td>\n",
       "      <td>172</td>\n",
       "      <td>662</td>\n",
       "      <td>271</td>\n",
       "    </tr>\n",
       "  </tbody>\n",
       "</table>\n",
       "</div>"
      ],
      "text/plain": [
       "    구별     총계 2013년 이전 설치된 CCTV 2013년 2014년 2015년 2016년 2017년 2018년 2019년  \\\n",
       "1  종로구  1,980                36   540   107   161   131   158   152    69   \n",
       "2  중 구  2,584               130    87    77   236   240   372   386   155   \n",
       "3  용산구  2,847                44    50    68    83   295   491   115   322   \n",
       "4  성동구  4,047                58    99   110   366   279   945   459   647   \n",
       "5  광진구  3,480               507    82    84    64    21   465   443   709   \n",
       "\n",
       "  2020년 2021년 2022년  \n",
       "1   250    85   291  \n",
       "2   361   403   137  \n",
       "3   623   422   334  \n",
       "4   485   367   232  \n",
       "5   172   662   271  "
      ]
     },
     "execution_count": 69,
     "metadata": {},
     "output_type": "execute_result"
    }
   ],
   "source": [
    "#'계' 행 삭제\n",
    "CCTV_Seoul = CCTV_Seoul.drop([0], axis = 0)\n",
    "CCTV_Seoul.head()"
   ]
  },
  {
   "cell_type": "code",
   "execution_count": 70,
   "id": "fa976d79",
   "metadata": {},
   "outputs": [
    {
     "data": {
      "text/html": [
       "<div>\n",
       "<style scoped>\n",
       "    .dataframe tbody tr th:only-of-type {\n",
       "        vertical-align: middle;\n",
       "    }\n",
       "\n",
       "    .dataframe tbody tr th {\n",
       "        vertical-align: top;\n",
       "    }\n",
       "\n",
       "    .dataframe thead th {\n",
       "        text-align: right;\n",
       "    }\n",
       "</style>\n",
       "<table border=\"1\" class=\"dataframe\">\n",
       "  <thead>\n",
       "    <tr style=\"text-align: right;\">\n",
       "      <th></th>\n",
       "      <th>구별</th>\n",
       "      <th>총계</th>\n",
       "      <th>2013년 이전 설치된 CCTV</th>\n",
       "      <th>2013년</th>\n",
       "      <th>2014년</th>\n",
       "      <th>2015년</th>\n",
       "      <th>2016년</th>\n",
       "      <th>2017년</th>\n",
       "      <th>2018년</th>\n",
       "      <th>2019년</th>\n",
       "      <th>2020년</th>\n",
       "      <th>2021년</th>\n",
       "      <th>2022년</th>\n",
       "    </tr>\n",
       "  </thead>\n",
       "  <tbody>\n",
       "    <tr>\n",
       "      <th>1</th>\n",
       "      <td>종로구</td>\n",
       "      <td>1,980</td>\n",
       "      <td>36</td>\n",
       "      <td>540</td>\n",
       "      <td>107</td>\n",
       "      <td>161</td>\n",
       "      <td>131</td>\n",
       "      <td>158</td>\n",
       "      <td>152</td>\n",
       "      <td>69</td>\n",
       "      <td>250</td>\n",
       "      <td>85</td>\n",
       "      <td>291</td>\n",
       "    </tr>\n",
       "    <tr>\n",
       "      <th>10</th>\n",
       "      <td>도봉구</td>\n",
       "      <td>2,247</td>\n",
       "      <td>103</td>\n",
       "      <td>2</td>\n",
       "      <td>79</td>\n",
       "      <td>72</td>\n",
       "      <td>103</td>\n",
       "      <td>117</td>\n",
       "      <td>200</td>\n",
       "      <td>202</td>\n",
       "      <td>183</td>\n",
       "      <td>600</td>\n",
       "      <td>586</td>\n",
       "    </tr>\n",
       "    <tr>\n",
       "      <th>2</th>\n",
       "      <td>중 구</td>\n",
       "      <td>2,584</td>\n",
       "      <td>130</td>\n",
       "      <td>87</td>\n",
       "      <td>77</td>\n",
       "      <td>236</td>\n",
       "      <td>240</td>\n",
       "      <td>372</td>\n",
       "      <td>386</td>\n",
       "      <td>155</td>\n",
       "      <td>361</td>\n",
       "      <td>403</td>\n",
       "      <td>137</td>\n",
       "    </tr>\n",
       "  </tbody>\n",
       "</table>\n",
       "</div>"
      ],
      "text/plain": [
       "     구별     총계 2013년 이전 설치된 CCTV 2013년 2014년 2015년 2016년 2017년 2018년 2019년  \\\n",
       "1   종로구  1,980                36   540   107   161   131   158   152    69   \n",
       "10  도봉구  2,247               103     2    79    72   103   117   200   202   \n",
       "2   중 구  2,584               130    87    77   236   240   372   386   155   \n",
       "\n",
       "   2020년 2021년 2022년  \n",
       "1    250    85   291  \n",
       "10   183   600   586  \n",
       "2    361   403   137  "
      ]
     },
     "execution_count": 70,
     "metadata": {},
     "output_type": "execute_result"
    }
   ],
   "source": [
    "#CCTV를 가장 적게 보유한 구 3개\n",
    "CCTV_Seoul.sort_values(by= \"총계\", ascending = True).head(3)"
   ]
  },
  {
   "cell_type": "code",
   "execution_count": 74,
   "id": "34735928",
   "metadata": {},
   "outputs": [
    {
     "name": "stdout",
     "output_type": "stream",
     "text": [
      "<class 'pandas.core.frame.DataFrame'>\n",
      "RangeIndex: 25 entries, 1 to 25\n",
      "Data columns (total 13 columns):\n",
      " #   Column             Non-Null Count  Dtype \n",
      "---  ------             --------------  ----- \n",
      " 0   구별                 25 non-null     object\n",
      " 1   총계                 25 non-null     object\n",
      " 2   2013년 이전 설치된 CCTV  25 non-null     object\n",
      " 3   2013년              25 non-null     object\n",
      " 4   2014년              25 non-null     object\n",
      " 5   2015년              25 non-null     object\n",
      " 6   2016년              25 non-null     object\n",
      " 7   2017년              25 non-null     object\n",
      " 8   2018년              25 non-null     object\n",
      " 9   2019년              25 non-null     object\n",
      " 10  2020년              25 non-null     object\n",
      " 11  2021년              25 non-null     object\n",
      " 12  2022년              25 non-null     object\n",
      "dtypes: object(13)\n",
      "memory usage: 2.7+ KB\n"
     ]
    }
   ],
   "source": [
    "CCTV_Seoul.info()"
   ]
  },
  {
   "cell_type": "code",
   "execution_count": null,
   "id": "d1eb1dc6",
   "metadata": {},
   "outputs": [],
   "source": []
  }
 ],
 "metadata": {
  "kernelspec": {
   "display_name": "Python 3 (ipykernel)",
   "language": "python",
   "name": "python3"
  },
  "language_info": {
   "codemirror_mode": {
    "name": "ipython",
    "version": 3
   },
   "file_extension": ".py",
   "mimetype": "text/x-python",
   "name": "python",
   "nbconvert_exporter": "python",
   "pygments_lexer": "ipython3",
   "version": "3.9.15"
  }
 },
 "nbformat": 4,
 "nbformat_minor": 5
}
