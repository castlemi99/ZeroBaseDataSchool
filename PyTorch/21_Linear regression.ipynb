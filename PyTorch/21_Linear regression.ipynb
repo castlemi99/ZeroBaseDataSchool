{
 "cells": [
  {
   "cell_type": "markdown",
   "id": "d17cc69a",
   "metadata": {},
   "source": [
    "## PyTorch 선형 회귀 구현"
   ]
  },
  {
   "cell_type": "code",
   "execution_count": 1,
   "id": "12ca505f",
   "metadata": {},
   "outputs": [],
   "source": [
    "import pandas as pd\n",
    "import numpy as np \n",
    "import torch \n",
    "\n",
    "import matplotlib.pyplot as plt \n",
    "%matplotlib inline"
   ]
  },
  {
   "cell_type": "code",
   "execution_count": 2,
   "id": "7f4de938",
   "metadata": {},
   "outputs": [
    {
     "data": {
      "text/plain": [
       "<torch._C.Generator at 0x216e3d4f8d0>"
      ]
     },
     "execution_count": 2,
     "metadata": {},
     "output_type": "execute_result"
    }
   ],
   "source": [
    "torch.manual_seed(7777)"
   ]
  },
  {
   "cell_type": "code",
   "execution_count": 6,
   "id": "08e015e0",
   "metadata": {},
   "outputs": [
    {
     "name": "stderr",
     "output_type": "stream",
     "text": [
      "c:\\Users\\nabi4\\anaconda3\\envs\\ds_study\\lib\\site-packages\\sklearn\\datasets\\_openml.py:301: UserWarning: Multiple active versions of the dataset matching the name boston exist. Versions may be fundamentally different, returning version 1.\n",
      "  warn(\n",
      "c:\\Users\\nabi4\\anaconda3\\envs\\ds_study\\lib\\site-packages\\sklearn\\datasets\\_openml.py:968: FutureWarning: The default value of `parser` will change from `'liac-arff'` to `'auto'` in 1.4. You can set `parser='auto'` to silence this warning. Therefore, an `ImportError` will be raised from 1.4 if the dataset is dense and pandas is not installed. Note that the pandas parser may return different data types. See the Notes Section in fetch_openml's API doc for details.\n",
      "  warn(\n"
     ]
    },
    {
     "data": {
      "text/html": [
       "<div>\n",
       "<style scoped>\n",
       "    .dataframe tbody tr th:only-of-type {\n",
       "        vertical-align: middle;\n",
       "    }\n",
       "\n",
       "    .dataframe tbody tr th {\n",
       "        vertical-align: top;\n",
       "    }\n",
       "\n",
       "    .dataframe thead th {\n",
       "        text-align: right;\n",
       "    }\n",
       "</style>\n",
       "<table border=\"1\" class=\"dataframe\">\n",
       "  <thead>\n",
       "    <tr style=\"text-align: right;\">\n",
       "      <th></th>\n",
       "      <th>CRIM</th>\n",
       "      <th>ZN</th>\n",
       "      <th>INDUS</th>\n",
       "      <th>CHAS</th>\n",
       "      <th>NOX</th>\n",
       "      <th>RM</th>\n",
       "      <th>AGE</th>\n",
       "      <th>DIS</th>\n",
       "      <th>RAD</th>\n",
       "      <th>TAX</th>\n",
       "      <th>PTRATIO</th>\n",
       "      <th>B</th>\n",
       "      <th>LSTAT</th>\n",
       "    </tr>\n",
       "  </thead>\n",
       "  <tbody>\n",
       "    <tr>\n",
       "      <th>0</th>\n",
       "      <td>0.00632</td>\n",
       "      <td>18.0</td>\n",
       "      <td>2.31</td>\n",
       "      <td>0</td>\n",
       "      <td>0.538</td>\n",
       "      <td>6.575</td>\n",
       "      <td>65.2</td>\n",
       "      <td>4.0900</td>\n",
       "      <td>1</td>\n",
       "      <td>296.0</td>\n",
       "      <td>15.3</td>\n",
       "      <td>396.90</td>\n",
       "      <td>4.98</td>\n",
       "    </tr>\n",
       "    <tr>\n",
       "      <th>1</th>\n",
       "      <td>0.02731</td>\n",
       "      <td>0.0</td>\n",
       "      <td>7.07</td>\n",
       "      <td>0</td>\n",
       "      <td>0.469</td>\n",
       "      <td>6.421</td>\n",
       "      <td>78.9</td>\n",
       "      <td>4.9671</td>\n",
       "      <td>2</td>\n",
       "      <td>242.0</td>\n",
       "      <td>17.8</td>\n",
       "      <td>396.90</td>\n",
       "      <td>9.14</td>\n",
       "    </tr>\n",
       "    <tr>\n",
       "      <th>2</th>\n",
       "      <td>0.02729</td>\n",
       "      <td>0.0</td>\n",
       "      <td>7.07</td>\n",
       "      <td>0</td>\n",
       "      <td>0.469</td>\n",
       "      <td>7.185</td>\n",
       "      <td>61.1</td>\n",
       "      <td>4.9671</td>\n",
       "      <td>2</td>\n",
       "      <td>242.0</td>\n",
       "      <td>17.8</td>\n",
       "      <td>392.83</td>\n",
       "      <td>4.03</td>\n",
       "    </tr>\n",
       "    <tr>\n",
       "      <th>3</th>\n",
       "      <td>0.03237</td>\n",
       "      <td>0.0</td>\n",
       "      <td>2.18</td>\n",
       "      <td>0</td>\n",
       "      <td>0.458</td>\n",
       "      <td>6.998</td>\n",
       "      <td>45.8</td>\n",
       "      <td>6.0622</td>\n",
       "      <td>3</td>\n",
       "      <td>222.0</td>\n",
       "      <td>18.7</td>\n",
       "      <td>394.63</td>\n",
       "      <td>2.94</td>\n",
       "    </tr>\n",
       "    <tr>\n",
       "      <th>4</th>\n",
       "      <td>0.06905</td>\n",
       "      <td>0.0</td>\n",
       "      <td>2.18</td>\n",
       "      <td>0</td>\n",
       "      <td>0.458</td>\n",
       "      <td>7.147</td>\n",
       "      <td>54.2</td>\n",
       "      <td>6.0622</td>\n",
       "      <td>3</td>\n",
       "      <td>222.0</td>\n",
       "      <td>18.7</td>\n",
       "      <td>396.90</td>\n",
       "      <td>5.33</td>\n",
       "    </tr>\n",
       "    <tr>\n",
       "      <th>...</th>\n",
       "      <td>...</td>\n",
       "      <td>...</td>\n",
       "      <td>...</td>\n",
       "      <td>...</td>\n",
       "      <td>...</td>\n",
       "      <td>...</td>\n",
       "      <td>...</td>\n",
       "      <td>...</td>\n",
       "      <td>...</td>\n",
       "      <td>...</td>\n",
       "      <td>...</td>\n",
       "      <td>...</td>\n",
       "      <td>...</td>\n",
       "    </tr>\n",
       "    <tr>\n",
       "      <th>501</th>\n",
       "      <td>0.06263</td>\n",
       "      <td>0.0</td>\n",
       "      <td>11.93</td>\n",
       "      <td>0</td>\n",
       "      <td>0.573</td>\n",
       "      <td>6.593</td>\n",
       "      <td>69.1</td>\n",
       "      <td>2.4786</td>\n",
       "      <td>1</td>\n",
       "      <td>273.0</td>\n",
       "      <td>21.0</td>\n",
       "      <td>391.99</td>\n",
       "      <td>9.67</td>\n",
       "    </tr>\n",
       "    <tr>\n",
       "      <th>502</th>\n",
       "      <td>0.04527</td>\n",
       "      <td>0.0</td>\n",
       "      <td>11.93</td>\n",
       "      <td>0</td>\n",
       "      <td>0.573</td>\n",
       "      <td>6.120</td>\n",
       "      <td>76.7</td>\n",
       "      <td>2.2875</td>\n",
       "      <td>1</td>\n",
       "      <td>273.0</td>\n",
       "      <td>21.0</td>\n",
       "      <td>396.90</td>\n",
       "      <td>9.08</td>\n",
       "    </tr>\n",
       "    <tr>\n",
       "      <th>503</th>\n",
       "      <td>0.06076</td>\n",
       "      <td>0.0</td>\n",
       "      <td>11.93</td>\n",
       "      <td>0</td>\n",
       "      <td>0.573</td>\n",
       "      <td>6.976</td>\n",
       "      <td>91.0</td>\n",
       "      <td>2.1675</td>\n",
       "      <td>1</td>\n",
       "      <td>273.0</td>\n",
       "      <td>21.0</td>\n",
       "      <td>396.90</td>\n",
       "      <td>5.64</td>\n",
       "    </tr>\n",
       "    <tr>\n",
       "      <th>504</th>\n",
       "      <td>0.10959</td>\n",
       "      <td>0.0</td>\n",
       "      <td>11.93</td>\n",
       "      <td>0</td>\n",
       "      <td>0.573</td>\n",
       "      <td>6.794</td>\n",
       "      <td>89.3</td>\n",
       "      <td>2.3889</td>\n",
       "      <td>1</td>\n",
       "      <td>273.0</td>\n",
       "      <td>21.0</td>\n",
       "      <td>393.45</td>\n",
       "      <td>6.48</td>\n",
       "    </tr>\n",
       "    <tr>\n",
       "      <th>505</th>\n",
       "      <td>0.04741</td>\n",
       "      <td>0.0</td>\n",
       "      <td>11.93</td>\n",
       "      <td>0</td>\n",
       "      <td>0.573</td>\n",
       "      <td>6.030</td>\n",
       "      <td>80.8</td>\n",
       "      <td>2.5050</td>\n",
       "      <td>1</td>\n",
       "      <td>273.0</td>\n",
       "      <td>21.0</td>\n",
       "      <td>396.90</td>\n",
       "      <td>7.88</td>\n",
       "    </tr>\n",
       "  </tbody>\n",
       "</table>\n",
       "<p>506 rows × 13 columns</p>\n",
       "</div>"
      ],
      "text/plain": [
       "        CRIM    ZN  INDUS CHAS    NOX     RM   AGE     DIS RAD    TAX  \\\n",
       "0    0.00632  18.0   2.31    0  0.538  6.575  65.2  4.0900   1  296.0   \n",
       "1    0.02731   0.0   7.07    0  0.469  6.421  78.9  4.9671   2  242.0   \n",
       "2    0.02729   0.0   7.07    0  0.469  7.185  61.1  4.9671   2  242.0   \n",
       "3    0.03237   0.0   2.18    0  0.458  6.998  45.8  6.0622   3  222.0   \n",
       "4    0.06905   0.0   2.18    0  0.458  7.147  54.2  6.0622   3  222.0   \n",
       "..       ...   ...    ...  ...    ...    ...   ...     ...  ..    ...   \n",
       "501  0.06263   0.0  11.93    0  0.573  6.593  69.1  2.4786   1  273.0   \n",
       "502  0.04527   0.0  11.93    0  0.573  6.120  76.7  2.2875   1  273.0   \n",
       "503  0.06076   0.0  11.93    0  0.573  6.976  91.0  2.1675   1  273.0   \n",
       "504  0.10959   0.0  11.93    0  0.573  6.794  89.3  2.3889   1  273.0   \n",
       "505  0.04741   0.0  11.93    0  0.573  6.030  80.8  2.5050   1  273.0   \n",
       "\n",
       "     PTRATIO       B  LSTAT  \n",
       "0       15.3  396.90   4.98  \n",
       "1       17.8  396.90   9.14  \n",
       "2       17.8  392.83   4.03  \n",
       "3       18.7  394.63   2.94  \n",
       "4       18.7  396.90   5.33  \n",
       "..       ...     ...    ...  \n",
       "501     21.0  391.99   9.67  \n",
       "502     21.0  396.90   9.08  \n",
       "503     21.0  396.90   5.64  \n",
       "504     21.0  393.45   6.48  \n",
       "505     21.0  396.90   7.88  \n",
       "\n",
       "[506 rows x 13 columns]"
      ]
     },
     "execution_count": 6,
     "metadata": {},
     "output_type": "execute_result"
    }
   ],
   "source": [
    "from sklearn import datasets\n",
    "X, y = datasets.fetch_openml('boston', return_X_y=True)\n",
    "X"
   ]
  },
  {
   "cell_type": "code",
   "execution_count": 8,
   "id": "ac1af429",
   "metadata": {
    "scrolled": true
   },
   "outputs": [
    {
     "data": {
      "text/html": [
       "<div>\n",
       "<style scoped>\n",
       "    .dataframe tbody tr th:only-of-type {\n",
       "        vertical-align: middle;\n",
       "    }\n",
       "\n",
       "    .dataframe tbody tr th {\n",
       "        vertical-align: top;\n",
       "    }\n",
       "\n",
       "    .dataframe thead th {\n",
       "        text-align: right;\n",
       "    }\n",
       "</style>\n",
       "<table border=\"1\" class=\"dataframe\">\n",
       "  <thead>\n",
       "    <tr style=\"text-align: right;\">\n",
       "      <th></th>\n",
       "      <th>CRIM</th>\n",
       "      <th>ZN</th>\n",
       "      <th>INDUS</th>\n",
       "      <th>CHAS</th>\n",
       "      <th>NOX</th>\n",
       "      <th>RM</th>\n",
       "      <th>AGE</th>\n",
       "      <th>DIS</th>\n",
       "      <th>RAD</th>\n",
       "      <th>TAX</th>\n",
       "      <th>PTRATIO</th>\n",
       "      <th>B</th>\n",
       "      <th>LSTAT</th>\n",
       "      <th>const</th>\n",
       "    </tr>\n",
       "  </thead>\n",
       "  <tbody>\n",
       "    <tr>\n",
       "      <th>501</th>\n",
       "      <td>0.06263</td>\n",
       "      <td>0.0</td>\n",
       "      <td>11.93</td>\n",
       "      <td>0</td>\n",
       "      <td>0.573</td>\n",
       "      <td>6.593</td>\n",
       "      <td>69.1</td>\n",
       "      <td>2.4786</td>\n",
       "      <td>1</td>\n",
       "      <td>273.0</td>\n",
       "      <td>21.0</td>\n",
       "      <td>391.99</td>\n",
       "      <td>9.67</td>\n",
       "      <td>1.0</td>\n",
       "    </tr>\n",
       "    <tr>\n",
       "      <th>502</th>\n",
       "      <td>0.04527</td>\n",
       "      <td>0.0</td>\n",
       "      <td>11.93</td>\n",
       "      <td>0</td>\n",
       "      <td>0.573</td>\n",
       "      <td>6.120</td>\n",
       "      <td>76.7</td>\n",
       "      <td>2.2875</td>\n",
       "      <td>1</td>\n",
       "      <td>273.0</td>\n",
       "      <td>21.0</td>\n",
       "      <td>396.90</td>\n",
       "      <td>9.08</td>\n",
       "      <td>1.0</td>\n",
       "    </tr>\n",
       "    <tr>\n",
       "      <th>503</th>\n",
       "      <td>0.06076</td>\n",
       "      <td>0.0</td>\n",
       "      <td>11.93</td>\n",
       "      <td>0</td>\n",
       "      <td>0.573</td>\n",
       "      <td>6.976</td>\n",
       "      <td>91.0</td>\n",
       "      <td>2.1675</td>\n",
       "      <td>1</td>\n",
       "      <td>273.0</td>\n",
       "      <td>21.0</td>\n",
       "      <td>396.90</td>\n",
       "      <td>5.64</td>\n",
       "      <td>1.0</td>\n",
       "    </tr>\n",
       "    <tr>\n",
       "      <th>504</th>\n",
       "      <td>0.10959</td>\n",
       "      <td>0.0</td>\n",
       "      <td>11.93</td>\n",
       "      <td>0</td>\n",
       "      <td>0.573</td>\n",
       "      <td>6.794</td>\n",
       "      <td>89.3</td>\n",
       "      <td>2.3889</td>\n",
       "      <td>1</td>\n",
       "      <td>273.0</td>\n",
       "      <td>21.0</td>\n",
       "      <td>393.45</td>\n",
       "      <td>6.48</td>\n",
       "      <td>1.0</td>\n",
       "    </tr>\n",
       "    <tr>\n",
       "      <th>505</th>\n",
       "      <td>0.04741</td>\n",
       "      <td>0.0</td>\n",
       "      <td>11.93</td>\n",
       "      <td>0</td>\n",
       "      <td>0.573</td>\n",
       "      <td>6.030</td>\n",
       "      <td>80.8</td>\n",
       "      <td>2.5050</td>\n",
       "      <td>1</td>\n",
       "      <td>273.0</td>\n",
       "      <td>21.0</td>\n",
       "      <td>396.90</td>\n",
       "      <td>7.88</td>\n",
       "      <td>1.0</td>\n",
       "    </tr>\n",
       "  </tbody>\n",
       "</table>\n",
       "</div>"
      ],
      "text/plain": [
       "        CRIM   ZN  INDUS CHAS    NOX     RM   AGE     DIS RAD    TAX  PTRATIO  \\\n",
       "501  0.06263  0.0  11.93    0  0.573  6.593  69.1  2.4786   1  273.0     21.0   \n",
       "502  0.04527  0.0  11.93    0  0.573  6.120  76.7  2.2875   1  273.0     21.0   \n",
       "503  0.06076  0.0  11.93    0  0.573  6.976  91.0  2.1675   1  273.0     21.0   \n",
       "504  0.10959  0.0  11.93    0  0.573  6.794  89.3  2.3889   1  273.0     21.0   \n",
       "505  0.04741  0.0  11.93    0  0.573  6.030  80.8  2.5050   1  273.0     21.0   \n",
       "\n",
       "          B  LSTAT  const  \n",
       "501  391.99   9.67    1.0  \n",
       "502  396.90   9.08    1.0  \n",
       "503  396.90   5.64    1.0  \n",
       "504  393.45   6.48    1.0  \n",
       "505  396.90   7.88    1.0  "
      ]
     },
     "execution_count": 8,
     "metadata": {},
     "output_type": "execute_result"
    }
   ],
   "source": [
    "df = X.copy()\n",
    "df['const'] = np.ones(df.shape[0])\n",
    "df.tail()"
   ]
  },
  {
   "cell_type": "code",
   "execution_count": 9,
   "id": "5c632323",
   "metadata": {},
   "outputs": [
    {
     "data": {
      "text/plain": [
       "(506, 14)"
      ]
     },
     "execution_count": 9,
     "metadata": {},
     "output_type": "execute_result"
    }
   ],
   "source": [
    "df.shape"
   ]
  },
  {
   "cell_type": "markdown",
   "id": "9d9edfc4",
   "metadata": {},
   "source": [
    "먼저, x의 역행렬이 존재한다면 선형회귀에서의 가중치 벡터를 구할 수 있는 계산을 한 번 시도해보자.\n",
    "\n",
    "https://datascienceschool.net/03%20machine%20learning/04.02%20%EC%84%A0%ED%98%95%ED%9A%8C%EA%B7%80%EB%B6%84%EC%84%9D%EC%9D%98%20%EA%B8%B0%EC%B4%88.html?highlight=intercept\n",
    "\n",
    "수식 설명 참고"
   ]
  },
  {
   "cell_type": "code",
   "execution_count": 17,
   "id": "2df5338e",
   "metadata": {},
   "outputs": [
    {
     "name": "stdout",
     "output_type": "stream",
     "text": [
      "<class 'pandas.core.frame.DataFrame'>\n",
      "RangeIndex: 506 entries, 0 to 505\n",
      "Data columns (total 14 columns):\n",
      " #   Column   Non-Null Count  Dtype   \n",
      "---  ------   --------------  -----   \n",
      " 0   CRIM     506 non-null    float64 \n",
      " 1   ZN       506 non-null    float64 \n",
      " 2   INDUS    506 non-null    float64 \n",
      " 3   CHAS     506 non-null    category\n",
      " 4   NOX      506 non-null    float64 \n",
      " 5   RM       506 non-null    float64 \n",
      " 6   AGE      506 non-null    float64 \n",
      " 7   DIS      506 non-null    float64 \n",
      " 8   RAD      506 non-null    category\n",
      " 9   TAX      506 non-null    float64 \n",
      " 10  PTRATIO  506 non-null    float64 \n",
      " 11  B        506 non-null    float64 \n",
      " 12  LSTAT    506 non-null    float64 \n",
      " 13  const    506 non-null    float64 \n",
      "dtypes: category(2), float64(12)\n",
      "memory usage: 49.0 KB\n"
     ]
    }
   ],
   "source": [
    "df.info()"
   ]
  },
  {
   "cell_type": "code",
   "execution_count": 18,
   "id": "a8520b99",
   "metadata": {},
   "outputs": [
    {
     "name": "stdout",
     "output_type": "stream",
     "text": [
      "<class 'pandas.core.frame.DataFrame'>\n",
      "RangeIndex: 506 entries, 0 to 505\n",
      "Data columns (total 14 columns):\n",
      " #   Column   Non-Null Count  Dtype  \n",
      "---  ------   --------------  -----  \n",
      " 0   CRIM     506 non-null    float64\n",
      " 1   ZN       506 non-null    float64\n",
      " 2   INDUS    506 non-null    float64\n",
      " 3   CHAS     506 non-null    float32\n",
      " 4   NOX      506 non-null    float64\n",
      " 5   RM       506 non-null    float64\n",
      " 6   AGE      506 non-null    float64\n",
      " 7   DIS      506 non-null    float64\n",
      " 8   RAD      506 non-null    float32\n",
      " 9   TAX      506 non-null    float64\n",
      " 10  PTRATIO  506 non-null    float64\n",
      " 11  B        506 non-null    float64\n",
      " 12  LSTAT    506 non-null    float64\n",
      " 13  const    506 non-null    float64\n",
      "dtypes: float32(2), float64(12)\n",
      "memory usage: 51.5 KB\n"
     ]
    }
   ],
   "source": [
    "# object 데이터타입 때문에 tensor로 바뀌지 않는 오류를 해결하기 위함\n",
    "df['CHAS'] = df['CHAS'].astype('float32')\n",
    "df['RAD'] = df['RAD'].astype('float32')\n",
    "df.info()"
   ]
  },
  {
   "cell_type": "code",
   "execution_count": 16,
   "id": "24a88127",
   "metadata": {},
   "outputs": [
    {
     "data": {
      "text/plain": [
       "dtype('float64')"
      ]
     },
     "execution_count": 16,
     "metadata": {},
     "output_type": "execute_result"
    }
   ],
   "source": [
    "y.dtype"
   ]
  },
  {
   "cell_type": "code",
   "execution_count": 19,
   "id": "1b95fdb6",
   "metadata": {},
   "outputs": [
    {
     "name": "stdout",
     "output_type": "stream",
     "text": [
      "예측한 집값 : tensor([18.4061], dtype=torch.float64) 실제 집값 : tensor([18.2000], dtype=torch.float64)\n"
     ]
    }
   ],
   "source": [
    "x = torch.tensor(df.values)\n",
    "y = torch.tensor(y.values).view(-1, 1)\n",
    "\n",
    "XT = torch.transpose(x, 0, 1) \n",
    "# 역행렬이 존재시, 가중치 벡터 구하는 수식\n",
    "w = torch.matmul(torch.matmul(torch.inverse(torch.matmul(XT, x)), XT), y)\n",
    "y_pred = torch.matmul(x, w)\n",
    "\n",
    "print(\"예측한 집값 :\", y_pred[19], \"실제 집값 :\", y[19])"
   ]
  },
  {
   "cell_type": "code",
   "execution_count": null,
   "id": "3ab150dd",
   "metadata": {},
   "outputs": [],
   "source": []
  },
  {
   "cell_type": "markdown",
   "id": "e829253c",
   "metadata": {},
   "source": [
    "#### Gradient descent 방식"
   ]
  },
  {
   "cell_type": "code",
   "execution_count": 20,
   "id": "891fa819",
   "metadata": {},
   "outputs": [],
   "source": [
    "# 가중치 생성\n",
    "# const 열을 추가했기 때문에 이론 상으로 b는 필요없지만\n",
    "# 그냥 일반적인 경우를 설명하기 위해 맞춰준 것\n",
    "w = torch.rand((14, 1), dtype=torch.float64, requires_grad=True)\n",
    "b = torch.rand((1, 1),  dtype=torch.float64, requires_grad=True)"
   ]
  },
  {
   "cell_type": "code",
   "execution_count": 21,
   "id": "008fa32b",
   "metadata": {},
   "outputs": [],
   "source": [
    "z = x.mm(w) + b\n",
    "loss = torch.mean((z - y)**2) "
   ]
  },
  {
   "cell_type": "code",
   "execution_count": 22,
   "id": "c09dce70",
   "metadata": {},
   "outputs": [
    {
     "data": {
      "text/plain": [
       "(tensor([[4.6543e+03],\n",
       "         [1.1592e+04],\n",
       "         [1.2824e+04],\n",
       "         [7.4684e+01],\n",
       "         [6.1311e+02],\n",
       "         [6.7807e+03],\n",
       "         [7.6970e+04],\n",
       "         [3.9565e+03],\n",
       "         [1.1487e+04],\n",
       "         [4.6771e+05],\n",
       "         [2.0181e+04],\n",
       "         [3.9043e+05],\n",
       "         [1.4341e+04],\n",
       "         [1.0850e+03]], dtype=torch.float64),\n",
       " tensor([[1084.9567]], dtype=torch.float64))"
      ]
     },
     "execution_count": 22,
     "metadata": {},
     "output_type": "execute_result"
    }
   ],
   "source": [
    "loss.backward()\n",
    "w.grad, b.grad"
   ]
  },
  {
   "cell_type": "code",
   "execution_count": 23,
   "id": "3c2cacb1",
   "metadata": {},
   "outputs": [
    {
     "name": "stdout",
     "output_type": "stream",
     "text": [
      "tensor(303557.1678, dtype=torch.float64, grad_fn=<MeanBackward0>)\n"
     ]
    }
   ],
   "source": [
    "print(loss)"
   ]
  },
  {
   "cell_type": "code",
   "execution_count": 25,
   "id": "34575d04",
   "metadata": {},
   "outputs": [
    {
     "name": "stdout",
     "output_type": "stream",
     "text": [
      "303557.16782532405\n",
      "303557.16782532405\n"
     ]
    }
   ],
   "source": [
    "# loss 숫자만 추출하는 방법\n",
    "print(loss.detach().numpy())  # 방법 1\n",
    "\n",
    "with torch.no_grad(): # 방법 2\n",
    "    print(loss.numpy())\n",
    "\n",
    "# 이렇게 로그를 추출할 때는 숫자만 추출하도록 설정해줌"
   ]
  },
  {
   "cell_type": "code",
   "execution_count": 26,
   "id": "2dbe5c3e",
   "metadata": {},
   "outputs": [
    {
     "data": {
      "text/plain": [
       "303557.16782532405"
      ]
     },
     "execution_count": 26,
     "metadata": {},
     "output_type": "execute_result"
    }
   ],
   "source": [
    "# 방법 3\n",
    "loss.item()"
   ]
  },
  {
   "cell_type": "markdown",
   "id": "82df6bf3",
   "metadata": {},
   "source": [
    "#### assign 대신에 data에 접근해서 값을 수정 \n",
    "\n",
    "tensor.data = 다른데이터"
   ]
  },
  {
   "cell_type": "code",
   "execution_count": 27,
   "id": "2c0a16c9",
   "metadata": {},
   "outputs": [
    {
     "data": {
      "text/plain": [
       "tensor([[0.9625],\n",
       "        [0.8798],\n",
       "        [0.6916],\n",
       "        [0.0976],\n",
       "        [0.5441],\n",
       "        [0.6069],\n",
       "        [0.7656],\n",
       "        [0.2674],\n",
       "        [0.7172],\n",
       "        [0.4656],\n",
       "        [0.7843],\n",
       "        [0.7482],\n",
       "        [0.5919],\n",
       "        [0.0070]], dtype=torch.float64, requires_grad=True)"
      ]
     },
     "execution_count": 27,
     "metadata": {},
     "output_type": "execute_result"
    }
   ],
   "source": [
    "w"
   ]
  },
  {
   "cell_type": "code",
   "execution_count": 28,
   "id": "f276e5a3",
   "metadata": {},
   "outputs": [
    {
     "data": {
      "text/plain": [
       "tensor([[0.9625],\n",
       "        [0.8798],\n",
       "        [0.6916],\n",
       "        [0.0976],\n",
       "        [0.5441],\n",
       "        [0.6069],\n",
       "        [0.7656],\n",
       "        [0.2674],\n",
       "        [0.7172],\n",
       "        [0.4656],\n",
       "        [0.7843],\n",
       "        [0.7482],\n",
       "        [0.5919],\n",
       "        [0.0070]], dtype=torch.float64)"
      ]
     },
     "execution_count": 28,
     "metadata": {},
     "output_type": "execute_result"
    }
   ],
   "source": [
    "w.data # 수정이 가능함!"
   ]
  },
  {
   "cell_type": "code",
   "execution_count": 29,
   "id": "070a8d37",
   "metadata": {},
   "outputs": [
    {
     "name": "stdout",
     "output_type": "stream",
     "text": [
      "0 - loss : 303557.16782532405\n",
      "1 - loss : 119223.98659357797\n",
      "2 - loss : 79124.14612788575\n",
      "3 - loss : 52663.835776943364\n",
      "4 - loss : 35201.07677258205\n",
      "5 - loss : 23673.781087933094\n",
      "6 - loss : 16062.035864032894\n",
      "7 - loss : 11033.399307362253\n",
      "8 - loss : 7708.920110912624\n",
      "9 - loss : 5508.792152027679\n",
      "10 - loss : 4050.540603569035\n",
      "11 - loss : 3081.8603939022364\n",
      "12 - loss : 2436.3130901562417\n",
      "13 - loss : 2004.102341341875\n",
      "14 - loss : 1712.7958941445906\n",
      "15 - loss : 1514.6088658572062\n",
      "16 - loss : 1378.015150935417\n",
      "17 - loss : 1282.2138811644036\n",
      "18 - loss : 1213.4792221507962\n",
      "19 - loss : 1162.7525127944627\n",
      "20 - loss : 1124.0539164537597\n",
      "21 - loss : 1093.4346631281337\n",
      "22 - loss : 1068.285892621277\n",
      "23 - loss : 1046.8827296477355\n",
      "24 - loss : 1028.0835297906758\n",
      "25 - loss : 1011.1314840058286\n",
      "26 - loss : 995.5237440302692\n",
      "27 - loss : 980.9250880422532\n",
      "28 - loss : 967.1109673806691\n",
      "29 - loss : 953.929934560665\n",
      "30 - loss : 941.278856238908\n",
      "31 - loss : 929.0865598461065\n",
      "32 - loss : 917.3030435611203\n",
      "33 - loss : 905.8923562141962\n",
      "34 - loss : 894.8278981277606\n",
      "35 - loss : 884.0893189955061\n",
      "36 - loss : 873.6604693127297\n",
      "37 - loss : 863.5280468448676\n",
      "38 - loss : 853.6807016393057\n",
      "39 - loss : 844.1084435748677\n",
      "40 - loss : 834.8022495382289\n",
      "41 - loss : 825.7538023405328\n",
      "42 - loss : 816.9553165911791\n",
      "43 - loss : 808.3994219861115\n",
      "44 - loss : 800.0790845212914\n",
      "45 - loss : 791.9875527737983\n",
      "46 - loss : 784.118320767645\n",
      "47 - loss : 776.465101827201\n",
      "48 - loss : 769.0218097247583\n",
      "49 - loss : 761.7825446845548\n",
      "50 - loss : 754.7415826339819\n",
      "51 - loss : 747.8933666391994\n",
      "52 - loss : 741.2324998229118\n",
      "53 - loss : 734.7537392999125\n",
      "54 - loss : 728.4519908229489\n",
      "55 - loss : 722.322303934997\n",
      "56 - loss : 716.3598674923904\n",
      "57 - loss : 710.5600054683485\n",
      "58 - loss : 704.9181729762379\n",
      "59 - loss : 699.4299524715715\n",
      "60 - loss : 694.0910501047679\n",
      "61 - loss : 688.897292205286\n",
      "62 - loss : 683.8446218834598\n",
      "63 - loss : 678.9290957401457\n",
      "64 - loss : 674.1468806768166\n",
      "65 - loss : 669.4942508004159\n",
      "66 - loss : 664.9675844184354\n",
      "67 - loss : 660.5633611204427\n",
      "68 - loss : 656.278158942814\n",
      "69 - loss : 652.1086516138031\n",
      "70 - loss : 648.0516058763434\n",
      "71 - loss : 644.1038788861723\n",
      "72 - loss : 640.262415683013\n",
      "73 - loss : 636.5242467326699\n",
      "74 - loss : 632.8864855379874\n",
      "75 - loss : 629.3463263167001\n",
      "76 - loss : 625.901041744276\n",
      "77 - loss : 622.5479807599131\n",
      "78 - loss : 619.2845664339139\n",
      "79 - loss : 616.1082938947104\n",
      "80 - loss : 613.0167283138676\n",
      "81 - loss : 610.0075029474398\n",
      "82 - loss : 607.0783172321011\n",
      "83 - loss : 604.2269349345174\n",
      "84 - loss : 601.4511823524715\n",
      "85 - loss : 598.7489465662886\n",
      "86 - loss : 596.1181737391626\n",
      "87 - loss : 593.5568674650071\n",
      "88 - loss : 591.0630871625104\n",
      "89 - loss : 588.6349465140936\n",
      "90 - loss : 586.2706119485244\n",
      "91 - loss : 583.9683011659613\n",
      "92 - loss : 581.7262817042389\n",
      "93 - loss : 579.5428695452509\n",
      "94 - loss : 577.4164277602963\n",
      "95 - loss : 575.3453651933112\n",
      "96 - loss : 573.3281351809189\n",
      "97 - loss : 571.3632343082731\n",
      "98 - loss : 569.4492011996897\n",
      "99 - loss : 567.5846153430992\n"
     ]
    }
   ],
   "source": [
    "lr = 3e-7\n",
    "for epoch in range(100):\n",
    "    z = x.mm(w) + b\n",
    "    loss = torch.mean((y-z)**2)\n",
    "\n",
    "    loss.backward() # 미분값 계산\n",
    "\n",
    "    w.data -= w.grad * lr # 업데이트\n",
    "    b.data -= b.grad * lr\n",
    "\n",
    "    print('{} - loss : {}'.format(epoch, loss.item()))\n",
    "\n",
    "    # 초기화\n",
    "    # 누적값을 초기화해주어야함\n",
    "    w.grad.zero_()\n",
    "    b.grad.zero_()"
   ]
  },
  {
   "cell_type": "code",
   "execution_count": 30,
   "id": "f9e14c34",
   "metadata": {},
   "outputs": [
    {
     "name": "stdout",
     "output_type": "stream",
     "text": [
      "0 - loss : 565.768095947369\n",
      "1 - loss : 563.9983008315795\n",
      "2 - loss : 562.2739253453589\n",
      "3 - loss : 560.59370131941\n",
      "4 - loss : 558.9563960453835\n",
      "5 - loss : 557.3608112842761\n",
      "6 - loss : 555.8057823025581\n",
      "7 - loss : 554.2901769352537\n",
      "8 - loss : 552.8128946752205\n",
      "9 - loss : 551.3728657878954\n",
      "10 - loss : 549.9690504507961\n",
      "11 - loss : 548.600437917083\n",
      "12 - loss : 547.266045702513\n",
      "13 - loss : 545.9649187951267\n",
      "14 - loss : 544.6961288870357\n",
      "15 - loss : 543.4587736276931\n",
      "16 - loss : 542.2519758980415\n",
      "17 - loss : 541.0748831049638\n",
      "18 - loss : 539.9266664954564\n",
      "19 - loss : 538.8065204899864\n",
      "20 - loss : 537.7136620344866\n",
      "21 - loss : 536.647329970473\n",
      "22 - loss : 535.6067844227732\n",
      "23 - loss : 534.5913062043794\n",
      "24 - loss : 533.6001962379404\n",
      "25 - loss : 532.6327749934328\n",
      "26 - loss : 531.6883819415552\n",
      "27 - loss : 530.7663750224079\n",
      "28 - loss : 529.8661301290299\n",
      "29 - loss : 528.9870406053782\n",
      "30 - loss : 528.1285167583453\n",
      "31 - loss : 527.2899853834207\n",
      "32 - loss : 526.4708893036186\n",
      "33 - loss : 525.6706869212978\n",
      "34 - loss : 524.8888517825135\n",
      "35 - loss : 524.1248721535515\n",
      "36 - loss : 523.3782506093052\n",
      "37 - loss : 522.6485036331604\n",
      "38 - loss : 521.9351612280713\n",
      "39 - loss : 521.2377665385106\n",
      "40 - loss : 520.5558754829902\n",
      "41 - loss : 519.8890563968602\n",
      "42 - loss : 519.2368896850938\n",
      "43 - loss : 518.5989674847843\n",
      "44 - loss : 517.9748933370769\n",
      "45 - loss : 517.3642818682754\n",
      "46 - loss : 516.7667584798678\n",
      "47 - loss : 516.1819590472172\n",
      "48 - loss : 515.6095296266801\n",
      "49 - loss : 515.0491261709129\n",
      "50 - loss : 514.5004142521418\n",
      "51 - loss : 513.9630687931688\n",
      "52 - loss : 513.4367738059002\n",
      "53 - loss : 512.9212221371876\n",
      "54 - loss : 512.4161152217744\n",
      "55 - loss : 511.92116284215217\n",
      "56 - loss : 511.4360828951319\n",
      "57 - loss : 510.9606011649412\n",
      "58 - loss : 510.49445110266885\n",
      "59 - loss : 510.0373736118751\n",
      "60 - loss : 509.5891168401975\n",
      "61 - loss : 509.14943597678325\n",
      "62 - loss : 508.7180930553884\n",
      "63 - loss : 508.2948567629801\n",
      "64 - loss : 507.87950225369286\n",
      "65 - loss : 507.47181096798624\n",
      "66 - loss : 507.07157045685994\n",
      "67 - loss : 506.6785742109846\n",
      "68 - loss : 506.2926214946098\n",
      "69 - loss : 505.9135171841174\n",
      "70 - loss : 505.5410716110891\n",
      "71 - loss : 505.17510040976197\n",
      "72 - loss : 504.8154243687508\n",
      "73 - loss : 504.461869286915\n",
      "74 - loss : 504.1142658332573\n",
      "75 - loss : 503.7724494107397\n",
      "76 - loss : 503.43626002390755\n",
      "77 - loss : 503.1055421502155\n",
      "78 - loss : 502.7801446149506\n",
      "79 - loss : 502.45992046965506\n",
      "80 - loss : 502.1447268739463\n",
      "81 - loss : 501.83442498064267\n",
      "82 - loss : 501.5288798241026\n",
      "83 - loss : 501.22796021168415\n",
      "84 - loss : 500.93153861824067\n",
      "85 - loss : 500.639491083567\n",
      "86 - loss : 500.3516971127134\n",
      "87 - loss : 500.0680395790852\n",
      "88 - loss : 499.78840463025506\n",
      "89 - loss : 499.51268159640733\n",
      "90 - loss : 499.2407629013417\n",
      "91 - loss : 498.9725439759678\n",
      "92 - loss : 498.70792317421683\n",
      "93 - loss : 498.44680169130595\n",
      "94 - loss : 498.1890834842862\n",
      "95 - loss : 497.9346751948153\n",
      "96 - loss : 497.68348607408694\n",
      "97 - loss : 497.4354279098613\n",
      "98 - loss : 497.19041495553455\n",
      "99 - loss : 496.94836386119334\n"
     ]
    }
   ],
   "source": [
    "lr = 3e-7\n",
    "for epoch in range(100):\n",
    "    z = x.mm(w) + b\n",
    "    loss = torch.mean((y-z)**2)\n",
    "\n",
    "    # 미분값 계산\n",
    "    grads = torch.autograd.grad(loss, [w, b])\n",
    "\n",
    "    w.data -= grads[0] * lr # 업데이트\n",
    "    b.data -= grads[1] * lr\n",
    "\n",
    "    print('{} - loss : {}'.format(epoch, loss.item()))\n",
    "\n",
    "    # 초기화\n",
    "    # 누적값을 초기화해주어야함\n",
    "    w.grad.zero_()\n",
    "    b.grad.zero_()"
   ]
  },
  {
   "cell_type": "markdown",
   "id": "6fbba60f",
   "metadata": {},
   "source": [
    "#### optimizer 사용하기"
   ]
  },
  {
   "cell_type": "code",
   "execution_count": 31,
   "id": "419e4715",
   "metadata": {},
   "outputs": [
    {
     "name": "stdout",
     "output_type": "stream",
     "text": [
      " 99 - loss : 479.84203356694604\r"
     ]
    }
   ],
   "source": [
    "opt = torch.optim.SGD([w, b], lr=lr)\n",
    "\n",
    "for epoch in range(100):    \n",
    "    z = (x.mm(w) + b)\n",
    "    loss = torch.mean((z - y)**2)  \n",
    "    \n",
    "    loss.backward()\n",
    "    opt.step()\n",
    "    print(\"{:3} - loss : {}\".format(epoch, loss.item()), end=\"\\r\")\n",
    "    \n",
    "    opt.zero_grad()"
   ]
  },
  {
   "cell_type": "code",
   "execution_count": 33,
   "id": "b01bf1f1",
   "metadata": {},
   "outputs": [
    {
     "name": "stdout",
     "output_type": "stream",
     "text": [
      "예측한 집값 : 22.069598463384597 실제 집값 : 18.2\n"
     ]
    }
   ],
   "source": [
    "y_pred = x.mm(w) + b\n",
    "print(\"예측한 집값 :\", y_pred[19].item(), \"실제 집값 :\", y[19].item())"
   ]
  },
  {
   "cell_type": "code",
   "execution_count": null,
   "id": "00076369",
   "metadata": {},
   "outputs": [],
   "source": []
  },
  {
   "cell_type": "code",
   "execution_count": null,
   "id": "057c9497",
   "metadata": {},
   "outputs": [],
   "source": []
  },
  {
   "cell_type": "code",
   "execution_count": null,
   "id": "6297ccac",
   "metadata": {},
   "outputs": [],
   "source": []
  }
 ],
 "metadata": {
  "kernelspec": {
   "display_name": "Python 3 (ipykernel)",
   "language": "python",
   "name": "python3"
  },
  "language_info": {
   "codemirror_mode": {
    "name": "ipython",
    "version": 3
   },
   "file_extension": ".py",
   "mimetype": "text/x-python",
   "name": "python",
   "nbconvert_exporter": "python",
   "pygments_lexer": "ipython3",
   "version": "3.8.17"
  },
  "varInspector": {
   "cols": {
    "lenName": 16,
    "lenType": 16,
    "lenVar": 40
   },
   "kernels_config": {
    "python": {
     "delete_cmd_postfix": "",
     "delete_cmd_prefix": "del ",
     "library": "var_list.py",
     "varRefreshCmd": "print(var_dic_list())"
    },
    "r": {
     "delete_cmd_postfix": ") ",
     "delete_cmd_prefix": "rm(",
     "library": "var_list.r",
     "varRefreshCmd": "cat(var_dic_list()) "
    }
   },
   "types_to_exclude": [
    "module",
    "function",
    "builtin_function_or_method",
    "instance",
    "_Feature"
   ],
   "window_display": false
  }
 },
 "nbformat": 4,
 "nbformat_minor": 5
}
