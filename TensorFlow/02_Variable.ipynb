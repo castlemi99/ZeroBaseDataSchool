{
 "cells": [
  {
   "cell_type": "markdown",
   "id": "88433c9f",
   "metadata": {},
   "source": [
    "# Variable"
   ]
  },
  {
   "cell_type": "code",
   "execution_count": 1,
   "id": "9b6d30eb",
   "metadata": {},
   "outputs": [],
   "source": [
    "import tensorflow as tf"
   ]
  },
  {
   "cell_type": "markdown",
   "id": "196dae0f",
   "metadata": {},
   "source": [
    "<h4> Variable (변수)</h4>"
   ]
  },
  {
   "cell_type": "markdown",
   "id": "a1dca53d",
   "metadata": {},
   "source": [
    "- 미지수, 가중치를 정의할 때 사용\n",
    "- 직접 사용할 일이 많지는 않음\n",
    "\n",
    "- 변수 정의는 변수 생성 + 초기화"
   ]
  },
  {
   "cell_type": "code",
   "execution_count": 5,
   "id": "44de8242",
   "metadata": {},
   "outputs": [
    {
     "name": "stdout",
     "output_type": "stream",
     "text": [
      "<tf.Variable 'Variable:0' shape=(2, 2) dtype=float32, numpy=\n",
      "array([[1., 2.],\n",
      "       [3., 4.]], dtype=float32)>\n",
      "<tf.Variable 'Variable:0' shape=(2, 2) dtype=int64, numpy=\n",
      "array([[1, 2],\n",
      "       [3, 4]])>\n",
      "<tf.Variable 'Variable:0' shape=(2, 2) dtype=int32, numpy=\n",
      "array([[1, 2],\n",
      "       [3, 4]], dtype=int32)>\n"
     ]
    },
    {
     "name": "stderr",
     "output_type": "stream",
     "text": [
      "2022-01-14 23:18:07.999951: I tensorflow/core/platform/cpu_feature_guard.cc:151] This TensorFlow binary is optimized with oneAPI Deep Neural Network Library (oneDNN) to use the following CPU instructions in performance-critical operations:  AVX2 FMA\n",
      "To enable them in other operations, rebuild TensorFlow with the appropriate compiler flags.\n"
     ]
    }
   ],
   "source": [
    "tensor = tf.constant([[1.0, 2.0], [3.0, 4.0]])\n",
    "arr = np.array([[1, 2], [3, 4]])\n",
    "li = [[1, 2], [3, 4]]\n",
    "\n",
    "te_var = tf.Variable(tensor)\n",
    "arr_var = tf.Variable(arr)\n",
    "li_var = tf.Variable(li)\n",
    "\n",
    "print(te_var)\n",
    "print(arr_var)\n",
    "print(li_var)"
   ]
  },
  {
   "cell_type": "markdown",
   "id": "4d3ee3ca",
   "metadata": {},
   "source": [
    "- Constant와 같이 기본 속성값이 들어있음. "
   ]
  },
  {
   "cell_type": "code",
   "execution_count": 6,
   "id": "ecbc082f",
   "metadata": {},
   "outputs": [
    {
     "name": "stdout",
     "output_type": "stream",
     "text": [
      "Shape:  (2, 2)\n",
      "DType:  <dtype: 'float32'>\n",
      "As NumPy:  <bound method BaseResourceVariable.numpy of <tf.Variable 'Variable:0' shape=(2, 2) dtype=float32, numpy=\n",
      "array([[1., 2.],\n",
      "       [3., 4.]], dtype=float32)>>\n"
     ]
    }
   ],
   "source": [
    "print(\"Shape: \", te_var.shape)\n",
    "print(\"DType: \", te_var.dtype)\n",
    "print(\"As NumPy: \", te_var.numpy)"
   ]
  },
  {
   "cell_type": "code",
   "execution_count": null,
   "id": "722c9dc9",
   "metadata": {},
   "outputs": [],
   "source": []
  },
  {
   "cell_type": "markdown",
   "id": "99a266fa",
   "metadata": {},
   "source": [
    "### 변수는 기존 텐서의 메모리를 재사용하여 텐서를 재할당 할 수 있다. \n"
   ]
  },
  {
   "cell_type": "code",
   "execution_count": 3,
   "id": "0b93f357",
   "metadata": {},
   "outputs": [
    {
     "name": "stdout",
     "output_type": "stream",
     "text": [
      "First :  <tf.Variable 'Variable:0' shape=(2,) dtype=float32, numpy=array([2., 3.], dtype=float32)> \n",
      "\n",
      "Second :  <tf.Variable 'Variable:0' shape=(2,) dtype=float32, numpy=array([1., 2.], dtype=float32)> \n",
      "\n"
     ]
    }
   ],
   "source": [
    "a = tf.Variable([2.0, 3.0])\n",
    "print(\"First : \", a, \"\\n\")\n",
    "\n",
    "a.assign([1, 2]) # .assign : 형식은 동일하지만 값은 다르게 할당가능(기존 dtype을 따른다)\n",
    "print(\"Second : \", a, \"\\n\")\n"
   ]
  },
  {
   "cell_type": "code",
   "execution_count": 4,
   "id": "be2ef9d3",
   "metadata": {},
   "outputs": [
    {
     "ename": "ValueError",
     "evalue": "Cannot assign value to variable ' Variable:0': Shape mismatch.The variable shape (2,), and the assigned value shape (3,) are incompatible.",
     "output_type": "error",
     "traceback": [
      "\u001b[1;31m---------------------------------------------------------------------------\u001b[0m",
      "\u001b[1;31mValueError\u001b[0m                                Traceback (most recent call last)",
      "\u001b[1;32mc:\\Users\\nabi4\\OneDrive\\바탕 화면\\제로베이스스쿨 강의자료\\제로-베이스---데이터-사이언스-스쿨---강의자료---part-11---15--230120-\\Part 11. 텐서플로 & Part 12. 파이토치\\deeplearning_frameworks_zerobaseDSS\\part1.TensorFlow\\실습용\\02_Variable.ipynb Cell 11\u001b[0m line \u001b[0;36m2\n\u001b[0;32m      <a href='vscode-notebook-cell:/c%3A/Users/nabi4/OneDrive/%EB%B0%94%ED%83%95%20%ED%99%94%EB%A9%B4/%EC%A0%9C%EB%A1%9C%EB%B2%A0%EC%9D%B4%EC%8A%A4%EC%8A%A4%EC%BF%A8%20%EA%B0%95%EC%9D%98%EC%9E%90%EB%A3%8C/%EC%A0%9C%EB%A1%9C-%EB%B2%A0%EC%9D%B4%EC%8A%A4---%EB%8D%B0%EC%9D%B4%ED%84%B0-%EC%82%AC%EC%9D%B4%EC%96%B8%EC%8A%A4-%EC%8A%A4%EC%BF%A8---%EA%B0%95%EC%9D%98%EC%9E%90%EB%A3%8C---part-11---15--230120-/Part%2011.%20%ED%85%90%EC%84%9C%ED%94%8C%EB%A1%9C%20%26%20Part%2012.%20%ED%8C%8C%EC%9D%B4%ED%86%A0%EC%B9%98/deeplearning_frameworks_zerobaseDSS/part1.TensorFlow/%EC%8B%A4%EC%8A%B5%EC%9A%A9/02_Variable.ipynb#X13sZmlsZQ%3D%3D?line=0'>1</a>\u001b[0m \u001b[39m# 기존 메모리의 크기와 다르면 할당 할 수 없음! \u001b[39;00m\n\u001b[1;32m----> <a href='vscode-notebook-cell:/c%3A/Users/nabi4/OneDrive/%EB%B0%94%ED%83%95%20%ED%99%94%EB%A9%B4/%EC%A0%9C%EB%A1%9C%EB%B2%A0%EC%9D%B4%EC%8A%A4%EC%8A%A4%EC%BF%A8%20%EA%B0%95%EC%9D%98%EC%9E%90%EB%A3%8C/%EC%A0%9C%EB%A1%9C-%EB%B2%A0%EC%9D%B4%EC%8A%A4---%EB%8D%B0%EC%9D%B4%ED%84%B0-%EC%82%AC%EC%9D%B4%EC%96%B8%EC%8A%A4-%EC%8A%A4%EC%BF%A8---%EA%B0%95%EC%9D%98%EC%9E%90%EB%A3%8C---part-11---15--230120-/Part%2011.%20%ED%85%90%EC%84%9C%ED%94%8C%EB%A1%9C%20%26%20Part%2012.%20%ED%8C%8C%EC%9D%B4%ED%86%A0%EC%B9%98/deeplearning_frameworks_zerobaseDSS/part1.TensorFlow/%EC%8B%A4%EC%8A%B5%EC%9A%A9/02_Variable.ipynb#X13sZmlsZQ%3D%3D?line=1'>2</a>\u001b[0m a\u001b[39m.\u001b[39;49massign([\u001b[39m1.0\u001b[39;49m, \u001b[39m2.0\u001b[39;49m, \u001b[39m3.0\u001b[39;49m])\n",
      "File \u001b[1;32mc:\\Users\\nabi4\\anaconda3\\envs\\ds_study\\lib\\site-packages\\tensorflow\\python\\ops\\resource_variable_ops.py:1022\u001b[0m, in \u001b[0;36mBaseResourceVariable.assign\u001b[1;34m(self, value, use_locking, name, read_value)\u001b[0m\n\u001b[0;32m   1020\u001b[0m   \u001b[39melse\u001b[39;00m:\n\u001b[0;32m   1021\u001b[0m     tensor_name \u001b[39m=\u001b[39m \u001b[39m\"\u001b[39m\u001b[39m \u001b[39m\u001b[39m\"\u001b[39m \u001b[39m+\u001b[39m \u001b[39mstr\u001b[39m(\u001b[39mself\u001b[39m\u001b[39m.\u001b[39mname)\n\u001b[1;32m-> 1022\u001b[0m   \u001b[39mraise\u001b[39;00m \u001b[39mValueError\u001b[39;00m(\n\u001b[0;32m   1023\u001b[0m       (\u001b[39mf\u001b[39m\u001b[39m\"\u001b[39m\u001b[39mCannot assign value to variable \u001b[39m\u001b[39m'\u001b[39m\u001b[39m{\u001b[39;00mtensor_name\u001b[39m}\u001b[39;00m\u001b[39m'\u001b[39m\u001b[39m: Shape mismatch.\u001b[39m\u001b[39m\"\u001b[39m\n\u001b[0;32m   1024\u001b[0m        \u001b[39mf\u001b[39m\u001b[39m\"\u001b[39m\u001b[39mThe variable shape \u001b[39m\u001b[39m{\u001b[39;00m\u001b[39mself\u001b[39m\u001b[39m.\u001b[39m_shape\u001b[39m}\u001b[39;00m\u001b[39m, and the \u001b[39m\u001b[39m\"\u001b[39m\n\u001b[0;32m   1025\u001b[0m        \u001b[39mf\u001b[39m\u001b[39m\"\u001b[39m\u001b[39massigned value shape \u001b[39m\u001b[39m{\u001b[39;00mvalue_tensor\u001b[39m.\u001b[39mshape\u001b[39m}\u001b[39;00m\u001b[39m are incompatible.\u001b[39m\u001b[39m\"\u001b[39m))\n\u001b[0;32m   1026\u001b[0m kwargs \u001b[39m=\u001b[39m {}\n\u001b[0;32m   1027\u001b[0m \u001b[39mif\u001b[39;00m forward_compat\u001b[39m.\u001b[39mforward_compatible(\u001b[39m2022\u001b[39m, \u001b[39m3\u001b[39m, \u001b[39m23\u001b[39m):\n\u001b[0;32m   1028\u001b[0m   \u001b[39m# If the shape is fully defined, we do a runtime check with the shape of\u001b[39;00m\n\u001b[0;32m   1029\u001b[0m   \u001b[39m# value.\u001b[39;00m\n",
      "\u001b[1;31mValueError\u001b[0m: Cannot assign value to variable ' Variable:0': Shape mismatch.The variable shape (2,), and the assigned value shape (3,) are incompatible."
     ]
    }
   ],
   "source": [
    "# 기존 메모리의 크기와 다르면 할당 할 수 없음! \n",
    "a.assign([1.0, 2.0, 3.0]) "
   ]
  },
  {
   "cell_type": "code",
   "execution_count": null,
   "id": "3a66b0f1",
   "metadata": {},
   "outputs": [],
   "source": []
  }
 ],
 "metadata": {
  "kernelspec": {
   "display_name": "Python 3 (ipykernel)",
   "language": "python",
   "name": "python3"
  },
  "language_info": {
   "codemirror_mode": {
    "name": "ipython",
    "version": 3
   },
   "file_extension": ".py",
   "mimetype": "text/x-python",
   "name": "python",
   "nbconvert_exporter": "python",
   "pygments_lexer": "ipython3",
   "version": "3.8.17"
  },
  "toc": {
   "base_numbering": 1,
   "nav_menu": {},
   "number_sections": true,
   "sideBar": true,
   "skip_h1_title": false,
   "title_cell": "Table of Contents",
   "title_sidebar": "Contents",
   "toc_cell": false,
   "toc_position": {
    "height": "calc(100% - 180px)",
    "left": "10px",
    "top": "150px",
    "width": "205.312px"
   },
   "toc_section_display": true,
   "toc_window_display": true
  },
  "varInspector": {
   "cols": {
    "lenName": 16,
    "lenType": 16,
    "lenVar": 40
   },
   "kernels_config": {
    "python": {
     "delete_cmd_postfix": "",
     "delete_cmd_prefix": "del ",
     "library": "var_list.py",
     "varRefreshCmd": "print(var_dic_list())"
    },
    "r": {
     "delete_cmd_postfix": ") ",
     "delete_cmd_prefix": "rm(",
     "library": "var_list.r",
     "varRefreshCmd": "cat(var_dic_list()) "
    }
   },
   "types_to_exclude": [
    "module",
    "function",
    "builtin_function_or_method",
    "instance",
    "_Feature"
   ],
   "window_display": false
  }
 },
 "nbformat": 4,
 "nbformat_minor": 5
}
