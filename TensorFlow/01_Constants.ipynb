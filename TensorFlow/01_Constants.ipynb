{
 "cells": [
  {
   "cell_type": "markdown",
   "id": "874c79aa",
   "metadata": {},
   "source": [
    "# Constants"
   ]
  },
  {
   "cell_type": "code",
   "execution_count": 1,
   "id": "64973dd4",
   "metadata": {},
   "outputs": [],
   "source": [
    "import tensorflow as tf"
   ]
  },
  {
   "cell_type": "markdown",
   "id": "da4d6dd2",
   "metadata": {},
   "source": [
    "## Tensor"
   ]
  },
  {
   "cell_type": "markdown",
   "id": "093978d8",
   "metadata": {},
   "source": [
    "- Deeplearning framework는 기본적으로 Tensor를 다루는 도구다.\n",
    "    - [Tensor](https://www.google.com/search?q=Tensor&newwindow=1&sxsrf=AOaemvLxCRvi46j5dRtWwY8K6ssvkpF48A:1641452781782&source=lnms&tbm=isch&sa=X&ved=2ahUKEwin2eSPyJz1AhXNdd4KHWzUAd8Q_AUoAXoECAIQAw&biw=1440&bih=820&dpr=2)\n",
    "\n",
    "\n",
    "- Tensor를 다룰 때 가장 중요한 것! \n",
    "\n",
    "  ${\\rightarrow} \\ $ **SHAPE !!!**\n",
    "  \n",
    " (해보면 알겠지만, 제일 에러 많이 나는 이유, 제일 헷갈리는 것, 개발할 때 우리가 이론을 알아야 하는 이유, 함수들의 설정값을 확인해야하는 이유)\n",
    " \n",
    " "
   ]
  },
  {
   "cell_type": "markdown",
   "id": "3907c01d",
   "metadata": {},
   "source": [
    "## Tensor 생성"
   ]
  },
  {
   "cell_type": "code",
   "execution_count": 2,
   "id": "6eb8d81e",
   "metadata": {},
   "outputs": [
    {
     "data": {
      "text/plain": [
       "list"
      ]
     },
     "execution_count": 2,
     "metadata": {},
     "output_type": "execute_result"
    }
   ],
   "source": [
    "li = [1, 2, 3]\n",
    "type(li)"
   ]
  },
  {
   "cell_type": "markdown",
   "id": "7ed66109",
   "metadata": {},
   "source": [
    "우리가 생성하는 것은 `tf.Tensor` 데이터!"
   ]
  },
  {
   "cell_type": "markdown",
   "id": "a902cacd",
   "metadata": {},
   "source": [
    "**항상 체크 해야 할 것 !**\n",
    " - shape\n",
    " - dtype (데이터 타입이 같아야 연산이 가능합니다.)"
   ]
  },
  {
   "cell_type": "markdown",
   "id": "4da46b25",
   "metadata": {},
   "source": [
    "<h4> Constant (상수)</h4>\n",
    "\n",
    "- **```tf.constant()```**\n",
    "\n",
    "    - 기존의 데이터 타입을 Tensor로 변환시켜줌\n",
    "    - list -> Tensor\n",
    "    - tuple -> Tensor\n",
    "    - Array -> Tensor"
   ]
  },
  {
   "cell_type": "code",
   "execution_count": 4,
   "id": "f1da2ea9",
   "metadata": {},
   "outputs": [
    {
     "data": {
      "text/plain": [
       "<tf.Tensor: shape=(3,), dtype=int32, numpy=array([1, 2, 3])>"
      ]
     },
     "execution_count": 4,
     "metadata": {},
     "output_type": "execute_result"
    }
   ],
   "source": [
    "li_ten = tf.constant([1, 2, 3])\n",
    "li_ten"
   ]
  },
  {
   "cell_type": "code",
   "execution_count": 5,
   "id": "94433696",
   "metadata": {},
   "outputs": [
    {
     "data": {
      "text/plain": [
       "<tf.Tensor: shape=(3,), dtype=float32, numpy=array([1., 2., 3.], dtype=float32)>"
      ]
     },
     "execution_count": 5,
     "metadata": {},
     "output_type": "execute_result"
    }
   ],
   "source": [
    "li_ten_f = tf.constant([1., 2., 3.])\n",
    "li_ten_f"
   ]
  },
  {
   "cell_type": "code",
   "execution_count": 6,
   "id": "036f4faa",
   "metadata": {},
   "outputs": [
    {
     "data": {
      "text/plain": [
       "<tf.Tensor: shape=(2, 3), dtype=int32, numpy=\n",
       "array([[1, 2, 3],\n",
       "       [1, 2, 3]])>"
      ]
     },
     "execution_count": 6,
     "metadata": {},
     "output_type": "execute_result"
    }
   ],
   "source": [
    "tu_ten = tf.constant(((1, 2, 3), (1, 2, 3)), name=\"sample\")\n",
    "tu_ten"
   ]
  },
  {
   "cell_type": "code",
   "execution_count": 8,
   "id": "cb81c7eb",
   "metadata": {},
   "outputs": [
    {
     "data": {
      "text/plain": [
       "<tf.Tensor: shape=(3,), dtype=float64, numpy=array([1., 2., 3.])>"
      ]
     },
     "execution_count": 8,
     "metadata": {},
     "output_type": "execute_result"
    }
   ],
   "source": [
    "import numpy as np\n",
    "arr = np.array([1., 2., 3.])#, dtype='float64')\n",
    "arr_ten = tf.constant(arr)\n",
    "arr_ten"
   ]
  },
  {
   "cell_type": "markdown",
   "id": "23aa3174",
   "metadata": {},
   "source": [
    "#### 잠깐 옆으로 새서...\n",
    "* double precision : 64bits\n",
    "* single precision : 32bits\n",
    "* half precision   : 16bits"
   ]
  },
  {
   "cell_type": "code",
   "execution_count": null,
   "id": "445c00b0",
   "metadata": {},
   "outputs": [],
   "source": []
  },
  {
   "cell_type": "markdown",
   "id": "a39b8eae",
   "metadata": {},
   "source": [
    "### Numpy array 추출\n",
    "\n",
    "-  `.numpy()`"
   ]
  },
  {
   "cell_type": "code",
   "execution_count": 9,
   "id": "83b36c1c",
   "metadata": {},
   "outputs": [
    {
     "data": {
      "text/plain": [
       "(array([1., 2., 3.]), numpy.ndarray)"
      ]
     },
     "execution_count": 9,
     "metadata": {},
     "output_type": "execute_result"
    }
   ],
   "source": [
    "arr_ten.numpy(), type(arr_ten.numpy())"
   ]
  },
  {
   "cell_type": "code",
   "execution_count": 10,
   "id": "c3dc3fd8",
   "metadata": {},
   "outputs": [
    {
     "data": {
      "text/plain": [
       "(array([1, 2, 3]), numpy.ndarray)"
      ]
     },
     "execution_count": 10,
     "metadata": {},
     "output_type": "execute_result"
    }
   ],
   "source": [
    "li_ten.numpy(), type(li_ten.numpy())"
   ]
  },
  {
   "cell_type": "code",
   "execution_count": 12,
   "id": "7e5e33c2",
   "metadata": {},
   "outputs": [
    {
     "ename": "ValueError",
     "evalue": "Can't convert non-rectangular Python sequence to Tensor.",
     "output_type": "error",
     "traceback": [
      "\u001b[1;31m---------------------------------------------------------------------------\u001b[0m",
      "\u001b[1;31mValueError\u001b[0m                                Traceback (most recent call last)",
      "\u001b[1;32mc:\\Users\\nabi4\\OneDrive\\바탕 화면\\제로베이스스쿨 강의자료\\제로-베이스---데이터-사이언스-스쿨---강의자료---part-11---15--230120-\\Part 11. 텐서플로 & Part 12. 파이토치\\deeplearning_frameworks_zerobaseDSS\\part1.TensorFlow\\실습용\\01_Constants.ipynb Cell 19\u001b[0m line \u001b[0;36m2\n\u001b[0;32m      <a href='vscode-notebook-cell:/c%3A/Users/nabi4/OneDrive/%EB%B0%94%ED%83%95%20%ED%99%94%EB%A9%B4/%EC%A0%9C%EB%A1%9C%EB%B2%A0%EC%9D%B4%EC%8A%A4%EC%8A%A4%EC%BF%A8%20%EA%B0%95%EC%9D%98%EC%9E%90%EB%A3%8C/%EC%A0%9C%EB%A1%9C-%EB%B2%A0%EC%9D%B4%EC%8A%A4---%EB%8D%B0%EC%9D%B4%ED%84%B0-%EC%82%AC%EC%9D%B4%EC%96%B8%EC%8A%A4-%EC%8A%A4%EC%BF%A8---%EA%B0%95%EC%9D%98%EC%9E%90%EB%A3%8C---part-11---15--230120-/Part%2011.%20%ED%85%90%EC%84%9C%ED%94%8C%EB%A1%9C%20%26%20Part%2012.%20%ED%8C%8C%EC%9D%B4%ED%86%A0%EC%B9%98/deeplearning_frameworks_zerobaseDSS/part1.TensorFlow/%EC%8B%A4%EC%8A%B5%EC%9A%A9/01_Constants.ipynb#X23sZmlsZQ%3D%3D?line=0'>1</a>\u001b[0m not_a_matrix \u001b[39m=\u001b[39m [[\u001b[39m1\u001b[39m,\u001b[39m2\u001b[39m,\u001b[39m3\u001b[39m], [\u001b[39m4\u001b[39m, \u001b[39m5\u001b[39m], [\u001b[39m6\u001b[39m, \u001b[39m7\u001b[39m, \u001b[39m8\u001b[39m]]\n\u001b[1;32m----> <a href='vscode-notebook-cell:/c%3A/Users/nabi4/OneDrive/%EB%B0%94%ED%83%95%20%ED%99%94%EB%A9%B4/%EC%A0%9C%EB%A1%9C%EB%B2%A0%EC%9D%B4%EC%8A%A4%EC%8A%A4%EC%BF%A8%20%EA%B0%95%EC%9D%98%EC%9E%90%EB%A3%8C/%EC%A0%9C%EB%A1%9C-%EB%B2%A0%EC%9D%B4%EC%8A%A4---%EB%8D%B0%EC%9D%B4%ED%84%B0-%EC%82%AC%EC%9D%B4%EC%96%B8%EC%8A%A4-%EC%8A%A4%EC%BF%A8---%EA%B0%95%EC%9D%98%EC%9E%90%EB%A3%8C---part-11---15--230120-/Part%2011.%20%ED%85%90%EC%84%9C%ED%94%8C%EB%A1%9C%20%26%20Part%2012.%20%ED%8C%8C%EC%9D%B4%ED%86%A0%EC%B9%98/deeplearning_frameworks_zerobaseDSS/part1.TensorFlow/%EC%8B%A4%EC%8A%B5%EC%9A%A9/01_Constants.ipynb#X23sZmlsZQ%3D%3D?line=1'>2</a>\u001b[0m tf\u001b[39m.\u001b[39;49mconstant(not_a_matrix)\n",
      "File \u001b[1;32mc:\\Users\\nabi4\\anaconda3\\envs\\ds_study\\lib\\site-packages\\tensorflow\\python\\framework\\constant_op.py:263\u001b[0m, in \u001b[0;36mconstant\u001b[1;34m(value, dtype, shape, name)\u001b[0m\n\u001b[0;32m    166\u001b[0m \u001b[39m@tf_export\u001b[39m(\u001b[39m\"\u001b[39m\u001b[39mconstant\u001b[39m\u001b[39m\"\u001b[39m, v1\u001b[39m=\u001b[39m[])\n\u001b[0;32m    167\u001b[0m \u001b[39mdef\u001b[39;00m \u001b[39mconstant\u001b[39m(value, dtype\u001b[39m=\u001b[39m\u001b[39mNone\u001b[39;00m, shape\u001b[39m=\u001b[39m\u001b[39mNone\u001b[39;00m, name\u001b[39m=\u001b[39m\u001b[39m\"\u001b[39m\u001b[39mConst\u001b[39m\u001b[39m\"\u001b[39m):\n\u001b[0;32m    168\u001b[0m \u001b[39m  \u001b[39m\u001b[39m\"\"\"Creates a constant tensor from a tensor-like object.\u001b[39;00m\n\u001b[0;32m    169\u001b[0m \n\u001b[0;32m    170\u001b[0m \u001b[39m  Note: All eager `tf.Tensor` values are immutable (in contrast to\u001b[39;00m\n\u001b[1;32m   (...)\u001b[0m\n\u001b[0;32m    261\u001b[0m \u001b[39m    ValueError: if called on a symbolic tensor.\u001b[39;00m\n\u001b[0;32m    262\u001b[0m \u001b[39m  \"\"\"\u001b[39;00m\n\u001b[1;32m--> 263\u001b[0m   \u001b[39mreturn\u001b[39;00m _constant_impl(value, dtype, shape, name, verify_shape\u001b[39m=\u001b[39;49m\u001b[39mFalse\u001b[39;49;00m,\n\u001b[0;32m    264\u001b[0m                         allow_broadcast\u001b[39m=\u001b[39;49m\u001b[39mTrue\u001b[39;49;00m)\n",
      "File \u001b[1;32mc:\\Users\\nabi4\\anaconda3\\envs\\ds_study\\lib\\site-packages\\tensorflow\\python\\framework\\constant_op.py:275\u001b[0m, in \u001b[0;36m_constant_impl\u001b[1;34m(value, dtype, shape, name, verify_shape, allow_broadcast)\u001b[0m\n\u001b[0;32m    273\u001b[0m     \u001b[39mwith\u001b[39;00m trace\u001b[39m.\u001b[39mTrace(\u001b[39m\"\u001b[39m\u001b[39mtf.constant\u001b[39m\u001b[39m\"\u001b[39m):\n\u001b[0;32m    274\u001b[0m       \u001b[39mreturn\u001b[39;00m _constant_eager_impl(ctx, value, dtype, shape, verify_shape)\n\u001b[1;32m--> 275\u001b[0m   \u001b[39mreturn\u001b[39;00m _constant_eager_impl(ctx, value, dtype, shape, verify_shape)\n\u001b[0;32m    277\u001b[0m const_tensor \u001b[39m=\u001b[39m ops\u001b[39m.\u001b[39m_create_graph_constant(  \u001b[39m# pylint: disable=protected-access\u001b[39;00m\n\u001b[0;32m    278\u001b[0m     value, dtype, shape, name, verify_shape, allow_broadcast\n\u001b[0;32m    279\u001b[0m )\n\u001b[0;32m    280\u001b[0m \u001b[39mreturn\u001b[39;00m const_tensor\n",
      "File \u001b[1;32mc:\\Users\\nabi4\\anaconda3\\envs\\ds_study\\lib\\site-packages\\tensorflow\\python\\framework\\constant_op.py:285\u001b[0m, in \u001b[0;36m_constant_eager_impl\u001b[1;34m(ctx, value, dtype, shape, verify_shape)\u001b[0m\n\u001b[0;32m    283\u001b[0m \u001b[39mdef\u001b[39;00m \u001b[39m_constant_eager_impl\u001b[39m(ctx, value, dtype, shape, verify_shape):\n\u001b[0;32m    284\u001b[0m \u001b[39m  \u001b[39m\u001b[39m\"\"\"Creates a constant on the current device.\"\"\"\u001b[39;00m\n\u001b[1;32m--> 285\u001b[0m   t \u001b[39m=\u001b[39m convert_to_eager_tensor(value, ctx, dtype)\n\u001b[0;32m    286\u001b[0m   \u001b[39mif\u001b[39;00m shape \u001b[39mis\u001b[39;00m \u001b[39mNone\u001b[39;00m:\n\u001b[0;32m    287\u001b[0m     \u001b[39mreturn\u001b[39;00m t\n",
      "File \u001b[1;32mc:\\Users\\nabi4\\anaconda3\\envs\\ds_study\\lib\\site-packages\\tensorflow\\python\\framework\\constant_op.py:98\u001b[0m, in \u001b[0;36mconvert_to_eager_tensor\u001b[1;34m(value, ctx, dtype)\u001b[0m\n\u001b[0;32m     96\u001b[0m     dtype \u001b[39m=\u001b[39m dtypes\u001b[39m.\u001b[39mas_dtype(dtype)\u001b[39m.\u001b[39mas_datatype_enum\n\u001b[0;32m     97\u001b[0m ctx\u001b[39m.\u001b[39mensure_initialized()\n\u001b[1;32m---> 98\u001b[0m \u001b[39mreturn\u001b[39;00m ops\u001b[39m.\u001b[39;49mEagerTensor(value, ctx\u001b[39m.\u001b[39;49mdevice_name, dtype)\n",
      "\u001b[1;31mValueError\u001b[0m: Can't convert non-rectangular Python sequence to Tensor."
     ]
    }
   ],
   "source": [
    "# 구조적으로 이상한 형태인 것들은 변환 안됨\n",
    "not_a_matrix = [[1,2,3], [4, 5], [6, 7, 8]]\n",
    "tf.constant(not_a_matrix)"
   ]
  },
  {
   "cell_type": "code",
   "execution_count": null,
   "id": "942c9361",
   "metadata": {},
   "outputs": [],
   "source": []
  },
  {
   "cell_type": "markdown",
   "id": "1c356a83",
   "metadata": {},
   "source": [
    "### shpae, dtype 항상 체크!!\n",
    "\n",
    "- `.shape`\n",
    "- `.dtype`"
   ]
  },
  {
   "cell_type": "code",
   "execution_count": 16,
   "id": "336ebafc",
   "metadata": {},
   "outputs": [
    {
     "data": {
      "text/plain": [
       "(<tf.Tensor: shape=(3,), dtype=int32, numpy=array([1, 2, 3])>,\n",
       " <tf.Tensor: shape=(2, 3), dtype=int32, numpy=\n",
       " array([[1, 2, 3],\n",
       "        [1, 2, 3]])>)"
      ]
     },
     "execution_count": 16,
     "metadata": {},
     "output_type": "execute_result"
    }
   ],
   "source": [
    "li_ten, tu_ten"
   ]
  },
  {
   "cell_type": "code",
   "execution_count": 13,
   "id": "59c55661",
   "metadata": {},
   "outputs": [
    {
     "data": {
      "text/plain": [
       "(TensorShape([3]), TensorShape([2, 3]))"
      ]
     },
     "execution_count": 13,
     "metadata": {},
     "output_type": "execute_result"
    }
   ],
   "source": [
    "li_ten.shape, tu_ten.shape"
   ]
  },
  {
   "cell_type": "code",
   "execution_count": 14,
   "id": "cf4c62eb",
   "metadata": {},
   "outputs": [
    {
     "data": {
      "text/plain": [
       "(tf.float64, tf.int32)"
      ]
     },
     "execution_count": 14,
     "metadata": {},
     "output_type": "execute_result"
    }
   ],
   "source": [
    "arr_ten.dtype, li_ten.dtype"
   ]
  },
  {
   "cell_type": "code",
   "execution_count": 15,
   "id": "c7287754",
   "metadata": {},
   "outputs": [
    {
     "ename": "InvalidArgumentError",
     "evalue": "{{function_node __wrapped__MatMul_device_/job:localhost/replica:0/task:0/device:CPU:0}} In[0] and In[1] has different ndims: [3] vs. [2,3] [Op:MatMul] name: ",
     "output_type": "error",
     "traceback": [
      "\u001b[1;31m---------------------------------------------------------------------------\u001b[0m",
      "\u001b[1;31mInvalidArgumentError\u001b[0m                      Traceback (most recent call last)",
      "\u001b[1;32mc:\\Users\\nabi4\\OneDrive\\바탕 화면\\제로베이스스쿨 강의자료\\제로-베이스---데이터-사이언스-스쿨---강의자료---part-11---15--230120-\\Part 11. 텐서플로 & Part 12. 파이토치\\deeplearning_frameworks_zerobaseDSS\\part1.TensorFlow\\실습용\\01_Constants.ipynb Cell 24\u001b[0m line \u001b[0;36m2\n\u001b[0;32m      <a href='vscode-notebook-cell:/c%3A/Users/nabi4/OneDrive/%EB%B0%94%ED%83%95%20%ED%99%94%EB%A9%B4/%EC%A0%9C%EB%A1%9C%EB%B2%A0%EC%9D%B4%EC%8A%A4%EC%8A%A4%EC%BF%A8%20%EA%B0%95%EC%9D%98%EC%9E%90%EB%A3%8C/%EC%A0%9C%EB%A1%9C-%EB%B2%A0%EC%9D%B4%EC%8A%A4---%EB%8D%B0%EC%9D%B4%ED%84%B0-%EC%82%AC%EC%9D%B4%EC%96%B8%EC%8A%A4-%EC%8A%A4%EC%BF%A8---%EA%B0%95%EC%9D%98%EC%9E%90%EB%A3%8C---part-11---15--230120-/Part%2011.%20%ED%85%90%EC%84%9C%ED%94%8C%EB%A1%9C%20%26%20Part%2012.%20%ED%8C%8C%EC%9D%B4%ED%86%A0%EC%B9%98/deeplearning_frameworks_zerobaseDSS/part1.TensorFlow/%EC%8B%A4%EC%8A%B5%EC%9A%A9/01_Constants.ipynb#X31sZmlsZQ%3D%3D?line=0'>1</a>\u001b[0m \u001b[39m# 1번 케이스\u001b[39;00m\n\u001b[1;32m----> <a href='vscode-notebook-cell:/c%3A/Users/nabi4/OneDrive/%EB%B0%94%ED%83%95%20%ED%99%94%EB%A9%B4/%EC%A0%9C%EB%A1%9C%EB%B2%A0%EC%9D%B4%EC%8A%A4%EC%8A%A4%EC%BF%A8%20%EA%B0%95%EC%9D%98%EC%9E%90%EB%A3%8C/%EC%A0%9C%EB%A1%9C-%EB%B2%A0%EC%9D%B4%EC%8A%A4---%EB%8D%B0%EC%9D%B4%ED%84%B0-%EC%82%AC%EC%9D%B4%EC%96%B8%EC%8A%A4-%EC%8A%A4%EC%BF%A8---%EA%B0%95%EC%9D%98%EC%9E%90%EB%A3%8C---part-11---15--230120-/Part%2011.%20%ED%85%90%EC%84%9C%ED%94%8C%EB%A1%9C%20%26%20Part%2012.%20%ED%8C%8C%EC%9D%B4%ED%86%A0%EC%B9%98/deeplearning_frameworks_zerobaseDSS/part1.TensorFlow/%EC%8B%A4%EC%8A%B5%EC%9A%A9/01_Constants.ipynb#X31sZmlsZQ%3D%3D?line=1'>2</a>\u001b[0m tf\u001b[39m.\u001b[39;49mmatmul(li_ten, tu_ten)\n",
      "File \u001b[1;32mc:\\Users\\nabi4\\anaconda3\\envs\\ds_study\\lib\\site-packages\\tensorflow\\python\\util\\traceback_utils.py:153\u001b[0m, in \u001b[0;36mfilter_traceback.<locals>.error_handler\u001b[1;34m(*args, **kwargs)\u001b[0m\n\u001b[0;32m    151\u001b[0m \u001b[39mexcept\u001b[39;00m \u001b[39mException\u001b[39;00m \u001b[39mas\u001b[39;00m e:\n\u001b[0;32m    152\u001b[0m   filtered_tb \u001b[39m=\u001b[39m _process_traceback_frames(e\u001b[39m.\u001b[39m__traceback__)\n\u001b[1;32m--> 153\u001b[0m   \u001b[39mraise\u001b[39;00m e\u001b[39m.\u001b[39mwith_traceback(filtered_tb) \u001b[39mfrom\u001b[39;00m \u001b[39mNone\u001b[39;00m\n\u001b[0;32m    154\u001b[0m \u001b[39mfinally\u001b[39;00m:\n\u001b[0;32m    155\u001b[0m   \u001b[39mdel\u001b[39;00m filtered_tb\n",
      "File \u001b[1;32mc:\\Users\\nabi4\\anaconda3\\envs\\ds_study\\lib\\site-packages\\tensorflow\\python\\framework\\ops.py:6656\u001b[0m, in \u001b[0;36mraise_from_not_ok_status\u001b[1;34m(e, name)\u001b[0m\n\u001b[0;32m   6654\u001b[0m \u001b[39mdef\u001b[39;00m \u001b[39mraise_from_not_ok_status\u001b[39m(e, name):\n\u001b[0;32m   6655\u001b[0m   e\u001b[39m.\u001b[39mmessage \u001b[39m+\u001b[39m\u001b[39m=\u001b[39m (\u001b[39m\"\u001b[39m\u001b[39m name: \u001b[39m\u001b[39m\"\u001b[39m \u001b[39m+\u001b[39m \u001b[39mstr\u001b[39m(name \u001b[39mif\u001b[39;00m name \u001b[39mis\u001b[39;00m \u001b[39mnot\u001b[39;00m \u001b[39mNone\u001b[39;00m \u001b[39melse\u001b[39;00m \u001b[39m\"\u001b[39m\u001b[39m\"\u001b[39m))\n\u001b[1;32m-> 6656\u001b[0m   \u001b[39mraise\u001b[39;00m core\u001b[39m.\u001b[39m_status_to_exception(e) \u001b[39mfrom\u001b[39;00m \u001b[39mNone\u001b[39;00m\n",
      "\u001b[1;31mInvalidArgumentError\u001b[0m: {{function_node __wrapped__MatMul_device_/job:localhost/replica:0/task:0/device:CPU:0}} In[0] and In[1] has different ndims: [3] vs. [2,3] [Op:MatMul] name: "
     ]
    }
   ],
   "source": [
    "# 1번 케이스\n",
    "tf.matmul(li_ten, tu_ten)\n",
    "\n",
    "#  In[0] and In[1] has different ndims: [3] vs. [2,3] [Op:MatMul] name\n",
    "# dim이 맞지 않아 연산 불가"
   ]
  },
  {
   "cell_type": "code",
   "execution_count": 17,
   "id": "a999f6e5",
   "metadata": {},
   "outputs": [
    {
     "ename": "InvalidArgumentError",
     "evalue": "{{function_node __wrapped__MatMul_device_/job:localhost/replica:0/task:0/device:CPU:0}} In[0] and In[1] has different ndims: [2,3] vs. [3] [Op:MatMul] name: ",
     "output_type": "error",
     "traceback": [
      "\u001b[1;31m---------------------------------------------------------------------------\u001b[0m",
      "\u001b[1;31mInvalidArgumentError\u001b[0m                      Traceback (most recent call last)",
      "\u001b[1;32mc:\\Users\\nabi4\\OneDrive\\바탕 화면\\제로베이스스쿨 강의자료\\제로-베이스---데이터-사이언스-스쿨---강의자료---part-11---15--230120-\\Part 11. 텐서플로 & Part 12. 파이토치\\deeplearning_frameworks_zerobaseDSS\\part1.TensorFlow\\실습용\\01_Constants.ipynb Cell 26\u001b[0m line \u001b[0;36m2\n\u001b[0;32m      <a href='vscode-notebook-cell:/c%3A/Users/nabi4/OneDrive/%EB%B0%94%ED%83%95%20%ED%99%94%EB%A9%B4/%EC%A0%9C%EB%A1%9C%EB%B2%A0%EC%9D%B4%EC%8A%A4%EC%8A%A4%EC%BF%A8%20%EA%B0%95%EC%9D%98%EC%9E%90%EB%A3%8C/%EC%A0%9C%EB%A1%9C-%EB%B2%A0%EC%9D%B4%EC%8A%A4---%EB%8D%B0%EC%9D%B4%ED%84%B0-%EC%82%AC%EC%9D%B4%EC%96%B8%EC%8A%A4-%EC%8A%A4%EC%BF%A8---%EA%B0%95%EC%9D%98%EC%9E%90%EB%A3%8C---part-11---15--230120-/Part%2011.%20%ED%85%90%EC%84%9C%ED%94%8C%EB%A1%9C%20%26%20Part%2012.%20%ED%8C%8C%EC%9D%B4%ED%86%A0%EC%B9%98/deeplearning_frameworks_zerobaseDSS/part1.TensorFlow/%EC%8B%A4%EC%8A%B5%EC%9A%A9/01_Constants.ipynb#X32sZmlsZQ%3D%3D?line=0'>1</a>\u001b[0m \u001b[39m# 2번 케이스\u001b[39;00m\n\u001b[1;32m----> <a href='vscode-notebook-cell:/c%3A/Users/nabi4/OneDrive/%EB%B0%94%ED%83%95%20%ED%99%94%EB%A9%B4/%EC%A0%9C%EB%A1%9C%EB%B2%A0%EC%9D%B4%EC%8A%A4%EC%8A%A4%EC%BF%A8%20%EA%B0%95%EC%9D%98%EC%9E%90%EB%A3%8C/%EC%A0%9C%EB%A1%9C-%EB%B2%A0%EC%9D%B4%EC%8A%A4---%EB%8D%B0%EC%9D%B4%ED%84%B0-%EC%82%AC%EC%9D%B4%EC%96%B8%EC%8A%A4-%EC%8A%A4%EC%BF%A8---%EA%B0%95%EC%9D%98%EC%9E%90%EB%A3%8C---part-11---15--230120-/Part%2011.%20%ED%85%90%EC%84%9C%ED%94%8C%EB%A1%9C%20%26%20Part%2012.%20%ED%8C%8C%EC%9D%B4%ED%86%A0%EC%B9%98/deeplearning_frameworks_zerobaseDSS/part1.TensorFlow/%EC%8B%A4%EC%8A%B5%EC%9A%A9/01_Constants.ipynb#X32sZmlsZQ%3D%3D?line=1'>2</a>\u001b[0m tf\u001b[39m.\u001b[39;49mmatmul(tu_ten, li_ten)\n",
      "File \u001b[1;32mc:\\Users\\nabi4\\anaconda3\\envs\\ds_study\\lib\\site-packages\\tensorflow\\python\\util\\traceback_utils.py:153\u001b[0m, in \u001b[0;36mfilter_traceback.<locals>.error_handler\u001b[1;34m(*args, **kwargs)\u001b[0m\n\u001b[0;32m    151\u001b[0m \u001b[39mexcept\u001b[39;00m \u001b[39mException\u001b[39;00m \u001b[39mas\u001b[39;00m e:\n\u001b[0;32m    152\u001b[0m   filtered_tb \u001b[39m=\u001b[39m _process_traceback_frames(e\u001b[39m.\u001b[39m__traceback__)\n\u001b[1;32m--> 153\u001b[0m   \u001b[39mraise\u001b[39;00m e\u001b[39m.\u001b[39mwith_traceback(filtered_tb) \u001b[39mfrom\u001b[39;00m \u001b[39mNone\u001b[39;00m\n\u001b[0;32m    154\u001b[0m \u001b[39mfinally\u001b[39;00m:\n\u001b[0;32m    155\u001b[0m   \u001b[39mdel\u001b[39;00m filtered_tb\n",
      "File \u001b[1;32mc:\\Users\\nabi4\\anaconda3\\envs\\ds_study\\lib\\site-packages\\tensorflow\\python\\framework\\ops.py:6656\u001b[0m, in \u001b[0;36mraise_from_not_ok_status\u001b[1;34m(e, name)\u001b[0m\n\u001b[0;32m   6654\u001b[0m \u001b[39mdef\u001b[39;00m \u001b[39mraise_from_not_ok_status\u001b[39m(e, name):\n\u001b[0;32m   6655\u001b[0m   e\u001b[39m.\u001b[39mmessage \u001b[39m+\u001b[39m\u001b[39m=\u001b[39m (\u001b[39m\"\u001b[39m\u001b[39m name: \u001b[39m\u001b[39m\"\u001b[39m \u001b[39m+\u001b[39m \u001b[39mstr\u001b[39m(name \u001b[39mif\u001b[39;00m name \u001b[39mis\u001b[39;00m \u001b[39mnot\u001b[39;00m \u001b[39mNone\u001b[39;00m \u001b[39melse\u001b[39;00m \u001b[39m\"\u001b[39m\u001b[39m\"\u001b[39m))\n\u001b[1;32m-> 6656\u001b[0m   \u001b[39mraise\u001b[39;00m core\u001b[39m.\u001b[39m_status_to_exception(e) \u001b[39mfrom\u001b[39;00m \u001b[39mNone\u001b[39;00m\n",
      "\u001b[1;31mInvalidArgumentError\u001b[0m: {{function_node __wrapped__MatMul_device_/job:localhost/replica:0/task:0/device:CPU:0}} In[0] and In[1] has different ndims: [2,3] vs. [3] [Op:MatMul] name: "
     ]
    }
   ],
   "source": [
    "# 2번 케이스\n",
    "tf.matmul(tu_ten, li_ten)\n",
    "# rank 수가 맞지 않아 연산 불가"
   ]
  },
  {
   "cell_type": "markdown",
   "id": "eb3a8e87",
   "metadata": {},
   "source": [
    "rank 수 확인 명령어 `.ndim`"
   ]
  },
  {
   "cell_type": "code",
   "execution_count": 18,
   "id": "cb21fbc2",
   "metadata": {},
   "outputs": [
    {
     "name": "stdout",
     "output_type": "stream",
     "text": [
      "1\n",
      "2\n"
     ]
    }
   ],
   "source": [
    "print(li_ten.ndim)\n",
    "print(tu_ten.ndim)"
   ]
  },
  {
   "cell_type": "code",
   "execution_count": 20,
   "id": "7e1984c2",
   "metadata": {},
   "outputs": [
    {
     "data": {
      "text/plain": [
       "(<tf.Tensor: shape=(3,), dtype=float64, numpy=array([1., 2., 3.])>,\n",
       " <tf.Tensor: shape=(3,), dtype=int32, numpy=array([1, 2, 3])>)"
      ]
     },
     "execution_count": 20,
     "metadata": {},
     "output_type": "execute_result"
    }
   ],
   "source": [
    "arr_ten, li_ten"
   ]
  },
  {
   "cell_type": "code",
   "execution_count": 19,
   "id": "808843ec",
   "metadata": {},
   "outputs": [
    {
     "ename": "InvalidArgumentError",
     "evalue": "cannot compute Mul as input #1(zero-based) was expected to be a double tensor but is a int32 tensor [Op:Mul] name: ",
     "output_type": "error",
     "traceback": [
      "\u001b[1;31m---------------------------------------------------------------------------\u001b[0m",
      "\u001b[1;31mInvalidArgumentError\u001b[0m                      Traceback (most recent call last)",
      "\u001b[1;32mc:\\Users\\nabi4\\OneDrive\\바탕 화면\\제로베이스스쿨 강의자료\\제로-베이스---데이터-사이언스-스쿨---강의자료---part-11---15--230120-\\Part 11. 텐서플로 & Part 12. 파이토치\\deeplearning_frameworks_zerobaseDSS\\part1.TensorFlow\\실습용\\01_Constants.ipynb Cell 29\u001b[0m line \u001b[0;36m2\n\u001b[0;32m      <a href='vscode-notebook-cell:/c%3A/Users/nabi4/OneDrive/%EB%B0%94%ED%83%95%20%ED%99%94%EB%A9%B4/%EC%A0%9C%EB%A1%9C%EB%B2%A0%EC%9D%B4%EC%8A%A4%EC%8A%A4%EC%BF%A8%20%EA%B0%95%EC%9D%98%EC%9E%90%EB%A3%8C/%EC%A0%9C%EB%A1%9C-%EB%B2%A0%EC%9D%B4%EC%8A%A4---%EB%8D%B0%EC%9D%B4%ED%84%B0-%EC%82%AC%EC%9D%B4%EC%96%B8%EC%8A%A4-%EC%8A%A4%EC%BF%A8---%EA%B0%95%EC%9D%98%EC%9E%90%EB%A3%8C---part-11---15--230120-/Part%2011.%20%ED%85%90%EC%84%9C%ED%94%8C%EB%A1%9C%20%26%20Part%2012.%20%ED%8C%8C%EC%9D%B4%ED%86%A0%EC%B9%98/deeplearning_frameworks_zerobaseDSS/part1.TensorFlow/%EC%8B%A4%EC%8A%B5%EC%9A%A9/01_Constants.ipynb#X34sZmlsZQ%3D%3D?line=0'>1</a>\u001b[0m \u001b[39m# 3번 케이스\u001b[39;00m\n\u001b[1;32m----> <a href='vscode-notebook-cell:/c%3A/Users/nabi4/OneDrive/%EB%B0%94%ED%83%95%20%ED%99%94%EB%A9%B4/%EC%A0%9C%EB%A1%9C%EB%B2%A0%EC%9D%B4%EC%8A%A4%EC%8A%A4%EC%BF%A8%20%EA%B0%95%EC%9D%98%EC%9E%90%EB%A3%8C/%EC%A0%9C%EB%A1%9C-%EB%B2%A0%EC%9D%B4%EC%8A%A4---%EB%8D%B0%EC%9D%B4%ED%84%B0-%EC%82%AC%EC%9D%B4%EC%96%B8%EC%8A%A4-%EC%8A%A4%EC%BF%A8---%EA%B0%95%EC%9D%98%EC%9E%90%EB%A3%8C---part-11---15--230120-/Part%2011.%20%ED%85%90%EC%84%9C%ED%94%8C%EB%A1%9C%20%26%20Part%2012.%20%ED%8C%8C%EC%9D%B4%ED%86%A0%EC%B9%98/deeplearning_frameworks_zerobaseDSS/part1.TensorFlow/%EC%8B%A4%EC%8A%B5%EC%9A%A9/01_Constants.ipynb#X34sZmlsZQ%3D%3D?line=1'>2</a>\u001b[0m arr_ten \u001b[39m*\u001b[39;49m li_ten\n",
      "File \u001b[1;32mc:\\Users\\nabi4\\anaconda3\\envs\\ds_study\\lib\\site-packages\\tensorflow\\python\\util\\traceback_utils.py:153\u001b[0m, in \u001b[0;36mfilter_traceback.<locals>.error_handler\u001b[1;34m(*args, **kwargs)\u001b[0m\n\u001b[0;32m    151\u001b[0m \u001b[39mexcept\u001b[39;00m \u001b[39mException\u001b[39;00m \u001b[39mas\u001b[39;00m e:\n\u001b[0;32m    152\u001b[0m   filtered_tb \u001b[39m=\u001b[39m _process_traceback_frames(e\u001b[39m.\u001b[39m__traceback__)\n\u001b[1;32m--> 153\u001b[0m   \u001b[39mraise\u001b[39;00m e\u001b[39m.\u001b[39mwith_traceback(filtered_tb) \u001b[39mfrom\u001b[39;00m \u001b[39mNone\u001b[39;00m\n\u001b[0;32m    154\u001b[0m \u001b[39mfinally\u001b[39;00m:\n\u001b[0;32m    155\u001b[0m   \u001b[39mdel\u001b[39;00m filtered_tb\n",
      "File \u001b[1;32mc:\\Users\\nabi4\\anaconda3\\envs\\ds_study\\lib\\site-packages\\tensorflow\\python\\framework\\ops.py:6656\u001b[0m, in \u001b[0;36mraise_from_not_ok_status\u001b[1;34m(e, name)\u001b[0m\n\u001b[0;32m   6654\u001b[0m \u001b[39mdef\u001b[39;00m \u001b[39mraise_from_not_ok_status\u001b[39m(e, name):\n\u001b[0;32m   6655\u001b[0m   e\u001b[39m.\u001b[39mmessage \u001b[39m+\u001b[39m\u001b[39m=\u001b[39m (\u001b[39m\"\u001b[39m\u001b[39m name: \u001b[39m\u001b[39m\"\u001b[39m \u001b[39m+\u001b[39m \u001b[39mstr\u001b[39m(name \u001b[39mif\u001b[39;00m name \u001b[39mis\u001b[39;00m \u001b[39mnot\u001b[39;00m \u001b[39mNone\u001b[39;00m \u001b[39melse\u001b[39;00m \u001b[39m\"\u001b[39m\u001b[39m\"\u001b[39m))\n\u001b[1;32m-> 6656\u001b[0m   \u001b[39mraise\u001b[39;00m core\u001b[39m.\u001b[39m_status_to_exception(e) \u001b[39mfrom\u001b[39;00m \u001b[39mNone\u001b[39;00m\n",
      "\u001b[1;31mInvalidArgumentError\u001b[0m: cannot compute Mul as input #1(zero-based) was expected to be a double tensor but is a int32 tensor [Op:Mul] name: "
     ]
    }
   ],
   "source": [
    "# 3번 케이스\n",
    "arr_ten * li_ten\n",
    "# dtype이 다르면 연산 불가"
   ]
  },
  {
   "cell_type": "code",
   "execution_count": null,
   "id": "4d22fcab",
   "metadata": {},
   "outputs": [],
   "source": []
  },
  {
   "cell_type": "markdown",
   "id": "c3babfd8",
   "metadata": {},
   "source": [
    "### 데이터 타입 컨트롤하는 방법\n",
    "  - `tf.cast`"
   ]
  },
  {
   "cell_type": "code",
   "execution_count": 21,
   "id": "0c2cf3cb",
   "metadata": {},
   "outputs": [
    {
     "data": {
      "text/plain": [
       "<tf.Tensor: shape=(3,), dtype=float32, numpy=array([1., 2., 3.], dtype=float32)>"
      ]
     },
     "execution_count": 21,
     "metadata": {},
     "output_type": "execute_result"
    }
   ],
   "source": [
    "# 미리 지정해주거나\n",
    "tensor = tf.constant([1, 2, 3], dtype=tf.float32)\n",
    "tensor"
   ]
  },
  {
   "cell_type": "code",
   "execution_count": 22,
   "id": "b4982741",
   "metadata": {},
   "outputs": [
    {
     "data": {
      "text/plain": [
       "<tf.Tensor: shape=(3,), dtype=int16, numpy=array([1, 2, 3], dtype=int16)>"
      ]
     },
     "execution_count": 22,
     "metadata": {},
     "output_type": "execute_result"
    }
   ],
   "source": [
    "# tf.cast를 사용. 다만, 많은 경우 미리 데이터타입을 정리해둘 수 있다.\n",
    "tf.cast(tensor, dtype=tf.int16)"
   ]
  },
  {
   "cell_type": "code",
   "execution_count": null,
   "id": "792ad7c9",
   "metadata": {},
   "outputs": [],
   "source": []
  },
  {
   "cell_type": "markdown",
   "id": "63b5855f",
   "metadata": {},
   "source": [
    "#### 간단 퀴즈 \n",
    "\n",
    "아래 코드를 에러 없이 실행 하시오. "
   ]
  },
  {
   "cell_type": "code",
   "execution_count": 23,
   "id": "0145cabe",
   "metadata": {},
   "outputs": [
    {
     "data": {
      "text/plain": [
       "(<tf.Tensor: shape=(3,), dtype=float64, numpy=array([1., 2., 3.])>,\n",
       " <tf.Tensor: shape=(3,), dtype=int32, numpy=array([1, 2, 3])>)"
      ]
     },
     "execution_count": 23,
     "metadata": {},
     "output_type": "execute_result"
    }
   ],
   "source": [
    "arr_ten, li_ten"
   ]
  },
  {
   "cell_type": "code",
   "execution_count": 21,
   "id": "41ee6662",
   "metadata": {},
   "outputs": [
    {
     "ename": "InvalidArgumentError",
     "evalue": "cannot compute Mul as input #1(zero-based) was expected to be a double tensor but is a int32 tensor [Op:Mul]",
     "output_type": "error",
     "traceback": [
      "\u001b[0;31m---------------------------------------------------------------------------\u001b[0m",
      "\u001b[0;31mInvalidArgumentError\u001b[0m                      Traceback (most recent call last)",
      "\u001b[0;32m/var/folders/jw/90llkwyx0s15yv61kvs2dqk00000gn/T/ipykernel_81782/791220602.py\u001b[0m in \u001b[0;36m<module>\u001b[0;34m\u001b[0m\n\u001b[0;32m----> 1\u001b[0;31m \u001b[0marr_ten\u001b[0m \u001b[0;34m*\u001b[0m \u001b[0mli_ten\u001b[0m\u001b[0;34m\u001b[0m\u001b[0;34m\u001b[0m\u001b[0m\n\u001b[0m",
      "\u001b[0;32m/usr/local/lib/python3.9/site-packages/tensorflow/python/util/traceback_utils.py\u001b[0m in \u001b[0;36merror_handler\u001b[0;34m(*args, **kwargs)\u001b[0m\n\u001b[1;32m    151\u001b[0m     \u001b[0;32mexcept\u001b[0m \u001b[0mException\u001b[0m \u001b[0;32mas\u001b[0m \u001b[0me\u001b[0m\u001b[0;34m:\u001b[0m\u001b[0;34m\u001b[0m\u001b[0;34m\u001b[0m\u001b[0m\n\u001b[1;32m    152\u001b[0m       \u001b[0mfiltered_tb\u001b[0m \u001b[0;34m=\u001b[0m \u001b[0m_process_traceback_frames\u001b[0m\u001b[0;34m(\u001b[0m\u001b[0me\u001b[0m\u001b[0;34m.\u001b[0m\u001b[0m__traceback__\u001b[0m\u001b[0;34m)\u001b[0m\u001b[0;34m\u001b[0m\u001b[0;34m\u001b[0m\u001b[0m\n\u001b[0;32m--> 153\u001b[0;31m       \u001b[0;32mraise\u001b[0m \u001b[0me\u001b[0m\u001b[0;34m.\u001b[0m\u001b[0mwith_traceback\u001b[0m\u001b[0;34m(\u001b[0m\u001b[0mfiltered_tb\u001b[0m\u001b[0;34m)\u001b[0m \u001b[0;32mfrom\u001b[0m \u001b[0;32mNone\u001b[0m\u001b[0;34m\u001b[0m\u001b[0;34m\u001b[0m\u001b[0m\n\u001b[0m\u001b[1;32m    154\u001b[0m     \u001b[0;32mfinally\u001b[0m\u001b[0;34m:\u001b[0m\u001b[0;34m\u001b[0m\u001b[0;34m\u001b[0m\u001b[0m\n\u001b[1;32m    155\u001b[0m       \u001b[0;32mdel\u001b[0m \u001b[0mfiltered_tb\u001b[0m\u001b[0;34m\u001b[0m\u001b[0;34m\u001b[0m\u001b[0m\n",
      "\u001b[0;32m/usr/local/lib/python3.9/site-packages/tensorflow/python/framework/ops.py\u001b[0m in \u001b[0;36mraise_from_not_ok_status\u001b[0;34m(e, name)\u001b[0m\n\u001b[1;32m   7105\u001b[0m \u001b[0;32mdef\u001b[0m \u001b[0mraise_from_not_ok_status\u001b[0m\u001b[0;34m(\u001b[0m\u001b[0me\u001b[0m\u001b[0;34m,\u001b[0m \u001b[0mname\u001b[0m\u001b[0;34m)\u001b[0m\u001b[0;34m:\u001b[0m\u001b[0;34m\u001b[0m\u001b[0;34m\u001b[0m\u001b[0m\n\u001b[1;32m   7106\u001b[0m   \u001b[0me\u001b[0m\u001b[0;34m.\u001b[0m\u001b[0mmessage\u001b[0m \u001b[0;34m+=\u001b[0m \u001b[0;34m(\u001b[0m\u001b[0;34m\" name: \"\u001b[0m \u001b[0;34m+\u001b[0m \u001b[0mname\u001b[0m \u001b[0;32mif\u001b[0m \u001b[0mname\u001b[0m \u001b[0;32mis\u001b[0m \u001b[0;32mnot\u001b[0m \u001b[0;32mNone\u001b[0m \u001b[0;32melse\u001b[0m \u001b[0;34m\"\"\u001b[0m\u001b[0;34m)\u001b[0m\u001b[0;34m\u001b[0m\u001b[0;34m\u001b[0m\u001b[0m\n\u001b[0;32m-> 7107\u001b[0;31m   \u001b[0;32mraise\u001b[0m \u001b[0mcore\u001b[0m\u001b[0;34m.\u001b[0m\u001b[0m_status_to_exception\u001b[0m\u001b[0;34m(\u001b[0m\u001b[0me\u001b[0m\u001b[0;34m)\u001b[0m \u001b[0;32mfrom\u001b[0m \u001b[0;32mNone\u001b[0m  \u001b[0;31m# pylint: disable=protected-access\u001b[0m\u001b[0;34m\u001b[0m\u001b[0;34m\u001b[0m\u001b[0m\n\u001b[0m\u001b[1;32m   7108\u001b[0m \u001b[0;34m\u001b[0m\u001b[0m\n\u001b[1;32m   7109\u001b[0m \u001b[0;34m\u001b[0m\u001b[0m\n",
      "\u001b[0;31mInvalidArgumentError\u001b[0m: cannot compute Mul as input #1(zero-based) was expected to be a double tensor but is a int32 tensor [Op:Mul]"
     ]
    }
   ],
   "source": [
    "arr_ten * li_ten"
   ]
  },
  {
   "cell_type": "markdown",
   "id": "6ceece97",
   "metadata": {},
   "source": [
    "------"
   ]
  },
  {
   "cell_type": "code",
   "execution_count": 25,
   "id": "c103c075",
   "metadata": {},
   "outputs": [
    {
     "data": {
      "text/plain": [
       "<tf.Tensor: shape=(3,), dtype=int32, numpy=array([1, 4, 9])>"
      ]
     },
     "execution_count": 25,
     "metadata": {},
     "output_type": "execute_result"
    }
   ],
   "source": [
    "tf.cast(arr_ten, dtype=tf.int32) * li_ten"
   ]
  },
  {
   "cell_type": "code",
   "execution_count": 26,
   "id": "1f55bdd6",
   "metadata": {},
   "outputs": [
    {
     "data": {
      "text/plain": [
       "<tf.Tensor: shape=(3,), dtype=float64, numpy=array([1., 4., 9.])>"
      ]
     },
     "execution_count": 26,
     "metadata": {},
     "output_type": "execute_result"
    }
   ],
   "source": [
    "arr_ten * tf.cast(li_ten, dtype=tf.float64) "
   ]
  },
  {
   "cell_type": "code",
   "execution_count": null,
   "id": "2afbeff7",
   "metadata": {},
   "outputs": [],
   "source": []
  },
  {
   "cell_type": "markdown",
   "id": "ba8e4a02",
   "metadata": {},
   "source": [
    "### 특정 값의 Tensor 생성\n",
    "\n",
    " - `tf.ones`\n",
    " - `tf.zeros`\n",
    " - `tf.range`\n"
   ]
  },
  {
   "cell_type": "code",
   "execution_count": 27,
   "id": "32b491d4",
   "metadata": {},
   "outputs": [
    {
     "data": {
      "text/plain": [
       "<tf.Tensor: shape=(1,), dtype=float32, numpy=array([1.], dtype=float32)>"
      ]
     },
     "execution_count": 27,
     "metadata": {},
     "output_type": "execute_result"
    }
   ],
   "source": [
    "tf.ones(1)"
   ]
  },
  {
   "cell_type": "code",
   "execution_count": 28,
   "id": "eb35e22a",
   "metadata": {},
   "outputs": [
    {
     "data": {
      "text/plain": [
       "<tf.Tensor: shape=(2, 5), dtype=int32, numpy=\n",
       "array([[0, 0, 0, 0, 0],\n",
       "       [0, 0, 0, 0, 0]])>"
      ]
     },
     "execution_count": 28,
     "metadata": {},
     "output_type": "execute_result"
    }
   ],
   "source": [
    "tf.zeros((2, 5), dtype=\"int32\")"
   ]
  },
  {
   "cell_type": "code",
   "execution_count": 29,
   "id": "e9fe0255",
   "metadata": {},
   "outputs": [
    {
     "data": {
      "text/plain": [
       "<tf.Tensor: shape=(10,), dtype=int32, numpy=array([0, 1, 2, 3, 4, 5, 6, 7, 8, 9])>"
      ]
     },
     "execution_count": 29,
     "metadata": {},
     "output_type": "execute_result"
    }
   ],
   "source": [
    "tf.range(10)"
   ]
  },
  {
   "cell_type": "code",
   "execution_count": 30,
   "id": "12b880bc",
   "metadata": {},
   "outputs": [
    {
     "data": {
      "text/plain": [
       "<tf.Tensor: shape=(10,), dtype=int32, numpy=array([ 1,  2,  3,  4,  5,  6,  7,  8,  9, 10])>"
      ]
     },
     "execution_count": 30,
     "metadata": {},
     "output_type": "execute_result"
    }
   ],
   "source": [
    "tf.range(1, 11)"
   ]
  },
  {
   "cell_type": "code",
   "execution_count": null,
   "id": "b4b6113b",
   "metadata": {},
   "outputs": [],
   "source": []
  },
  {
   "cell_type": "markdown",
   "id": "76d8fcc5",
   "metadata": {},
   "source": [
    "####  간단 퀴즈"
   ]
  },
  {
   "cell_type": "markdown",
   "id": "58619add",
   "metadata": {},
   "source": [
    "**n 을 입력하면 첫항이 1이고 공비가 2인 등비수열을 생성하는 함수를 만드시오** \n",
    "(이 때 결과값은 tf.Tensor 데이터이고, 데이터 타입은 tf.int32)\n",
    "\n",
    "$$\n",
    "n = 10 \\ 일 때 \\\\ \\\\\n",
    "(1, 2, 4, 8, 16, 32, 64, 128, 256, 512)\n",
    "$$"
   ]
  },
  {
   "cell_type": "code",
   "execution_count": 35,
   "id": "a7da07a0",
   "metadata": {},
   "outputs": [],
   "source": [
    "def geometric_sequence(n):\n",
    "    r = tf.range(n, dtype = 'int32')\n",
    "    s = tf.ones(n, dtype = tf.int32) * 2\n",
    "    return s ** r"
   ]
  },
  {
   "cell_type": "code",
   "execution_count": 36,
   "id": "b708c70b",
   "metadata": {},
   "outputs": [
    {
     "name": "stdout",
     "output_type": "stream",
     "text": [
      "tf.Tensor([  1   2   4   8  16  32  64 128 256 512], shape=(10,), dtype=int32)\n"
     ]
    }
   ],
   "source": [
    "print(geometric_sequence(10))"
   ]
  },
  {
   "cell_type": "markdown",
   "id": "aabbc751",
   "metadata": {},
   "source": [
    "-----"
   ]
  },
  {
   "cell_type": "code",
   "execution_count": null,
   "id": "3653246b",
   "metadata": {},
   "outputs": [],
   "source": []
  },
  {
   "cell_type": "code",
   "execution_count": null,
   "id": "7c512a01",
   "metadata": {},
   "outputs": [],
   "source": []
  },
  {
   "cell_type": "markdown",
   "id": "f7d17ca6",
   "metadata": {},
   "source": [
    "<h4> Random Value(난수)</h4>"
   ]
  },
  {
   "cell_type": "markdown",
   "id": "b6b32a12",
   "metadata": {},
   "source": [
    "- 무작위 값을 생성할 때 필요. \n",
    "- Noise를 재현 한다거나, test를 한다거나 할 때 많이 사용됨 \n",
    "- 데이터 타입은 상수형태로 반환됨\n",
    "\n",
    "**`tf.random`** 에 구현 되어 있음. \n",
    "\n",
    "  - `tf.random.normal`\n",
    "      - Gaussian Normal Distribution\n",
    "      \n",
    "  - `tf.random.uniform`\n",
    "      - Uniform Distribution\n",
    "      \n",
    "> 이렇게나 많습니다! [LINK](https://www.tensorflow.org/api_docs/python/tf/random)"
   ]
  },
  {
   "cell_type": "code",
   "execution_count": 37,
   "id": "994abe4d",
   "metadata": {},
   "outputs": [],
   "source": [
    "shape = (3, 3)"
   ]
  },
  {
   "cell_type": "code",
   "execution_count": 38,
   "id": "566a27b7",
   "metadata": {},
   "outputs": [
    {
     "data": {
      "text/plain": [
       "<tf.Tensor: shape=(3, 3), dtype=float32, numpy=\n",
       "array([[ 0.40852472,  1.7240304 , -0.97972363],\n",
       "       [ 0.22779289,  0.03457008, -1.0823519 ],\n",
       "       [ 0.36655924, -2.6770525 , -0.2133269 ]], dtype=float32)>"
      ]
     },
     "execution_count": 38,
     "metadata": {},
     "output_type": "execute_result"
    }
   ],
   "source": [
    "tf.random.normal(shape)"
   ]
  },
  {
   "cell_type": "markdown",
   "id": "2eaa38cb",
   "metadata": {},
   "source": [
    "- tf.random.uniform\n",
    "    - TensorFlow에서 Uniform Distribution"
   ]
  },
  {
   "cell_type": "code",
   "execution_count": 62,
   "id": "88f7a8d8",
   "metadata": {},
   "outputs": [
    {
     "data": {
      "text/plain": [
       "<tf.Tensor: shape=(3, 3), dtype=float32, numpy=\n",
       "array([[0.4063989 , 0.16350043, 0.49475944],\n",
       "       [0.41444743, 0.7097274 , 0.43024313],\n",
       "       [0.8637649 , 0.6725483 , 0.09786201]], dtype=float32)>"
      ]
     },
     "execution_count": 62,
     "metadata": {},
     "output_type": "execute_result"
    }
   ],
   "source": [
    "tf.random.uniform(shape)"
   ]
  },
  {
   "cell_type": "code",
   "execution_count": null,
   "id": "c143198c",
   "metadata": {},
   "outputs": [],
   "source": []
  },
  {
   "cell_type": "markdown",
   "id": "d6a68fcc",
   "metadata": {},
   "source": [
    "* **Random seed 관리 하기!!!**\n",
    "\n",
    "   - Random value로 보통 가중치를 초기화 \n",
    "   - 이외에도 학습과정에서 Random value가 많이 사용됨. \n",
    "   - 이를 관리 안해주면, 자신이 했던 작업이 동일하게 복구 또는 재현이 안됨!!! \n",
    " \n",
    " \n",
    "- **`tf.random.set_seed({seed_number})`**\n",
    "\n",
    " \n",
    "**=> 항상 Random seed를 고정해두고 개발 한다!!!** \n",
    "   \n",
    "   (주의 할 점은 해당 개발물에 사용되는 난수가 모두 TensorFlow에서 생성된것이 아닐 수 있다는 것이다.) "
   ]
  },
  {
   "cell_type": "code",
   "execution_count": 39,
   "id": "6e0b3f17",
   "metadata": {},
   "outputs": [],
   "source": [
    "seed = 7777 # 아무 숫자나 설정"
   ]
  },
  {
   "cell_type": "code",
   "execution_count": 40,
   "id": "e2924cb0",
   "metadata": {},
   "outputs": [
    {
     "name": "stdout",
     "output_type": "stream",
     "text": [
      "tf.Tensor([0.959749], shape=(1,), dtype=float32)\n",
      "tf.Tensor([0.8677443], shape=(1,), dtype=float32)\n"
     ]
    }
   ],
   "source": [
    "tf.random.set_seed(seed)\n",
    "a = tf.random.uniform([1])\n",
    "b = tf.random.uniform([1])\n",
    "print(a, b, sep=\"\\n\")"
   ]
  },
  {
   "cell_type": "code",
   "execution_count": 41,
   "id": "11d41a95",
   "metadata": {},
   "outputs": [
    {
     "name": "stdout",
     "output_type": "stream",
     "text": [
      "tf.Tensor([0.22878075], shape=(1,), dtype=float32)\n",
      "tf.Tensor([0.87772965], shape=(1,), dtype=float32)\n"
     ]
    }
   ],
   "source": [
    "a = tf.random.uniform([1])\n",
    "b = tf.random.uniform([1])\n",
    "print(a, b, sep=\"\\n\")"
   ]
  },
  {
   "cell_type": "code",
   "execution_count": 42,
   "id": "225f8ea2",
   "metadata": {},
   "outputs": [
    {
     "name": "stdout",
     "output_type": "stream",
     "text": [
      "tf.Tensor([0.959749], shape=(1,), dtype=float32)\n",
      "tf.Tensor([0.8677443], shape=(1,), dtype=float32)\n"
     ]
    }
   ],
   "source": [
    "tf.random.set_seed(seed)\n",
    "a = tf.random.uniform([1])\n",
    "b = tf.random.uniform([1])\n",
    "print(a, b, sep=\"\\n\")"
   ]
  },
  {
   "cell_type": "code",
   "execution_count": null,
   "id": "1ab4666c",
   "metadata": {},
   "outputs": [],
   "source": []
  },
  {
   "cell_type": "code",
   "execution_count": null,
   "id": "e51c2a70",
   "metadata": {},
   "outputs": [],
   "source": []
  }
 ],
 "metadata": {
  "kernelspec": {
   "display_name": "Python 3 (ipykernel)",
   "language": "python",
   "name": "python3"
  },
  "language_info": {
   "codemirror_mode": {
    "name": "ipython",
    "version": 3
   },
   "file_extension": ".py",
   "mimetype": "text/x-python",
   "name": "python",
   "nbconvert_exporter": "python",
   "pygments_lexer": "ipython3",
   "version": "3.8.17"
  },
  "toc": {
   "base_numbering": 1,
   "nav_menu": {},
   "number_sections": true,
   "sideBar": true,
   "skip_h1_title": false,
   "title_cell": "Table of Contents",
   "title_sidebar": "Contents",
   "toc_cell": false,
   "toc_position": {
    "height": "calc(100% - 180px)",
    "left": "10px",
    "top": "150px",
    "width": "165px"
   },
   "toc_section_display": true,
   "toc_window_display": false
  },
  "varInspector": {
   "cols": {
    "lenName": 16,
    "lenType": 16,
    "lenVar": 40
   },
   "kernels_config": {
    "python": {
     "delete_cmd_postfix": "",
     "delete_cmd_prefix": "del ",
     "library": "var_list.py",
     "varRefreshCmd": "print(var_dic_list())"
    },
    "r": {
     "delete_cmd_postfix": ") ",
     "delete_cmd_prefix": "rm(",
     "library": "var_list.r",
     "varRefreshCmd": "cat(var_dic_list()) "
    }
   },
   "types_to_exclude": [
    "module",
    "function",
    "builtin_function_or_method",
    "instance",
    "_Feature"
   ],
   "window_display": false
  }
 },
 "nbformat": 4,
 "nbformat_minor": 5
}
