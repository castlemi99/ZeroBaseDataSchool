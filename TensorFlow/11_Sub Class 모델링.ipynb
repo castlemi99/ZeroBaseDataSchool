{
 "cells": [
  {
   "cell_type": "markdown",
   "id": "66f8aa76",
   "metadata": {},
   "source": [
    "# Sub Class 모델링"
   ]
  },
  {
   "cell_type": "markdown",
   "id": "c001ac1f",
   "metadata": {},
   "source": [
    "모델 이란 것은 Input을 Output으로 만들어주는 수식이다. \n",
    "\n",
    "해당 기능을 수행하는 두 가지 클래스가 `tf.keras.layers.Layer` 와 `tf.keras.layers.Model` 클래스이다. \n",
    "\n",
    "두가지 모두 **연산을 추상화** 하는 것으로 동일한 역할을 하지만, `tf.keras.layers.Model` 클래스의 경우 모델을 저장 하는 기능 과 `fit` 함수를 사용할 수 있다는 점에서 차이가 있다. \n",
    "\n",
    "- tf.keras.layers.Layer\n",
    "- tf.keras.layers.Model"
   ]
  },
  {
   "cell_type": "code",
   "execution_count": 1,
   "id": "88ee619a",
   "metadata": {},
   "outputs": [],
   "source": [
    "import numpy as np\n",
    "import pandas as pd\n",
    "import tensorflow as tf\n",
    "\n",
    "import matplotlib.pyplot as plt\n",
    "import seaborn as sns\n",
    "%matplotlib inline"
   ]
  },
  {
   "cell_type": "code",
   "execution_count": 2,
   "id": "7253a144",
   "metadata": {},
   "outputs": [],
   "source": [
    "np.random.seed(7777)\n",
    "tf.random.set_seed(7777)"
   ]
  },
  {
   "cell_type": "markdown",
   "id": "33799c3c",
   "metadata": {},
   "source": [
    "### Linear Regression을 Layer로 만들어 보자. "
   ]
  },
  {
   "cell_type": "code",
   "execution_count": 3,
   "id": "f5eddbc8",
   "metadata": {},
   "outputs": [],
   "source": [
    "class LinearRegression(tf.keras.layers.Layer):\n",
    "    def __init__(self, units):\n",
    "        super(LinearRegression, self).__init__()\n",
    "        self.units = units # output 개수\n",
    "\n",
    "    def build(self, input_shape): # 변수를 받는 오버라이딩 \n",
    "        self.w = self.add_weight(\n",
    "            shape=(input_shape[-1], self.units),\n",
    "            initializer=\"random_normal\", # 어느 분포에서 random하게 추출할 것인지 설정\n",
    "            trainable=True,\n",
    "        )\n",
    "        self.b = tf.Variable(0.0) # 위와 같이 만들어도 되고 이 문장과 같이 만들어도 됨\n",
    "\n",
    "    def call(self, inputs): # 출력을 해줄 값을 지정하는 오버라이딩\n",
    "        return tf.matmul(inputs, self.w) + self.b"
   ]
  },
  {
   "cell_type": "code",
   "execution_count": null,
   "id": "3d057fb6",
   "metadata": {},
   "outputs": [],
   "source": []
  },
  {
   "cell_type": "code",
   "execution_count": null,
   "id": "662d8aab",
   "metadata": {},
   "outputs": [],
   "source": []
  },
  {
   "cell_type": "markdown",
   "id": "d6677a83",
   "metadata": {},
   "source": [
    "### 가상 데이터"
   ]
  },
  {
   "cell_type": "code",
   "execution_count": 4,
   "id": "ffdbc23b",
   "metadata": {},
   "outputs": [],
   "source": [
    "# 정답\n",
    "W_true = np.array([[3., 2., 4., 1.]]).reshape((4, 1))\n",
    "B_true = np.array([1.]) \n",
    "\n",
    "X = tf.random.normal((500, 4))\n",
    "noise = tf.random.normal((500, 1))\n",
    "\n",
    "y = X @ W_true + B_true + noise"
   ]
  },
  {
   "cell_type": "code",
   "execution_count": 5,
   "id": "f8ef1686",
   "metadata": {},
   "outputs": [
    {
     "name": "stdout",
     "output_type": "stream",
     "text": [
      "epoch : 0 loss : 33.26325607299805\n",
      "epoch : 10 loss : 9.79842758178711\n",
      "epoch : 20 loss : 3.352088451385498\n",
      "epoch : 30 loss : 1.5760014057159424\n",
      "epoch : 40 loss : 1.0850523710250854\n",
      "epoch : 50 loss : 0.9488410353660583\n",
      "epoch : 60 loss : 0.9108928442001343\n",
      "epoch : 70 loss : 0.9002712368965149\n",
      "epoch : 80 loss : 0.8972828984260559\n",
      "epoch : 90 loss : 0.8964372277259827\n"
     ]
    }
   ],
   "source": [
    "opt = tf.keras.optimizers.SGD(learning_rate=0.03)\n",
    "\n",
    "\n",
    "linear_layer = LinearRegression(1)\n",
    "\n",
    "for epoch in range(100):\n",
    "    with tf.GradientTape() as tape:\n",
    "        y_hat = linear_layer(X)\n",
    "        loss = tf.reduce_mean(tf.square((y - y_hat)))\n",
    "        \n",
    "    grads = tape.gradient(loss, linear_layer.trainable_weights)\n",
    "    # assign 대신 업데이트하는 방식\n",
    "    opt.apply_gradients(zip(grads, linear_layer.trainable_weights))\n",
    "    \n",
    "    if epoch % 10 == 0:\n",
    "        print(\"epoch : {} loss : {}\".format(epoch, loss.numpy()))"
   ]
  },
  {
   "cell_type": "code",
   "execution_count": 6,
   "id": "97237565",
   "metadata": {},
   "outputs": [
    {
     "data": {
      "text/plain": [
       "<tf.Tensor: shape=(1, 1), dtype=float32, numpy=array([[1.7254715]], dtype=float32)>"
      ]
     },
     "execution_count": 6,
     "metadata": {},
     "output_type": "execute_result"
    }
   ],
   "source": [
    "linear_layer(X[:1])"
   ]
  },
  {
   "cell_type": "markdown",
   "id": "51f8ef2b",
   "metadata": {},
   "source": [
    "### ResNet - Sub Class 로 구현 하기 \n",
    "\n",
    "1. Residual Block(반복되는 코드) - Layer\n",
    "2. ResNet  - Model"
   ]
  },
  {
   "cell_type": "code",
   "execution_count": 7,
   "id": "a1bb7c07",
   "metadata": {},
   "outputs": [],
   "source": [
    "from tensorflow.keras.layers import Input, Conv2D, MaxPool2D, Flatten, Dense, Add"
   ]
  },
  {
   "cell_type": "code",
   "execution_count": 8,
   "id": "30686ffe",
   "metadata": {},
   "outputs": [],
   "source": [
    "class ResidualBlock(tf.keras.layers.Layer):\n",
    "    def __init__(self, filters=32, filter_match=False):\n",
    "        super(ResidualBlock, self).__init__()\n",
    "    \n",
    "        # 필요한 레이어들 받아오기\n",
    "        self.conv1 = Conv2D(filters, kernel_size=1, padding='same', activation='relu')\n",
    "        self.conv2 = Conv2D(filters, kernel_size=3, padding='same', activation='relu')\n",
    "        self.conv3 = Conv2D(filters, kernel_size=1, padding='same', activation='relu')\n",
    "        self.add = Add()\n",
    "        \n",
    "        self.filters = filters\n",
    "        self.filter_match = filter_match\n",
    "\n",
    "        # 첫번째 step에서 filter 개수가 맞지 않아\n",
    "        # 한 번 Conv2D를 다시 64로 생성하여 input과 output을 add해준 적이 있다.\n",
    "        # 그 부분을 조건문으로 처리하면 아래와 같다.\n",
    "        if filter_match:\n",
    "            self.conv_ext = Conv2D(filters, kernel_size=1, padding='same')\n",
    "        \n",
    "    def call(self, inputs):\n",
    "        net1 = self.conv1(inputs)\n",
    "        net2 = self.conv2(net1)\n",
    "        net3 = self.conv3(net2)\n",
    "        \n",
    "        if self.filter_match:\n",
    "            res = self.add([self.conv_ext(inputs), net3])\n",
    "        else: \n",
    "            res = self.add([inputs, net3])\n",
    "        return res \n",
    "        \n",
    "        "
   ]
  },
  {
   "cell_type": "code",
   "execution_count": 9,
   "id": "f51ae7c7",
   "metadata": {},
   "outputs": [],
   "source": [
    "class ResNet(tf.keras.Model):\n",
    "\n",
    "    def __init__(self, num_classes):\n",
    "        super(ResNet, self).__init__()\n",
    "        \n",
    "        self.conv1 = Conv2D(32, kernel_size=3, strides=2, padding='same', activation='relu')\n",
    "        self.maxp1 =  MaxPool2D()\n",
    "        self.block_1 = ResidualBlock(64, True)\n",
    "        self.block_2 = ResidualBlock(64)\n",
    "        self.maxp2 =  MaxPool2D()\n",
    "        self.flat = Flatten()\n",
    "        self.dense = Dense(num_classes)\n",
    "\n",
    "    def call(self, inputs):\n",
    "        x = self.conv1(inputs)\n",
    "        x = self.maxp1(x)\n",
    "        x = self.block_1(x)\n",
    "        x = self.block_2(x)\n",
    "        x = self.maxp2(x)\n",
    "        x = self.flat(x)\n",
    "        return self.dense(x)\n",
    "\n",
    "model = ResNet(num_classes=10)"
   ]
  },
  {
   "cell_type": "code",
   "execution_count": null,
   "id": "38877d4c",
   "metadata": {},
   "outputs": [],
   "source": []
  },
  {
   "cell_type": "code",
   "execution_count": null,
   "id": "df46d6d5",
   "metadata": {},
   "outputs": [],
   "source": []
  },
  {
   "cell_type": "code",
   "execution_count": null,
   "id": "49ae5b65",
   "metadata": {},
   "outputs": [],
   "source": []
  },
  {
   "cell_type": "code",
   "execution_count": null,
   "id": "810eac35",
   "metadata": {},
   "outputs": [],
   "source": []
  },
  {
   "cell_type": "code",
   "execution_count": null,
   "id": "45c2bccf",
   "metadata": {},
   "outputs": [],
   "source": []
  },
  {
   "cell_type": "markdown",
   "id": "f843d6f2",
   "metadata": {},
   "source": [
    "### 학습 시켜보기"
   ]
  },
  {
   "cell_type": "code",
   "execution_count": 10,
   "id": "a1125f62",
   "metadata": {},
   "outputs": [],
   "source": [
    "class Cifar10DataLoader():\n",
    "    def __init__(self):\n",
    "        # data load\n",
    "        (self.train_x, self.train_y), \\\n",
    "            (self.test_x, self.test_y) = tf.keras.datasets.cifar10.load_data()\n",
    "        self.input_shape = self.train_x.shape[1:]\n",
    "\n",
    "    def scale(self, x):\n",
    "\n",
    "        return (x / 255.0).astype(np.float32)\n",
    "\n",
    "    def preprocess_dataset(self, dataset):\n",
    "\n",
    "        (feature, target) = dataset\n",
    "\n",
    "        # scaling #\n",
    "        scaled_x = np.array([self.scale(x) for x in feature])\n",
    "\n",
    "        # label encoding #\n",
    "        ohe_y = np.array([tf.keras.utils.to_categorical(\n",
    "            y, num_classes=10) for y in target])\n",
    "        \n",
    "        return scaled_x, ohe_y.squeeze(1)\n",
    "\n",
    "    def get_train_dataset(self):\n",
    "        return self.preprocess_dataset((self.train_x, self.train_y))\n",
    "\n",
    "    def get_test_dataset(self):\n",
    "        return self.preprocess_dataset((self.test_x, self.test_y))"
   ]
  },
  {
   "cell_type": "code",
   "execution_count": 11,
   "id": "0fbdd270",
   "metadata": {},
   "outputs": [
    {
     "name": "stdout",
     "output_type": "stream",
     "text": [
      "(50000, 32, 32, 3) float32\n",
      "(50000, 10) float32\n",
      "(10000, 32, 32, 3) float32\n",
      "(10000, 10) float32\n"
     ]
    }
   ],
   "source": [
    "cifar10_loader = Cifar10DataLoader()\n",
    "\n",
    "train_x, train_y = cifar10_loader.get_train_dataset()\n",
    "\n",
    "print(train_x.shape, train_x.dtype)\n",
    "print(train_y.shape, train_y.dtype)\n",
    "\n",
    "test_x, test_y = cifar10_loader.get_test_dataset()\n",
    "\n",
    "print(test_x.shape, test_x.dtype)\n",
    "print(test_y.shape, test_y.dtype)"
   ]
  },
  {
   "cell_type": "code",
   "execution_count": 12,
   "id": "fc225181",
   "metadata": {},
   "outputs": [],
   "source": [
    "learning_rate = 0.03\n",
    "opt = tf.keras.optimizers.Adam(learning_rate)\n",
    "loss = tf.keras.losses.categorical_crossentropy\n",
    "\n",
    "model.compile(optimizer=opt, loss=loss, metrics=[\"accuracy\"])"
   ]
  },
  {
   "cell_type": "code",
   "execution_count": 13,
   "id": "ac09e7c0",
   "metadata": {},
   "outputs": [
    {
     "name": "stdout",
     "output_type": "stream",
     "text": [
      "Epoch 1/2\n",
      "391/391 [==============================] - 22s 53ms/step - loss: 2.3131 - accuracy: 0.0617 - val_loss: 2.2512 - val_accuracy: 0.0412\n",
      "Epoch 2/2\n",
      "391/391 [==============================] - 22s 57ms/step - loss: 2.2770 - accuracy: 0.0470 - val_loss: 2.2373 - val_accuracy: 0.0506\n"
     ]
    }
   ],
   "source": [
    "hist = model.fit(train_x, train_y,\n",
    "                 epochs=2, batch_size=128,\n",
    "                 validation_data=(test_x, test_y))"
   ]
  },
  {
   "cell_type": "code",
   "execution_count": 14,
   "id": "c22b8b99",
   "metadata": {},
   "outputs": [
    {
     "data": {
      "image/png": "[encoded data removed]",
      "text/plain": [
       "<Figure size 1000x500 with 4 Axes>"
      ]
     },
     "metadata": {},
     "output_type": "display_data"
    }
   ],
   "source": [
    "plt.figure(figsize=(10, 5))\n",
    "plt.subplot(221)\n",
    "plt.plot(hist.history['loss'])\n",
    "plt.title(\"loss\")\n",
    "plt.subplot(222)\n",
    "plt.plot(hist.history['accuracy'], 'b-')\n",
    "plt.title(\"acc\")\n",
    "plt.subplot(223)\n",
    "plt.plot(hist.history['val_loss'])\n",
    "plt.title(\"val_loss\")\n",
    "plt.subplot(224)\n",
    "plt.plot(hist.history['val_accuracy'], 'b-')\n",
    "plt.title(\"val_accuracy\")\n",
    "\n",
    "plt.tight_layout()\n",
    "plt.show()"
   ]
  },
  {
   "cell_type": "code",
   "execution_count": null,
   "id": "f0e3fd3b",
   "metadata": {},
   "outputs": [],
   "source": []
  }
 ],
 "metadata": {
  "kernelspec": {
   "display_name": "Python 3 (ipykernel)",
   "language": "python",
   "name": "python3"
  },
  "language_info": {
   "codemirror_mode": {
    "name": "ipython",
    "version": 3
   },
   "file_extension": ".py",
   "mimetype": "text/x-python",
   "name": "python",
   "nbconvert_exporter": "python",
   "pygments_lexer": "ipython3",
   "version": "3.8.17"
  },
  "varInspector": {
   "cols": {
    "lenName": 16,
    "lenType": 16,
    "lenVar": 40
   },
   "kernels_config": {
    "python": {
     "delete_cmd_postfix": "",
     "delete_cmd_prefix": "del ",
     "library": "var_list.py",
     "varRefreshCmd": "print(var_dic_list())"
    },
    "r": {
     "delete_cmd_postfix": ") ",
     "delete_cmd_prefix": "rm(",
     "library": "var_list.r",
     "varRefreshCmd": "cat(var_dic_list()) "
    }
   },
   "types_to_exclude": [
    "module",
    "function",
    "builtin_function_or_method",
    "instance",
    "_Feature"
   ],
   "window_display": false
  }
 },
 "nbformat": 4,
 "nbformat_minor": 5
}
