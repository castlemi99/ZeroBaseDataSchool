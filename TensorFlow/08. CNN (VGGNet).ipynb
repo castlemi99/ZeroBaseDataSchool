{
 "cells": [
  {
   "cell_type": "markdown",
   "id": "8679b3af",
   "metadata": {},
   "source": [
    "# 지금까지 정리\n",
    "\n",
    "\n",
    "딥러닝 프레임워크를 공부할 떄는 먼저, 4가지를 어떻게 하면 되는지를 알아보면 된다!\n",
    "\n",
    "![](../../statics/imgs/4elems_dlFramework.png)"
   ]
  },
  {
   "cell_type": "markdown",
   "id": "becf8dd5",
   "metadata": {},
   "source": [
    "딥러닝 프로젝트를 수행하기 위해서 아래 4 단계를 구현 하면 된다. \n",
    "\n",
    "![](../../statics/imgs/dl_flow.png)"
   ]
  },
  {
   "cell_type": "code",
   "execution_count": null,
   "id": "493baf82",
   "metadata": {},
   "outputs": [],
   "source": []
  },
  {
   "cell_type": "markdown",
   "id": "ec387c46",
   "metadata": {},
   "source": [
    "## 모델을 정의 하는 방법! \n",
    "\n",
    "1. Sequencial 사용하기  (우리가 지금까지 모델을 만들던 방식)\n",
    "2. Functional API model\n",
    "3. Sub class model"
   ]
  },
  {
   "cell_type": "code",
   "execution_count": null,
   "id": "088ffdb4",
   "metadata": {},
   "outputs": [],
   "source": []
  },
  {
   "cell_type": "markdown",
   "id": "f3773714",
   "metadata": {},
   "source": [
    "# Convolutional Neural Network; CNN\n"
   ]
  },
  {
   "cell_type": "code",
   "execution_count": 1,
   "id": "37f7fd0a",
   "metadata": {},
   "outputs": [],
   "source": [
    "import numpy as np\n",
    "import pandas as pd\n",
    "import tensorflow as tf\n",
    "\n",
    "import matplotlib.pyplot as plt\n",
    "import seaborn as sns\n",
    "%matplotlib inline"
   ]
  },
  {
   "cell_type": "code",
   "execution_count": 2,
   "id": "5e771042",
   "metadata": {},
   "outputs": [],
   "source": [
    "np.random.seed(7777)\n",
    "tf.random.set_seed(7777)"
   ]
  },
  {
   "cell_type": "markdown",
   "id": "055c0145",
   "metadata": {},
   "source": [
    "### Convolutional Neural Network\n",
    "\n",
    "![](../../statics/imgs/convnets-feature-maps.png)"
   ]
  },
  {
   "cell_type": "markdown",
   "id": "9ca204d9",
   "metadata": {},
   "source": [
    "### Filter to an image (Convolution layer)\n",
    "\n",
    "\n",
    "![](../../statics/imgs/cnn.png)\n"
   ]
  },
  {
   "cell_type": "code",
   "execution_count": null,
   "id": "527a307b",
   "metadata": {},
   "outputs": [],
   "source": []
  },
  {
   "cell_type": "markdown",
   "id": "9c837910",
   "metadata": {},
   "source": [
    "## 이번 시간에는 VGGNet를 구현 해보겠습니다. "
   ]
  },
  {
   "cell_type": "markdown",
   "id": "42c5b9ae",
   "metadata": {},
   "source": [
    "### VGGNet \n",
    "\n",
    " VGGNet은 2014년 ILSVRC에서 비록 다음에 배울 GoogLeNet에 밀려 2위를 했지만, 훨씬 간단한 구조로 이해와 변형이 쉽다는 장점이 있어 많이 응용된 모델이다."
   ]
  },
  {
   "cell_type": "markdown",
   "id": "5bac95bb",
   "metadata": {},
   "source": [
    "VGGNet의 개발자들은 모델의 깊이가 성능에 얼마나 영향을 끼칠지에 집중하여 연구하였다고 논문에서 밝혔다. 깊은 네트워크를 가지고 있지만, GoogLeNet과 비교하면, 구조가 매우 간단하다. 깊이에 따른 변화를 비교하기 위해, 3x3의 작은 필터 크기를 사용했고, 모델 깊이와 구조에 변화를 주어 실험하였다. 논문에서 언급한 것은 총 6개의 모델로 내용은 다음 표와 같다. 표의 \"D\" 구조를 VGG16, \"E\" 구조를 VGG19라고 부른다. 다음 표에서, \"conv 3, 64\" 는 3x3 컨볼루션(convolution) 연산에 출력 피쳐맵 갯수는 64개라는 뜻이다. "
   ]
  },
  {
   "cell_type": "markdown",
   "id": "5ef80cd8",
   "metadata": {},
   "source": [
    "|  A  |  A-LRN  |   B   |   C   |   D   |   E   |\n",
    "|:--------:|:--------:|:--------:|:--------:|:--------:|:--------:|\n",
    "|11개의 레이어|11개의 레이어|13개의 레이어|16개의 레이어|16개의 레이어|19개의 레이어|\n",
    "|conv 3, 64|conv 3, 64|conv 3, 64|conv 3, 64|conv 3, 64|conv 3, 64| \n",
    "|          |LRN       |conv 3, 64|conv 3, 64|conv 3, 64|conv 3, 64|\n",
    "| maxpool 2| maxpool 2| maxpool 2| maxpool 2| maxpool 2| maxpool 2|\n",
    "|conv 3, 128|conv 3, 128|conv 3, 128|conv 3, 128|conv 3, 128|conv 3, 128|\n",
    "|           |           |conv 3, 128|conv 3, 128|conv 3, 128|conv 3, 128|\n",
    "| maxpool 2| maxpool 2| maxpool 2| maxpool 2| maxpool 2| maxpool 2|\n",
    "|conv 3, 256|conv 3, 256|conv 3, 256|conv 3, 256|conv 3, 256|conv 3, 256|\n",
    "|conv 3, 256|conv 3, 256|conv 3, 256|conv 3, 256|conv 3, 256|conv 3, 256|\n",
    "|           |           |           |conv 1, 256|conv 3, 256|conv 3, 256|\n",
    "|           |           |           |           |           |conv 3, 256|\n",
    "| maxpool 2| maxpool 2| maxpool 2| maxpool 2| maxpool 2| maxpool 2|\n",
    "|conv 3, 512|conv 3, 512|conv 3, 512|conv 3, 512|conv 3, 512|conv 3, 512|\n",
    "|conv 3, 512|conv 3, 512|conv 3, 512|conv 3, 512|conv 3, 512|conv 3, 512|\n",
    "|           |           |           |conv 1, 512|conv 3, 512|conv 3, 512|\n",
    "|           |           |           |           |           |conv 3, 512|\n",
    "| maxpool 2| maxpool 2| maxpool 2| maxpool 2| maxpool 2| maxpool 2|\n",
    "|conv 3, 512|conv 3, 512|conv 3, 512|conv 3, 512|conv 3, 512|conv 3, 512|\n",
    "|conv 3, 512|conv 3, 512|conv 3, 512|conv 3, 512|conv 3, 512|conv 3, 512|\n",
    "|           |           |           |conv 1, 512|conv 3, 512|conv 3, 512|\n",
    "|           |           |           |           |           |conv 3, 512|\n",
    "| maxpool 2| maxpool 2| maxpool 2| maxpool 2| maxpool 2| maxpool 2|\n",
    "| FCN 4096  | FCN 4096  | FCN 4096  | FCN 4096  | FCN 4096  | FCN 4096  |\n",
    "| FCN 4096  | FCN 4096  | FCN 4096  | FCN 4096  | FCN 4096  | FCN 4096  |\n",
    "| FCN 1000  | FCN 1000  | FCN 1000  | FCN 1000  | FCN 1000  | FCN 1000  |\n",
    " "
   ]
  },
  {
   "cell_type": "code",
   "execution_count": null,
   "id": "0b7fc5d7",
   "metadata": {},
   "outputs": [],
   "source": []
  },
  {
   "cell_type": "code",
   "execution_count": null,
   "id": "4298b2ed",
   "metadata": {},
   "outputs": [],
   "source": []
  },
  {
   "cell_type": "markdown",
   "id": "dcb6e21c",
   "metadata": {},
   "source": [
    "### Dataloader\n",
    "\n",
    " - Flatten => 채널 차원 추가로 변경 \n",
    " \n",
    " (Convolution Layer는 주로 이미지데이터처리를 위해 사용되기 때문에, 컬러이미지는 (height, width, 3) 흑백은 (height, width, 1)로 사용한다.)\n",
    " \n",
    " \n",
    "       ex) (num_data, 28, 28) => (num_data, 28, 28, 1)\n",
    " "
   ]
  },
  {
   "cell_type": "code",
   "execution_count": 3,
   "id": "a602a36c",
   "metadata": {},
   "outputs": [],
   "source": [
    "class DataLoader():\n",
    "    def __init__(self):\n",
    "        # data load\n",
    "        (self.train_x, self.train_y), \\\n",
    "            (self.test_x, self.test_y) = tf.keras.datasets.mnist.load_data()\n",
    "\n",
    "    def scale(self, x):\n",
    "        return (x / 255.0).astype(np.float32)\n",
    "\n",
    "    def preprocess_dataset(self, dataset):\n",
    "\n",
    "        (feature, target) = dataset\n",
    "\n",
    "        # scaling #\n",
    "        scaled_x = np.array([self.scale(x) for x in feature])\n",
    "\n",
    "        # Add channel axis #\n",
    "        expanded_x = scaled_x[:, :, :, np.newaxis] # np.newaxis : 가짜 차원 하나 추가\n",
    "\n",
    "        # label encoding #\n",
    "        ohe_y = np.array([tf.keras.utils.to_categorical(\n",
    "            y, num_classes=10) for y in target])\n",
    "        \n",
    "        return expanded_x, ohe_y\n",
    "\n",
    "    def get_train_dataset(self):\n",
    "        return self.preprocess_dataset((self.train_x, self.train_y))\n",
    "\n",
    "    def get_test_dataset(self):\n",
    "        return self.preprocess_dataset((self.test_x, self.test_y))"
   ]
  },
  {
   "cell_type": "code",
   "execution_count": 4,
   "id": "540d6842",
   "metadata": {},
   "outputs": [
    {
     "name": "stdout",
     "output_type": "stream",
     "text": [
      "(60000, 28, 28, 1) float32\n",
      "(60000, 10) float32\n",
      "(10000, 28, 28, 1) float32\n",
      "(10000, 10) float32\n"
     ]
    }
   ],
   "source": [
    "mnist_loader = DataLoader()\n",
    "\n",
    "train_x, train_y = mnist_loader.get_train_dataset()\n",
    "\n",
    "print(train_x.shape, train_x.dtype)\n",
    "print(train_y.shape, train_y.dtype)\n",
    "\n",
    "test_x, test_y = mnist_loader.get_test_dataset()\n",
    "\n",
    "print(test_x.shape, test_x.dtype)\n",
    "print(test_y.shape, test_y.dtype)"
   ]
  },
  {
   "cell_type": "code",
   "execution_count": null,
   "id": "26621b67",
   "metadata": {},
   "outputs": [],
   "source": []
  },
  {
   "cell_type": "code",
   "execution_count": null,
   "id": "f1253c20",
   "metadata": {},
   "outputs": [],
   "source": []
  },
  {
   "cell_type": "markdown",
   "id": "1992c743",
   "metadata": {},
   "source": [
    "## VGGNet에서 사용되는 Layer들\n",
    "\n",
    " - `tf.keras.layers.Conv2D`\n",
    " - `tf.keras.layers.Activation`\n",
    " - `tf.keras.layers.MaxPool2D`\n",
    " - `tf.keras.layers.Flatten`\n",
    " - `tf.keras.layers.Dense`"
   ]
  },
  {
   "cell_type": "markdown",
   "id": "c6450b8d",
   "metadata": {},
   "source": [
    "#### Conv2D\n",
    "\n",
    "![](../../statics/imgs/conv2D.png)"
   ]
  },
  {
   "cell_type": "markdown",
   "id": "91fc430e",
   "metadata": {},
   "source": [
    "- filters: layer에서 사용할 Filter(weights)의 갯수\n",
    "- kernel_size: Filter(weights)의 사이즈  \n",
    "- strides: 몇 개의 pixel을 skip 하면서 훑어지나갈 것인지 (출력 피쳐맵의 사이즈에 영향을 줌)\n",
    "- padding: zero padding을 만들 것인지. VALID는 Padding이 없고, SAME은 Padding이 있음 (출력 피쳐맵의 사이즈에 영향을 줌)\n",
    "- activation: Activation Function을 지정"
   ]
  },
  {
   "cell_type": "code",
   "execution_count": 15,
   "id": "9c05a213",
   "metadata": {},
   "outputs": [
    {
     "data": {
      "text/plain": [
       "keras.layers.convolutional.Conv2D"
      ]
     },
     "execution_count": 15,
     "metadata": {},
     "output_type": "execute_result"
    }
   ],
   "source": [
    "tf.keras.layers.Conv2D"
   ]
  },
  {
   "cell_type": "code",
   "execution_count": 6,
   "id": "b8404829",
   "metadata": {},
   "outputs": [
    {
     "data": {
      "text/plain": [
       "<keras.src.layers.convolutional.conv2d.Conv2D at 0x17dbb4570d0>"
      ]
     },
     "execution_count": 6,
     "metadata": {},
     "output_type": "execute_result"
    }
   ],
   "source": [
    "tf.keras.layers.Conv2D(64, 3, 1, padding = 'same', activation = 'relu')"
   ]
  },
  {
   "cell_type": "markdown",
   "id": "a4bec1b4",
   "metadata": {},
   "source": [
    "#### MaxPool2D\n",
    "\n",
    "![](../../statics/imgs/Maxpool2D.png)"
   ]
  },
  {
   "cell_type": "markdown",
   "id": "6f91c8d6",
   "metadata": {},
   "source": [
    "- pool_size: Pooling window 크기\n",
    "- strides: 몇 개의 pixel을 skip 하면서 훑어지나갈 것인지 \n",
    "- padding: zero padding을 만들 것인지"
   ]
  },
  {
   "cell_type": "code",
   "execution_count": 16,
   "id": "3acd2618",
   "metadata": {},
   "outputs": [
    {
     "data": {
      "text/plain": [
       "keras.layers.pooling.MaxPooling2D"
      ]
     },
     "execution_count": 16,
     "metadata": {},
     "output_type": "execute_result"
    }
   ],
   "source": [
    "tf.keras.layers.MaxPool2D"
   ]
  },
  {
   "cell_type": "code",
   "execution_count": null,
   "id": "b4c7d4ac",
   "metadata": {},
   "outputs": [],
   "source": []
  },
  {
   "cell_type": "markdown",
   "id": "83935747",
   "metadata": {},
   "source": [
    "#### Flatten\n",
    "\n",
    "![](../../statics/imgs/Flatten.png)"
   ]
  },
  {
   "cell_type": "code",
   "execution_count": 17,
   "id": "4cd0f960",
   "metadata": {},
   "outputs": [
    {
     "data": {
      "text/plain": [
       "keras.layers.core.flatten.Flatten"
      ]
     },
     "execution_count": 17,
     "metadata": {},
     "output_type": "execute_result"
    }
   ],
   "source": [
    "tf.keras.layers.Flatten"
   ]
  },
  {
   "cell_type": "code",
   "execution_count": null,
   "id": "b0350fb6",
   "metadata": {},
   "outputs": [],
   "source": []
  },
  {
   "cell_type": "markdown",
   "id": "783fe722",
   "metadata": {},
   "source": [
    "#### Dense\n",
    "\n",
    "![](../../statics/imgs/Dense.png)"
   ]
  },
  {
   "cell_type": "markdown",
   "id": "215e946f",
   "metadata": {},
   "source": [
    "- units : 노드 갯수\n",
    "- activation : 활성화 함수\n",
    "- use_bias : bias 를 사용 할 것인지\n",
    "- kernel_initializer : 최초 가중치를 어떻게 세팅 할 것인지\n",
    "- bias_initializer : 최초 bias를 어떻게 세팅 할 것인지"
   ]
  },
  {
   "cell_type": "code",
   "execution_count": 19,
   "id": "1e30d7b3",
   "metadata": {},
   "outputs": [
    {
     "data": {
      "text/plain": [
       "keras.layers.core.dense.Dense"
      ]
     },
     "execution_count": 19,
     "metadata": {},
     "output_type": "execute_result"
    }
   ],
   "source": [
    "tf.keras.layers.Dense"
   ]
  },
  {
   "cell_type": "code",
   "execution_count": null,
   "id": "a038d808",
   "metadata": {},
   "outputs": [],
   "source": []
  },
  {
   "cell_type": "markdown",
   "id": "377473ee",
   "metadata": {},
   "source": [
    "## Layer들을 이용해 모델 만들기 - Sequencial 방식"
   ]
  },
  {
   "cell_type": "code",
   "execution_count": 7,
   "id": "b252f635",
   "metadata": {},
   "outputs": [],
   "source": [
    "from tensorflow.keras.layers import Conv2D, MaxPool2D, Flatten, Dense"
   ]
  },
  {
   "cell_type": "code",
   "execution_count": 8,
   "id": "78952097",
   "metadata": {},
   "outputs": [
    {
     "name": "stdout",
     "output_type": "stream",
     "text": [
      "Model: \"sequential\"\n",
      "_________________________________________________________________\n",
      " Layer (type)                Output Shape              Param #   \n",
      "=================================================================\n",
      " conv2d_2 (Conv2D)           (None, 28, 28, 32)        320       \n",
      "                                                                 \n",
      " conv2d_3 (Conv2D)           (None, 28, 28, 32)        9248      \n",
      "                                                                 \n",
      " max_pooling2d (MaxPooling2  (None, 14, 14, 32)        0         \n",
      " D)                                                              \n",
      "                                                                 \n",
      " conv2d_4 (Conv2D)           (None, 14, 14, 64)        18496     \n",
      "                                                                 \n",
      " conv2d_5 (Conv2D)           (None, 14, 14, 64)        36928     \n",
      "                                                                 \n",
      " max_pooling2d_1 (MaxPoolin  (None, 7, 7, 64)          0         \n",
      " g2D)                                                            \n",
      "                                                                 \n",
      " flatten (Flatten)           (None, 3136)              0         \n",
      "                                                                 \n",
      " dense (Dense)               (None, 128)               401536    \n",
      "                                                                 \n",
      " dense_1 (Dense)             (None, 64)                8256      \n",
      "                                                                 \n",
      " dense_2 (Dense)             (None, 10)                650       \n",
      "                                                                 \n",
      "=================================================================\n",
      "Total params: 475434 (1.81 MB)\n",
      "Trainable params: 475434 (1.81 MB)\n",
      "Non-trainable params: 0 (0.00 Byte)\n",
      "_________________________________________________________________\n"
     ]
    }
   ],
   "source": [
    "model = tf.keras.Sequential()\n",
    "# 최초의 레이어는 Input의 shape을 명시해준다. (이 때 배치 axis는 무시한다.)\n",
    "model.add(Conv2D(32, kernel_size=3, padding='same', activation='relu', input_shape=(28, 28, 1))) \n",
    "model.add(Conv2D(32, kernel_size=3, padding='same', activation='relu'))\n",
    "model.add(MaxPool2D())\n",
    "model.add(Conv2D(64, kernel_size=3, padding='same', activation='relu')) \n",
    "model.add(Conv2D(64, kernel_size=3, padding='same', activation='relu'))\n",
    "model.add(MaxPool2D())\n",
    "model.add(Flatten())\n",
    "model.add(Dense(128, activation=\"relu\"))\n",
    "model.add(Dense(64, activation=\"relu\"))\n",
    "model.add(Dense(10, activation=\"softmax\")) # output class 개수 10\n",
    "\n",
    "model.summary()"
   ]
  },
  {
   "cell_type": "code",
   "execution_count": 9,
   "id": "5a614ca0",
   "metadata": {},
   "outputs": [],
   "source": [
    "learning_rate = 0.03\n",
    "opt = tf.keras.optimizers.Adam(learning_rate)\n",
    "loss = tf.keras.losses.categorical_crossentropy\n",
    "\n",
    "model.compile(optimizer=opt, loss=loss, metrics=[\"accuracy\"])"
   ]
  },
  {
   "cell_type": "code",
   "execution_count": 10,
   "id": "719df101",
   "metadata": {},
   "outputs": [
    {
     "name": "stdout",
     "output_type": "stream",
     "text": [
      "Epoch 1/2\n",
      "469/469 [==============================] - 59s 124ms/step - loss: 2.5693 - accuracy: 0.1099 - val_loss: 2.3015 - val_accuracy: 0.1135\n",
      "Epoch 2/2\n",
      "469/469 [==============================] - 86s 183ms/step - loss: 2.3030 - accuracy: 0.1074 - val_loss: 2.3029 - val_accuracy: 0.1135\n"
     ]
    }
   ],
   "source": [
    "# 학습\n",
    "hist = model.fit(train_x, train_y,\n",
    "                 epochs=2, batch_size=128,\n",
    "                 validation_data=(test_x, test_y)) \n",
    "                # validation_data 를 지정해주면 .evaluate를 굳이 하지 않아도 매 epochs마다 저절로 해줌"
   ]
  },
  {
   "cell_type": "code",
   "execution_count": 11,
   "id": "1dc329b7",
   "metadata": {},
   "outputs": [
    {
     "data": {
      "text/plain": [
       "{'loss': [2.5692763328552246, 2.3030335903167725],\n",
       " 'accuracy': [0.10993333160877228, 0.10743333399295807],\n",
       " 'val_loss': [2.301518201828003, 2.3028743267059326],\n",
       " 'val_accuracy': [0.11349999904632568, 0.11349999904632568]}"
      ]
     },
     "execution_count": 11,
     "metadata": {},
     "output_type": "execute_result"
    }
   ],
   "source": [
    "hist.history"
   ]
  },
  {
   "cell_type": "code",
   "execution_count": 12,
   "id": "90ef0180",
   "metadata": {},
   "outputs": [
    {
     "data": {
      "image/png": "[encoded data removed]",
      "text/plain": [
       "<Figure size 1000x500 with 4 Axes>"
      ]
     },
     "metadata": {},
     "output_type": "display_data"
    }
   ],
   "source": [
    "plt.figure(figsize=(10, 5))\n",
    "plt.subplot(221)\n",
    "plt.plot(hist.history['loss'])\n",
    "plt.title(\"loss\")\n",
    "plt.subplot(222)\n",
    "plt.plot(hist.history['accuracy'], 'b-')\n",
    "plt.title(\"acc\")\n",
    "plt.subplot(223)\n",
    "plt.plot(hist.history['val_loss'])\n",
    "plt.title(\"val_loss\")\n",
    "plt.subplot(224)\n",
    "plt.plot(hist.history['val_accuracy'], 'b-')\n",
    "plt.title(\"val_accuracy\")\n",
    "\n",
    "plt.tight_layout()\n",
    "plt.show()"
   ]
  },
  {
   "cell_type": "markdown",
   "id": "40120d18",
   "metadata": {},
   "source": [
    "모델이 간단하다면, Sequential로도 충분히 커버 가능!"
   ]
  },
  {
   "cell_type": "code",
   "execution_count": null,
   "id": "72aaf03f",
   "metadata": {},
   "outputs": [],
   "source": []
  },
  {
   "cell_type": "code",
   "execution_count": null,
   "id": "c9516da4",
   "metadata": {},
   "outputs": [],
   "source": []
  },
  {
   "cell_type": "code",
   "execution_count": null,
   "id": "02d1ba37",
   "metadata": {},
   "outputs": [],
   "source": []
  },
  {
   "cell_type": "code",
   "execution_count": null,
   "id": "e33689fa",
   "metadata": {},
   "outputs": [],
   "source": []
  }
 ],
 "metadata": {
  "kernelspec": {
   "display_name": "Python 3 (ipykernel)",
   "language": "python",
   "name": "python3"
  },
  "language_info": {
   "codemirror_mode": {
    "name": "ipython",
    "version": 3
   },
   "file_extension": ".py",
   "mimetype": "text/x-python",
   "name": "python",
   "nbconvert_exporter": "python",
   "pygments_lexer": "ipython3",
   "version": "3.8.17"
  },
  "varInspector": {
   "cols": {
    "lenName": 16,
    "lenType": 16,
    "lenVar": 40
   },
   "kernels_config": {
    "python": {
     "delete_cmd_postfix": "",
     "delete_cmd_prefix": "del ",
     "library": "var_list.py",
     "varRefreshCmd": "print(var_dic_list())"
    },
    "r": {
     "delete_cmd_postfix": ") ",
     "delete_cmd_prefix": "rm(",
     "library": "var_list.r",
     "varRefreshCmd": "cat(var_dic_list()) "
    }
   },
   "types_to_exclude": [
    "module",
    "function",
    "builtin_function_or_method",
    "instance",
    "_Feature"
   ],
   "window_display": false
  }
 },
 "nbformat": 4,
 "nbformat_minor": 5
}
