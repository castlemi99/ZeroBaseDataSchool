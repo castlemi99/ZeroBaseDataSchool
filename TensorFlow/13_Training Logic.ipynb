{
 "cells": [
  {
   "cell_type": "markdown",
   "id": "5681cdc0",
   "metadata": {},
   "source": [
    "# Training Logic"
   ]
  },
  {
   "cell_type": "code",
   "execution_count": 1,
   "id": "d0f3e067",
   "metadata": {},
   "outputs": [],
   "source": [
    "import numpy as np\n",
    "import pandas as pd\n",
    "import tensorflow as tf\n",
    "\n",
    "import matplotlib.pyplot as plt\n",
    "import seaborn as sns\n",
    "%matplotlib inline"
   ]
  },
  {
   "cell_type": "code",
   "execution_count": 2,
   "id": "674ab6ef",
   "metadata": {},
   "outputs": [],
   "source": [
    "np.random.seed(7777)\n",
    "tf.random.set_seed(7777)"
   ]
  },
  {
   "cell_type": "code",
   "execution_count": 3,
   "id": "022f88fa",
   "metadata": {},
   "outputs": [
    {
     "name": "stdout",
     "output_type": "stream",
     "text": [
      "(50000, 32, 32, 3) float32\n",
      "(50000, 10) float32\n",
      "(10000, 32, 32, 3) float32\n",
      "(10000, 10) float32\n"
     ]
    }
   ],
   "source": [
    "class Cifar10DataLoader():\n",
    "    def __init__(self):\n",
    "        # data load\n",
    "        (self.train_x, self.train_y), \\\n",
    "            (self.test_x, self.test_y) = tf.keras.datasets.cifar10.load_data()\n",
    "        self.input_shape = self.train_x.shape[1:]\n",
    "\n",
    "    def scale(self, x):\n",
    "\n",
    "        return (x / 255.0).astype(np.float32)\n",
    "\n",
    "    def preprocess_dataset(self, dataset):\n",
    "\n",
    "        (feature, target) = dataset\n",
    "\n",
    "        # scaling #\n",
    "        scaled_x = np.array([self.scale(x) for x in feature])\n",
    "\n",
    "        # label encoding #\n",
    "        ohe_y = np.array([tf.keras.utils.to_categorical(\n",
    "            y, num_classes=10) for y in target])\n",
    "        \n",
    "        return scaled_x, ohe_y.squeeze(1)\n",
    "\n",
    "    def get_train_dataset(self):\n",
    "        return self.preprocess_dataset((self.train_x, self.train_y))\n",
    "\n",
    "    def get_test_dataset(self):\n",
    "        return self.preprocess_dataset((self.test_x, self.test_y))\n",
    "\n",
    "cifar10_loader = Cifar10DataLoader()\n",
    "train_x, train_y = cifar10_loader.get_train_dataset()\n",
    "\n",
    "print(train_x.shape, train_x.dtype)\n",
    "print(train_y.shape, train_y.dtype)\n",
    "\n",
    "test_x, test_y = cifar10_loader.get_test_dataset()\n",
    "\n",
    "print(test_x.shape, test_x.dtype)\n",
    "print(test_y.shape, test_y.dtype)"
   ]
  },
  {
   "cell_type": "code",
   "execution_count": 4,
   "id": "58c8e1e3",
   "metadata": {},
   "outputs": [
    {
     "name": "stdout",
     "output_type": "stream",
     "text": [
      "Model: \"resnet\"\n",
      "__________________________________________________________________________________________________\n",
      " Layer (type)                Output Shape                 Param #   Connected to                  \n",
      "==================================================================================================\n",
      " input_1 (InputLayer)        [(None, 32, 32, 3)]          0         []                            \n",
      "                                                                                                  \n",
      " conv2d (Conv2D)             (None, 16, 16, 32)           896       ['input_1[0][0]']             \n",
      "                                                                                                  \n",
      " max_pooling2d (MaxPooling2  (None, 8, 8, 32)             0         ['conv2d[0][0]']              \n",
      " D)                                                                                               \n",
      "                                                                                                  \n",
      " conv2d_1 (Conv2D)           (None, 8, 8, 64)             2112      ['max_pooling2d[0][0]']       \n",
      "                                                                                                  \n",
      " conv2d_2 (Conv2D)           (None, 8, 8, 64)             36928     ['conv2d_1[0][0]']            \n",
      "                                                                                                  \n",
      " conv2d_4 (Conv2D)           (None, 8, 8, 64)             2112      ['max_pooling2d[0][0]']       \n",
      "                                                                                                  \n",
      " conv2d_3 (Conv2D)           (None, 8, 8, 64)             4160      ['conv2d_2[0][0]']            \n",
      "                                                                                                  \n",
      " add (Add)                   (None, 8, 8, 64)             0         ['conv2d_4[0][0]',            \n",
      "                                                                     'conv2d_3[0][0]']            \n",
      "                                                                                                  \n",
      " conv2d_5 (Conv2D)           (None, 8, 8, 64)             4160      ['add[0][0]']                 \n",
      "                                                                                                  \n",
      " conv2d_6 (Conv2D)           (None, 8, 8, 64)             36928     ['conv2d_5[0][0]']            \n",
      "                                                                                                  \n",
      " conv2d_7 (Conv2D)           (None, 8, 8, 64)             4160      ['conv2d_6[0][0]']            \n",
      "                                                                                                  \n",
      " add_1 (Add)                 (None, 8, 8, 64)             0         ['add[0][0]',                 \n",
      "                                                                     'conv2d_7[0][0]']            \n",
      "                                                                                                  \n",
      " max_pooling2d_1 (MaxPoolin  (None, 4, 4, 64)             0         ['add_1[0][0]']               \n",
      " g2D)                                                                                             \n",
      "                                                                                                  \n",
      " flatten (Flatten)           (None, 1024)                 0         ['max_pooling2d_1[0][0]']     \n",
      "                                                                                                  \n",
      " dense (Dense)               (None, 10)                   10250     ['flatten[0][0]']             \n",
      "                                                                                                  \n",
      "==================================================================================================\n",
      "Total params: 101706 (397.29 KB)\n",
      "Trainable params: 101706 (397.29 KB)\n",
      "Non-trainable params: 0 (0.00 Byte)\n",
      "__________________________________________________________________________________________________\n"
     ]
    }
   ],
   "source": [
    "from tensorflow.keras.layers import Input, Conv2D, MaxPool2D, Flatten, Dense, Add\n",
    "\n",
    "def build_resnet(input_shape):\n",
    "    inputs = Input(input_shape)\n",
    "\n",
    "    net = Conv2D(32, kernel_size=3, strides=2,\n",
    "                 padding='same', activation='relu')(inputs)\n",
    "    net = MaxPool2D()(net)\n",
    "    \n",
    "    net1 = Conv2D(64, kernel_size=1, padding='same', activation='relu')(net)\n",
    "    net2 = Conv2D(64, kernel_size=3, padding='same', activation='relu')(net1)\n",
    "    net3 = Conv2D(64, kernel_size=1, padding='same', activation='relu')(net2)\n",
    "    \n",
    "    net1_1 = Conv2D(64, kernel_size=1, padding='same')(net)\n",
    "    net = Add()([net1_1, net3])\n",
    "    \n",
    "    net1 = Conv2D(64, kernel_size=1, padding='same', activation='relu')(net)\n",
    "    net2 = Conv2D(64, kernel_size=3, padding='same', activation='relu')(net1)\n",
    "    net3 = Conv2D(64, kernel_size=1, padding='same', activation='relu')(net2)\n",
    "    \n",
    "    net = Add()([net, net3])\n",
    "    \n",
    "    net = MaxPool2D()(net)\n",
    "    \n",
    "    net = Flatten()(net)\n",
    "    net = Dense(10, activation=\"softmax\")(net)\n",
    "\n",
    "    model = tf.keras.Model(inputs=inputs, outputs=net, name='resnet')\n",
    "    \n",
    "    return model\n",
    "\n",
    "model = build_resnet((32, 32, 3))\n",
    "model.summary()"
   ]
  },
  {
   "cell_type": "markdown",
   "id": "96e6621e",
   "metadata": {},
   "source": [
    "## 학습하는 과정을 직접 만들어보자!\n",
    "\n",
    "`.fit()` 대신 직접 하드 코딩해보는 시간.\n",
    "\n",
    "자유도가 높은 모델을 생성하게 된다면 이렇게 학습을 할 필요가 있다!"
   ]
  },
  {
   "cell_type": "code",
   "execution_count": 5,
   "id": "c7cfbce9",
   "metadata": {},
   "outputs": [],
   "source": [
    "learning_rate = 0.03\n",
    "# optimizer\n",
    "opt = tf.keras.optimizers.Adam(learning_rate) # 클래스\n",
    "# loss \n",
    "loss_fn = tf.keras.losses.categorical_crossentropy # 함수로 만든 것\n",
    "# metrics\n",
    "train_loss = tf.keras.metrics.Mean(name='train_loss') # 클래스 객체로 만든 것\n",
    "train_accuracy = tf.keras.metrics.CategoricalAccuracy(name='train_accuracy')"
   ]
  },
  {
   "cell_type": "code",
   "execution_count": null,
   "id": "092f631c",
   "metadata": {},
   "outputs": [],
   "source": [
    "# 학습 과정을 수도 코드로 만들어보자면 아래와 같다.\n",
    "\n",
    "'''\n",
    "for e in epochs:\n",
    "    for batch_x, batch_y in dataset:\n",
    "        pred = model(batch_x)\n",
    "        loss_fn(batch_y, pred)\n",
    "\n",
    "        gradients\n",
    "        weight_update\n",
    "\n",
    "        print\n",
    "'''"
   ]
  },
  {
   "cell_type": "code",
   "execution_count": 6,
   "id": "751be855",
   "metadata": {},
   "outputs": [],
   "source": [
    "# 학습 과정(pred, loss gradient update까지)\n",
    "def train_step(x, y) :\n",
    "    with tf.GradientTape() as tape:\n",
    "        pred = model(x) # 예측값\n",
    "        loss = loss_fn(y, pred) # loss 계산\n",
    "        \n",
    "    gradients = tape.gradient(loss, model.trainable_variables) # gradient 계산\n",
    "    opt.apply_gradients(zip(gradients, model.trainable_variables)) # 업데이트\n",
    "    \n",
    "    # metric\n",
    "    train_loss(y)\n",
    "    train_accuracy(y, pred)"
   ]
  },
  {
   "cell_type": "code",
   "execution_count": 8,
   "id": "1b3bcb50",
   "metadata": {},
   "outputs": [
    {
     "name": "stdout",
     "output_type": "stream",
     "text": [
      "epoch 1 loss: 0.10000000149011612, accuracy: 9.99119758605957\n"
     ]
    }
   ],
   "source": [
    "batch_size = 64\n",
    "\n",
    "for epoch in range(1): # epoch을 도는데 \n",
    "    \n",
    "    for i in range(train_x.shape[0] // batch_size): # 배치 데이터마다 계산\n",
    "        idx = i * batch_size\n",
    "        x, y = train_x[idx:idx+batch_size], train_y[idx:idx+batch_size] # 배치 데이터 추출\n",
    "        train_step(x, y)  # 학습 과정\n",
    "        print(\"\\r {} / {}\".format(i, train_x.shape[0] // batch_size), end='\\r') # 진행률 출력\n",
    "    \n",
    "    # 한 epoch에 대한 loss와 acc 출력\n",
    "    fmt = 'epoch {} loss: {}, accuracy: {}'\n",
    "    print(fmt.format(epoch+1, \n",
    "                          train_loss.result(), # .result() : 객체의 값을 반환해줌 \n",
    "                          train_accuracy.result() * 100)\n",
    "         )\n",
    "    \n",
    "    # 초기화\n",
    "    # 매 epoch마다 새로운 metric 값을 계산해야지,\n",
    "    # 만약 초기화를 해주지 않으면 이전 epoch의 metric 값이 계속 누적된 채로 계산됨\n",
    "    train_loss.reset_states()\n",
    "    train_accuracy.reset_states()"
   ]
  },
  {
   "cell_type": "code",
   "execution_count": null,
   "id": "e6e6bc26",
   "metadata": {},
   "outputs": [],
   "source": [
    "@tf.function\n",
    "def train_step(x, y) :\n",
    "    with tf.GradientTape() as tape:\n",
    "        pred = model(x)\n",
    "        loss = loss_fn(y, pred)\n",
    "        \n",
    "    gradients = tape.gradient(loss, model.trainable_variables)\n",
    "    opt.apply_gradients(zip(gradients, model.trainable_variables))\n",
    "    \n",
    "    train_loss(loss)\n",
    "    train_accuracy(y, pred)\n",
    "\n",
    "# @tf.function으로 함수 위에 붙여주면 GPU로 학습시켰을 때 학습 속도가 향상되는 효과를 볼 수 있음\n",
    "# 그냥 함수로 정의만 해두면 매 배치 데이터를 돌 때마다 계속 함수를 새로 불러오는 형식으로 진행되는데\n",
    "# @tf.function를 해두면 한 번 불러오고 저장해두므로 불러 쓰기가 더 쉬워진다."
   ]
  },
  {
   "cell_type": "code",
   "execution_count": null,
   "id": "19918dbd",
   "metadata": {},
   "outputs": [],
   "source": [
    "batch_size = 64\n",
    "num_of_batch_train = train_x.shape[0] // batch_size\n",
    "\n",
    "for epoch in range(1):\n",
    "    for i in range(num_of_batch_train):\n",
    "        idx = i * batch_size\n",
    "        x, y = train_x[idx:idx+batch_size], train_y[idx:idx+batch_size]\n",
    "        train_step(x, y)\n",
    "        print(\"\\r {} / {}\".format(i, num_of_batch_train), end='\\r')\n",
    "    \n",
    "    fmt = 'epoch {} loss: {}, accuracy: {}'\n",
    "    print(fmt.format(epoch+1, \n",
    "                          train_loss.result(),\n",
    "                          train_accuracy.result() * 100)\n",
    "         )\n",
    "    # Reset metrics every epoch\n",
    "    train_loss.reset_states()\n",
    "    train_accuracy.reset_states()"
   ]
  },
  {
   "cell_type": "code",
   "execution_count": null,
   "id": "33dfa23f",
   "metadata": {},
   "outputs": [],
   "source": []
  },
  {
   "cell_type": "code",
   "execution_count": null,
   "id": "a111e7b1",
   "metadata": {},
   "outputs": [],
   "source": []
  }
 ],
 "metadata": {
  "kernelspec": {
   "display_name": "Python 3 (ipykernel)",
   "language": "python",
   "name": "python3"
  },
  "language_info": {
   "codemirror_mode": {
    "name": "ipython",
    "version": 3
   },
   "file_extension": ".py",
   "mimetype": "text/x-python",
   "name": "python",
   "nbconvert_exporter": "python",
   "pygments_lexer": "ipython3",
   "version": "3.8.17"
  },
  "varInspector": {
   "cols": {
    "lenName": 16,
    "lenType": 16,
    "lenVar": 40
   },
   "kernels_config": {
    "python": {
     "delete_cmd_postfix": "",
     "delete_cmd_prefix": "del ",
     "library": "var_list.py",
     "varRefreshCmd": "print(var_dic_list())"
    },
    "r": {
     "delete_cmd_postfix": ") ",
     "delete_cmd_prefix": "rm(",
     "library": "var_list.r",
     "varRefreshCmd": "cat(var_dic_list()) "
    }
   },
   "types_to_exclude": [
    "module",
    "function",
    "builtin_function_or_method",
    "instance",
    "_Feature"
   ],
   "window_display": false
  }
 },
 "nbformat": 4,
 "nbformat_minor": 5
}
