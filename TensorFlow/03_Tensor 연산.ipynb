{
 "cells": [
  {
   "cell_type": "markdown",
   "id": "b0a2d006",
   "metadata": {},
   "source": [
    "# Tensor 연산"
   ]
  },
  {
   "cell_type": "code",
   "execution_count": 1,
   "id": "a47ff13a",
   "metadata": {},
   "outputs": [],
   "source": [
    "import tensorflow as tf"
   ]
  },
  {
   "cell_type": "markdown",
   "id": "7a1c90c4",
   "metadata": {},
   "source": [
    "아래의 기본 연산은 특수 메서드를 이용하여 연산자 오버로딩이 되어 있으므로 그냥 연산자 기호를 사용하는게 가능!\n",
    "\n",
    "* `tf.add`: 덧셈\n",
    "* `tf.subtract`: 뺄셈\n",
    "* `tf.multiply`: 곱셈\n",
    "* `tf.divide`: 나눗셈\n",
    "* `tf.pow`: n-제곱\n",
    "* `tf.negative`: 음수 부호\n"
   ]
  },
  {
   "cell_type": "code",
   "execution_count": 2,
   "id": "8ece8410",
   "metadata": {},
   "outputs": [
    {
     "data": {
      "text/plain": [
       "<tf.Tensor: shape=(6,), dtype=int32, numpy=array([2, 3, 4, 5, 6, 7])>"
      ]
     },
     "execution_count": 2,
     "metadata": {},
     "output_type": "execute_result"
    }
   ],
   "source": [
    "a = tf.range(6, dtype=tf.int32)   \n",
    "b = 2 * tf.ones(6, dtype=tf.int32)\n",
    "\n",
    "# 원래는 이렇게 쓰는게 원칙이지만\n",
    "tf.add(a, b)"
   ]
  },
  {
   "cell_type": "code",
   "execution_count": 3,
   "id": "c76d5938",
   "metadata": {},
   "outputs": [
    {
     "data": {
      "text/plain": [
       "<tf.Tensor: shape=(6,), dtype=int32, numpy=array([2, 3, 4, 5, 6, 7])>"
      ]
     },
     "execution_count": 3,
     "metadata": {},
     "output_type": "execute_result"
    }
   ],
   "source": [
    "# 연산자 기호를 써도 자동으로 tensorflow의 연산자가 불러와져서 계산이 가능하다\n",
    "a + b"
   ]
  },
  {
   "cell_type": "code",
   "execution_count": null,
   "id": "bfd89a77",
   "metadata": {},
   "outputs": [],
   "source": []
  },
  {
   "cell_type": "markdown",
   "id": "64f5dc6e",
   "metadata": {},
   "source": [
    "**여러가지 연산**\n",
    "\n",
    "* `tf.abs`: 절대값\n",
    "* `tf.sign`: 부호\n",
    "* `tf.round`: 반올림\n",
    "* `tf.ceil`: 올림\n",
    "* `tf.floor`: 내림\n",
    "* `tf.square`: 제곱\n",
    "* `tf.sqrt`: 제곱근\n",
    "* `tf.maximum`: 두 텐서의 각 원소에서 최댓값만 반환.\n",
    "* `tf.minimum`: 두 텐서의 각 원소에서 최솟값만 반환.\n",
    "* `tf.cumsum`: 누적합\n",
    "* `tf.cumprod`: 누적곱\n"
   ]
  },
  {
   "cell_type": "code",
   "execution_count": 4,
   "id": "2672b782",
   "metadata": {},
   "outputs": [
    {
     "data": {
      "text/plain": [
       "<tf.Tensor: shape=(6,), dtype=int32, numpy=array([2, 2, 2, 3, 4, 5])>"
      ]
     },
     "execution_count": 4,
     "metadata": {},
     "output_type": "execute_result"
    }
   ],
   "source": [
    "tf.maximum(a, b)"
   ]
  },
  {
   "cell_type": "code",
   "execution_count": null,
   "id": "5a703ca5",
   "metadata": {},
   "outputs": [],
   "source": []
  },
  {
   "cell_type": "markdown",
   "id": "b7aa8914",
   "metadata": {},
   "source": [
    "#### Axis 이해하기\n",
    "\n",
    "    - 가장 바깥에서부터 axis 0 ~ 안쪽으로 갈수록 깊어짐"
   ]
  },
  {
   "cell_type": "code",
   "execution_count": 5,
   "id": "35fb668d",
   "metadata": {},
   "outputs": [],
   "source": [
    "rank_2 = tf.random.normal((3, 3))"
   ]
  },
  {
   "cell_type": "code",
   "execution_count": 6,
   "id": "8cb367b7",
   "metadata": {},
   "outputs": [
    {
     "data": {
      "text/plain": [
       "<tf.Tensor: shape=(3, 3), dtype=float32, numpy=\n",
       "array([[-0.1264825 , -0.7998125 , -0.10860794],\n",
       "       [-0.55456793, -0.9415161 ,  1.4888653 ],\n",
       "       [-1.0108343 , -0.25185886,  0.7038034 ]], dtype=float32)>"
      ]
     },
     "execution_count": 6,
     "metadata": {},
     "output_type": "execute_result"
    }
   ],
   "source": [
    "rank_2"
   ]
  },
  {
   "cell_type": "code",
   "execution_count": 7,
   "id": "887c9ebf",
   "metadata": {},
   "outputs": [
    {
     "data": {
      "text/plain": [
       "<tf.Tensor: shape=(3,), dtype=float32, numpy=array([-0.1264825 , -0.7998125 , -0.10860794], dtype=float32)>"
      ]
     },
     "execution_count": 7,
     "metadata": {},
     "output_type": "execute_result"
    }
   ],
   "source": [
    "rank_2[0]"
   ]
  },
  {
   "cell_type": "code",
   "execution_count": 8,
   "id": "d6e00ecb",
   "metadata": {},
   "outputs": [
    {
     "data": {
      "text/plain": [
       "<tf.Tensor: shape=(), dtype=float32, numpy=-0.1264825>"
      ]
     },
     "execution_count": 8,
     "metadata": {},
     "output_type": "execute_result"
    }
   ],
   "source": [
    "rank_2[0, 0]"
   ]
  },
  {
   "cell_type": "code",
   "execution_count": 9,
   "id": "ebfb703f",
   "metadata": {},
   "outputs": [
    {
     "data": {
      "text/plain": [
       "<tf.Tensor: shape=(), dtype=float32, numpy=-0.10860794>"
      ]
     },
     "execution_count": 9,
     "metadata": {},
     "output_type": "execute_result"
    }
   ],
   "source": [
    "rank_2[0, 2]"
   ]
  },
  {
   "cell_type": "markdown",
   "id": "d65e4925",
   "metadata": {},
   "source": [
    "3차원"
   ]
  },
  {
   "cell_type": "code",
   "execution_count": 10,
   "id": "a8e2bc76",
   "metadata": {},
   "outputs": [],
   "source": [
    "rank_3 = tf.random.normal((3, 3, 3))"
   ]
  },
  {
   "cell_type": "code",
   "execution_count": 11,
   "id": "b521b95b",
   "metadata": {},
   "outputs": [
    {
     "data": {
      "text/plain": [
       "<tf.Tensor: shape=(3, 3, 3), dtype=float32, numpy=\n",
       "array([[[-0.06225162, -0.00844719,  0.21867406],\n",
       "        [ 0.3447987 ,  1.0735847 , -1.3441112 ],\n",
       "        [-0.28537107,  0.31656495, -1.0841318 ]],\n",
       "\n",
       "       [[-1.9703488 , -0.59761894, -0.71747935],\n",
       "        [ 0.54105824,  0.8884835 ,  0.8841282 ],\n",
       "        [ 1.2952037 , -1.3886279 ,  0.03796454]],\n",
       "\n",
       "       [[ 0.2295477 ,  0.06151443,  0.5404954 ],\n",
       "        [ 0.11306369, -0.3695529 , -1.6911061 ],\n",
       "        [-0.24765372, -1.293568  , -0.19871797]]], dtype=float32)>"
      ]
     },
     "execution_count": 11,
     "metadata": {},
     "output_type": "execute_result"
    }
   ],
   "source": [
    "rank_3"
   ]
  },
  {
   "cell_type": "code",
   "execution_count": 15,
   "id": "58af702a",
   "metadata": {},
   "outputs": [
    {
     "data": {
      "text/plain": [
       "<tf.Tensor: shape=(3, 3), dtype=float32, numpy=\n",
       "array([[-0.06225162, -0.00844719,  0.21867406],\n",
       "       [ 0.3447987 ,  1.0735847 , -1.3441112 ],\n",
       "       [-0.28537107,  0.31656495, -1.0841318 ]], dtype=float32)>"
      ]
     },
     "execution_count": 15,
     "metadata": {},
     "output_type": "execute_result"
    }
   ],
   "source": [
    "rank_3[0,:,:]"
   ]
  },
  {
   "cell_type": "code",
   "execution_count": 16,
   "id": "d767a452",
   "metadata": {},
   "outputs": [
    {
     "data": {
      "text/plain": [
       "<tf.Tensor: shape=(3,), dtype=float32, numpy=array([-0.06225162, -0.00844719,  0.21867406], dtype=float32)>"
      ]
     },
     "execution_count": 16,
     "metadata": {},
     "output_type": "execute_result"
    }
   ],
   "source": [
    "rank_3[0,0,:]"
   ]
  },
  {
   "cell_type": "code",
   "execution_count": 17,
   "id": "b5363abc",
   "metadata": {},
   "outputs": [
    {
     "data": {
      "text/plain": [
       "<tf.Tensor: shape=(), dtype=float32, numpy=-0.062251624>"
      ]
     },
     "execution_count": 17,
     "metadata": {},
     "output_type": "execute_result"
    }
   ],
   "source": [
    "rank_3[0,0,0]"
   ]
  },
  {
   "cell_type": "code",
   "execution_count": 18,
   "id": "00ad3965",
   "metadata": {},
   "outputs": [
    {
     "data": {
      "text/plain": [
       "<tf.Tensor: shape=(), dtype=float32, numpy=0.8841282>"
      ]
     },
     "execution_count": 18,
     "metadata": {},
     "output_type": "execute_result"
    }
   ],
   "source": [
    "rank_3[1,1,2]"
   ]
  },
  {
   "cell_type": "markdown",
   "id": "dc57cd42",
   "metadata": {},
   "source": [
    "4차원"
   ]
  },
  {
   "cell_type": "code",
   "execution_count": 19,
   "id": "beed0411",
   "metadata": {},
   "outputs": [],
   "source": [
    "rank_4 = tf.random.normal((3, 3, 3, 3))"
   ]
  },
  {
   "cell_type": "code",
   "execution_count": 20,
   "id": "14a9b29a",
   "metadata": {},
   "outputs": [
    {
     "data": {
      "text/plain": [
       "<tf.Tensor: shape=(3, 3, 3, 3), dtype=float32, numpy=\n",
       "array([[[[ 1.3476533 , -1.6493751 ,  0.74237156],\n",
       "         [-2.0532904 ,  0.59781486,  1.0127076 ],\n",
       "         [-0.82902676,  1.2224858 ,  0.41567424]],\n",
       "\n",
       "        [[-1.9210554 , -1.7882466 , -0.8900931 ],\n",
       "         [ 0.48074245,  0.1255022 , -0.68298066],\n",
       "         [-1.2552965 , -0.08641335, -0.19060157]],\n",
       "\n",
       "        [[ 0.19503167,  0.6262427 ,  0.2919268 ],\n",
       "         [ 0.85272324,  0.871951  , -0.41366306],\n",
       "         [ 1.59967   ,  0.9506366 , -1.3550029 ]]],\n",
       "\n",
       "\n",
       "       [[[ 0.83070016,  0.48375598, -0.35187876],\n",
       "         [ 1.7655222 , -0.27156818,  1.0460166 ],\n",
       "         [-0.26112607,  0.9115955 ,  0.85805833]],\n",
       "\n",
       "        [[-0.09209263, -0.47067025, -0.5185584 ],\n",
       "         [ 0.8839786 , -1.7278656 ,  1.3847394 ],\n",
       "         [-0.20813803,  0.10851022, -0.15913153]],\n",
       "\n",
       "        [[-0.07971098,  0.5514835 ,  1.8063989 ],\n",
       "         [ 0.64061797,  0.62613565, -0.97059363],\n",
       "         [-2.7785544 , -0.87387204, -0.19398607]]],\n",
       "\n",
       "\n",
       "       [[[ 2.0970972 ,  0.23130283, -0.63831663],\n",
       "         [ 0.49448475,  1.3278186 , -0.672228  ],\n",
       "         [-0.59732705, -0.5040404 ,  0.8035045 ]],\n",
       "\n",
       "        [[ 1.1897742 ,  0.9802326 , -0.23017234],\n",
       "         [ 0.58123827, -0.15222736, -0.3089182 ],\n",
       "         [-0.90990216,  1.704243  ,  0.14625913]],\n",
       "\n",
       "        [[ 1.0300932 , -0.3799537 , -0.56918085],\n",
       "         [-2.298287  ,  1.0270143 ,  2.570012  ],\n",
       "         [-0.03991516,  1.6010448 , -0.9554962 ]]]], dtype=float32)>"
      ]
     },
     "execution_count": 20,
     "metadata": {},
     "output_type": "execute_result"
    }
   ],
   "source": [
    "rank_4"
   ]
  },
  {
   "cell_type": "code",
   "execution_count": 21,
   "id": "a988bf20",
   "metadata": {},
   "outputs": [
    {
     "data": {
      "text/plain": [
       "<tf.Tensor: shape=(), dtype=float32, numpy=-0.97059363>"
      ]
     },
     "execution_count": 21,
     "metadata": {},
     "output_type": "execute_result"
    }
   ],
   "source": [
    "rank_4[1, 2, 1, 2]"
   ]
  },
  {
   "cell_type": "code",
   "execution_count": null,
   "id": "94560940",
   "metadata": {},
   "outputs": [],
   "source": []
  },
  {
   "cell_type": "code",
   "execution_count": null,
   "id": "99e42ca9",
   "metadata": {},
   "outputs": [],
   "source": []
  },
  {
   "cell_type": "code",
   "execution_count": null,
   "id": "619faad0",
   "metadata": {},
   "outputs": [],
   "source": []
  },
  {
   "cell_type": "markdown",
   "id": "2b50e10d",
   "metadata": {},
   "source": [
    "**차원 축소 연산**\n",
    "\n",
    "* `tf.reduce_mean`: 설정한 축의 평균을 구한다. \n",
    "* `tf.reduce_max`: 설정한 축의 최댓값을 구한다. \n",
    "* `tf.reduce_min`: 설정한 축의 최솟값을 구한다. \n",
    "* `tf.reduce_prod`: 설정한 축의 요소를 모두 곱한 값을 구한다. \n",
    "* `tf.reduce_sum`: 설정한 축의 요소를 모두 더한 값을 구한다. "
   ]
  },
  {
   "cell_type": "code",
   "execution_count": 22,
   "id": "1a248226",
   "metadata": {},
   "outputs": [
    {
     "data": {
      "text/plain": [
       "<tf.Tensor: shape=(6,), dtype=int32, numpy=array([0, 1, 2, 3, 4, 5])>"
      ]
     },
     "execution_count": 22,
     "metadata": {},
     "output_type": "execute_result"
    }
   ],
   "source": [
    "a"
   ]
  },
  {
   "cell_type": "code",
   "execution_count": 23,
   "id": "a4056a5f",
   "metadata": {},
   "outputs": [
    {
     "data": {
      "text/plain": [
       "(<tf.Tensor: shape=(), dtype=int32, numpy=15>,)"
      ]
     },
     "execution_count": 23,
     "metadata": {},
     "output_type": "execute_result"
    }
   ],
   "source": [
    "tf.reduce_sum(a, axis=0),"
   ]
  },
  {
   "cell_type": "code",
   "execution_count": 24,
   "id": "0bd4e0b3",
   "metadata": {},
   "outputs": [
    {
     "data": {
      "text/plain": [
       "(<tf.Tensor: shape=(1,), dtype=int32, numpy=array([15])>,)"
      ]
     },
     "execution_count": 24,
     "metadata": {},
     "output_type": "execute_result"
    }
   ],
   "source": [
    "# 보통 reduce 연산자를 쓰는 경우는 차원을 축소하고 싶을 때 사용하는데\n",
    "# 가끔 차원을 유지하고 싶다면 keepdims = True 옵션을 설정해주면 됨\n",
    "tf.reduce_sum(a, axis=0, keepdims = True),"
   ]
  },
  {
   "cell_type": "code",
   "execution_count": 25,
   "id": "cdc61ead",
   "metadata": {},
   "outputs": [
    {
     "data": {
      "text/plain": [
       "<tf.Tensor: shape=(2, 7), dtype=float32, numpy=\n",
       "array([[-1.3459417 , -1.4972265 ,  0.02254469,  1.4149795 ,  0.02711878,\n",
       "         0.46684214,  0.6199646 ],\n",
       "       [-0.10508454, -0.13637061, -0.7323845 , -0.68156457,  0.05123354,\n",
       "        -1.1780418 , -0.7695793 ]], dtype=float32)>"
      ]
     },
     "execution_count": 25,
     "metadata": {},
     "output_type": "execute_result"
    }
   ],
   "source": [
    "b = tf.random.normal([2, 7])\n",
    "b"
   ]
  },
  {
   "cell_type": "code",
   "execution_count": 26,
   "id": "bb9c46f4",
   "metadata": {},
   "outputs": [
    {
     "data": {
      "text/plain": [
       "<tf.Tensor: shape=(2,), dtype=float32, numpy=array([-0.04167407, -0.5073988 ], dtype=float32)>"
      ]
     },
     "execution_count": 26,
     "metadata": {},
     "output_type": "execute_result"
    }
   ],
   "source": [
    "tf.reduce_mean(b, axis = 1)"
   ]
  },
  {
   "cell_type": "code",
   "execution_count": 27,
   "id": "69ae7d7b",
   "metadata": {},
   "outputs": [
    {
     "data": {
      "text/plain": [
       "<tf.Tensor: shape=(7,), dtype=float32, numpy=\n",
       "array([-0.7255131 , -0.81679857, -0.3549199 ,  0.36670744,  0.03917616,\n",
       "       -0.35559982, -0.07480735], dtype=float32)>"
      ]
     },
     "execution_count": 27,
     "metadata": {},
     "output_type": "execute_result"
    }
   ],
   "source": [
    "tf.reduce_mean(b, axis = 0)"
   ]
  },
  {
   "cell_type": "markdown",
   "id": "6719bd69",
   "metadata": {},
   "source": [
    "행렬과 관련된 연산\n",
    "\n",
    "* `tf.matmul`: 내적\n",
    "* `tf.linalg.inv`: 역행렬\n"
   ]
  },
  {
   "cell_type": "code",
   "execution_count": 28,
   "id": "d38b9776",
   "metadata": {},
   "outputs": [
    {
     "data": {
      "text/plain": [
       "<tf.Tensor: shape=(2, 2), dtype=float32, numpy=\n",
       "array([[2., 2.],\n",
       "       [1., 1.]], dtype=float32)>"
      ]
     },
     "execution_count": 28,
     "metadata": {},
     "output_type": "execute_result"
    }
   ],
   "source": [
    "a = tf.constant([[2, 0], [0, 1]], dtype=tf.float32)\n",
    "b = tf.constant([[1, 1], [1, 1]], dtype=tf.float32)\n",
    "tf.matmul(a, b)"
   ]
  },
  {
   "cell_type": "code",
   "execution_count": 29,
   "id": "8af1362b",
   "metadata": {},
   "outputs": [
    {
     "data": {
      "text/plain": [
       "<tf.Tensor: shape=(2, 2), dtype=float32, numpy=\n",
       "array([[0.5, 0. ],\n",
       "       [0. , 1. ]], dtype=float32)>"
      ]
     },
     "execution_count": 29,
     "metadata": {},
     "output_type": "execute_result"
    }
   ],
   "source": [
    "a = tf.constant([[2, 0], [0, 1]], dtype=tf.float32)\n",
    "tf.linalg.inv(a)"
   ]
  },
  {
   "cell_type": "code",
   "execution_count": null,
   "id": "1d89cc35",
   "metadata": {},
   "outputs": [],
   "source": []
  },
  {
   "cell_type": "markdown",
   "id": "b253bf69",
   "metadata": {},
   "source": [
    "**🌟 크기 및 차원을 바꾸는 명령**\n",
    " (잘 사용됩니다!!)\n",
    " \n",
    "이를 사용 할 때는 축을 잘 이해하고 사용하시면 좋습니다. \n",
    "\n",
    "* `tf.reshape`: 벡터 행렬의 크기 변환\n",
    "* `tf.transpose`: 전치 연산\n",
    "* `tf.expand_dims`: 지정한 축으로 차원을 추가\n",
    "* `tf.squeeze`: 벡터로 차원을 축소"
   ]
  },
  {
   "cell_type": "code",
   "execution_count": 30,
   "id": "e542cd66",
   "metadata": {
    "scrolled": false
   },
   "outputs": [
    {
     "name": "stdout",
     "output_type": "stream",
     "text": [
      "a     : tf.Tensor([0 1 2 3 4 5], shape=(6,), dtype=int32) \n",
      "\n",
      "a_2d  : tf.Tensor(\n",
      "[[0 1 2]\n",
      " [3 4 5]], shape=(2, 3), dtype=int32) \n",
      "\n",
      "a_2d_t: tf.Tensor(\n",
      "[[0 3]\n",
      " [1 4]\n",
      " [2 5]], shape=(3, 2), dtype=int32) \n",
      "\n",
      "a_3d  : tf.Tensor(\n",
      "[[[0 1 2]\n",
      "  [3 4 5]]], shape=(1, 2, 3), dtype=int32) \n",
      "\n",
      "a_4d  : tf.Tensor(\n",
      "[[[[0]\n",
      "   [1]\n",
      "   [2]]\n",
      "\n",
      "  [[3]\n",
      "   [4]\n",
      "   [5]]]], shape=(1, 2, 3, 1), dtype=int32) \n",
      "\n",
      "a_1d  : tf.Tensor(\n",
      "[[0 1 2]\n",
      " [3 4 5]], shape=(2, 3), dtype=int32) \n",
      "\n"
     ]
    }
   ],
   "source": [
    "a = tf.range(6, dtype=tf.int32)      # [0, 1, 2, 3, 4, 5]\n",
    "print(\"a     :\", a, \"\\n\")\n",
    "\n",
    "a_2d = tf.reshape(a, (2, 3))  # 1차원 벡터는 2x3 크기의 2차원 행렬로 변환\n",
    "print(\"a_2d  :\", a_2d, \"\\n\")\n",
    "\n",
    "a_2d_t = tf.transpose(a_2d)   # 2x3 크기의 2차원 행렬을 3x2 크기의 2차원 행렬로 변환\n",
    "print(\"a_2d_t:\", a_2d_t, \"\\n\")\n",
    "\n",
    "a_3d = tf.expand_dims(a_2d, 0) # 2x3 크기의 2차원 행렬을 1x2x3 크기의 3차원 행렬로 변환\n",
    "print(\"a_3d  :\", a_3d, \"\\n\")\n",
    "''' \n",
    "딥러닝의 배치 개념(데이터를 한 묶음으로 바라볼 때)을 이용할 때 차원이 하나 더 필요하므로 \n",
    "0으로 설정 시, 기존 차원의 맨 앞에 차원 하나를 더 추가해줌\n",
    "3(-1)으로 설정 시, 기존 차원의 맨 마지막에 차원 하나를 더 추가해줌\n",
    "'''\n",
    "a_4d = tf.expand_dims(a_3d, 3) # 1x2x3 크기의 3차원 행렬을 1x2x3x1 크기의 4차원 행렬로 변환\n",
    "print(\"a_4d  :\", a_4d, \"\\n\")\n",
    " \n",
    "a_1d = tf.squeeze(a_4d)        # 1x2x3x1 크기의 4차원 행렬을 1차원 벡터로 변환\n",
    "print(\"a_1d  :\", a_1d, \"\\n\")   \n",
    "''' \n",
    "원소의 개수가 1개인 차원을 없애주는 역할\n",
    "'''"
   ]
  },
  {
   "cell_type": "code",
   "execution_count": null,
   "id": "a2151df1",
   "metadata": {},
   "outputs": [],
   "source": []
  },
  {
   "cell_type": "markdown",
   "id": "a28010f6",
   "metadata": {},
   "source": [
    "**텐서를 나누거나 두 개 이상의 텐서를 합치는 명령**\n",
    "\n",
    "* `tf.slice`: 특정 부분을 추출\n",
    "* `tf.split`: 분할\n",
    "* `tf.concat`: 합치기\n",
    "* `tf.tile`: 복제-붙이기\n",
    "* `tf.stack`: 합성\n",
    "* `tf.unstack`: 분리 "
   ]
  },
  {
   "cell_type": "code",
   "execution_count": 31,
   "id": "43b6714a",
   "metadata": {},
   "outputs": [
    {
     "data": {
      "text/plain": [
       "<tf.Tensor: shape=(3, 4), dtype=int32, numpy=\n",
       "array([[ 0,  1,  2,  3],\n",
       "       [ 4,  5,  6,  7],\n",
       "       [ 8,  9, 10, 11]])>"
      ]
     },
     "execution_count": 31,
     "metadata": {},
     "output_type": "execute_result"
    }
   ],
   "source": [
    "a = tf.reshape(tf.range(12), (3, 4))\n",
    "a"
   ]
  },
  {
   "cell_type": "code",
   "execution_count": 19,
   "id": "64f3f37d",
   "metadata": {},
   "outputs": [
    {
     "data": {
      "text/plain": [
       "<tf.Tensor: shape=(2, 3), dtype=int32, numpy=\n",
       "array([[1, 2, 3],\n",
       "       [5, 6, 7]], dtype=int32)>"
      ]
     },
     "execution_count": 19,
     "metadata": {},
     "output_type": "execute_result"
    }
   ],
   "source": [
    "# tf.slice(input_, begin, size, name=None)\n",
    "# begin : 잘라낼 부분 텐서의 시작 위치\n",
    "# size : 잘라낼 부분 텐서의 크기\n",
    "tf.slice(a, [0, 1], [2, 3])   # (0, 1)위치에서 (2개, 3개)만큼 뽑아낸다."
   ]
  },
  {
   "cell_type": "code",
   "execution_count": 40,
   "id": "c457bd34",
   "metadata": {},
   "outputs": [
    {
     "data": {
      "text/plain": [
       "<tf.Tensor: shape=(2, 4), dtype=int32, numpy=\n",
       "array([[ 4,  5,  6,  7],\n",
       "       [ 8,  9, 10, 11]])>"
      ]
     },
     "execution_count": 40,
     "metadata": {},
     "output_type": "execute_result"
    }
   ],
   "source": [
    "tf.slice(a, [1, 0],[2, 4] )"
   ]
  },
  {
   "cell_type": "code",
   "execution_count": 41,
   "id": "aa42eeb3",
   "metadata": {},
   "outputs": [
    {
     "name": "stdout",
     "output_type": "stream",
     "text": [
      "tf.Tensor(\n",
      "[[0 1]\n",
      " [4 5]\n",
      " [8 9]], shape=(3, 2), dtype=int32)\n",
      "tf.Tensor(\n",
      "[[ 2  3]\n",
      " [ 6  7]\n",
      " [10 11]], shape=(3, 2), dtype=int32)\n"
     ]
    }
   ],
   "source": [
    "a1, a2 = tf.split(a, num_or_size_splits=2, axis=1)  # 가로축(axis=1)을 따라 2개로 분할 \n",
    "print(a1)\n",
    "print(a2)"
   ]
  },
  {
   "cell_type": "code",
   "execution_count": 42,
   "id": "db1ca1d0",
   "metadata": {},
   "outputs": [
    {
     "data": {
      "text/plain": [
       "<tf.Tensor: shape=(3, 4), dtype=int32, numpy=\n",
       "array([[ 0,  1,  2,  3],\n",
       "       [ 4,  5,  6,  7],\n",
       "       [ 8,  9, 10, 11]])>"
      ]
     },
     "execution_count": 42,
     "metadata": {},
     "output_type": "execute_result"
    }
   ],
   "source": [
    "tf.concat([a1, a2], 1) # 가로축(axis=1)을 따라 a1, a2를 합치기"
   ]
  },
  {
   "cell_type": "code",
   "execution_count": 44,
   "id": "51ed59d4",
   "metadata": {},
   "outputs": [
    {
     "data": {
      "text/plain": [
       "<tf.Tensor: shape=(6, 2), dtype=int32, numpy=\n",
       "array([[ 0,  1],\n",
       "       [ 4,  5],\n",
       "       [ 8,  9],\n",
       "       [ 2,  3],\n",
       "       [ 6,  7],\n",
       "       [10, 11]])>"
      ]
     },
     "execution_count": 44,
     "metadata": {},
     "output_type": "execute_result"
    }
   ],
   "source": [
    "tf.concat([a1, a2], 0) "
   ]
  },
  {
   "cell_type": "code",
   "execution_count": 43,
   "id": "26922c48",
   "metadata": {},
   "outputs": [
    {
     "data": {
      "text/plain": [
       "<tf.Tensor: shape=(3, 6), dtype=int32, numpy=\n",
       "array([[0, 1, 0, 1, 0, 1],\n",
       "       [4, 5, 4, 5, 4, 5],\n",
       "       [8, 9, 8, 9, 8, 9]])>"
      ]
     },
     "execution_count": 43,
     "metadata": {},
     "output_type": "execute_result"
    }
   ],
   "source": [
    "tf.tile(a1, [1, 3])  # 가로축(axis=1)을 따라 3개로 복사-붙이기"
   ]
  },
  {
   "cell_type": "markdown",
   "id": "f8b742ba",
   "metadata": {},
   "source": [
    "rank가 동일한 concat과 달리 stack은 rank를 바꾸며 붙여줌"
   ]
  },
  {
   "cell_type": "code",
   "execution_count": 45,
   "id": "383dc585",
   "metadata": {},
   "outputs": [
    {
     "data": {
      "text/plain": [
       "<tf.Tensor: shape=(2, 3, 2), dtype=int32, numpy=\n",
       "array([[[ 0,  1],\n",
       "        [ 4,  5],\n",
       "        [ 8,  9]],\n",
       "\n",
       "       [[ 2,  3],\n",
       "        [ 6,  7],\n",
       "        [10, 11]]])>"
      ]
     },
     "execution_count": 45,
     "metadata": {},
     "output_type": "execute_result"
    }
   ],
   "source": [
    "a3 = tf.stack([a1, a2])  # 3x2 행렬 a1, a2를 추가적인 차원으로 붙여서 2x3x2 고차원 텐서 생성\n",
    "a3"
   ]
  },
  {
   "cell_type": "code",
   "execution_count": 46,
   "id": "2759d577",
   "metadata": {},
   "outputs": [
    {
     "data": {
      "text/plain": [
       "[<tf.Tensor: shape=(2, 2), dtype=int32, numpy=\n",
       " array([[0, 1],\n",
       "        [2, 3]])>,\n",
       " <tf.Tensor: shape=(2, 2), dtype=int32, numpy=\n",
       " array([[4, 5],\n",
       "        [6, 7]])>,\n",
       " <tf.Tensor: shape=(2, 2), dtype=int32, numpy=\n",
       " array([[ 8,  9],\n",
       "        [10, 11]])>]"
      ]
     },
     "execution_count": 46,
     "metadata": {},
     "output_type": "execute_result"
    }
   ],
   "source": [
    "tf.unstack(a3, axis=1)  # 2x3x2 고차원 텐서를 0차원으로 풀어서 3개의 2x2 행렬 생성"
   ]
  },
  {
   "cell_type": "code",
   "execution_count": null,
   "id": "609e5fea",
   "metadata": {},
   "outputs": [],
   "source": []
  },
  {
   "cell_type": "markdown",
   "id": "0111dfac",
   "metadata": {},
   "source": [
    "#### 간단 퀴즈\n",
    "\n",
    "다음 코드를 에러 없이 실행하라. "
   ]
  },
  {
   "cell_type": "code",
   "execution_count": 47,
   "id": "b05ad9e0",
   "metadata": {},
   "outputs": [
    {
     "ename": "InvalidArgumentError",
     "evalue": "{{function_node __wrapped__MatMul_device_/job:localhost/replica:0/task:0/device:CPU:0}} In[0] and In[1] has different ndims: [2,3] vs. [3] [Op:MatMul] name: ",
     "output_type": "error",
     "traceback": [
      "\u001b[1;31m---------------------------------------------------------------------------\u001b[0m",
      "\u001b[1;31mInvalidArgumentError\u001b[0m                      Traceback (most recent call last)",
      "\u001b[1;32mc:\\Users\\nabi4\\OneDrive\\바탕 화면\\제로베이스스쿨 강의자료\\제로-베이스---데이터-사이언스-스쿨---강의자료---part-11---15--230120-\\Part 11. 텐서플로 & Part 12. 파이토치\\deeplearning_frameworks_zerobaseDSS\\part1.TensorFlow\\실습용\\03_Tensor 연산.ipynb Cell 57\u001b[0m line \u001b[0;36m4\n\u001b[0;32m      <a href='vscode-notebook-cell:/c%3A/Users/nabi4/OneDrive/%EB%B0%94%ED%83%95%20%ED%99%94%EB%A9%B4/%EC%A0%9C%EB%A1%9C%EB%B2%A0%EC%9D%B4%EC%8A%A4%EC%8A%A4%EC%BF%A8%20%EA%B0%95%EC%9D%98%EC%9E%90%EB%A3%8C/%EC%A0%9C%EB%A1%9C-%EB%B2%A0%EC%9D%B4%EC%8A%A4---%EB%8D%B0%EC%9D%B4%ED%84%B0-%EC%82%AC%EC%9D%B4%EC%96%B8%EC%8A%A4-%EC%8A%A4%EC%BF%A8---%EA%B0%95%EC%9D%98%EC%9E%90%EB%A3%8C---part-11---15--230120-/Part%2011.%20%ED%85%90%EC%84%9C%ED%94%8C%EB%A1%9C%20%26%20Part%2012.%20%ED%8C%8C%EC%9D%B4%ED%86%A0%EC%B9%98/deeplearning_frameworks_zerobaseDSS/part1.TensorFlow/%EC%8B%A4%EC%8A%B5%EC%9A%A9/03_Tensor%20%EC%97%B0%EC%82%B0.ipynb#X61sZmlsZQ%3D%3D?line=0'>1</a>\u001b[0m a \u001b[39m=\u001b[39m tf\u001b[39m.\u001b[39mconstant(((\u001b[39m1\u001b[39m, \u001b[39m2\u001b[39m, \u001b[39m3\u001b[39m), (\u001b[39m1\u001b[39m, \u001b[39m2\u001b[39m, \u001b[39m3\u001b[39m)))\n\u001b[0;32m      <a href='vscode-notebook-cell:/c%3A/Users/nabi4/OneDrive/%EB%B0%94%ED%83%95%20%ED%99%94%EB%A9%B4/%EC%A0%9C%EB%A1%9C%EB%B2%A0%EC%9D%B4%EC%8A%A4%EC%8A%A4%EC%BF%A8%20%EA%B0%95%EC%9D%98%EC%9E%90%EB%A3%8C/%EC%A0%9C%EB%A1%9C-%EB%B2%A0%EC%9D%B4%EC%8A%A4---%EB%8D%B0%EC%9D%B4%ED%84%B0-%EC%82%AC%EC%9D%B4%EC%96%B8%EC%8A%A4-%EC%8A%A4%EC%BF%A8---%EA%B0%95%EC%9D%98%EC%9E%90%EB%A3%8C---part-11---15--230120-/Part%2011.%20%ED%85%90%EC%84%9C%ED%94%8C%EB%A1%9C%20%26%20Part%2012.%20%ED%8C%8C%EC%9D%B4%ED%86%A0%EC%B9%98/deeplearning_frameworks_zerobaseDSS/part1.TensorFlow/%EC%8B%A4%EC%8A%B5%EC%9A%A9/03_Tensor%20%EC%97%B0%EC%82%B0.ipynb#X61sZmlsZQ%3D%3D?line=1'>2</a>\u001b[0m b \u001b[39m=\u001b[39m tf\u001b[39m.\u001b[39mconstant([\u001b[39m1\u001b[39m, \u001b[39m2\u001b[39m, \u001b[39m3\u001b[39m])\n\u001b[1;32m----> <a href='vscode-notebook-cell:/c%3A/Users/nabi4/OneDrive/%EB%B0%94%ED%83%95%20%ED%99%94%EB%A9%B4/%EC%A0%9C%EB%A1%9C%EB%B2%A0%EC%9D%B4%EC%8A%A4%EC%8A%A4%EC%BF%A8%20%EA%B0%95%EC%9D%98%EC%9E%90%EB%A3%8C/%EC%A0%9C%EB%A1%9C-%EB%B2%A0%EC%9D%B4%EC%8A%A4---%EB%8D%B0%EC%9D%B4%ED%84%B0-%EC%82%AC%EC%9D%B4%EC%96%B8%EC%8A%A4-%EC%8A%A4%EC%BF%A8---%EA%B0%95%EC%9D%98%EC%9E%90%EB%A3%8C---part-11---15--230120-/Part%2011.%20%ED%85%90%EC%84%9C%ED%94%8C%EB%A1%9C%20%26%20Part%2012.%20%ED%8C%8C%EC%9D%B4%ED%86%A0%EC%B9%98/deeplearning_frameworks_zerobaseDSS/part1.TensorFlow/%EC%8B%A4%EC%8A%B5%EC%9A%A9/03_Tensor%20%EC%97%B0%EC%82%B0.ipynb#X61sZmlsZQ%3D%3D?line=3'>4</a>\u001b[0m tf\u001b[39m.\u001b[39;49mmatmul(a, b)\n",
      "File \u001b[1;32mc:\\Users\\nabi4\\anaconda3\\envs\\ds_study\\lib\\site-packages\\tensorflow\\python\\util\\traceback_utils.py:153\u001b[0m, in \u001b[0;36mfilter_traceback.<locals>.error_handler\u001b[1;34m(*args, **kwargs)\u001b[0m\n\u001b[0;32m    151\u001b[0m \u001b[39mexcept\u001b[39;00m \u001b[39mException\u001b[39;00m \u001b[39mas\u001b[39;00m e:\n\u001b[0;32m    152\u001b[0m   filtered_tb \u001b[39m=\u001b[39m _process_traceback_frames(e\u001b[39m.\u001b[39m__traceback__)\n\u001b[1;32m--> 153\u001b[0m   \u001b[39mraise\u001b[39;00m e\u001b[39m.\u001b[39mwith_traceback(filtered_tb) \u001b[39mfrom\u001b[39;00m \u001b[39mNone\u001b[39;00m\n\u001b[0;32m    154\u001b[0m \u001b[39mfinally\u001b[39;00m:\n\u001b[0;32m    155\u001b[0m   \u001b[39mdel\u001b[39;00m filtered_tb\n",
      "File \u001b[1;32mc:\\Users\\nabi4\\anaconda3\\envs\\ds_study\\lib\\site-packages\\tensorflow\\python\\framework\\ops.py:6656\u001b[0m, in \u001b[0;36mraise_from_not_ok_status\u001b[1;34m(e, name)\u001b[0m\n\u001b[0;32m   6654\u001b[0m \u001b[39mdef\u001b[39;00m \u001b[39mraise_from_not_ok_status\u001b[39m(e, name):\n\u001b[0;32m   6655\u001b[0m   e\u001b[39m.\u001b[39mmessage \u001b[39m+\u001b[39m\u001b[39m=\u001b[39m (\u001b[39m\"\u001b[39m\u001b[39m name: \u001b[39m\u001b[39m\"\u001b[39m \u001b[39m+\u001b[39m \u001b[39mstr\u001b[39m(name \u001b[39mif\u001b[39;00m name \u001b[39mis\u001b[39;00m \u001b[39mnot\u001b[39;00m \u001b[39mNone\u001b[39;00m \u001b[39melse\u001b[39;00m \u001b[39m\"\u001b[39m\u001b[39m\"\u001b[39m))\n\u001b[1;32m-> 6656\u001b[0m   \u001b[39mraise\u001b[39;00m core\u001b[39m.\u001b[39m_status_to_exception(e) \u001b[39mfrom\u001b[39;00m \u001b[39mNone\u001b[39;00m\n",
      "\u001b[1;31mInvalidArgumentError\u001b[0m: {{function_node __wrapped__MatMul_device_/job:localhost/replica:0/task:0/device:CPU:0}} In[0] and In[1] has different ndims: [2,3] vs. [3] [Op:MatMul] name: "
     ]
    }
   ],
   "source": [
    "a = tf.constant(((1, 2, 3), (1, 2, 3)))\n",
    "b = tf.constant([1, 2, 3])\n",
    "\n",
    "tf.matmul(a, b)"
   ]
  },
  {
   "cell_type": "code",
   "execution_count": 48,
   "id": "4ca99c62",
   "metadata": {},
   "outputs": [
    {
     "data": {
      "text/plain": [
       "<tf.Tensor: shape=(2, 3), dtype=int32, numpy=\n",
       "array([[1, 2, 3],\n",
       "       [1, 2, 3]])>"
      ]
     },
     "execution_count": 48,
     "metadata": {},
     "output_type": "execute_result"
    }
   ],
   "source": [
    "a"
   ]
  },
  {
   "cell_type": "code",
   "execution_count": 49,
   "id": "28ff7ad8",
   "metadata": {},
   "outputs": [
    {
     "data": {
      "text/plain": [
       "<tf.Tensor: shape=(3,), dtype=int32, numpy=array([1, 2, 3])>"
      ]
     },
     "execution_count": 49,
     "metadata": {},
     "output_type": "execute_result"
    }
   ],
   "source": [
    "b"
   ]
  },
  {
   "cell_type": "code",
   "execution_count": 51,
   "id": "0ee751ff",
   "metadata": {},
   "outputs": [
    {
     "data": {
      "text/plain": [
       "<tf.Tensor: shape=(2, 1), dtype=int32, numpy=\n",
       "array([[14],\n",
       "       [14]])>"
      ]
     },
     "execution_count": 51,
     "metadata": {},
     "output_type": "execute_result"
    }
   ],
   "source": [
    "tf.matmul(a, tf.reshape(b, (3, -1)))"
   ]
  },
  {
   "cell_type": "code",
   "execution_count": 52,
   "id": "0df36c45",
   "metadata": {},
   "outputs": [
    {
     "data": {
      "text/plain": [
       "<tf.Tensor: shape=(2, 1), dtype=int32, numpy=\n",
       "array([[14],\n",
       "       [14]])>"
      ]
     },
     "execution_count": 52,
     "metadata": {},
     "output_type": "execute_result"
    }
   ],
   "source": [
    "tf.matmul(a, tf.expand_dims(b, axis = 1))"
   ]
  },
  {
   "cell_type": "markdown",
   "id": "a7fe4d91",
   "metadata": {},
   "source": [
    "-----"
   ]
  },
  {
   "cell_type": "code",
   "execution_count": null,
   "id": "d9124f61",
   "metadata": {},
   "outputs": [],
   "source": []
  },
  {
   "cell_type": "code",
   "execution_count": null,
   "id": "8691f37b",
   "metadata": {},
   "outputs": [],
   "source": []
  },
  {
   "cell_type": "code",
   "execution_count": null,
   "id": "e4ff63b7",
   "metadata": {},
   "outputs": [],
   "source": []
  }
 ],
 "metadata": {
  "kernelspec": {
   "display_name": "Python 3 (ipykernel)",
   "language": "python",
   "name": "python3"
  },
  "language_info": {
   "codemirror_mode": {
    "name": "ipython",
    "version": 3
   },
   "file_extension": ".py",
   "mimetype": "text/x-python",
   "name": "python",
   "nbconvert_exporter": "python",
   "pygments_lexer": "ipython3",
   "version": "3.8.17"
  },
  "toc": {
   "base_numbering": 1,
   "nav_menu": {},
   "number_sections": true,
   "sideBar": true,
   "skip_h1_title": false,
   "title_cell": "Table of Contents",
   "title_sidebar": "Contents",
   "toc_cell": false,
   "toc_position": {
    "height": "calc(100% - 180px)",
    "left": "10px",
    "top": "150px",
    "width": "205.312px"
   },
   "toc_section_display": true,
   "toc_window_display": true
  },
  "varInspector": {
   "cols": {
    "lenName": 16,
    "lenType": 16,
    "lenVar": 40
   },
   "kernels_config": {
    "python": {
     "delete_cmd_postfix": "",
     "delete_cmd_prefix": "del ",
     "library": "var_list.py",
     "varRefreshCmd": "print(var_dic_list())"
    },
    "r": {
     "delete_cmd_postfix": ") ",
     "delete_cmd_prefix": "rm(",
     "library": "var_list.r",
     "varRefreshCmd": "cat(var_dic_list()) "
    }
   },
   "types_to_exclude": [
    "module",
    "function",
    "builtin_function_or_method",
    "instance",
    "_Feature"
   ],
   "window_display": false
  }
 },
 "nbformat": 4,
 "nbformat_minor": 5
}
