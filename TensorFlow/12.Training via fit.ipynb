{
 "cells": [
  {
   "cell_type": "markdown",
   "id": "f9da32fd",
   "metadata": {},
   "source": [
    "# Training"
   ]
  },
  {
   "cell_type": "code",
   "execution_count": 1,
   "id": "32fb3f37",
   "metadata": {},
   "outputs": [],
   "source": [
    "import numpy as np\n",
    "import pandas as pd\n",
    "import tensorflow as tf\n",
    "\n",
    "import matplotlib.pyplot as plt\n",
    "import seaborn as sns\n",
    "%matplotlib inline"
   ]
  },
  {
   "cell_type": "code",
   "execution_count": 2,
   "id": "5c40f4a5",
   "metadata": {},
   "outputs": [],
   "source": [
    "np.random.seed(7777)\n",
    "tf.random.set_seed(7777)"
   ]
  },
  {
   "cell_type": "code",
   "execution_count": 3,
   "id": "cfbead7a",
   "metadata": {},
   "outputs": [
    {
     "name": "stdout",
     "output_type": "stream",
     "text": [
      "(50000, 32, 32, 3) float32\n",
      "(50000, 10) float32\n",
      "(10000, 32, 32, 3) float32\n",
      "(10000, 10) float32\n"
     ]
    }
   ],
   "source": [
    "class Cifar10DataLoader():\n",
    "    def __init__(self):\n",
    "        # data load\n",
    "        (self.train_x, self.train_y), \\\n",
    "            (self.test_x, self.test_y) = tf.keras.datasets.cifar10.load_data()\n",
    "        self.input_shape = self.train_x.shape[1:]\n",
    "\n",
    "    def scale(self, x):\n",
    "\n",
    "        return (x / 255.0).astype(np.float32)\n",
    "\n",
    "    def preprocess_dataset(self, dataset):\n",
    "\n",
    "        (feature, target) = dataset\n",
    "\n",
    "        # scaling #\n",
    "        scaled_x = np.array([self.scale(x) for x in feature])\n",
    "\n",
    "        # label encoding #\n",
    "        ohe_y = np.array([tf.keras.utils.to_categorical(\n",
    "            y, num_classes=10) for y in target])\n",
    "        \n",
    "        return scaled_x, ohe_y.squeeze(1)\n",
    "\n",
    "    def get_train_dataset(self):\n",
    "        return self.preprocess_dataset((self.train_x, self.train_y))\n",
    "\n",
    "    def get_test_dataset(self):\n",
    "        return self.preprocess_dataset((self.test_x, self.test_y))\n",
    "\n",
    "cifar10_loader = Cifar10DataLoader()\n",
    "train_x, train_y = cifar10_loader.get_train_dataset()\n",
    "\n",
    "print(train_x.shape, train_x.dtype)\n",
    "print(train_y.shape, train_y.dtype)\n",
    "\n",
    "test_x, test_y = cifar10_loader.get_test_dataset()\n",
    "\n",
    "print(test_x.shape, test_x.dtype)\n",
    "print(test_y.shape, test_y.dtype)"
   ]
  },
  {
   "cell_type": "code",
   "execution_count": 4,
   "id": "c511a44b",
   "metadata": {},
   "outputs": [
    {
     "name": "stdout",
     "output_type": "stream",
     "text": [
      "Model: \"resnet\"\n",
      "__________________________________________________________________________________________________\n",
      " Layer (type)                Output Shape                 Param #   Connected to                  \n",
      "==================================================================================================\n",
      " input_1 (InputLayer)        [(None, 32, 32, 3)]          0         []                            \n",
      "                                                                                                  \n",
      " conv2d (Conv2D)             (None, 16, 16, 32)           896       ['input_1[0][0]']             \n",
      "                                                                                                  \n",
      " max_pooling2d (MaxPooling2  (None, 8, 8, 32)             0         ['conv2d[0][0]']              \n",
      " D)                                                                                               \n",
      "                                                                                                  \n",
      " conv2d_1 (Conv2D)           (None, 8, 8, 64)             2112      ['max_pooling2d[0][0]']       \n",
      "                                                                                                  \n",
      " conv2d_2 (Conv2D)           (None, 8, 8, 64)             36928     ['conv2d_1[0][0]']            \n",
      "                                                                                                  \n",
      " conv2d_4 (Conv2D)           (None, 8, 8, 64)             2112      ['max_pooling2d[0][0]']       \n",
      "                                                                                                  \n",
      " conv2d_3 (Conv2D)           (None, 8, 8, 64)             4160      ['conv2d_2[0][0]']            \n",
      "                                                                                                  \n",
      " add (Add)                   (None, 8, 8, 64)             0         ['conv2d_4[0][0]',            \n",
      "                                                                     'conv2d_3[0][0]']            \n",
      "                                                                                                  \n",
      " conv2d_5 (Conv2D)           (None, 8, 8, 64)             4160      ['add[0][0]']                 \n",
      "                                                                                                  \n",
      " conv2d_6 (Conv2D)           (None, 8, 8, 64)             36928     ['conv2d_5[0][0]']            \n",
      "                                                                                                  \n",
      " conv2d_7 (Conv2D)           (None, 8, 8, 64)             4160      ['conv2d_6[0][0]']            \n",
      "                                                                                                  \n",
      " add_1 (Add)                 (None, 8, 8, 64)             0         ['add[0][0]',                 \n",
      "                                                                     'conv2d_7[0][0]']            \n",
      "                                                                                                  \n",
      " max_pooling2d_1 (MaxPoolin  (None, 4, 4, 64)             0         ['add_1[0][0]']               \n",
      " g2D)                                                                                             \n",
      "                                                                                                  \n",
      " flatten (Flatten)           (None, 1024)                 0         ['max_pooling2d_1[0][0]']     \n",
      "                                                                                                  \n",
      " dense (Dense)               (None, 10)                   10250     ['flatten[0][0]']             \n",
      "                                                                                                  \n",
      "==================================================================================================\n",
      "Total params: 101706 (397.29 KB)\n",
      "Trainable params: 101706 (397.29 KB)\n",
      "Non-trainable params: 0 (0.00 Byte)\n",
      "__________________________________________________________________________________________________\n"
     ]
    }
   ],
   "source": [
    "from tensorflow.keras.layers import Input, Conv2D, MaxPool2D, Flatten, Dense, Add\n",
    "\n",
    "def build_resnet(input_shape):\n",
    "    inputs = Input(input_shape)\n",
    "\n",
    "    net = Conv2D(32, kernel_size=3, strides=2,\n",
    "                 padding='same', activation='relu')(inputs)\n",
    "    net = MaxPool2D()(net)\n",
    "    \n",
    "    net1 = Conv2D(64, kernel_size=1, padding='same', activation='relu')(net)\n",
    "    net2 = Conv2D(64, kernel_size=3, padding='same', activation='relu')(net1)\n",
    "    net3 = Conv2D(64, kernel_size=1, padding='same', activation='relu')(net2)\n",
    "    \n",
    "    net1_1 = Conv2D(64, kernel_size=1, padding='same')(net)\n",
    "    net = Add()([net1_1, net3])\n",
    "    \n",
    "    net1 = Conv2D(64, kernel_size=1, padding='same', activation='relu')(net)\n",
    "    net2 = Conv2D(64, kernel_size=3, padding='same', activation='relu')(net1)\n",
    "    net3 = Conv2D(64, kernel_size=1, padding='same', activation='relu')(net2)\n",
    "    \n",
    "    net = Add()([net, net3])\n",
    "    \n",
    "    net = MaxPool2D()(net)\n",
    "    \n",
    "    net = Flatten()(net)\n",
    "    net = Dense(10, activation=\"softmax\")(net)\n",
    "\n",
    "    model = tf.keras.Model(inputs=inputs, outputs=net, name='resnet')\n",
    "    \n",
    "    return model\n",
    "\n",
    "model = build_resnet((32, 32, 3))\n",
    "model.summary()"
   ]
  },
  {
   "cell_type": "markdown",
   "id": "effee081",
   "metadata": {},
   "source": [
    "## fit 함수 사용\n",
    "\n",
    "$$\n",
    "\\Large{\n",
    "model.compile() \\rightarrow model.fit()\n",
    "}\n",
    "$$"
   ]
  },
  {
   "cell_type": "markdown",
   "id": "01d34fd5",
   "metadata": {},
   "source": [
    "#### compile의 입력값\n",
    "\n",
    "- optimizer='rmsprop' : Optimizer \n",
    "- loss=None : Loss function\n",
    "- metrics=None : Metrics\n",
    "- loss_weights=None : loss가 여러 개인 경우 각 로스마다 다르게 중요도를 설정 할 수 있다. \n"
   ]
  },
  {
   "cell_type": "markdown",
   "id": "90623b82",
   "metadata": {},
   "source": [
    "loss 지정하는 방법\n",
    "\n",
    "1. `tf.keras.losses`이용"
   ]
  },
  {
   "cell_type": "code",
   "execution_count": 5,
   "id": "1fbb8ba5",
   "metadata": {},
   "outputs": [],
   "source": [
    "learning_rate = 0.03\n",
    "opt = tf.keras.optimizers.Adam(learning_rate)\n",
    "loss = tf.keras.losses.categorical_crossentropy"
   ]
  },
  {
   "cell_type": "code",
   "execution_count": 6,
   "id": "c428cbc0",
   "metadata": {},
   "outputs": [],
   "source": [
    "model.compile(optimizer=opt, loss=loss, metrics=[\"accuracy\"])"
   ]
  },
  {
   "cell_type": "markdown",
   "id": "1741d27d",
   "metadata": {},
   "source": [
    "2. 사용자 정의함수로 loss 지정"
   ]
  },
  {
   "cell_type": "code",
   "execution_count": 7,
   "id": "2bcd9a67",
   "metadata": {},
   "outputs": [],
   "source": [
    "# 사용자 정의 loss : 입력으로 정답값, 예측값의 순서로 꼭 받아야함\n",
    "def custom_loss(y_true, y_pred):\n",
    "    return tf.reduce_mean(tf.square(y_true - y_pred))"
   ]
  },
  {
   "cell_type": "code",
   "execution_count": 8,
   "id": "714a294c",
   "metadata": {},
   "outputs": [],
   "source": [
    "model.compile(optimizer=opt, loss=custom_loss, metrics=[\"accuracy\"])"
   ]
  },
  {
   "cell_type": "markdown",
   "id": "64ec123d",
   "metadata": {},
   "source": [
    "이때 loss를 여러 개를 입력할 수도, 각각의 중요도를 조절할 수도 있음"
   ]
  },
  {
   "cell_type": "code",
   "execution_count": 9,
   "id": "dc441abc",
   "metadata": {},
   "outputs": [],
   "source": [
    "#여러 개의 Loss : 리스트 형태로 입력\n",
    "model.compile(optimizer=opt, loss=[loss, custom_loss], metrics=[\"accuracy\"])"
   ]
  },
  {
   "cell_type": "code",
   "execution_count": 10,
   "id": "1cdc652b",
   "metadata": {},
   "outputs": [],
   "source": [
    "#여러 개의 Loss + loss weights\n",
    "# 각각의 loss에 대한 중요도 조절\n",
    "# 각 loss에 wieghts를 곱해서 더한 값을 최종 loss로 사용\n",
    "model.compile(optimizer=opt, loss=[loss, custom_loss], loss_weights=[0.7, 0.3], metrics=[\"accuracy\"])"
   ]
  },
  {
   "cell_type": "markdown",
   "id": "b9a3225c",
   "metadata": {},
   "source": [
    "3. 텍스트로 loss 지정"
   ]
  },
  {
   "cell_type": "code",
   "execution_count": 36,
   "id": "ad8e18fe",
   "metadata": {},
   "outputs": [],
   "source": [
    "loss = \"categorical_crossentropy\" # 이렇게 텍스트로 가능한 함수도 있음.\n",
    "\n",
    "model.compile(optimizer=opt, loss=loss, metrics=[\"accuracy\"])"
   ]
  },
  {
   "cell_type": "code",
   "execution_count": null,
   "id": "fc8f8fe3",
   "metadata": {},
   "outputs": [],
   "source": []
  },
  {
   "cell_type": "markdown",
   "id": "fb7fb4bc",
   "metadata": {},
   "source": [
    "metrics 지정하는 방법\n",
    "\n",
    "1. `tf.keras.metrics` 이용"
   ]
  },
  {
   "cell_type": "code",
   "execution_count": 37,
   "id": "482de38a",
   "metadata": {},
   "outputs": [],
   "source": [
    "# mertircs에도 여러 개를 넣을 수 있음\n",
    "acc = tf.keras.metrics.Accuracy()\n",
    "auc = tf.keras.metrics.AUC()"
   ]
  },
  {
   "cell_type": "code",
   "execution_count": 38,
   "id": "4b15edc6",
   "metadata": {},
   "outputs": [],
   "source": [
    "model.compile(optimizer=opt, loss=loss, metrics=[acc, auc])"
   ]
  },
  {
   "cell_type": "markdown",
   "id": "89a002fd",
   "metadata": {},
   "source": [
    "2. 사용자 정의 함수로 지정"
   ]
  },
  {
   "cell_type": "code",
   "execution_count": 52,
   "id": "abd7e409",
   "metadata": {},
   "outputs": [],
   "source": [
    "def custom_metric(y_true, y_pred):\n",
    "    \n",
    "    true = tf.argmax(y_true, axis=-1)\n",
    "    pred = tf.argmax(y_pred, axis=-1)\n",
    "    \n",
    "    return tf.reduce_sum(tf.cast(tf.equal(true, pred), tf.int32))\n"
   ]
  },
  {
   "cell_type": "code",
   "execution_count": 53,
   "id": "2dd3a44b",
   "metadata": {},
   "outputs": [],
   "source": [
    "model.compile(optimizer=opt, loss=loss, metrics=[custom_metric])"
   ]
  },
  {
   "cell_type": "code",
   "execution_count": 54,
   "id": "6e68f3f3",
   "metadata": {},
   "outputs": [],
   "source": [
    "model.compile(optimizer=opt, loss=loss, metrics=[\"accuracy\", custom_metric])"
   ]
  },
  {
   "cell_type": "code",
   "execution_count": null,
   "id": "00e2c43e",
   "metadata": {},
   "outputs": [],
   "source": []
  },
  {
   "cell_type": "markdown",
   "id": "d95e4dd1",
   "metadata": {},
   "source": [
    "### fit의 입력값\n",
    "\n",
    "- x=None \n",
    "- y=None\n",
    "- batch_size=None\n",
    "- epochs=1\n",
    "- verbose='auto' : 학습과정 출력문의 모드\n",
    "- callbacks=None : Callback 함수\n",
    "- validation_split=0.0 : 입력데이터의 일정 부분을 Validation 용 데이터로 사용함\n",
    "- validation_data=None : Validation 용 데이터 \n",
    "- shuffle=True : 입력값을 Epoch 마다 섞는다. \n",
    "- class_weight=None : 클래스 별로 다른 중요도를 설정한다. \n",
    "- ..."
   ]
  },
  {
   "cell_type": "code",
   "execution_count": 55,
   "id": "99dda8ce",
   "metadata": {},
   "outputs": [
    {
     "name": "stdout",
     "output_type": "stream",
     "text": [
      "274/274 [==============================] - 20s 72ms/step - loss: 1.8701 - accuracy: 0.3338 - custom_metric: 0.0000e+00 - val_loss: 1.8292 - val_accuracy: 0.3471 - val_custom_metric: 0.0000e+00\n"
     ]
    }
   ],
   "source": [
    "hist = model.fit(train_x, \n",
    "                 train_y,\n",
    "                 epochs=1, \n",
    "                 batch_size=128, \n",
    "                 validation_split=0.3,\n",
    "                 verbose=1\n",
    "                )"
   ]
  },
  {
   "cell_type": "markdown",
   "id": "2bd9888b",
   "metadata": {},
   "source": [
    "### Callback 함수 활용하기 \n",
    "\n",
    " - Callback 함수를 활용하면, fit() 함수가 돌아가는 와중에도 특정한 주기로 원하는 코드를 실행 시킬 수 있음. \n",
    " \n",
    " ex> 학습이 진행되면, Learning rate를 점점 줄여서 더 세밀하게 모델의 웨이트가 조정 될 수 있도록 하고 싶다. \n",
    "\n",
    " `tf.keras.callbacks.LearningRateScheduler` : 입력값으로 epoch와 lr을 받음"
   ]
  },
  {
   "cell_type": "code",
   "execution_count": 15,
   "id": "c9cb6da8",
   "metadata": {},
   "outputs": [],
   "source": [
    "# epoch이 10을 초과할 때마다 lr을 감소시켜 안정적으로 수렴하도록 도움을 줌\n",
    "def scheduler(epoch, lr):\n",
    "    if epoch > 10:\n",
    "        return lr * (0.9**(epoch - 10))\n",
    "    else: \n",
    "        return lr\n",
    "\n",
    "lr_scheduler = tf.keras.callbacks.LearningRateScheduler(scheduler)"
   ]
  },
  {
   "cell_type": "code",
   "execution_count": 16,
   "id": "c0415a5b",
   "metadata": {},
   "outputs": [
    {
     "name": "stdout",
     "output_type": "stream",
     "text": [
      "Epoch 1/20\n",
      "274/274 [==============================] - 14s 52ms/step - loss: 1.7438 - accuracy: 0.0994 - val_loss: 1.6223 - val_accuracy: 0.1005 - lr: 0.1180\n",
      "Epoch 2/20\n",
      "274/274 [==============================] - 14s 51ms/step - loss: 1.7269 - accuracy: 0.1006 - val_loss: 1.6618 - val_accuracy: 0.0979 - lr: 0.1180\n",
      "Epoch 3/20\n",
      "274/274 [==============================] - 15s 54ms/step - loss: 1.6960 - accuracy: 0.0979 - val_loss: 1.6293 - val_accuracy: 0.1014 - lr: 0.1180\n",
      "Epoch 4/20\n",
      "274/274 [==============================] - 15s 54ms/step - loss: 1.6753 - accuracy: 0.0990 - val_loss: 1.6337 - val_accuracy: 0.0999 - lr: 0.1180\n",
      "Epoch 5/20\n",
      "274/274 [==============================] - 15s 54ms/step - loss: 1.7164 - accuracy: 0.1003 - val_loss: 1.6252 - val_accuracy: 0.1014 - lr: 0.1180\n",
      "Epoch 6/20\n",
      "274/274 [==============================] - 15s 56ms/step - loss: 1.6642 - accuracy: 0.1019 - val_loss: 1.6376 - val_accuracy: 0.1025 - lr: 0.1180\n",
      "Epoch 7/20\n",
      "274/274 [==============================] - 16s 60ms/step - loss: 1.6602 - accuracy: 0.0995 - val_loss: 1.7052 - val_accuracy: 0.1025 - lr: 0.1180\n",
      "Epoch 8/20\n",
      "274/274 [==============================] - 18s 66ms/step - loss: 1.6523 - accuracy: 0.0978 - val_loss: 1.6180 - val_accuracy: 0.1017 - lr: 0.1180\n",
      "Epoch 9/20\n",
      "274/274 [==============================] - 20s 74ms/step - loss: 1.6459 - accuracy: 0.1000 - val_loss: 1.6672 - val_accuracy: 0.0979 - lr: 0.1180\n",
      "Epoch 10/20\n",
      "274/274 [==============================] - 24s 89ms/step - loss: 1.6371 - accuracy: 0.0985 - val_loss: 1.6272 - val_accuracy: 0.0984 - lr: 0.1180\n",
      "Epoch 11/20\n",
      "274/274 [==============================] - 27s 97ms/step - loss: 1.6420 - accuracy: 0.1006 - val_loss: 1.6821 - val_accuracy: 0.0999 - lr: 0.1180\n",
      "Epoch 12/20\n",
      "274/274 [==============================] - 26s 93ms/step - loss: 1.6287 - accuracy: 0.1025 - val_loss: 1.6454 - val_accuracy: 0.1014 - lr: 0.1062\n",
      "Epoch 13/20\n",
      "274/274 [==============================] - 25s 91ms/step - loss: 1.6234 - accuracy: 0.1007 - val_loss: 1.6178 - val_accuracy: 0.1010 - lr: 0.0860\n",
      "Epoch 14/20\n",
      "274/274 [==============================] - 20s 73ms/step - loss: 1.6276 - accuracy: 0.1011 - val_loss: 1.6257 - val_accuracy: 0.0999 - lr: 0.0627\n",
      "Epoch 15/20\n",
      "274/274 [==============================] - 20s 72ms/step - loss: 1.6195 - accuracy: 0.1019 - val_loss: 1.6138 - val_accuracy: 0.0983 - lr: 0.0412\n",
      "Epoch 16/20\n",
      "274/274 [==============================] - 23s 84ms/step - loss: 1.6176 - accuracy: 0.0983 - val_loss: 1.6145 - val_accuracy: 0.1025 - lr: 0.0243\n",
      "Epoch 17/20\n",
      "274/274 [==============================] - 34s 125ms/step - loss: 1.6148 - accuracy: 0.1012 - val_loss: 1.6124 - val_accuracy: 0.0979 - lr: 0.0129\n",
      "Epoch 18/20\n",
      "274/274 [==============================] - 28s 101ms/step - loss: 1.6130 - accuracy: 0.0988 - val_loss: 1.6132 - val_accuracy: 0.1025 - lr: 0.0062\n",
      "Epoch 19/20\n",
      "274/274 [==============================] - 19s 71ms/step - loss: 1.6123 - accuracy: 0.0977 - val_loss: 1.6126 - val_accuracy: 0.0984 - lr: 0.0027\n",
      "Epoch 20/20\n",
      "274/274 [==============================] - 22s 79ms/step - loss: 1.6121 - accuracy: 0.0982 - val_loss: 1.6121 - val_accuracy: 0.1025 - lr: 0.0010\n"
     ]
    }
   ],
   "source": [
    "hist = model.fit(train_x, \n",
    "                 train_y,\n",
    "                 epochs=20, \n",
    "                 batch_size=128, \n",
    "                 validation_split=0.3,\n",
    "                 verbose=1,\n",
    "                 callbacks=[lr_scheduler],\n",
    "                )"
   ]
  },
  {
   "cell_type": "code",
   "execution_count": null,
   "id": "f1b02879",
   "metadata": {},
   "outputs": [],
   "source": [
    "# 위와 같은 callback이나 earlystoping, history를 남기는 callback등 다양한 callback 함수를 사용함."
   ]
  }
 ],
 "metadata": {
  "kernelspec": {
   "display_name": "Python 3 (ipykernel)",
   "language": "python",
   "name": "python3"
  },
  "language_info": {
   "codemirror_mode": {
    "name": "ipython",
    "version": 3
   },
   "file_extension": ".py",
   "mimetype": "text/x-python",
   "name": "python",
   "nbconvert_exporter": "python",
   "pygments_lexer": "ipython3",
   "version": "3.8.17"
  },
  "varInspector": {
   "cols": {
    "lenName": 16,
    "lenType": 16,
    "lenVar": 40
   },
   "kernels_config": {
    "python": {
     "delete_cmd_postfix": "",
     "delete_cmd_prefix": "del ",
     "library": "var_list.py",
     "varRefreshCmd": "print(var_dic_list())"
    },
    "r": {
     "delete_cmd_postfix": ") ",
     "delete_cmd_prefix": "rm(",
     "library": "var_list.r",
     "varRefreshCmd": "cat(var_dic_list()) "
    }
   },
   "types_to_exclude": [
    "module",
    "function",
    "builtin_function_or_method",
    "instance",
    "_Feature"
   ],
   "window_display": false
  }
 },
 "nbformat": 4,
 "nbformat_minor": 5
}
