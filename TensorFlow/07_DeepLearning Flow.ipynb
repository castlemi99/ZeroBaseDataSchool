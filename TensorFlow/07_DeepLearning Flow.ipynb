{
 "cells": [
  {
   "cell_type": "markdown",
   "id": "3169f002",
   "metadata": {},
   "source": [
    "# Deep learning Flow"
   ]
  },
  {
   "cell_type": "code",
   "execution_count": 2,
   "id": "40ae810a",
   "metadata": {},
   "outputs": [],
   "source": [
    "import numpy as np\n",
    "import pandas as pd\n",
    "import tensorflow as tf\n",
    "\n",
    "import matplotlib.pyplot as plt\n",
    "import seaborn as sns\n",
    "%matplotlib inline"
   ]
  },
  {
   "cell_type": "markdown",
   "id": "e607c9f2",
   "metadata": {},
   "source": [
    "## 변하지 않는 Deep learning Flow \n",
    "\n",
    "<img src=../../statics/imgs/dl_flow.png> </img>"
   ]
  },
  {
   "cell_type": "markdown",
   "id": "552cb4b9",
   "metadata": {},
   "source": [
    "## 1. Data 가져오기\n",
    "\n",
    "TensorFlow에서 제공하는 MNIST 예제"
   ]
  },
  {
   "cell_type": "markdown",
   "id": "0182c0f2",
   "metadata": {},
   "source": [
    "- 데이터 shape, dtype 확인하기"
   ]
  },
  {
   "cell_type": "code",
   "execution_count": 3,
   "id": "1f6659ec",
   "metadata": {},
   "outputs": [],
   "source": [
    "(train_x, train_y), (test_x, test_y) = tf.keras.datasets.mnist.load_data()"
   ]
  },
  {
   "cell_type": "code",
   "execution_count": 4,
   "id": "4def170f",
   "metadata": {},
   "outputs": [
    {
     "name": "stdout",
     "output_type": "stream",
     "text": [
      "(60000, 28, 28)\n",
      "(10000, 28, 28)\n"
     ]
    }
   ],
   "source": [
    "print(train_x.shape)\n",
    "print(test_x.shape)"
   ]
  },
  {
   "cell_type": "code",
   "execution_count": 5,
   "id": "8518c3d5",
   "metadata": {},
   "outputs": [
    {
     "name": "stdout",
     "output_type": "stream",
     "text": [
      "(60000,)\n",
      "(10000,)\n"
     ]
    }
   ],
   "source": [
    "print(train_y.shape)\n",
    "print(test_y.shape)"
   ]
  },
  {
   "cell_type": "code",
   "execution_count": 6,
   "id": "f6645fb8",
   "metadata": {},
   "outputs": [
    {
     "name": "stdout",
     "output_type": "stream",
     "text": [
      "uint8\n",
      "uint8\n",
      "uint8\n",
      "uint8\n"
     ]
    }
   ],
   "source": [
    "print(train_x.dtype)\n",
    "print(test_x.dtype)\n",
    "\n",
    "print(train_y.dtype)\n",
    "print(test_y.dtype)"
   ]
  },
  {
   "cell_type": "markdown",
   "id": "4f4c46cb",
   "metadata": {},
   "source": [
    "데이터 하나 확인하기"
   ]
  },
  {
   "cell_type": "code",
   "execution_count": 7,
   "id": "194761f1",
   "metadata": {},
   "outputs": [
    {
     "data": {
      "text/plain": [
       "(28, 28)"
      ]
     },
     "execution_count": 7,
     "metadata": {},
     "output_type": "execute_result"
    }
   ],
   "source": [
    "image = train_x[77]\n",
    "image.shape"
   ]
  },
  {
   "cell_type": "code",
   "execution_count": 8,
   "id": "673b7e92",
   "metadata": {},
   "outputs": [
    {
     "data": {
      "image/png": "[encoded data removed]",
      "text/plain": [
       "<Figure size 640x480 with 1 Axes>"
      ]
     },
     "metadata": {},
     "output_type": "display_data"
    }
   ],
   "source": [
    "plt.imshow(image, 'gray')\n",
    "plt.show()"
   ]
  },
  {
   "cell_type": "markdown",
   "id": "78c192af",
   "metadata": {},
   "source": [
    "#### 데이터를 받으면 데이터를 이해하기 위해 노력해야합니다! \n"
   ]
  },
  {
   "cell_type": "markdown",
   "id": "75a0b963",
   "metadata": {},
   "source": [
    "#### ex> 훈련용 데이터셋에는 각 숫자의 그림이 몇개씩 들어가 있나? (QUIZ)"
   ]
  },
  {
   "cell_type": "markdown",
   "id": "7421cad4",
   "metadata": {},
   "source": [
    "----"
   ]
  },
  {
   "cell_type": "code",
   "execution_count": 9,
   "id": "420b5046",
   "metadata": {},
   "outputs": [
    {
     "name": "stdout",
     "output_type": "stream",
     "text": [
      "[0 1 2 3 4 5 6 7 8 9] [5923 6742 5958 6131 5842 5421 5918 6265 5851 5949]\n"
     ]
    }
   ],
   "source": [
    "y_unique, y_counts = np.unique(train_y, return_counts=True)\n",
    "print(y_unique, y_counts)"
   ]
  },
  {
   "cell_type": "code",
   "execution_count": 16,
   "id": "7a338b13",
   "metadata": {},
   "outputs": [
    {
     "data": {
      "text/html": [
       "<div>\n",
       "<style scoped>\n",
       "    .dataframe tbody tr th:only-of-type {\n",
       "        vertical-align: middle;\n",
       "    }\n",
       "\n",
       "    .dataframe tbody tr th {\n",
       "        vertical-align: top;\n",
       "    }\n",
       "\n",
       "    .dataframe thead th {\n",
       "        text-align: right;\n",
       "    }\n",
       "</style>\n",
       "<table border=\"1\" class=\"dataframe\">\n",
       "  <thead>\n",
       "    <tr style=\"text-align: right;\">\n",
       "      <th></th>\n",
       "      <th>count</th>\n",
       "    </tr>\n",
       "  </thead>\n",
       "  <tbody>\n",
       "    <tr>\n",
       "      <th>1</th>\n",
       "      <td>6742</td>\n",
       "    </tr>\n",
       "    <tr>\n",
       "      <th>7</th>\n",
       "      <td>6265</td>\n",
       "    </tr>\n",
       "    <tr>\n",
       "      <th>3</th>\n",
       "      <td>6131</td>\n",
       "    </tr>\n",
       "    <tr>\n",
       "      <th>2</th>\n",
       "      <td>5958</td>\n",
       "    </tr>\n",
       "    <tr>\n",
       "      <th>9</th>\n",
       "      <td>5949</td>\n",
       "    </tr>\n",
       "    <tr>\n",
       "      <th>0</th>\n",
       "      <td>5923</td>\n",
       "    </tr>\n",
       "    <tr>\n",
       "      <th>6</th>\n",
       "      <td>5918</td>\n",
       "    </tr>\n",
       "    <tr>\n",
       "      <th>8</th>\n",
       "      <td>5851</td>\n",
       "    </tr>\n",
       "    <tr>\n",
       "      <th>4</th>\n",
       "      <td>5842</td>\n",
       "    </tr>\n",
       "    <tr>\n",
       "      <th>5</th>\n",
       "      <td>5421</td>\n",
       "    </tr>\n",
       "  </tbody>\n",
       "</table>\n",
       "</div>"
      ],
      "text/plain": [
       "   count\n",
       "1   6742\n",
       "7   6265\n",
       "3   6131\n",
       "2   5958\n",
       "9   5949\n",
       "0   5923\n",
       "6   5918\n",
       "8   5851\n",
       "4   5842\n",
       "5   5421"
      ]
     },
     "execution_count": 16,
     "metadata": {},
     "output_type": "execute_result"
    }
   ],
   "source": [
    "# 데이터프레임화\n",
    "df_view = pd.DataFrame(data={\"count\" : y_counts}, index=y_unique)\n",
    "df_view.sort_values(\"count\", ascending=False)"
   ]
  },
  {
   "cell_type": "code",
   "execution_count": 12,
   "id": "908ffeb4",
   "metadata": {},
   "outputs": [
    {
     "data": {
      "image/png": "[encoded data removed]",
      "text/plain": [
       "<Figure size 640x480 with 1 Axes>"
      ]
     },
     "metadata": {},
     "output_type": "display_data"
    }
   ],
   "source": [
    "plt.bar(x=y_unique, height=y_counts, color=\"black\")\n",
    "plt.title(\"label distribution\")\n",
    "plt.show()"
   ]
  },
  {
   "cell_type": "code",
   "execution_count": null,
   "id": "a2a895c9",
   "metadata": {},
   "outputs": [],
   "source": []
  },
  {
   "cell_type": "markdown",
   "id": "1f851c76",
   "metadata": {},
   "source": [
    "### 막간 퀴즈"
   ]
  },
  {
   "cell_type": "markdown",
   "id": "ed08f3bb",
   "metadata": {},
   "source": [
    "다음 코드를 완성하여, 아래 이미지를 시계 반대 방향으로 90도 회전하고 아래위를 반전 시키기"
   ]
  },
  {
   "cell_type": "code",
   "execution_count": 13,
   "id": "005b5845",
   "metadata": {},
   "outputs": [],
   "source": [
    "image = tf.constant(image)"
   ]
  },
  {
   "cell_type": "code",
   "execution_count": 14,
   "id": "ea85f4e4",
   "metadata": {},
   "outputs": [
    {
     "data": {
      "image/png": "[encoded data removed]",
      "text/plain": [
       "<Figure size 640x480 with 1 Axes>"
      ]
     },
     "metadata": {},
     "output_type": "display_data"
    }
   ],
   "source": [
    "plt.imshow(image, 'gray')\n",
    "plt.show()"
   ]
  },
  {
   "cell_type": "code",
   "execution_count": 15,
   "id": "e51de896",
   "metadata": {},
   "outputs": [
    {
     "ename": "SyntaxError",
     "evalue": "invalid syntax (2866030177.py, line 1)",
     "output_type": "error",
     "traceback": [
      "\u001b[0;36m  File \u001b[0;32m\"/var/folders/jw/90llkwyx0s15yv61kvs2dqk00000gn/T/ipykernel_83958/2866030177.py\"\u001b[0;36m, line \u001b[0;32m1\u001b[0m\n\u001b[0;31m    plt.imshow(?????????(image), 'gray')\u001b[0m\n\u001b[0m               ^\u001b[0m\n\u001b[0;31mSyntaxError\u001b[0m\u001b[0;31m:\u001b[0m invalid syntax\n"
     ]
    }
   ],
   "source": [
    "plt.imshow(?????????(image), 'gray')\n",
    "plt.show()"
   ]
  },
  {
   "cell_type": "markdown",
   "id": "4483fe10",
   "metadata": {},
   "source": [
    "----"
   ]
  },
  {
   "cell_type": "code",
   "execution_count": 15,
   "id": "dfbd7c09",
   "metadata": {},
   "outputs": [
    {
     "data": {
      "image/png": "[encoded data removed]",
      "text/plain": [
       "<Figure size 640x480 with 1 Axes>"
      ]
     },
     "metadata": {},
     "output_type": "display_data"
    }
   ],
   "source": [
    "plt.imshow(tf.transpose(image), 'gray')\n",
    "plt.show()"
   ]
  },
  {
   "cell_type": "code",
   "execution_count": null,
   "id": "72c1d6c7",
   "metadata": {},
   "outputs": [],
   "source": []
  },
  {
   "cell_type": "markdown",
   "id": "98150ef8",
   "metadata": {},
   "source": [
    "## 2. Preprocessing\n",
    "\n",
    "- 데이터 검증 \n",
    "- 전처리 \n",
    "- 데이터 증강 ... (이 건 추후에!)\n",
    "\n",
    "등 많은 작업을 거쳐 모델의 입력값이 될 수 있게끔 변형시켜주는 것"
   ]
  },
  {
   "cell_type": "markdown",
   "id": "7691280a",
   "metadata": {},
   "source": [
    "#### 데이터 검증 \n",
    "\n",
    " - 데이터 중에 학습에 포함 되면 안되는 것이 있는가? ex> 개인정보가 들어있는 데이터, 테스트용 데이터에 들어있는것, 중복되는 데이터\n",
    " - 학습 의도와 다른 데이터가 있는가? ex> 얼굴을 학습하는데 발 사진이 들어가있진 않은지(가끔은 의도하고 일부러 집어넣는 경우도 있음)\n",
    " - 라벨이 잘못된 데이터가 있는가? ex> 7인데 1로 라벨링, 고양이 인데 강아지로 라벨링 \n",
    " -  ... 등\n",
    " "
   ]
  },
  {
   "cell_type": "code",
   "execution_count": 17,
   "id": "cd8c3d9b",
   "metadata": {},
   "outputs": [
    {
     "name": "stdout",
     "output_type": "stream",
     "text": [
      "(60000, 28, 28)\n",
      "(60000,)\n"
     ]
    }
   ],
   "source": [
    "# preprocessing할 때 로직에 대한 실수를 하지 않기 위해\n",
    "# 함수와 클래스로 구현을 많이 함\n",
    "\n",
    "def validate_pixel_scale(x):\n",
    "    return 255 >= x.max() and 0 <= x.min() # 픽셀값이 이상한 데이터는 걸러내는 작업\n",
    "\n",
    "validated_train_x = np.array([x for x in train_x if validate_pixel_scale(x)])\n",
    "validated_train_y = np.array([y for x, y in zip(train_x, train_y) if validate_pixel_scale(x)])\n",
    "\n",
    "print(validated_train_x.shape)\n",
    "print(validated_train_y.shape)"
   ]
  },
  {
   "cell_type": "code",
   "execution_count": null,
   "id": "7117f235",
   "metadata": {},
   "outputs": [],
   "source": []
  },
  {
   "cell_type": "code",
   "execution_count": null,
   "id": "5574791d",
   "metadata": {},
   "outputs": [],
   "source": []
  },
  {
   "cell_type": "markdown",
   "id": "e8ea6d63",
   "metadata": {},
   "source": [
    "#### 전처리 \n",
    "\n",
    " - 입력하기 전에 모델링에 적합하게 처리! \n",
    " - 대표적으로 Scaling, Resizing, label encoding 등이 있다. \n",
    " - dtype, shape 항상 체크!!"
   ]
  },
  {
   "cell_type": "markdown",
   "id": "2be19f99",
   "metadata": {},
   "source": [
    "##### Scaling"
   ]
  },
  {
   "cell_type": "code",
   "execution_count": 18,
   "id": "936514c5",
   "metadata": {},
   "outputs": [],
   "source": [
    "def scale(x):\n",
    "    return (x / 255.0).astype(np.float32) # 0 ~ 1사이의 값을 갖도록"
   ]
  },
  {
   "cell_type": "code",
   "execution_count": 20,
   "id": "8c91dcd2",
   "metadata": {},
   "outputs": [
    {
     "data": {
      "text/plain": [
       "(1.0, 0.0)"
      ]
     },
     "execution_count": 20,
     "metadata": {},
     "output_type": "execute_result"
    }
   ],
   "source": [
    "# 확인\n",
    "sample = scale(validated_train_x[777])\n",
    "\n",
    "sample.max(), sample.min() # 직접 확인해보거나"
   ]
  },
  {
   "cell_type": "code",
   "execution_count": 21,
   "id": "1904cb4f",
   "metadata": {},
   "outputs": [
    {
     "data": {
      "text/plain": [
       "<seaborn.axisgrid.FacetGrid at 0x23c60829880>"
      ]
     },
     "execution_count": 21,
     "metadata": {},
     "output_type": "execute_result"
    },
    {
     "data": {
      "image/png": "[encoded data removed]",
      "text/plain": [
       "<Figure size 567.75x500 with 1 Axes>"
      ]
     },
     "metadata": {},
     "output_type": "display_data"
    }
   ],
   "source": [
    "sns.displot(sample) # 시각화"
   ]
  },
  {
   "cell_type": "code",
   "execution_count": 22,
   "id": "6cd84cf7",
   "metadata": {},
   "outputs": [],
   "source": [
    "# 실행\n",
    "scaled_train_x = np.array([scale(x) for x in validated_train_x])"
   ]
  },
  {
   "cell_type": "markdown",
   "id": "6a003baa",
   "metadata": {},
   "source": [
    "##### Flattening\n",
    "\n",
    " - 이번에 사용할 모델은 기본적인 Feed-Forward Neural Network\n",
    " - 1차원 벡터가 Input의 샘플 하나가 된다. (2차원 텐서라는 말)"
   ]
  },
  {
   "cell_type": "code",
   "execution_count": 23,
   "id": "a3d265e4",
   "metadata": {},
   "outputs": [
    {
     "data": {
      "text/plain": [
       "(60000, 784)"
      ]
     },
     "execution_count": 23,
     "metadata": {},
     "output_type": "execute_result"
    }
   ],
   "source": [
    "# 실행\n",
    "flattend_train_x = scaled_train_x.reshape(60000, -1)\n",
    "\n",
    "# 확인\n",
    "flattend_train_x.shape"
   ]
  },
  {
   "cell_type": "code",
   "execution_count": null,
   "id": "594662b7",
   "metadata": {},
   "outputs": [],
   "source": []
  },
  {
   "cell_type": "code",
   "execution_count": null,
   "id": "8bad7367",
   "metadata": {},
   "outputs": [],
   "source": []
  },
  {
   "cell_type": "markdown",
   "id": "a8db62cd",
   "metadata": {},
   "source": [
    "##### Label encoding\n",
    "\n",
    " - One-Hot encoding\n",
    " - `tf.keras.utils.to_categorical` 사용! "
   ]
  },
  {
   "cell_type": "code",
   "execution_count": 24,
   "id": "7310b45e",
   "metadata": {},
   "outputs": [
    {
     "data": {
      "text/plain": [
       "array([0., 0., 0., 0., 0., 1., 0., 0., 0., 0.], dtype=float32)"
      ]
     },
     "execution_count": 24,
     "metadata": {},
     "output_type": "execute_result"
    }
   ],
   "source": [
    "tf.keras.utils.to_categorical(5, num_classes=10)"
   ]
  },
  {
   "cell_type": "code",
   "execution_count": 25,
   "id": "19d771d8",
   "metadata": {},
   "outputs": [
    {
     "data": {
      "text/plain": [
       "(60000, 10)"
      ]
     },
     "execution_count": 25,
     "metadata": {},
     "output_type": "execute_result"
    }
   ],
   "source": [
    "# 실행\n",
    "ohe_train_y = np.array([tf.keras.utils.to_categorical(y, num_classes=10) for y in validated_train_y])\n",
    "\n",
    "# 확인\n",
    "ohe_train_y.shape"
   ]
  },
  {
   "cell_type": "code",
   "execution_count": null,
   "id": "e7d92f4f",
   "metadata": {},
   "outputs": [],
   "source": []
  },
  {
   "cell_type": "code",
   "execution_count": null,
   "id": "a09000e7",
   "metadata": {},
   "outputs": [],
   "source": []
  },
  {
   "cell_type": "markdown",
   "id": "e531ec05",
   "metadata": {},
   "source": [
    "### 보통은 큰 작업을 하나의 클래스로 만들어서 관리한다. \n"
   ]
  },
  {
   "cell_type": "code",
   "execution_count": 26,
   "id": "bcfad533",
   "metadata": {},
   "outputs": [],
   "source": [
    "class DataLoader():\n",
    "    def __init__(self):\n",
    "        # 데이터 불러오기\n",
    "        (self.train_x, self.train_y), \\\n",
    "            (self.test_x, self.test_y) = tf.keras.datasets.mnist.load_data()\n",
    "\n",
    "    def validate_pixel_scale(self, x):\n",
    "\n",
    "        return 255 >= x.max() and 0 <= x.min()\n",
    "\n",
    "    def scale(self, x):\n",
    "        \"\"\"\n",
    "        Make pixels within 0 ~ 1\n",
    "\n",
    "        return \n",
    "            scaled image (dtype=float32)\n",
    "        \"\"\"\n",
    "        return (x / 255.0).astype(np.float32)\n",
    "\n",
    "    def preprocess_dataset(self, dataset):\n",
    "        \"\"\"\n",
    "        feature \n",
    "            shape : (num_data, 28, 28)\n",
    "        target \n",
    "            shape : (num_data,)\n",
    "\n",
    "        return \n",
    "            feature \n",
    "                shape : (num_data, 28, 28)\n",
    "            target \n",
    "                shape : (num_data,)\n",
    "        \"\"\"\n",
    "        (feature, target) = dataset\n",
    "\n",
    "        validated_x = np.array(\n",
    "            [x for x in feature if self.validate_pixel_scale(x)])\n",
    "\n",
    "        validated_y = np.array([y for x, y in zip(feature, target)\n",
    "                                if self.validate_pixel_scale(x)])\n",
    "\n",
    "        # scaling #\n",
    "        scaled_x = np.array([self.scale(x) for x in validated_x])\n",
    "\n",
    "        # flattening #\n",
    "        flattend_x = scaled_x.reshape((scaled_x.shape[0], -1))\n",
    "\n",
    "        # label encoding #\n",
    "        ohe_y = np.array([tf.keras.utils.to_categorical(\n",
    "            y, num_classes=10) for y in validated_y])\n",
    "        \n",
    "        return flattend_x, ohe_y\n",
    "\n",
    "    def get_train_dataset(self):\n",
    "        return self.preprocess_dataset((self.train_x, self.train_y))\n",
    "\n",
    "    def get_test_dataset(self):\n",
    "        return self.preprocess_dataset((self.test_x, self.test_y))"
   ]
  },
  {
   "cell_type": "code",
   "execution_count": 27,
   "id": "21fe5618",
   "metadata": {},
   "outputs": [],
   "source": [
    "# 객체 생성\n",
    "mnist_loader = DataLoader()"
   ]
  },
  {
   "cell_type": "code",
   "execution_count": 28,
   "id": "206eafb5",
   "metadata": {},
   "outputs": [],
   "source": [
    "# train 데이터에 대해 실시\n",
    "train_x, train_y = mnist_loader.get_train_dataset()"
   ]
  },
  {
   "cell_type": "code",
   "execution_count": 29,
   "id": "d6386900",
   "metadata": {},
   "outputs": [
    {
     "name": "stdout",
     "output_type": "stream",
     "text": [
      "(60000, 784) float32\n",
      "(60000, 10) float32\n"
     ]
    }
   ],
   "source": [
    "print(train_x.shape, train_x.dtype)\n",
    "print(train_y.shape, train_y.dtype)"
   ]
  },
  {
   "cell_type": "code",
   "execution_count": 30,
   "id": "03663884",
   "metadata": {},
   "outputs": [
    {
     "name": "stdout",
     "output_type": "stream",
     "text": [
      "(10000, 784) float32\n",
      "(10000, 10) float32\n"
     ]
    }
   ],
   "source": [
    "# test 데이터에 대해 실시\n",
    "test_x, test_y = mnist_loader.get_test_dataset()\n",
    "\n",
    "print(test_x.shape, test_x.dtype)\n",
    "print(test_y.shape, test_y.dtype)"
   ]
  },
  {
   "cell_type": "markdown",
   "id": "6cd8c289",
   "metadata": {},
   "source": [
    "## 3. Modeling\n",
    " 1. 모델 정의 \n",
    " 2. 학습 로직 - 비용함수, 학습파라미터 세팅\n",
    " 3. 학습\n"
   ]
  },
  {
   "cell_type": "markdown",
   "id": "8399e8fd",
   "metadata": {},
   "source": [
    "#### 모델 정의"
   ]
  },
  {
   "cell_type": "code",
   "execution_count": 31,
   "id": "3fe0c16c",
   "metadata": {},
   "outputs": [],
   "source": [
    "from tensorflow.keras.layers import Dense, Activation\n",
    "\n",
    "model = tf.keras.Sequential()\n",
    "# .add를 통해 레이어를 추가할 수 있음\n",
    "model.add(Dense(15, input_dim = 784))\n",
    "model.add(Activation('sigmoid'))\n",
    "model.add(Dense(10)) # output dim에 맞게 설정\n",
    "model.add(Activation('softmax'))"
   ]
  },
  {
   "cell_type": "code",
   "execution_count": 32,
   "id": "18c739d4",
   "metadata": {},
   "outputs": [
    {
     "name": "stdout",
     "output_type": "stream",
     "text": [
      "Model: \"sequential\"\n",
      "_________________________________________________________________\n",
      " Layer (type)                Output Shape              Param #   \n",
      "=================================================================\n",
      " dense (Dense)               (None, 15)                11775     \n",
      "                                                                 \n",
      " activation (Activation)     (None, 15)                0         \n",
      "                                                                 \n",
      " dense_1 (Dense)             (None, 10)                160       \n",
      "                                                                 \n",
      " activation_1 (Activation)   (None, 10)                0         \n",
      "                                                                 \n",
      "=================================================================\n",
      "Total params: 11935 (46.62 KB)\n",
      "Trainable params: 11935 (46.62 KB)\n",
      "Non-trainable params: 0 (0.00 Byte)\n",
      "_________________________________________________________________\n"
     ]
    }
   ],
   "source": [
    "# 모델 정보 확인\n",
    "model.summary()"
   ]
  },
  {
   "cell_type": "code",
   "execution_count": null,
   "id": "6cdcdc47",
   "metadata": {},
   "outputs": [],
   "source": []
  },
  {
   "cell_type": "code",
   "execution_count": null,
   "id": "f2784e53",
   "metadata": {},
   "outputs": [],
   "source": []
  },
  {
   "cell_type": "markdown",
   "id": "1846dd6a",
   "metadata": {},
   "source": [
    "#### 학습 로직"
   ]
  },
  {
   "cell_type": "code",
   "execution_count": 33,
   "id": "00981f28",
   "metadata": {},
   "outputs": [],
   "source": [
    "learning_rate = 0.03\n",
    "opt = tf.keras.optimizers.SGD(learning_rate) # 최적화\n",
    "loss = tf.keras.losses.categorical_crossentropy # loss"
   ]
  },
  {
   "cell_type": "code",
   "execution_count": 34,
   "id": "73a38542",
   "metadata": {},
   "outputs": [],
   "source": [
    "# 모델 정의(최적화를 어떻게 하고, loss 함수는 무엇을 할건지, 모델의 성능의 지표는 무엇으로 할건가)\n",
    "model.compile(optimizer=opt, loss=loss, metrics=[\"accuracy\"])"
   ]
  },
  {
   "cell_type": "markdown",
   "id": "99f12458",
   "metadata": {},
   "source": [
    "#### 학습 실행"
   ]
  },
  {
   "cell_type": "code",
   "execution_count": 37,
   "id": "d5202347",
   "metadata": {},
   "outputs": [
    {
     "name": "stdout",
     "output_type": "stream",
     "text": [
      "Epoch 1/10\n",
      "235/235 [==============================] - 0s 2ms/step - loss: 0.6040 - accuracy: 0.8650\n",
      "Epoch 2/10\n",
      "235/235 [==============================] - 0s 1ms/step - loss: 0.5721 - accuracy: 0.8691\n",
      "Epoch 3/10\n",
      "235/235 [==============================] - 0s 1ms/step - loss: 0.5452 - accuracy: 0.8733\n",
      "Epoch 4/10\n",
      "235/235 [==============================] - 0s 2ms/step - loss: 0.5221 - accuracy: 0.8768\n",
      "Epoch 5/10\n",
      "235/235 [==============================] - 0s 2ms/step - loss: 0.5021 - accuracy: 0.8798\n",
      "Epoch 6/10\n",
      "235/235 [==============================] - 0s 1ms/step - loss: 0.4847 - accuracy: 0.8821\n",
      "Epoch 7/10\n",
      "235/235 [==============================] - 0s 2ms/step - loss: 0.4694 - accuracy: 0.8854\n",
      "Epoch 8/10\n",
      "235/235 [==============================] - 0s 1ms/step - loss: 0.4558 - accuracy: 0.8877\n",
      "Epoch 9/10\n",
      "235/235 [==============================] - 0s 1ms/step - loss: 0.4437 - accuracy: 0.8898\n",
      "Epoch 10/10\n",
      "235/235 [==============================] - 0s 1ms/step - loss: 0.4328 - accuracy: 0.8912\n"
     ]
    }
   ],
   "source": [
    "# .fit\n",
    "hist = model.fit(train_x, train_y, epochs = 10, batch_size=256)"
   ]
  },
  {
   "cell_type": "code",
   "execution_count": null,
   "id": "0cac84dd",
   "metadata": {},
   "outputs": [],
   "source": []
  },
  {
   "cell_type": "markdown",
   "id": "45c34c13",
   "metadata": {},
   "source": [
    "## 4. Evaluation \n",
    "    - 학습 과정 추적 \n",
    "    - Test / 모델 검증\n",
    "    - 후처리"
   ]
  },
  {
   "cell_type": "markdown",
   "id": "9b725a2d",
   "metadata": {},
   "source": [
    "##### 학습 과정 추적"
   ]
  },
  {
   "cell_type": "code",
   "execution_count": 40,
   "id": "df11f4b3",
   "metadata": {},
   "outputs": [
    {
     "data": {
      "image/png": "[encoded data removed]",
      "text/plain": [
       "<Figure size 1000x500 with 2 Axes>"
      ]
     },
     "metadata": {},
     "output_type": "display_data"
    }
   ],
   "source": [
    "plt.figure(figsize = (10, 5))\n",
    "plt.subplot(121)\n",
    "plt.plot(hist.history['loss'])\n",
    "plt.subplot(122)\n",
    "plt.plot(hist.history['accuracy'])\n",
    "plt.show()"
   ]
  },
  {
   "cell_type": "markdown",
   "id": "2836f969",
   "metadata": {},
   "source": [
    "loss가 어느정도 떨어지고 유지되는 구간이 있어야하는데 계속 떨어지고 있으므로 더 학습시킬 필요가 있어보임!"
   ]
  },
  {
   "cell_type": "code",
   "execution_count": null,
   "id": "1ec06432",
   "metadata": {},
   "outputs": [],
   "source": []
  },
  {
   "cell_type": "code",
   "execution_count": null,
   "id": "b5f55540",
   "metadata": {},
   "outputs": [],
   "source": []
  },
  {
   "cell_type": "markdown",
   "id": "5f4bf22c",
   "metadata": {},
   "source": [
    "##### 모델 검증"
   ]
  },
  {
   "cell_type": "code",
   "execution_count": 41,
   "id": "fd4e0367",
   "metadata": {},
   "outputs": [
    {
     "name": "stdout",
     "output_type": "stream",
     "text": [
      "313/313 [==============================] - 0s 955us/step - loss: 0.4146 - accuracy: 0.8977\n"
     ]
    },
    {
     "data": {
      "text/plain": [
       "[0.41461968421936035, 0.8977000117301941]"
      ]
     },
     "execution_count": 41,
     "metadata": {},
     "output_type": "execute_result"
    }
   ],
   "source": [
    "# .evaluate\n",
    "model.evaluate(test_x, test_y)"
   ]
  },
  {
   "cell_type": "code",
   "execution_count": null,
   "id": "1a83afd7",
   "metadata": {},
   "outputs": [],
   "source": []
  },
  {
   "cell_type": "code",
   "execution_count": null,
   "id": "0f745743",
   "metadata": {},
   "outputs": [],
   "source": []
  },
  {
   "cell_type": "code",
   "execution_count": null,
   "id": "c653e426",
   "metadata": {},
   "outputs": [],
   "source": []
  },
  {
   "cell_type": "markdown",
   "id": "21567ce4",
   "metadata": {},
   "source": [
    "##### 후처리"
   ]
  },
  {
   "cell_type": "code",
   "execution_count": 43,
   "id": "2dbd62f2",
   "metadata": {},
   "outputs": [
    {
     "name": "stdout",
     "output_type": "stream",
     "text": [
      "1/1 [==============================] - 0s 17ms/step\n"
     ]
    },
    {
     "data": {
      "text/plain": [
       "7"
      ]
     },
     "execution_count": 43,
     "metadata": {},
     "output_type": "execute_result"
    }
   ],
   "source": [
    "# .predict\n",
    "pred = model.predict(test_x[:1])\n",
    "pred.argmax()"
   ]
  },
  {
   "cell_type": "code",
   "execution_count": 47,
   "id": "15f86a06",
   "metadata": {},
   "outputs": [
    {
     "data": {
      "text/plain": [
       "array([0., 0., 0., 0., 0., 0., 0., 1., 0., 0.], dtype=float32)"
      ]
     },
     "execution_count": 47,
     "metadata": {},
     "output_type": "execute_result"
    }
   ],
   "source": [
    "test_y[0] # 이렇게 확인해도 되지만"
   ]
  },
  {
   "cell_type": "code",
   "execution_count": 44,
   "id": "110f2bc4",
   "metadata": {},
   "outputs": [
    {
     "data": {
      "image/png": "[encoded data removed]",
      "text/plain": [
       "<Figure size 640x480 with 1 Axes>"
      ]
     },
     "metadata": {},
     "output_type": "display_data"
    }
   ],
   "source": [
    "# 이미지로 확인하는 것이 더 좋음\n",
    "sample_image = test_x[0].reshape((28, 28)) * 255 # 복구\n",
    "\n",
    "plt.imshow(sample_image)\n",
    "plt.show()"
   ]
  },
  {
   "cell_type": "code",
   "execution_count": null,
   "id": "85c2ab88",
   "metadata": {},
   "outputs": [],
   "source": []
  },
  {
   "cell_type": "code",
   "execution_count": null,
   "id": "689f72db",
   "metadata": {},
   "outputs": [],
   "source": []
  },
  {
   "cell_type": "code",
   "execution_count": null,
   "id": "b2f0cc1b",
   "metadata": {},
   "outputs": [],
   "source": []
  },
  {
   "cell_type": "code",
   "execution_count": null,
   "id": "ceebf587",
   "metadata": {},
   "outputs": [],
   "source": []
  }
 ],
 "metadata": {
  "kernelspec": {
   "display_name": "Python 3 (ipykernel)",
   "language": "python",
   "name": "python3"
  },
  "language_info": {
   "codemirror_mode": {
    "name": "ipython",
    "version": 3
   },
   "file_extension": ".py",
   "mimetype": "text/x-python",
   "name": "python",
   "nbconvert_exporter": "python",
   "pygments_lexer": "ipython3",
   "version": "3.8.17"
  },
  "varInspector": {
   "cols": {
    "lenName": 16,
    "lenType": 16,
    "lenVar": 40
   },
   "kernels_config": {
    "python": {
     "delete_cmd_postfix": "",
     "delete_cmd_prefix": "del ",
     "library": "var_list.py",
     "varRefreshCmd": "print(var_dic_list())"
    },
    "r": {
     "delete_cmd_postfix": ") ",
     "delete_cmd_prefix": "rm(",
     "library": "var_list.r",
     "varRefreshCmd": "cat(var_dic_list()) "
    }
   },
   "types_to_exclude": [
    "module",
    "function",
    "builtin_function_or_method",
    "instance",
    "_Feature"
   ],
   "window_display": false
  }
 },
 "nbformat": 4,
 "nbformat_minor": 5
}
