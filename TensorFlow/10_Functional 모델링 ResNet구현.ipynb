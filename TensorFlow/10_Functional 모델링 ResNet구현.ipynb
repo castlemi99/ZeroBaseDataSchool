{
 "cells": [
  {
   "cell_type": "markdown",
   "id": "518ff1fe",
   "metadata": {},
   "source": [
    "# ResNet 구현\n"
   ]
  },
  {
   "cell_type": "code",
   "execution_count": 2,
   "id": "9bd6cc9b",
   "metadata": {},
   "outputs": [],
   "source": [
    "import numpy as np\n",
    "import pandas as pd\n",
    "import tensorflow as tf\n",
    "\n",
    "import matplotlib.pyplot as plt\n",
    "import seaborn as sns\n",
    "%matplotlib inline"
   ]
  },
  {
   "cell_type": "code",
   "execution_count": 3,
   "id": "edeedae5",
   "metadata": {},
   "outputs": [],
   "source": [
    "np.random.seed(7777)\n",
    "tf.random.set_seed(7777)"
   ]
  },
  {
   "cell_type": "markdown",
   "id": "b65302b8",
   "metadata": {},
   "source": [
    "### ResNet\n",
    "\n",
    "![](../../statics/imgs/resnet.png)"
   ]
  },
  {
   "cell_type": "markdown",
   "id": "e5c601ec",
   "metadata": {},
   "source": [
    "### ResNet의 핵심은 Skip Connection\n",
    "\n",
    "![](../../statics/imgs/skipconnection.png)"
   ]
  },
  {
   "cell_type": "code",
   "execution_count": null,
   "id": "17dd421b",
   "metadata": {},
   "outputs": [],
   "source": []
  },
  {
   "cell_type": "code",
   "execution_count": null,
   "id": "6d2526f5",
   "metadata": {},
   "outputs": [],
   "source": []
  },
  {
   "cell_type": "markdown",
   "id": "0b5f5336",
   "metadata": {},
   "source": [
    "### 2. Functional API "
   ]
  },
  {
   "cell_type": "markdown",
   "id": "a942557f",
   "metadata": {},
   "source": [
    "`tf.keras.Sequential` 보다 더 유연하게 모델을 정의할 수 있는 방법"
   ]
  },
  {
   "cell_type": "code",
   "execution_count": 1,
   "id": "dbe7c084",
   "metadata": {},
   "outputs": [],
   "source": [
    "from tensorflow.keras.layers import Input, Conv2D, MaxPool2D, Flatten, Dense, Add"
   ]
  },
  {
   "cell_type": "code",
   "execution_count": 4,
   "id": "eefc1eab",
   "metadata": {},
   "outputs": [],
   "source": [
    "## Functional API 를 이용해 ResNet 구현\n",
    "def build_resnet(input_shape):\n",
    "    inputs = Input(input_shape) # 입력 데이터를 받는 첫 번째 레이어 # (28, 28)\n",
    "\n",
    "    net = Conv2D(32, kernel_size=3, strides=2,\n",
    "                 padding='same', activation='relu')(inputs) # (14, 14)\n",
    "    net = MaxPool2D()(net) # (7, 7)\n",
    "    \n",
    "    net1 = Conv2D(64, kernel_size=1, padding='same', activation='relu')(net)\n",
    "    net2 = Conv2D(64, kernel_size=3, padding='same', activation='relu')(net1)\n",
    "    net3 = Conv2D(64, kernel_size=1, padding='same', activation='relu')(net2)\n",
    "    \n",
    "    # net과 net3을 더해주어야하는데 filter 개수가 32와 64로 맞지 않는다\n",
    "    # 이를 맞춰주기 위해 net1_1 생성\n",
    "    net1_1 = Conv2D(64, kernel_size=1, padding='same')(net)\n",
    "    net = Add()([net1_1, net3]) # input과 output을 더해준 것\n",
    "    \n",
    "    net1 = Conv2D(64, kernel_size=1, padding='same', activation='relu')(net)\n",
    "    net2 = Conv2D(64, kernel_size=3, padding='same', activation='relu')(net1)\n",
    "    net3 = Conv2D(64, kernel_size=1, padding='same', activation='relu')(net2)\n",
    "    \n",
    "    net = Add()([net, net3]) # input과 output을 더해준 것\n",
    "    \n",
    "    net = MaxPool2D()(net)\n",
    "    \n",
    "    net = Flatten()(net)\n",
    "    net = Dense(10, activation=\"softmax\")(net)\n",
    "\n",
    "    model = tf.keras.Model(inputs=inputs, outputs=net, name='resnet')\n",
    "    \n",
    "    return model"
   ]
  },
  {
   "cell_type": "code",
   "execution_count": 5,
   "id": "8766a2a3",
   "metadata": {},
   "outputs": [
    {
     "name": "stdout",
     "output_type": "stream",
     "text": [
      "Model: \"resnet\"\n",
      "__________________________________________________________________________________________________\n",
      " Layer (type)                Output Shape                 Param #   Connected to                  \n",
      "==================================================================================================\n",
      " input_1 (InputLayer)        [(None, 32, 32, 3)]          0         []                            \n",
      "                                                                                                  \n",
      " conv2d (Conv2D)             (None, 16, 16, 32)           896       ['input_1[0][0]']             \n",
      "                                                                                                  \n",
      " max_pooling2d (MaxPooling2  (None, 8, 8, 32)             0         ['conv2d[0][0]']              \n",
      " D)                                                                                               \n",
      "                                                                                                  \n",
      " conv2d_1 (Conv2D)           (None, 8, 8, 64)             2112      ['max_pooling2d[0][0]']       \n",
      "                                                                                                  \n",
      " conv2d_2 (Conv2D)           (None, 8, 8, 64)             36928     ['conv2d_1[0][0]']            \n",
      "                                                                                                  \n",
      " conv2d_4 (Conv2D)           (None, 8, 8, 64)             2112      ['max_pooling2d[0][0]']       \n",
      "                                                                                                  \n",
      " conv2d_3 (Conv2D)           (None, 8, 8, 64)             4160      ['conv2d_2[0][0]']            \n",
      "                                                                                                  \n",
      " add (Add)                   (None, 8, 8, 64)             0         ['conv2d_4[0][0]',            \n",
      "                                                                     'conv2d_3[0][0]']            \n",
      "                                                                                                  \n",
      " conv2d_5 (Conv2D)           (None, 8, 8, 64)             4160      ['add[0][0]']                 \n",
      "                                                                                                  \n",
      " conv2d_6 (Conv2D)           (None, 8, 8, 64)             36928     ['conv2d_5[0][0]']            \n",
      "                                                                                                  \n",
      " conv2d_7 (Conv2D)           (None, 8, 8, 64)             4160      ['conv2d_6[0][0]']            \n",
      "                                                                                                  \n",
      " add_1 (Add)                 (None, 8, 8, 64)             0         ['add[0][0]',                 \n",
      "                                                                     'conv2d_7[0][0]']            \n",
      "                                                                                                  \n",
      " max_pooling2d_1 (MaxPoolin  (None, 4, 4, 64)             0         ['add_1[0][0]']               \n",
      " g2D)                                                                                             \n",
      "                                                                                                  \n",
      " flatten (Flatten)           (None, 1024)                 0         ['max_pooling2d_1[0][0]']     \n",
      "                                                                                                  \n",
      " dense (Dense)               (None, 10)                   10250     ['flatten[0][0]']             \n",
      "                                                                                                  \n",
      "==================================================================================================\n",
      "Total params: 101706 (397.29 KB)\n",
      "Trainable params: 101706 (397.29 KB)\n",
      "Non-trainable params: 0 (0.00 Byte)\n",
      "__________________________________________________________________________________________________\n"
     ]
    }
   ],
   "source": [
    "model = build_resnet((32, 32, 3))\n",
    "model.summary()"
   ]
  },
  {
   "cell_type": "code",
   "execution_count": null,
   "id": "75f8ebbd",
   "metadata": {},
   "outputs": [],
   "source": []
  },
  {
   "cell_type": "markdown",
   "id": "419826d8",
   "metadata": {},
   "source": [
    "## CIfar10 dataset을 이용해 학습을 해본다"
   ]
  },
  {
   "cell_type": "code",
   "execution_count": 6,
   "id": "94f3a954",
   "metadata": {},
   "outputs": [],
   "source": [
    "class Cifar10DataLoader():\n",
    "    def __init__(self):\n",
    "        # data load\n",
    "        (self.train_x, self.train_y), \\\n",
    "            (self.test_x, self.test_y) = tf.keras.datasets.cifar10.load_data()\n",
    "        self.input_shape = self.train_x.shape[1:]\n",
    "\n",
    "    def scale(self, x):\n",
    "\n",
    "        return (x / 255.0).astype(np.float32)\n",
    "\n",
    "    def preprocess_dataset(self, dataset):\n",
    "\n",
    "        (feature, target) = dataset\n",
    "\n",
    "        # scaling #\n",
    "        scaled_x = np.array([self.scale(x) for x in feature])\n",
    "\n",
    "        # label encoding #\n",
    "        ohe_y = np.array([tf.keras.utils.to_categorical(\n",
    "            y, num_classes=10) for y in target])\n",
    "        \n",
    "        return scaled_x, ohe_y.squeeze(1)\n",
    "\n",
    "    def get_train_dataset(self):\n",
    "        return self.preprocess_dataset((self.train_x, self.train_y))\n",
    "\n",
    "    def get_test_dataset(self):\n",
    "        return self.preprocess_dataset((self.test_x, self.test_y))"
   ]
  },
  {
   "cell_type": "code",
   "execution_count": 7,
   "id": "30b78ad2",
   "metadata": {},
   "outputs": [
    {
     "name": "stdout",
     "output_type": "stream",
     "text": [
      "Downloading data from https://www.cs.toronto.edu/~kriz/cifar-10-python.tar.gz\n",
      "170498071/170498071 [==============================] - 81s 0us/step\n",
      "(50000, 32, 32, 3) float32\n",
      "(50000, 10) float32\n",
      "(10000, 32, 32, 3) float32\n",
      "(10000, 10) float32\n"
     ]
    }
   ],
   "source": [
    "cifar10_loader = Cifar10DataLoader()\n",
    "\n",
    "train_x, train_y = cifar10_loader.get_train_dataset()\n",
    "\n",
    "print(train_x.shape, train_x.dtype)\n",
    "print(train_y.shape, train_y.dtype)\n",
    "\n",
    "test_x, test_y = cifar10_loader.get_test_dataset()\n",
    "\n",
    "print(test_x.shape, test_x.dtype)\n",
    "print(test_y.shape, test_y.dtype)"
   ]
  },
  {
   "cell_type": "markdown",
   "id": "0ac60474",
   "metadata": {},
   "source": [
    "input shape에 맞게 model 선언"
   ]
  },
  {
   "cell_type": "code",
   "execution_count": 8,
   "id": "6db2c69d",
   "metadata": {},
   "outputs": [
    {
     "name": "stdout",
     "output_type": "stream",
     "text": [
      "Model: \"resnet\"\n",
      "__________________________________________________________________________________________________\n",
      " Layer (type)                Output Shape                 Param #   Connected to                  \n",
      "==================================================================================================\n",
      " input_2 (InputLayer)        [(None, 32, 32, 3)]          0         []                            \n",
      "                                                                                                  \n",
      " conv2d_8 (Conv2D)           (None, 16, 16, 32)           896       ['input_2[0][0]']             \n",
      "                                                                                                  \n",
      " max_pooling2d_2 (MaxPoolin  (None, 8, 8, 32)             0         ['conv2d_8[0][0]']            \n",
      " g2D)                                                                                             \n",
      "                                                                                                  \n",
      " conv2d_9 (Conv2D)           (None, 8, 8, 64)             2112      ['max_pooling2d_2[0][0]']     \n",
      "                                                                                                  \n",
      " conv2d_10 (Conv2D)          (None, 8, 8, 64)             36928     ['conv2d_9[0][0]']            \n",
      "                                                                                                  \n",
      " conv2d_12 (Conv2D)          (None, 8, 8, 64)             2112      ['max_pooling2d_2[0][0]']     \n",
      "                                                                                                  \n",
      " conv2d_11 (Conv2D)          (None, 8, 8, 64)             4160      ['conv2d_10[0][0]']           \n",
      "                                                                                                  \n",
      " add_2 (Add)                 (None, 8, 8, 64)             0         ['conv2d_12[0][0]',           \n",
      "                                                                     'conv2d_11[0][0]']           \n",
      "                                                                                                  \n",
      " conv2d_13 (Conv2D)          (None, 8, 8, 64)             4160      ['add_2[0][0]']               \n",
      "                                                                                                  \n",
      " conv2d_14 (Conv2D)          (None, 8, 8, 64)             36928     ['conv2d_13[0][0]']           \n",
      "                                                                                                  \n",
      " conv2d_15 (Conv2D)          (None, 8, 8, 64)             4160      ['conv2d_14[0][0]']           \n",
      "                                                                                                  \n",
      " add_3 (Add)                 (None, 8, 8, 64)             0         ['add_2[0][0]',               \n",
      "                                                                     'conv2d_15[0][0]']           \n",
      "                                                                                                  \n",
      " max_pooling2d_3 (MaxPoolin  (None, 4, 4, 64)             0         ['add_3[0][0]']               \n",
      " g2D)                                                                                             \n",
      "                                                                                                  \n",
      " flatten_1 (Flatten)         (None, 1024)                 0         ['max_pooling2d_3[0][0]']     \n",
      "                                                                                                  \n",
      " dense_1 (Dense)             (None, 10)                   10250     ['flatten_1[0][0]']           \n",
      "                                                                                                  \n",
      "==================================================================================================\n",
      "Total params: 101706 (397.29 KB)\n",
      "Trainable params: 101706 (397.29 KB)\n",
      "Non-trainable params: 0 (0.00 Byte)\n",
      "__________________________________________________________________________________________________\n"
     ]
    }
   ],
   "source": [
    "model = build_resnet((32, 32, 3))\n",
    "model.summary()"
   ]
  },
  {
   "cell_type": "code",
   "execution_count": 9,
   "id": "f35a766b",
   "metadata": {},
   "outputs": [],
   "source": [
    "lr = 0.03\n",
    "opt = tf.keras.optimizers.Adam(lr)\n",
    "loss = tf.keras.losses.categorical_crossentropy\n",
    "\n",
    "model.compile(optimizer=opt, loss=loss, metrics=[\"accuracy\"])"
   ]
  },
  {
   "cell_type": "code",
   "execution_count": 10,
   "id": "1576a7d3",
   "metadata": {},
   "outputs": [
    {
     "name": "stdout",
     "output_type": "stream",
     "text": [
      "Epoch 1/10\n",
      "391/391 [==============================] - 22s 52ms/step - loss: 2.3711 - accuracy: 0.0977 - val_loss: 2.3066 - val_accuracy: 0.1000\n",
      "Epoch 2/10\n",
      "391/391 [==============================] - 21s 55ms/step - loss: 2.3101 - accuracy: 0.1018 - val_loss: 2.3178 - val_accuracy: 0.1000\n",
      "Epoch 3/10\n",
      "391/391 [==============================] - 21s 54ms/step - loss: 2.3089 - accuracy: 0.0985 - val_loss: 2.3093 - val_accuracy: 0.1000\n",
      "Epoch 4/10\n",
      "391/391 [==============================] - 25s 65ms/step - loss: 2.3088 - accuracy: 0.1001 - val_loss: 2.3073 - val_accuracy: 0.1000\n",
      "Epoch 5/10\n",
      "391/391 [==============================] - 31s 80ms/step - loss: 2.3122 - accuracy: 0.1007 - val_loss: 2.3081 - val_accuracy: 0.1000\n",
      "Epoch 6/10\n",
      "391/391 [==============================] - 40s 102ms/step - loss: 2.3185 - accuracy: 0.0999 - val_loss: 2.3618 - val_accuracy: 0.1000\n",
      "Epoch 7/10\n",
      "391/391 [==============================] - 37s 94ms/step - loss: 2.3236 - accuracy: 0.1010 - val_loss: 2.3168 - val_accuracy: 0.1000\n",
      "Epoch 8/10\n",
      "391/391 [==============================] - 28s 71ms/step - loss: 2.3225 - accuracy: 0.0990 - val_loss: 2.3139 - val_accuracy: 0.1000\n",
      "Epoch 9/10\n",
      "391/391 [==============================] - 27s 70ms/step - loss: 2.3161 - accuracy: 0.0991 - val_loss: 2.3167 - val_accuracy: 0.1000\n",
      "Epoch 10/10\n",
      "391/391 [==============================] - 33s 85ms/step - loss: 2.3271 - accuracy: 0.1005 - val_loss: 2.3601 - val_accuracy: 0.1000\n"
     ]
    }
   ],
   "source": [
    "hist = model.fit(train_x, train_y,\n",
    "                 epochs=10, batch_size=128,\n",
    "                 validation_data=(test_x, test_y))"
   ]
  },
  {
   "cell_type": "code",
   "execution_count": 11,
   "id": "e0e7d1b9",
   "metadata": {},
   "outputs": [
    {
     "data": {
      "image/png": "[encoded data removed]",
      "text/plain": [
       "<Figure size 1000x500 with 4 Axes>"
      ]
     },
     "metadata": {},
     "output_type": "display_data"
    }
   ],
   "source": [
    "plt.figure(figsize=(10, 5))\n",
    "plt.subplot(221)\n",
    "plt.plot(hist.history['loss'])\n",
    "plt.title(\"loss\")\n",
    "plt.subplot(222)\n",
    "plt.plot(hist.history['accuracy'], 'b-')\n",
    "plt.title(\"acc\")\n",
    "plt.subplot(223)\n",
    "plt.plot(hist.history['val_loss'])\n",
    "plt.title(\"val_loss\")\n",
    "plt.subplot(224)\n",
    "plt.plot(hist.history['val_accuracy'], 'b-')\n",
    "plt.title(\"val_accuracy\")\n",
    "\n",
    "plt.tight_layout()\n",
    "plt.show()"
   ]
  },
  {
   "cell_type": "markdown",
   "id": "97e326ad",
   "metadata": {},
   "source": [
    "sequential 보다는 훨씬 모델의 중간의 값을 활용하기도 편하다! "
   ]
  },
  {
   "cell_type": "markdown",
   "id": "e26b8844",
   "metadata": {},
   "source": []
  }
 ],
 "metadata": {
  "kernelspec": {
   "display_name": "Python 3 (ipykernel)",
   "language": "python",
   "name": "python3"
  },
  "language_info": {
   "codemirror_mode": {
    "name": "ipython",
    "version": 3
   },
   "file_extension": ".py",
   "mimetype": "text/x-python",
   "name": "python",
   "nbconvert_exporter": "python",
   "pygments_lexer": "ipython3",
   "version": "3.8.17"
  },
  "varInspector": {
   "cols": {
    "lenName": 16,
    "lenType": 16,
    "lenVar": 40
   },
   "kernels_config": {
    "python": {
     "delete_cmd_postfix": "",
     "delete_cmd_prefix": "del ",
     "library": "var_list.py",
     "varRefreshCmd": "print(var_dic_list())"
    },
    "r": {
     "delete_cmd_postfix": ") ",
     "delete_cmd_prefix": "rm(",
     "library": "var_list.r",
     "varRefreshCmd": "cat(var_dic_list()) "
    }
   },
   "types_to_exclude": [
    "module",
    "function",
    "builtin_function_or_method",
    "instance",
    "_Feature"
   ],
   "window_display": false
  }
 },
 "nbformat": 4,
 "nbformat_minor": 5
}
