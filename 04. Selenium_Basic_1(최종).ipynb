{
 "cells": [
  {
   "cell_type": "markdown",
   "id": "b9c3eaeb",
   "metadata": {},
   "source": [
    "# Selenium Basic"
   ]
  },
  {
   "cell_type": "markdown",
   "id": "9fb7295a",
   "metadata": {},
   "source": [
    "## 1. selenium webdriver 사용하기"
   ]
  },
  {
   "cell_type": "code",
   "execution_count": 1,
   "id": "78d551c8",
   "metadata": {},
   "outputs": [],
   "source": [
    "from selenium import webdriver\n",
    "\n",
    "driver = webdriver.Chrome()\n",
    "driver.get('https://pinkwink.kr/')"
   ]
  },
  {
   "cell_type": "code",
   "execution_count": 4,
   "id": "42a1e2e1",
   "metadata": {},
   "outputs": [],
   "source": [
    "driver.quit() # 띄운 창을 닫는 방법"
   ]
  },
  {
   "cell_type": "code",
   "execution_count": 6,
   "id": "31f0c781",
   "metadata": {},
   "outputs": [],
   "source": [
    "# 화면 최대 크기 설정\n",
    "driver.maximize_window()"
   ]
  },
  {
   "cell_type": "code",
   "execution_count": 7,
   "id": "d69e64ad",
   "metadata": {},
   "outputs": [],
   "source": [
    "# 화면 최소 크기 설정\n",
    "driver.minimize_window()"
   ]
  },
  {
   "cell_type": "code",
   "execution_count": 8,
   "id": "9beab64d",
   "metadata": {},
   "outputs": [],
   "source": [
    "# 화면 크기 설정\n",
    "driver.set_window_size(600,600)"
   ]
  },
  {
   "cell_type": "code",
   "execution_count": null,
   "id": "5d771de6",
   "metadata": {},
   "outputs": [],
   "source": [
    "### selenium은 해당 지점 화면에서의 데이터만 추출할 수 있으므로\n",
    "### 화면 크기를 설정하여 데이터가 많이 나타나도록 설정하는 작업이 필요함."
   ]
  },
  {
   "cell_type": "code",
   "execution_count": 9,
   "id": "b1070e69",
   "metadata": {},
   "outputs": [],
   "source": [
    "# 새로고침\n",
    "driver.refresh()"
   ]
  },
  {
   "cell_type": "code",
   "execution_count": 11,
   "id": "bbd89b73",
   "metadata": {},
   "outputs": [],
   "source": [
    "# 뒤로 가기\n",
    "driver.back()"
   ]
  },
  {
   "cell_type": "code",
   "execution_count": 12,
   "id": "db291279",
   "metadata": {},
   "outputs": [],
   "source": [
    "# 앞으로 가기\n",
    "driver.forward()"
   ]
  },
  {
   "cell_type": "code",
   "execution_count": 32,
   "id": "f28fe1f4",
   "metadata": {},
   "outputs": [],
   "source": [
    "# 클릭\n",
    "from selenium.webdriver.common.by import By\n",
    "\n",
    "first_content = driver.find_element(By.CSS_SELECTOR, '#content > div.cover-masonry > div > ul > li:nth-child(1)')\n",
    "                                                    ## 크롤링할 부분 -> Copy -> Copy selector\n",
    "first_content.click()"
   ]
  },
  {
   "cell_type": "code",
   "execution_count": 33,
   "id": "c4d546f1",
   "metadata": {},
   "outputs": [],
   "source": [
    "# 새로운 탭 생성      # 자바스크립트 문법\n",
    "driver.execute_script('window.open(\"https://www.naver.com\")')"
   ]
  },
  {
   "cell_type": "code",
   "execution_count": 38,
   "id": "1ce37a5a",
   "metadata": {},
   "outputs": [],
   "source": [
    "# 탭 이동\n",
    "driver.switch_to.window(driver.window_handles[0]) \n",
    "# driver.window_handles : 내가 지금 다룰 수 있는 창\n",
    "# 인덱스를 넣어줌"
   ]
  },
  {
   "cell_type": "code",
   "execution_count": 39,
   "id": "baf98bf2",
   "metadata": {},
   "outputs": [],
   "source": [
    "# 탭 닫기\n",
    "driver.close() #driver.quit() : 전체 종료"
   ]
  },
  {
   "cell_type": "markdown",
   "id": "e72bfac0",
   "metadata": {},
   "source": [
    "## 2. 화면 스크롤"
   ]
  },
  {
   "cell_type": "code",
   "execution_count": 41,
   "id": "3cbeaf08",
   "metadata": {},
   "outputs": [
    {
     "data": {
      "text/plain": [
       "5575"
      ]
     },
     "execution_count": 41,
     "metadata": {},
     "output_type": "execute_result"
    }
   ],
   "source": [
    "# 스크롤 가능한 높이(길이)\n",
    "# 자바스크립트 코드 실행\n",
    "driver.execute_script('return document.body.scrollHeight')"
   ]
  },
  {
   "cell_type": "code",
   "execution_count": 42,
   "id": "acf56ad2",
   "metadata": {},
   "outputs": [],
   "source": [
    "# 화면 스크롤 하단 이동\n",
    "driver.execute_script('window.scrollTo(0, document.body.scrollHeight);')"
   ]
  },
  {
   "cell_type": "code",
   "execution_count": 43,
   "id": "375b8f24",
   "metadata": {},
   "outputs": [
    {
     "data": {
      "text/plain": [
       "True"
      ]
     },
     "execution_count": 43,
     "metadata": {},
     "output_type": "execute_result"
    }
   ],
   "source": [
    "# 현재 보이는 화면 스크린샷 저장\n",
    "driver.save_screenshot('./last_height.png')"
   ]
  },
  {
   "cell_type": "code",
   "execution_count": 44,
   "id": "2a8fb430",
   "metadata": {},
   "outputs": [],
   "source": [
    "# 화면 스크롤 상단 이동\n",
    "driver.execute_script('window.scrollTo(0,0)')"
   ]
  },
  {
   "cell_type": "code",
   "execution_count": 46,
   "id": "30d597e5",
   "metadata": {},
   "outputs": [],
   "source": [
    "# 특정 태그 지점까지 스크롤 이동\n",
    "from selenium.webdriver import ActionChains\n",
    "## https://selenium-python.readthedocs.io/api.html#module-selenium.webdriver.common.action_chains\n",
    "## ActionChains를 이용하여 다양한 기능을 수행할 수 있음\n",
    "\n",
    "some_tag = driver.find_element(By.CSS_SELECTOR, '#content > div.cover-list > div > ul > li:nth-child(1)')\n",
    "action = ActionChains(driver)\n",
    "action.move_to_element(some_tag).perform()"
   ]
  },
  {
   "cell_type": "code",
   "execution_count": 47,
   "id": "77af91e2",
   "metadata": {},
   "outputs": [],
   "source": [
    "driver.quit()"
   ]
  },
  {
   "cell_type": "markdown",
   "id": "2f1cb414",
   "metadata": {},
   "source": [
    "## 3. 검색어 입력"
   ]
  },
  {
   "cell_type": "markdown",
   "id": "55e0eb97",
   "metadata": {},
   "source": [
    "- css_selector"
   ]
  },
  {
   "cell_type": "code",
   "execution_count": 2,
   "id": "21d95e0c",
   "metadata": {},
   "outputs": [],
   "source": [
    "from selenium import webdriver\n",
    "from selenium.webdriver.common.by import By"
   ]
  },
  {
   "cell_type": "code",
   "execution_count": 3,
   "id": "6bd3e84f",
   "metadata": {},
   "outputs": [],
   "source": [
    "driver = webdriver.Chrome()\n",
    "driver.get('https://www.naver.com')"
   ]
  },
  {
   "cell_type": "code",
   "execution_count": 4,
   "id": "e60cb7a8",
   "metadata": {},
   "outputs": [],
   "source": [
    "# 검색창에 검색어 입력\n",
    "\n",
    "keyword = driver.find_element(By.CSS_SELECTOR , '#query')\n",
    "keyword.send_keys('파이썬')"
   ]
  },
  {
   "cell_type": "code",
   "execution_count": 5,
   "id": "78765255",
   "metadata": {},
   "outputs": [],
   "source": [
    "# 검색 버튼 클릭\n",
    "\n",
    "search_btn = driver.find_element(By.CSS_SELECTOR, '#search-btn')\n",
    "search_btn.click()\n",
    "\n",
    "# 이어서 계속 검색하려면\n",
    "# keyword.clear() 를 통해 검색창을 지워주고 다시 실행해줘야함"
   ]
  },
  {
   "cell_type": "markdown",
   "id": "b41a7a2c",
   "metadata": {},
   "source": [
    "- xpath\n",
    "\n",
    "```\n",
    "'//' : 최상위 루트\n",
    "'*' : 자손 태그(두 칸 밑에 있는 태그부터 자손이라 함)\n",
    "'/' : 자식 태그(바로 밑에 있는 태그)\n",
    "'div[1] : div 태그 중에서 1번째 태그\n",
    "```"
   ]
  },
  {
   "cell_type": "code",
   "execution_count": 6,
   "id": "d006bd7b",
   "metadata": {},
   "outputs": [],
   "source": [
    "driver.find_element(By.XPATH, '//*[@id=\"query\"]').send_keys('파이썬')\n",
    "driver.find_element(By.XPATH, '//*[@id=\"search-btn\"]').click()"
   ]
  },
  {
   "cell_type": "code",
   "execution_count": 7,
   "id": "bde1f705",
   "metadata": {},
   "outputs": [],
   "source": [
    "driver.quit()"
   ]
  },
  {
   "cell_type": "code",
   "execution_count": 8,
   "id": "4340be4c",
   "metadata": {},
   "outputs": [],
   "source": [
    "from selenium import webdriver\n",
    "from selenium.webdriver.common.by import By\n",
    "\n",
    "driver = webdriver.Chrome()\n",
    "driver.get('https://pinkwink.kr/')"
   ]
  },
  {
   "cell_type": "code",
   "execution_count": 19,
   "id": "f5130288",
   "metadata": {},
   "outputs": [
    {
     "ename": "ElementNotInteractableException",
     "evalue": "Message: element not interactable: element has zero size\n  (Session info: chrome=115.0.5790.171)\nStacktrace:\nBacktrace:\n\tGetHandleVerifier [0x00007FF644394A62+57106]\n\t(No symbol) [0x00007FF64430CF52]\n\t(No symbol) [0x00007FF6441DE2CB]\n\t(No symbol) [0x00007FF644218BCA]\n\t(No symbol) [0x00007FF64420EE2F]\n\t(No symbol) [0x00007FF6442369BA]\n\t(No symbol) [0x00007FF64420E746]\n\t(No symbol) [0x00007FF644236BD0]\n\t(No symbol) [0x00007FF64424E522]\n\t(No symbol) [0x00007FF644236793]\n\t(No symbol) [0x00007FF64420CE81]\n\t(No symbol) [0x00007FF64420E064]\n\tGetHandleVerifier [0x00007FF644644222+2873042]\n\tGetHandleVerifier [0x00007FF644696590+3209792]\n\tGetHandleVerifier [0x00007FF64468F3AF+3180639]\n\tGetHandleVerifier [0x00007FF644425F25+652245]\n\t(No symbol) [0x00007FF644318618]\n\t(No symbol) [0x00007FF6443147C4]\n\t(No symbol) [0x00007FF6443148BC]\n\t(No symbol) [0x00007FF644304C33]\n\tBaseThreadInitThunk [0x00007FFB9B2026AD+29]\n\tRtlUserThreadStart [0x00007FFB9C38AA68+40]\n",
     "output_type": "error",
     "traceback": [
      "\u001b[1;31m---------------------------------------------------------------------------\u001b[0m",
      "\u001b[1;31mElementNotInteractableException\u001b[0m           Traceback (most recent call last)",
      "Cell \u001b[1;32mIn[19], line 5\u001b[0m\n\u001b[0;32m      1\u001b[0m \u001b[38;5;66;03m# 1. 돋보기 버튼을 클릭\u001b[39;00m\n\u001b[0;32m      2\u001b[0m \n\u001b[0;32m      3\u001b[0m \u001b[38;5;66;03m## 동적 홈페이지의 특징 때문에 이 코드는 실행이 안됨.\u001b[39;00m\n\u001b[0;32m      4\u001b[0m search_btn \u001b[38;5;241m=\u001b[39m driver\u001b[38;5;241m.\u001b[39mfind_element(By\u001b[38;5;241m.\u001b[39mCSS_SELECTOR, \u001b[38;5;124m'\u001b[39m\u001b[38;5;124m#header > div.search\u001b[39m\u001b[38;5;124m'\u001b[39m)\n\u001b[1;32m----> 5\u001b[0m \u001b[43msearch_btn\u001b[49m\u001b[38;5;241;43m.\u001b[39;49m\u001b[43mclick\u001b[49m\u001b[43m(\u001b[49m\u001b[43m)\u001b[49m\n",
      "File \u001b[1;32m~\\anaconda3\\envs\\ds_study\\lib\\site-packages\\selenium\\webdriver\\remote\\webelement.py:94\u001b[0m, in \u001b[0;36mWebElement.click\u001b[1;34m(self)\u001b[0m\n\u001b[0;32m     92\u001b[0m \u001b[38;5;28;01mdef\u001b[39;00m \u001b[38;5;21mclick\u001b[39m(\u001b[38;5;28mself\u001b[39m) \u001b[38;5;241m-\u001b[39m\u001b[38;5;241m>\u001b[39m \u001b[38;5;28;01mNone\u001b[39;00m:\n\u001b[0;32m     93\u001b[0m \u001b[38;5;250m    \u001b[39m\u001b[38;5;124;03m\"\"\"Clicks the element.\"\"\"\u001b[39;00m\n\u001b[1;32m---> 94\u001b[0m     \u001b[38;5;28;43mself\u001b[39;49m\u001b[38;5;241;43m.\u001b[39;49m\u001b[43m_execute\u001b[49m\u001b[43m(\u001b[49m\u001b[43mCommand\u001b[49m\u001b[38;5;241;43m.\u001b[39;49m\u001b[43mCLICK_ELEMENT\u001b[49m\u001b[43m)\u001b[49m\n",
      "File \u001b[1;32m~\\anaconda3\\envs\\ds_study\\lib\\site-packages\\selenium\\webdriver\\remote\\webelement.py:395\u001b[0m, in \u001b[0;36mWebElement._execute\u001b[1;34m(self, command, params)\u001b[0m\n\u001b[0;32m    393\u001b[0m     params \u001b[38;5;241m=\u001b[39m {}\n\u001b[0;32m    394\u001b[0m params[\u001b[38;5;124m\"\u001b[39m\u001b[38;5;124mid\u001b[39m\u001b[38;5;124m\"\u001b[39m] \u001b[38;5;241m=\u001b[39m \u001b[38;5;28mself\u001b[39m\u001b[38;5;241m.\u001b[39m_id\n\u001b[1;32m--> 395\u001b[0m \u001b[38;5;28;01mreturn\u001b[39;00m \u001b[38;5;28;43mself\u001b[39;49m\u001b[38;5;241;43m.\u001b[39;49m\u001b[43m_parent\u001b[49m\u001b[38;5;241;43m.\u001b[39;49m\u001b[43mexecute\u001b[49m\u001b[43m(\u001b[49m\u001b[43mcommand\u001b[49m\u001b[43m,\u001b[49m\u001b[43m \u001b[49m\u001b[43mparams\u001b[49m\u001b[43m)\u001b[49m\n",
      "File \u001b[1;32m~\\anaconda3\\envs\\ds_study\\lib\\site-packages\\selenium\\webdriver\\remote\\webdriver.py:345\u001b[0m, in \u001b[0;36mWebDriver.execute\u001b[1;34m(self, driver_command, params)\u001b[0m\n\u001b[0;32m    343\u001b[0m response \u001b[38;5;241m=\u001b[39m \u001b[38;5;28mself\u001b[39m\u001b[38;5;241m.\u001b[39mcommand_executor\u001b[38;5;241m.\u001b[39mexecute(driver_command, params)\n\u001b[0;32m    344\u001b[0m \u001b[38;5;28;01mif\u001b[39;00m response:\n\u001b[1;32m--> 345\u001b[0m     \u001b[38;5;28;43mself\u001b[39;49m\u001b[38;5;241;43m.\u001b[39;49m\u001b[43merror_handler\u001b[49m\u001b[38;5;241;43m.\u001b[39;49m\u001b[43mcheck_response\u001b[49m\u001b[43m(\u001b[49m\u001b[43mresponse\u001b[49m\u001b[43m)\u001b[49m\n\u001b[0;32m    346\u001b[0m     response[\u001b[38;5;124m\"\u001b[39m\u001b[38;5;124mvalue\u001b[39m\u001b[38;5;124m\"\u001b[39m] \u001b[38;5;241m=\u001b[39m \u001b[38;5;28mself\u001b[39m\u001b[38;5;241m.\u001b[39m_unwrap_value(response\u001b[38;5;241m.\u001b[39mget(\u001b[38;5;124m\"\u001b[39m\u001b[38;5;124mvalue\u001b[39m\u001b[38;5;124m\"\u001b[39m, \u001b[38;5;28;01mNone\u001b[39;00m))\n\u001b[0;32m    347\u001b[0m     \u001b[38;5;28;01mreturn\u001b[39;00m response\n",
      "File \u001b[1;32m~\\anaconda3\\envs\\ds_study\\lib\\site-packages\\selenium\\webdriver\\remote\\errorhandler.py:229\u001b[0m, in \u001b[0;36mErrorHandler.check_response\u001b[1;34m(self, response)\u001b[0m\n\u001b[0;32m    227\u001b[0m         alert_text \u001b[38;5;241m=\u001b[39m value[\u001b[38;5;124m\"\u001b[39m\u001b[38;5;124malert\u001b[39m\u001b[38;5;124m\"\u001b[39m]\u001b[38;5;241m.\u001b[39mget(\u001b[38;5;124m\"\u001b[39m\u001b[38;5;124mtext\u001b[39m\u001b[38;5;124m\"\u001b[39m)\n\u001b[0;32m    228\u001b[0m     \u001b[38;5;28;01mraise\u001b[39;00m exception_class(message, screen, stacktrace, alert_text)  \u001b[38;5;66;03m# type: ignore[call-arg]  # mypy is not smart enough here\u001b[39;00m\n\u001b[1;32m--> 229\u001b[0m \u001b[38;5;28;01mraise\u001b[39;00m exception_class(message, screen, stacktrace)\n",
      "\u001b[1;31mElementNotInteractableException\u001b[0m: Message: element not interactable: element has zero size\n  (Session info: chrome=115.0.5790.171)\nStacktrace:\nBacktrace:\n\tGetHandleVerifier [0x00007FF644394A62+57106]\n\t(No symbol) [0x00007FF64430CF52]\n\t(No symbol) [0x00007FF6441DE2CB]\n\t(No symbol) [0x00007FF644218BCA]\n\t(No symbol) [0x00007FF64420EE2F]\n\t(No symbol) [0x00007FF6442369BA]\n\t(No symbol) [0x00007FF64420E746]\n\t(No symbol) [0x00007FF644236BD0]\n\t(No symbol) [0x00007FF64424E522]\n\t(No symbol) [0x00007FF644236793]\n\t(No symbol) [0x00007FF64420CE81]\n\t(No symbol) [0x00007FF64420E064]\n\tGetHandleVerifier [0x00007FF644644222+2873042]\n\tGetHandleVerifier [0x00007FF644696590+3209792]\n\tGetHandleVerifier [0x00007FF64468F3AF+3180639]\n\tGetHandleVerifier [0x00007FF644425F25+652245]\n\t(No symbol) [0x00007FF644318618]\n\t(No symbol) [0x00007FF6443147C4]\n\t(No symbol) [0x00007FF6443148BC]\n\t(No symbol) [0x00007FF644304C33]\n\tBaseThreadInitThunk [0x00007FFB9B2026AD+29]\n\tRtlUserThreadStart [0x00007FFB9C38AA68+40]\n"
     ]
    }
   ],
   "source": [
    "# 1. 돋보기 버튼을 클릭\n",
    "\n",
    "## 동적 홈페이지의 특징 때문에 이 코드는 실행이 안됨.\n",
    "search_btn = driver.find_element(By.CSS_SELECTOR, '#header > div.search > button') # #header > div.search 도 에러뜸\n",
    "search_btn.click()"
   ]
  },
  {
   "cell_type": "code",
   "execution_count": 20,
   "id": "8b698e5c",
   "metadata": {},
   "outputs": [],
   "source": [
    "# 1. 돋보기 버튼을 클릭\n",
    "\n",
    "from selenium.webdriver import ActionChains\n",
    "\n",
    "search_tag = driver.find_element(By.CSS_SELECTOR, '.search')\n",
    "                                # 이전 시간에는 #header > div.search 와 같이 css_selector를 복사해서 넣어줬는데\n",
    "                                # .클래스명 도 가능한가보다! (공식 문서를 좀 더 찾아봐야할듯)\n",
    "                                # 그런데, 버튼에 대한 css_selector는 작동되지 않는다.\n",
    "                                # 혹시 위 코드도 그냥 상위 클래스 코드의 css_selector는 되지 않을까 했는데 똑같이 오류가 뜬다.\n",
    "action = ActionChains(driver)\n",
    "action.click(search_tag)\n",
    "action.perform()"
   ]
  },
  {
   "cell_type": "code",
   "execution_count": 15,
   "id": "09aef5c6",
   "metadata": {},
   "outputs": [],
   "source": [
    "# 2. 검색어를 입력\n",
    "\n",
    "keyword = driver.find_element(By.CSS_SELECTOR , '#header > div.search.on > input[type=text]')\n",
    "keyword.send_keys('머신러닝')"
   ]
  },
  {
   "cell_type": "code",
   "execution_count": 16,
   "id": "a9a9f13a",
   "metadata": {},
   "outputs": [],
   "source": [
    "# 3. 검색 버튼 클릭\n",
    "\n",
    "search_btn = driver.find_element(By.CSS_SELECTOR ,'#header > div.search.on > button')\n",
    "search_btn.click()"
   ]
  },
  {
   "cell_type": "markdown",
   "id": "a37aee6c",
   "metadata": {},
   "source": [
    "## 4. Selenium + BeautifulSoup"
   ]
  },
  {
   "cell_type": "code",
   "execution_count": 21,
   "id": "a3027c8b",
   "metadata": {},
   "outputs": [
    {
     "data": {
      "text/plain": [
       "'<html lang=\"ko\"><head><script src=\"https://pagead2.googlesyndication.com/pagead/managed/js/adsense/m202308030101/reactive_library_fy2021.js\"></script><script src=\"https://partner.googleadservices.com/gampad/cookie.js?domain=pinkwink.kr&amp;callback=_gfp_s_&amp;client=ca-pub-2982459700139266&amp;cookie=ID%3D0ac38f7787c3073f-22e2e43fc6e20051%3AT%3D1691554339%3ART%3D1691555230%3AS%3DALNI_MYXtGIdKbUT_8pmS_ct9mR-nzGHcg&amp;gpic=UID%3D00000c2992146cfa%3AT%3D1691554339%3ART%3D1691555230%3AS%3DALNI_MaawHB2v5gvQX-44gJfFG5cK1QLQA\"></script><script src=\"https://pagead2.googlesyndication.com/pagead/managed/js/adsense/m202308030101/show_ads_impl_fy2021.js\" id=\"google_shimpl\"></script><script src=\"https://t1.kakaocdn.net/malibu_prod/wpm.js\" async=\"\"></script>\\n                <script type=\"text/javascript\">if (!window.T) { window.T = {} }\\nwindow.T.config = {\"TOP_SSL_URL\":\"https://www.tistory.com\",\"PREVIEW\":false,\"ROLE\":\"guest\",\"PREV_PAGE\":\"\",\"NEXT_PAGE\":\"\",\"BLOG\":{\"id\":371175,\"name\":\"pinkwink\",\"title\":\"PinkWink\",\"isDormancy\":false},\"NEED_COMMENT_LOGIN\":false,\"COMMENT_LOGIN_CONFIRM_MESSAGE\":\"\",\"LOGIN_URL\":\"https://www.tistory.com/auth/login/?redirectUrl=https://pinkwink.kr/\",\"DEFAULT_URL\":\"https://pinkwink.kr\",\"USER\":{\"name\":null,\"homepage\":null,\"id\":0,\"profileImage\":null},\"SUBSCRIPTION\":{\"status\":\"none\",\"isConnected\":false,\"isPending\":false,\"isWait\":false,\"isProcessing\":false,\"isNone\":true},\"IS_LOGIN\":false,\"HAS_BLOG\":false,\"IS_SUPPORT\":false,\"TOP_URL\":\"http://www.tistory.com\",\"JOIN_URL\":\"https://www.tistory.com/member/join\",\"ROLE_GROUP\":\"visitor\"};\\nwindow.appInfo = {\"domain\":\"tistory.com\",\"topUrl\":\"https://www.tistory.com\",\"loginUrl\":\"https://www.tistory.com/auth/login\",\"logoutUrl\":\"https://www.tistory.com/auth/logout\"};\\nwindow.initData = {};\\n\\nwindow.TistoryBlog = {\\n    basePath: \"\",\\n    url: \"https://pinkwink.kr\",\\n    tistoryUrl: \"https://pinkwink.tistory.com\",\\n    manageUrl: \"https://pinkwink.tistory.com/manage\",\\n    token: \"oLOzk62lI4IS679dsdTaME1Ojz+wh0TLSz4vy5UtGvmX8RIy5Br8RaikqjkUHrem\"\\n};\\nvar servicePath = \"\";\\nvar blogURL = \"\";</script>\\n\\n                \\n                \\n                \\n                        <!-- BusinessLicenseInfo - START -->\\n        \\n            <link href=\"https://tistory1.daumcdn.net/tistory_admin/userblog/userblog-00c378c6d24ec875851b570c2adc9fbdb7a25e6a/static/plugin/BusinessLicenseInfo/style.css\" rel=\"stylesheet\" type=\"text/css\">\\n\\n            <script>function switchFold(entryId) {\\n    var businessLayer = document.getElementById(\"businessInfoLayer_\" + entryId);\\n\\n    if (businessLayer) {\\n        if (businessLayer.className.indexOf(\"unfold_license\") > 0) {\\n            businessLayer.className = \"business_license_layer\";\\n        } else {\\n            businessLayer.className = \"business_license_layer unfold_license\";\\n        }\\n    }\\n}\\n</script>\\n\\n        \\n        <!-- BusinessLicenseInfo - END -->\\n<!-- System - START -->\\n\\n<!-- System - END -->\\n\\n        <!-- GoogleSearchConsole - START -->\\n        \\n<!-- BEGIN GOOGLE_SITE_VERIFICATION -->\\n<meta name=\"google-site-verification\" content=\"k3AvKvWkwX7aD3-ykT5zNH4ba1F3MJShutQ5laJ8S78\">\\n<!-- END GOOGLE_SITE_VERIFICATION -->\\n\\n        <!-- GoogleSearchConsole - END -->\\n\\n        <!-- A_ShareEntryWithSNS - START -->\\n        <link href=\"https://tistory1.daumcdn.net/tistory_admin/userblog/userblog-00c378c6d24ec875851b570c2adc9fbdb7a25e6a/static/plugin/A_ShareEntryWithSNS/style.css\" rel=\"stylesheet\" type=\"text/css\">\\n<script type=\"text/javascript\" src=\"https://tistory1.daumcdn.net/tistory_admin/userblog/userblog-00c378c6d24ec875851b570c2adc9fbdb7a25e6a/static/plugin/A_ShareEntryWithSNS/script.js\"></script>\\n\\n        <!-- A_ShareEntryWithSNS - END -->\\n\\n        <!-- TistoryProfileLayer - START -->\\n        <link href=\"https://tistory1.daumcdn.net/tistory_admin/userblog/userblog-00c378c6d24ec875851b570c2adc9fbdb7a25e6a/static/plugin/TistoryProfileLayer/style.css\" rel=\"stylesheet\" type=\"text/css\">\\n<script type=\"text/javascript\" src=\"https://tistory1.daumcdn.net/tistory_admin/userblog/userblog-00c378c6d24ec875851b570c2adc9fbdb7a25e6a/static/plugin/TistoryProfileLayer/script.js\"></script>\\n\\n        <!-- TistoryProfileLayer - END -->\\n\\n                \\n                <meta http-equiv=\"X-UA-Compatible\" content=\"IE=Edge\">\\n<meta name=\"format-detection\" content=\"telephone=no\">\\n<script src=\"//t1.daumcdn.net/tistory_admin/lib/jquery/jquery-3.5.1.min.js\" integrity=\"sha256-9/aliU8dGd2tb6OSsuzixeV4y/faTqgFtohetphbbj0=\" crossorigin=\"anonymous\"></script>\\n<script src=\"//t1.daumcdn.net/tistory_admin/lib/lightbox/js/lightbox-v2.10.0.min.js\" defer=\"\"></script>\\n<script type=\"text/javascript\" src=\"//t1.daumcdn.net/tiara/js/v1/tiara.min.js\"></script><meta name=\"referrer\" content=\"always\">\\n<meta name=\"google-adsense-platform-account\" content=\"ca-host-pub-9691043933427338\">\\n<meta name=\"google-adsense-platform-domain\" content=\"tistory.com\">\\n<meta name=\"google-adsense-account\" content=\"ca-pub-2982459700139266\">\\n<meta name=\"description\" content=\"한 변두리 공학도의 블로그입니다. 재미있어 보이는 것들을 모두 기초스럽게 접근하는 블로그이며... 그보다 더욱 소중한 우리 아가 미바뤼의 발자취를 남겨두는 블로그이기도 합니다.\">\\n\\n    <!-- BEGIN OPENGRAPH -->\\n    <meta property=\"og:type\" content=\"website\">\\n<meta property=\"og:url\" content=\"https://pinkwink.kr\">\\n<meta property=\"og:site_name\" content=\"PinkWink\">\\n<meta property=\"og:title\" content=\"PinkWink\">\\n<meta property=\"og:description\" content=\"한 변두리 공학도의 블로그입니다. 재미있어 보이는 것들을 모두 기초스럽게 접근하는 블로그이며... 그보다 더욱 소중한 우리 아가 미바뤼의 발자취를 남겨두는 블로그이기도 합니다.\">\\n<meta property=\"og:image\" content=\"https://img1.daumcdn.net/thumb/R800x0/?scode=mtistory2&amp;fname=https%3A%2F%2Ft1.daumcdn.net%2Fcfile%2Ftistory%2F207EB9594D92CCFF05\">\\n<meta property=\"og:article:author\" content=\"\\'PinkWink\\'\">\\n    <!-- END OPENGRAPH -->\\n\\n    <!-- BEGIN TWITTERCARD -->\\n    <meta name=\"twitter:card\" content=\"summary_large_image\">\\n<meta name=\"twitter:site\" content=\"@TISTORY\">\\n<meta name=\"twitter:title\" content=\"PinkWink\">\\n<meta name=\"twitter:description\" content=\"한 변두리 공학도의 블로그입니다. 재미있어 보이는 것들을 모두 기초스럽게 접근하는 블로그이며... 그보다 더욱 소중한 우리 아가 미바뤼의 발자취를 남겨두는 블로그이기도 합니다.\">\\n<meta property=\"twitter:image\" content=\"https://img1.daumcdn.net/thumb/R800x0/?scode=mtistory2&amp;fname=https%3A%2F%2Ft1.daumcdn.net%2Fcfile%2Ftistory%2F207EB9594D92CCFF05\">\\n    <!-- END TWITTERCARD -->\\n<link rel=\"stylesheet\" type=\"text/css\" href=\"https://t1.daumcdn.net/tistory_admin/lib/lightbox/css/lightbox.min.css\">\\n<link rel=\"stylesheet\" type=\"text/css\" href=\"https://tistory1.daumcdn.net/tistory_admin/userblog/userblog-00c378c6d24ec875851b570c2adc9fbdb7a25e6a/static/style/font.css\">\\n<link rel=\"stylesheet\" type=\"text/css\" href=\"https://tistory1.daumcdn.net/tistory_admin/userblog/userblog-00c378c6d24ec875851b570c2adc9fbdb7a25e6a/static/style/content.css\">\\n<script type=\"text/javascript\">(function() {\\n    var tjQuery = jQuery.noConflict(true);\\n    window.tjQuery = tjQuery;\\n    window.orgjQuery = window.jQuery; window.jQuery = tjQuery;\\n    window.jQuery = window.orgjQuery; delete window.orgjQuery;\\n})()</script>\\n<script type=\"text/javascript\" src=\"https://tistory1.daumcdn.net/tistory_admin/userblog/userblog-00c378c6d24ec875851b570c2adc9fbdb7a25e6a/static/script/base.js\"></script>\\n<script type=\"text/javascript\" src=\"//developers.kakao.com/sdk/js/kakao.min.js\"></script>\\n\\n                \\n<meta charset=\"UTF-8\">\\n<meta name=\"google-site-verification\" content=\"k3AvKvWkwX7aD3-ykT5zNH4ba1F3MJShutQ5laJ8S78\">\\n<meta name=\"viewport\" content=\"user-scalable=no, initial-scale=1.0, maximum-scale=1.0, minimum-scale=1.0, width=device-width\">\\n<title>PinkWink</title>\\n<link rel=\"stylesheet\" href=\"https://tistory1.daumcdn.net/tistory/371175/skin/style.css?_version_=1687613150\">\\n<script src=\"//t1.daumcdn.net/tistory_admin/lib/jquery/jquery-1.12.4.min.js\"></script>\\n  \\n  <script async=\"\" src=\"https://pagead2.googlesyndication.com/pagead/js/adsbygoogle.js?client=ca-pub-2982459700139266\" crossorigin=\"anonymous\" data-checked-head=\"true\"></script>\\n  \\n<!-- Google tag (gtag.js) -->\\n<script async=\"\" src=\"https://www.googletagmanager.com/gtag/js?id=G-HCXDDK2V0E\"></script>\\n<script>\\n  window.dataLayer = window.dataLayer || [];\\n  function gtag(){dataLayer.push(arguments);}\\n  gtag(\\'js\\', new Date());\\n\\n  gtag(\\'config\\', \\'G-HCXDDK2V0E\\');\\n</script>\\n\\n\\n                \\n                \\n                <style type=\"text/css\">.another_category {\\n    border: 1px solid #E5E5E5;\\n    padding: 10px 10px 5px;\\n    margin: 10px 0;\\n    clear: both;\\n}\\n\\n.another_category h4 {\\n    font-size: 12px !important;\\n    margin: 0 !important;\\n    border-bottom: 1px solid #E5E5E5 !important;\\n    padding: 2px 0 6px !important;\\n}\\n\\n.another_category h4 a {\\n    font-weight: bold !important;\\n}\\n\\n.another_category table {\\n    table-layout: fixed;\\n    border-collapse: collapse;\\n    width: 100% !important;\\n    margin-top: 10px !important;\\n}\\n\\n* html .another_category table {\\n    width: auto !important;\\n}\\n\\n*:first-child + html .another_category table {\\n    width: auto !important;\\n}\\n\\n.another_category th, .another_category td {\\n    padding: 0 0 4px !important;\\n}\\n\\n.another_category th {\\n    text-align: left;\\n    font-size: 12px !important;\\n    font-weight: normal;\\n    word-break: break-all;\\n    overflow: hidden;\\n    line-height: 1.5;\\n}\\n\\n.another_category td {\\n    text-align: right;\\n    width: 80px;\\n    font-size: 11px;\\n}\\n\\n.another_category th a {\\n    font-weight: normal;\\n    text-decoration: none;\\n    border: none !important;\\n}\\n\\n.another_category th a.current {\\n    font-weight: bold;\\n    text-decoration: none !important;\\n    border-bottom: 1px solid !important;\\n}\\n\\n.another_category th span {\\n    font-weight: normal;\\n    text-decoration: none;\\n    font: 10px Tahoma, Sans-serif;\\n    border: none !important;\\n}\\n\\n.another_category_color_gray, .another_category_color_gray h4 {\\n    border-color: #E5E5E5 !important;\\n}\\n\\n.another_category_color_gray * {\\n    color: #909090 !important;\\n}\\n\\n.another_category_color_gray th a.current {\\n    border-color: #909090 !important;\\n}\\n\\n.another_category_color_gray h4, .another_category_color_gray h4 a {\\n    color: #737373 !important;\\n}\\n\\n.another_category_color_red, .another_category_color_red h4 {\\n    border-color: #F6D4D3 !important;\\n}\\n\\n.another_category_color_red * {\\n    color: #E86869 !important;\\n}\\n\\n.another_category_color_red th a.current {\\n    border-color: #E86869 !important;\\n}\\n\\n.another_category_color_red h4, .another_category_color_red h4 a {\\n    color: #ED0908 !important;\\n}\\n\\n.another_category_color_green, .another_category_color_green h4 {\\n    border-color: #CCE7C8 !important;\\n}\\n\\n.another_category_color_green * {\\n    color: #64C05B !important;\\n}\\n\\n.another_category_color_green th a.current {\\n    border-color: #64C05B !important;\\n}\\n\\n.another_category_color_green h4, .another_category_color_green h4 a {\\n    color: #3EA731 !important;\\n}\\n\\n.another_category_color_blue, .another_category_color_blue h4 {\\n    border-color: #C8DAF2 !important;\\n}\\n\\n.another_category_color_blue * {\\n    color: #477FD6 !important;\\n}\\n\\n.another_category_color_blue th a.current {\\n    border-color: #477FD6 !important;\\n}\\n\\n.another_category_color_blue h4, .another_category_color_blue h4 a {\\n    color: #1960CA !important;\\n}\\n\\n.another_category_color_violet, .another_category_color_violet h4 {\\n    border-color: #E1CEEC !important;\\n}\\n\\n.another_category_color_violet * {\\n    color: #9D64C5 !important;\\n}\\n\\n.another_category_color_violet th a.current {\\n    border-color: #9D64C5 !important;\\n}\\n\\n.another_category_color_violet h4, .another_category_color_violet h4 a {\\n    color: #7E2CB5 !important;\\n}\\n</style>\\n\\n                \\n                <link rel=\"stylesheet\" type=\"text/css\" href=\"https://tistory1.daumcdn.net/tistory_admin/userblog/userblog-00c378c6d24ec875851b570c2adc9fbdb7a25e6a/static/style/dialog.css\">\\n<link rel=\"stylesheet\" type=\"text/css\" href=\"//t1.daumcdn.net/tistory_admin/www/style/top/font.css\">\\n<link rel=\"stylesheet\" type=\"text/css\" href=\"https://tistory1.daumcdn.net/tistory_admin/userblog/userblog-00c378c6d24ec875851b570c2adc9fbdb7a25e6a/static/style/postBtn.css\">\\n<link rel=\"stylesheet\" type=\"text/css\" href=\"https://tistory1.daumcdn.net/tistory_admin/userblog/userblog-00c378c6d24ec875851b570c2adc9fbdb7a25e6a/static/style/comment.css\">\\n<link rel=\"stylesheet\" type=\"text/css\" href=\"https://tistory1.daumcdn.net/tistory_admin/userblog/userblog-00c378c6d24ec875851b570c2adc9fbdb7a25e6a/static/style/tistory.css\">\\n<link rel=\"stylesheet\" type=\"text/css\" href=\"https://tistory1.daumcdn.net/tistory_admin/userblog/userblog-00c378c6d24ec875851b570c2adc9fbdb7a25e6a/static/style/revenue.css\">\\n<link rel=\"canonical\" href=\"https://pinkwink.kr\">\\n\\n<!-- BEGIN STRUCTURED_DATA -->\\n<script type=\"application/ld+json\">\\n    {\"@context\":\"http://schema.org\",\"@type\":\"WebSite\",\"url\":\"/\",\"potentialAction\":{\"@type\":\"SearchAction\",\"target\":\"/search/{search_term_string}\",\"query-input\":\"required name=search_term_string\"}}\\n</script>\\n<!-- END STRUCTURED_DATA -->\\n<script type=\"text/javascript\" src=\"https://tistory1.daumcdn.net/tistory_admin/userblog/userblog-00c378c6d24ec875851b570c2adc9fbdb7a25e6a/static/script/common.js\"></script>\\n<script type=\"text/javascript\" src=\"https://tistory1.daumcdn.net/tistory_admin/userblog/userblog-00c378c6d24ec875851b570c2adc9fbdb7a25e6a/static/script/comment.js\" defer=\"\"></script>\\n\\n                \\n                <meta http-equiv=\"origin-trial\" content=\"A7CQXglZzTrThjGTBEn1rWTxHOEtkWivwzgea+NjyardrwlieSjVuyG44PkYgIPGs8Q9svD8sF3Yedn0BBBjXAkAAACFeyJvcmlnaW4iOiJodHRwczovL2RvdWJsZWNsaWNrLm5ldDo0NDMiLCJmZWF0dXJlIjoiUHJpdmFjeVNhbmRib3hBZHNBUElzIiwiZXhwaXJ5IjoxNjk1MTY3OTk5LCJpc1N1YmRvbWFpbiI6dHJ1ZSwiaXNUaGlyZFBhcnR5Ijp0cnVlfQ==\"><meta http-equiv=\"origin-trial\" content=\"A3vKT9yxRPjmXN3DpIiz58f5JykcWHjUo/W7hvmtjgh9jPpQgem9VbADiNovG8NkO6mRmk70Kex8/KUqAYWVWAEAAACLeyJvcmlnaW4iOiJodHRwczovL2dvb2dsZXN5bmRpY2F0aW9uLmNvbTo0NDMiLCJmZWF0dXJlIjoiUHJpdmFjeVNhbmRib3hBZHNBUElzIiwiZXhwaXJ5IjoxNjk1MTY3OTk5LCJpc1N1YmRvbWFpbiI6dHJ1ZSwiaXNUaGlyZFBhcnR5Ijp0cnVlfQ==\"><meta http-equiv=\"origin-trial\" content=\"A4A26Ymj79UVY7C7JGUS4BG1s7MdcDokAQf/RP0paks+RoTYbXHxceT/5L4iKcsleFCngi75YfNRGW2+SpVv1ggAAACLeyJvcmlnaW4iOiJodHRwczovL2dvb2dsZXRhZ3NlcnZpY2VzLmNvbTo0NDMiLCJmZWF0dXJlIjoiUHJpdmFjeVNhbmRib3hBZHNBUElzIiwiZXhwaXJ5IjoxNjk1MTY3OTk5LCJpc1N1YmRvbWFpbiI6dHJ1ZSwiaXNUaGlyZFBhcnR5Ijp0cnVlfQ==\"><meta http-equiv=\"origin-trial\" content=\"As0hBNJ8h++fNYlkq8cTye2qDLyom8NddByiVytXGGD0YVE+2CEuTCpqXMDxdhOMILKoaiaYifwEvCRlJ/9GcQ8AAAB8eyJvcmlnaW4iOiJodHRwczovL2RvdWJsZWNsaWNrLm5ldDo0NDMiLCJmZWF0dXJlIjoiV2ViVmlld1hSZXF1ZXN0ZWRXaXRoRGVwcmVjYXRpb24iLCJleHBpcnkiOjE3MTk1MzI3OTksImlzU3ViZG9tYWluIjp0cnVlfQ==\"><meta http-equiv=\"origin-trial\" content=\"AgRYsXo24ypxC89CJanC+JgEmraCCBebKl8ZmG7Tj5oJNx0cmH0NtNRZs3NB5ubhpbX/bIt7l2zJOSyO64NGmwMAAACCeyJvcmlnaW4iOiJodHRwczovL2dvb2dsZXN5bmRpY2F0aW9uLmNvbTo0NDMiLCJmZWF0dXJlIjoiV2ViVmlld1hSZXF1ZXN0ZWRXaXRoRGVwcmVjYXRpb24iLCJleHBpcnkiOjE3MTk1MzI3OTksImlzU3ViZG9tYWluIjp0cnVlfQ==\"><meta http-equiv=\"origin-trial\" content=\"A7CQXglZzTrThjGTBEn1rWTxHOEtkWivwzgea+NjyardrwlieSjVuyG44PkYgIPGs8Q9svD8sF3Yedn0BBBjXAkAAACFeyJvcmlnaW4iOiJodHRwczovL2RvdWJsZWNsaWNrLm5ldDo0NDMiLCJmZWF0dXJlIjoiUHJpdmFjeVNhbmRib3hBZHNBUElzIiwiZXhwaXJ5IjoxNjk1MTY3OTk5LCJpc1N1YmRvbWFpbiI6dHJ1ZSwiaXNUaGlyZFBhcnR5Ijp0cnVlfQ==\"><meta http-equiv=\"origin-trial\" content=\"A3vKT9yxRPjmXN3DpIiz58f5JykcWHjUo/W7hvmtjgh9jPpQgem9VbADiNovG8NkO6mRmk70Kex8/KUqAYWVWAEAAACLeyJvcmlnaW4iOiJodHRwczovL2dvb2dsZXN5bmRpY2F0aW9uLmNvbTo0NDMiLCJmZWF0dXJlIjoiUHJpdmFjeVNhbmRib3hBZHNBUElzIiwiZXhwaXJ5IjoxNjk1MTY3OTk5LCJpc1N1YmRvbWFpbiI6dHJ1ZSwiaXNUaGlyZFBhcnR5Ijp0cnVlfQ==\"><meta http-equiv=\"origin-trial\" content=\"A4A26Ymj79UVY7C7JGUS4BG1s7MdcDokAQf/RP0paks+RoTYbXHxceT/5L4iKcsleFCngi75YfNRGW2+SpVv1ggAAACLeyJvcmlnaW4iOiJodHRwczovL2dvb2dsZXRhZ3NlcnZpY2VzLmNvbTo0NDMiLCJmZWF0dXJlIjoiUHJpdmFjeVNhbmRib3hBZHNBUElzIiwiZXhwaXJ5IjoxNjk1MTY3OTk5LCJpc1N1YmRvbWFpbiI6dHJ1ZSwiaXNUaGlyZFBhcnR5Ijp0cnVlfQ==\"><meta http-equiv=\"origin-trial\" content=\"As0hBNJ8h++fNYlkq8cTye2qDLyom8NddByiVytXGGD0YVE+2CEuTCpqXMDxdhOMILKoaiaYifwEvCRlJ/9GcQ8AAAB8eyJvcmlnaW4iOiJodHRwczovL2RvdWJsZWNsaWNrLm5ldDo0NDMiLCJmZWF0dXJlIjoiV2ViVmlld1hSZXF1ZXN0ZWRXaXRoRGVwcmVjYXRpb24iLCJleHBpcnkiOjE3MTk1MzI3OTksImlzU3ViZG9tYWluIjp0cnVlfQ==\"><meta http-equiv=\"origin-trial\" content=\"AgRYsXo24ypxC89CJanC+JgEmraCCBebKl8ZmG7Tj5oJNx0cmH0NtNRZs3NB5ubhpbX/bIt7l2zJOSyO64NGmwMAAACCeyJvcmlnaW4iOiJodHRwczovL2dvb2dsZXN5bmRpY2F0aW9uLmNvbTo0NDMiLCJmZWF0dXJlIjoiV2ViVmlld1hSZXF1ZXN0ZWRXaXRoRGVwcmVjYXRpb24iLCJleHBpcnkiOjE3MTk1MzI3OTksImlzU3ViZG9tYWluIjp0cnVlfQ==\"><meta http-equiv=\"origin-trial\" content=\"A7CQXglZzTrThjGTBEn1rWTxHOEtkWivwzgea+NjyardrwlieSjVuyG44PkYgIPGs8Q9svD8sF3Yedn0BBBjXAkAAACFeyJvcmlnaW4iOiJodHRwczovL2RvdWJsZWNsaWNrLm5ldDo0NDMiLCJmZWF0dXJlIjoiUHJpdmFjeVNhbmRib3hBZHNBUElzIiwiZXhwaXJ5IjoxNjk1MTY3OTk5LCJpc1N1YmRvbWFpbiI6dHJ1ZSwiaXNUaGlyZFBhcnR5Ijp0cnVlfQ==\"><meta http-equiv=\"origin-trial\" content=\"A3vKT9yxRPjmXN3DpIiz58f5JykcWHjUo/W7hvmtjgh9jPpQgem9VbADiNovG8NkO6mRmk70Kex8/KUqAYWVWAEAAACLeyJvcmlnaW4iOiJodHRwczovL2dvb2dsZXN5bmRpY2F0aW9uLmNvbTo0NDMiLCJmZWF0dXJlIjoiUHJpdmFjeVNhbmRib3hBZHNBUElzIiwiZXhwaXJ5IjoxNjk1MTY3OTk5LCJpc1N1YmRvbWFpbiI6dHJ1ZSwiaXNUaGlyZFBhcnR5Ijp0cnVlfQ==\"><meta http-equiv=\"origin-trial\" content=\"A4A26Ymj79UVY7C7JGUS4BG1s7MdcDokAQf/RP0paks+RoTYbXHxceT/5L4iKcsleFCngi75YfNRGW2+SpVv1ggAAACLeyJvcmlnaW4iOiJodHRwczovL2dvb2dsZXRhZ3NlcnZpY2VzLmNvbTo0NDMiLCJmZWF0dXJlIjoiUHJpdmFjeVNhbmRib3hBZHNBUElzIiwiZXhwaXJ5IjoxNjk1MTY3OTk5LCJpc1N1YmRvbWFpbiI6dHJ1ZSwiaXNUaGlyZFBhcnR5Ijp0cnVlfQ==\"><meta http-equiv=\"origin-trial\" content=\"As0hBNJ8h++fNYlkq8cTye2qDLyom8NddByiVytXGGD0YVE+2CEuTCpqXMDxdhOMILKoaiaYifwEvCRlJ/9GcQ8AAAB8eyJvcmlnaW4iOiJodHRwczovL2RvdWJsZWNsaWNrLm5ldDo0NDMiLCJmZWF0dXJlIjoiV2ViVmlld1hSZXF1ZXN0ZWRXaXRoRGVwcmVjYXRpb24iLCJleHBpcnkiOjE3MTk1MzI3OTksImlzU3ViZG9tYWluIjp0cnVlfQ==\"><meta http-equiv=\"origin-trial\" content=\"AgRYsXo24ypxC89CJanC+JgEmraCCBebKl8ZmG7Tj5oJNx0cmH0NtNRZs3NB5ubhpbX/bIt7l2zJOSyO64NGmwMAAACCeyJvcmlnaW4iOiJodHRwczovL2dvb2dsZXN5bmRpY2F0aW9uLmNvbTo0NDMiLCJmZWF0dXJlIjoiV2ViVmlld1hSZXF1ZXN0ZWRXaXRoRGVwcmVjYXRpb24iLCJleHBpcnkiOjE3MTk1MzI3OTksImlzU3ViZG9tYWluIjp0cnVlfQ==\"><meta http-equiv=\"origin-trial\" content=\"A7CQXglZzTrThjGTBEn1rWTxHOEtkWivwzgea+NjyardrwlieSjVuyG44PkYgIPGs8Q9svD8sF3Yedn0BBBjXAkAAACFeyJvcmlnaW4iOiJodHRwczovL2RvdWJsZWNsaWNrLm5ldDo0NDMiLCJmZWF0dXJlIjoiUHJpdmFjeVNhbmRib3hBZHNBUElzIiwiZXhwaXJ5IjoxNjk1MTY3OTk5LCJpc1N1YmRvbWFpbiI6dHJ1ZSwiaXNUaGlyZFBhcnR5Ijp0cnVlfQ==\"><meta http-equiv=\"origin-trial\" content=\"A3vKT9yxRPjmXN3DpIiz58f5JykcWHjUo/W7hvmtjgh9jPpQgem9VbADiNovG8NkO6mRmk70Kex8/KUqAYWVWAEAAACLeyJvcmlnaW4iOiJodHRwczovL2dvb2dsZXN5bmRpY2F0aW9uLmNvbTo0NDMiLCJmZWF0dXJlIjoiUHJpdmFjeVNhbmRib3hBZHNBUElzIiwiZXhwaXJ5IjoxNjk1MTY3OTk5LCJpc1N1YmRvbWFpbiI6dHJ1ZSwiaXNUaGlyZFBhcnR5Ijp0cnVlfQ==\"><meta http-equiv=\"origin-trial\" content=\"A4A26Ymj79UVY7C7JGUS4BG1s7MdcDokAQf/RP0paks+RoTYbXHxceT/5L4iKcsleFCngi75YfNRGW2+SpVv1ggAAACLeyJvcmlnaW4iOiJodHRwczovL2dvb2dsZXRhZ3NlcnZpY2VzLmNvbTo0NDMiLCJmZWF0dXJlIjoiUHJpdmFjeVNhbmRib3hBZHNBUElzIiwiZXhwaXJ5IjoxNjk1MTY3OTk5LCJpc1N1YmRvbWFpbiI6dHJ1ZSwiaXNUaGlyZFBhcnR5Ijp0cnVlfQ==\"><meta http-equiv=\"origin-trial\" content=\"As0hBNJ8h++fNYlkq8cTye2qDLyom8NddByiVytXGGD0YVE+2CEuTCpqXMDxdhOMILKoaiaYifwEvCRlJ/9GcQ8AAAB8eyJvcmlnaW4iOiJodHRwczovL2RvdWJsZWNsaWNrLm5ldDo0NDMiLCJmZWF0dXJlIjoiV2ViVmlld1hSZXF1ZXN0ZWRXaXRoRGVwcmVjYXRpb24iLCJleHBpcnkiOjE3MTk1MzI3OTksImlzU3ViZG9tYWluIjp0cnVlfQ==\"><meta http-equiv=\"origin-trial\" content=\"AgRYsXo24ypxC89CJanC+JgEmraCCBebKl8ZmG7Tj5oJNx0cmH0NtNRZs3NB5ubhpbX/bIt7l2zJOSyO64NGmwMAAACCeyJvcmlnaW4iOiJodHRwczovL2dvb2dsZXN5bmRpY2F0aW9uLmNvbTo0NDMiLCJmZWF0dXJlIjoiV2ViVmlld1hSZXF1ZXN0ZWRXaXRoRGVwcmVjYXRpb24iLCJleHBpcnkiOjE3MTk1MzI3OTksImlzU3ViZG9tYWluIjp0cnVlfQ==\"></head>\\n                                <body id=\"tt-body-index\" class=\"color-gray post-type-text paging-view-more\" style=\"padding: 0px;\">\\n                \\n                \\n\\n<div id=\"acc-nav\">\\n  <a href=\"#content\">본문 바로가기</a>\\n</div>\\n<div id=\"wrap\">\\n  <header id=\"header\">\\n    <h1><a href=\"https://pinkwink.kr/\">PinkWink</a></h1>\\n    <button type=\"button\" class=\"mobile-menu\"><span>메뉴</span></button>\\n    <div class=\"menu\">\\n      <nav id=\"gnb\">\\n        <ul class=\"tt_category\"><li class=\"\"><a href=\"/category\" class=\"link_tit\"> Posts by PinkWink <span class=\"c_cnt\">(1306)</span> </a>\\n  <ul class=\"category_list\"><li class=\"\"><a href=\"/category/Education\" class=\"link_item\"> Education <span class=\"c_cnt\">(40)</span> </a></li>\\n<li class=\"\"><a href=\"/category/Robot\" class=\"link_item\"> Robot <span class=\"c_cnt\">(160)</span> </a>\\n  <ul class=\"sub_category_list\"><li class=\"\"><a href=\"/category/Robot/Project\" class=\"link_sub_item\"> Project <span class=\"c_cnt\">(43)</span> </a></li>\\n<li class=\"\"><a href=\"/category/Robot/Robot%20Program%20-%20ROS\" class=\"link_sub_item\"> Robot Program - ROS <span class=\"c_cnt\">(65)</span> </a></li>\\n<li class=\"\"><a href=\"/category/Robot/Robot%20Module\" class=\"link_sub_item\"> Robot Module <span class=\"c_cnt\">(16)</span> </a></li>\\n<li class=\"\"><a href=\"/category/Robot/Block%20Coding\" class=\"link_sub_item\"> Block Coding <span class=\"c_cnt\">(13)</span> </a></li>\\n<li class=\"\"><a href=\"/category/Robot/Reference\" class=\"link_sub_item\"> Reference <span class=\"c_cnt\">(23)</span> </a></li>\\n</ul>\\n</li>\\n<li class=\"\"><a href=\"/category/Theory\" class=\"link_item\"> Theory <span class=\"c_cnt\">(228)</span> </a>\\n  <ul class=\"sub_category_list\"><li class=\"\"><a href=\"/category/Theory/ControlTheory\" class=\"link_sub_item\"> ControlTheory <span class=\"c_cnt\">(53)</span> </a></li>\\n<li class=\"\"><a href=\"/category/Theory/DataScience\" class=\"link_sub_item\"> DataScience <span class=\"c_cnt\">(52)</span> </a></li>\\n<li class=\"\"><a href=\"/category/Theory/MachineLearning\" class=\"link_sub_item\"> MachineLearning <span class=\"c_cnt\">(7)</span> </a></li>\\n<li class=\"\"><a href=\"/category/Theory/DeepLearning\" class=\"link_sub_item\"> DeepLearning <span class=\"c_cnt\">(19)</span> </a></li>\\n<li class=\"\"><a href=\"/category/Theory/Project\" class=\"link_sub_item\"> Project <span class=\"c_cnt\">(5)</span> </a></li>\\n<li class=\"\"><a href=\"/category/Theory/Lecture\" class=\"link_sub_item\"> Lecture <span class=\"c_cnt\">(77)</span> </a></li>\\n<li class=\"\"><a href=\"/category/Theory/Review\" class=\"link_sub_item\"> Review <span class=\"c_cnt\">(15)</span> </a></li>\\n</ul>\\n</li>\\n<li class=\"\"><a href=\"/category/Software\" class=\"link_item\"> Software <span class=\"c_cnt\">(301)</span> </a>\\n  <ul class=\"sub_category_list\"><li class=\"\"><a href=\"/category/Software/MATLAB\" class=\"link_sub_item\"> MATLAB <span class=\"c_cnt\">(65)</span> </a></li>\\n<li class=\"\"><a href=\"/category/Software/Python\" class=\"link_sub_item\"> Python <span class=\"c_cnt\">(78)</span> </a></li>\\n<li class=\"\"><a href=\"/category/Software/Processing\" class=\"link_sub_item\"> Processing <span class=\"c_cnt\">(11)</span> </a></li>\\n<li class=\"\"><a href=\"/category/Software/Ubuntu%20and%20Mint\" class=\"link_sub_item\"> Ubuntu and Mint <span class=\"c_cnt\">(39)</span> </a></li>\\n<li class=\"\"><a href=\"/category/Software/Mac%20OS\" class=\"link_sub_item\"> Mac OS <span class=\"c_cnt\">(25)</span> </a></li>\\n<li class=\"\"><a href=\"/category/Software/Useful%20SW\" class=\"link_sub_item\"> Useful SW <span class=\"c_cnt\">(60)</span> </a></li>\\n<li class=\"\"><a href=\"/category/Software/Useful%20Site\" class=\"link_sub_item\"> Useful Site <span class=\"c_cnt\">(23)</span> </a></li>\\n</ul>\\n</li>\\n<li class=\"\"><a href=\"/category/Hardware\" class=\"link_item\"> Hardware <span class=\"c_cnt\">(98)</span> </a>\\n  <ul class=\"sub_category_list\"><li class=\"\"><a href=\"/category/Hardware/SBC%20%28rasp%2C%20jetson%2C%20latte%20panda%29\" class=\"link_sub_item\"> SBC (rasp, jetson, latte pa.. <span class=\"c_cnt\">(20)</span> </a></li>\\n<li class=\"\"><a href=\"/category/Hardware/Arduino%20and%20Friends\" class=\"link_sub_item\"> Arduino and Friends <span class=\"c_cnt\">(29)</span> </a></li>\\n<li class=\"\"><a href=\"/category/Hardware/MCU\" class=\"link_sub_item\"> MCU <span class=\"c_cnt\">(16)</span> </a></li>\\n<li class=\"\"><a href=\"/category/Hardware/Review\" class=\"link_sub_item\"> Review <span class=\"c_cnt\">(33)</span> </a></li>\\n</ul>\\n</li>\\n<li class=\"\"><a href=\"/category/%EB%AC%B8%ED%99%94%EC%83%9D%ED%99%9C\" class=\"link_item\"> 문화생활 <span class=\"c_cnt\">(137)</span> </a>\\n  <ul class=\"sub_category_list\"><li class=\"\"><a href=\"/category/%EB%AC%B8%ED%99%94%EC%83%9D%ED%99%9C/%EA%B0%90%EC%83%81%ED%95%98%EA%B8%B0\" class=\"link_sub_item\"> 감상하기 <span class=\"c_cnt\">(28)</span> </a></li>\\n<li class=\"\"><a href=\"/category/%EB%AC%B8%ED%99%94%EC%83%9D%ED%99%9C/%EA%B0%80%EB%B3%BC%EA%B1%B0%EB%A6%AC.%EC%84%B8%EA%B3%84\" class=\"link_sub_item\"> 가볼거리.세계 <span class=\"c_cnt\">(82)</span> </a></li>\\n<li class=\"\"><a href=\"/category/%EB%AC%B8%ED%99%94%EC%83%9D%ED%99%9C/%EC%97%AD%EC%82%AC%EC%9D%B4%EC%95%BC%EA%B8%B0\" class=\"link_sub_item\"> 역사이야기 <span class=\"c_cnt\">(27)</span> </a></li>\\n</ul>\\n</li>\\n<li class=\"\"><a href=\"/category/%EC%9D%BC%EC%83%81%EC%83%9D%ED%99%9C\" class=\"link_item\"> 일상생활 <span class=\"c_cnt\">(342)</span> </a>\\n  <ul class=\"sub_category_list\"><li class=\"\"><a href=\"/category/%EC%9D%BC%EC%83%81%EC%83%9D%ED%99%9C/%EC%95%84%EA%B0%80%20%EB%AF%B8%EB%B0%94%EB%A4%BC\" class=\"link_sub_item\"> 아가 미바뤼 <span class=\"c_cnt\">(66)</span> </a></li>\\n<li class=\"\"><a href=\"/category/%EC%9D%BC%EC%83%81%EC%83%9D%ED%99%9C/%EB%81%84%EC%A0%81%EA%B1%B0%EB%A6%BC\" class=\"link_sub_item\"> 끄적거림 <span class=\"c_cnt\">(121)</span> </a></li>\\n<li class=\"\"><a href=\"/category/%EC%9D%BC%EC%83%81%EC%83%9D%ED%99%9C/%EB%A8%B9%EC%9D%84%EA%B1%B0%EB%A6%AC\" class=\"link_sub_item\"> 먹을거리 <span class=\"c_cnt\">(50)</span> </a></li>\\n<li class=\"\"><a href=\"/category/%EC%9D%BC%EC%83%81%EC%83%9D%ED%99%9C/%EA%B0%80%EB%B3%BC%EA%B1%B0%EB%A6%AC.%ED%95%9C%EA%B5%AD\" class=\"link_sub_item\"> 가볼거리.한국 <span class=\"c_cnt\">(91)</span> </a></li>\\n<li class=\"\"><a href=\"/category/%EC%9D%BC%EC%83%81%EC%83%9D%ED%99%9C/%ED%88%AC%EB%8D%9C%EA%B1%B0%EB%A6%BC\" class=\"link_sub_item\"> 투덜거림 <span class=\"c_cnt\">(14)</span> </a></li>\\n</ul>\\n</li>\\n</ul>\\n</li>\\n</ul>\\n\\n      </nav>\\n      <div class=\"social-link\">\\n        \\n        \\n        \\n        \\n      </div>\\n      <p>POWERED BY TISTORY</p>\\n    </div>\\n    <div class=\"search on\">\\n      \\n          <input type=\"text\" name=\"search\" value=\"\" placeholder=\"검색내용을 입력하세요.\" onkeypress=\"if (event.keyCode == 13) { try {\\n    window.location.href = \\'/search\\' + \\'/\\' + looseURIEncode(document.getElementsByName(\\'search\\')[0].value);\\n    document.getElementsByName(\\'search\\')[0].value = \\'\\';\\n    return false;\\n} catch (e) {} }\">\\n          <button type=\"submit\" onclick=\"try {\\n    window.location.href = \\'/search\\' + \\'/\\' + looseURIEncode(document.getElementsByName(\\'search\\')[0].value);\\n    document.getElementsByName(\\'search\\')[0].value = \\'\\';\\n    return false;\\n} catch (e) {}\">검색</button>\\n        \\n    </div>\\n  </header>\\n  <hr>\\n  <section class=\"container\">\\n    \\n    <article id=\"content\">\\n      \\n          \\n            \\n\\n            \\n\\n            \\n              <div class=\"cover-masonry\">\\n                <div class=\"inner\">\\n                  <h2>최신 글</h2>\\n                  <ul style=\"display: block; position: relative; height: 2729.8px;\">\\n                    \\n                      <li style=\"position: absolute; left: 0px; top: 0px;\">\\n                        <a href=\"/1431\">\\n                          <span class=\"thum\"><img src=\"//i1.daumcdn.net/thumb/R600x0/?fname=https://blog.kakaocdn.net/dn/J0V5K/btsoRx1SeGy/C4GQywG2o9ZqX3KgfpfjV1/img.png\" alt=\"\"></span>\\n                          \\n                            <span class=\"category\">Education</span>\\n                          \\n                          <span class=\"title\">[수강생 프로젝트 소개] 행동 인지 예측 모델을 이용한 불량 제품 검수 모델 개발</span>\\n                          <span class=\"excerpt\">안녕하세요. 이번에도 제가 제로베이스 데이터사이언스 스쿨에서 수업을 진행한 팀의 업적(?)을 도 하나 소개하려고 합니다. 이번 팀은 작업의 절차를 인식하려고 노력한 팀입니다. 물건을 놓아라, 돌려라 등의 행동을 인식해서 모델이 작업자가 가이드에 맞춰 잘 작업을 진행하고 있는지 그리고 대상 물건은 정상인지 등을 확인하는 모델을 만들려는 것입니다. 먼저 인지해야하는 행동 등을 정의를 내렸습니다. 그리고 불량 제품도 선정하구요. 이번 팀은 YOLO로 물체 인식, 미디어파이프로 Pose 인식, 그리고 인식된 pose를 이용해서 행동을 인식하는 것은 LSTM을 사용했습니다. 여러 상황을 조금 가정하고 진행을 했습니다. 단순한 행동이긴 하지만, \"돌려라\"의 행동을 인식하는 것은 단순히 한 장의 사진으로 되는 것이 ..</span>\\n                        </a>\\n                      </li>\\n                    \\n                      <li style=\"position: absolute; left: 0px; top: 498.104px;\">\\n                        <a href=\"/1430\">\\n                          <span class=\"thum\"><img src=\"//i1.daumcdn.net/thumb/R600x0/?fname=https://blog.kakaocdn.net/dn/cWgt1o/btsl9uFwOZ4/7WPMGbKy99lEZMrllKyHRK/img.png\" alt=\"\"></span>\\n                          \\n                            <span class=\"category\">Mac OS</span>\\n                          \\n                          <span class=\"title\">맥 터미널 xcrun: error: invalid active developer path 대응방법</span>\\n                          <span class=\"excerpt\">최근 맥OS를 업데이트했습니다. 저는 애플을 사랑하지만, SW 업그레이드는 항상 한발짝 늦게 하는 편입니다. 그런데 이번에도 이런일이 생겼네요. iTerms로 세팅한 터미널에서 이렇게 xcrun: error: invalid active developer path (/Library/Developer/CommandLineTools), missing xcrun at: /Library/Developer/CommandLineTools/usr/bin/xcrun 에러가 난것이죠. 이건 OS 업데이트에 맞춰 xcode를 xcode-select --install 설치해주면 됩니다. 별거 아니지만 약간 신경 쓰이죠.ㅠㅠ. 아무튼 그러면 이렇게 설치를 시작합니다. 이게 시간이 워낙 시간대별로 들쑥날쑥한데, 시간은 자주 흔들..</span>\\n                        </a>\\n                      </li>\\n                    \\n                      <li style=\"position: absolute; left: 0px; top: 782.458px;\">\\n                        <a href=\"/1429\">\\n                          <span class=\"thum\"><img src=\"//i1.daumcdn.net/thumb/R600x0/?fname=https://blog.kakaocdn.net/dn/N59NS/btsl2olMNBN/SKhP32RPo45OziQDOj3Kc0/img.png\" alt=\"\"></span>\\n                          \\n                            <span class=\"category\">Education</span>\\n                          \\n                          <span class=\"title\">[수강생 프로젝트 소개] 스마트팜을 꿈꾸던 - 수확하는 사람들</span>\\n                          <span class=\"excerpt\">교육, 특히 요즘 제가 자주 진행하는 부트캠프 형식의 6개월 미만 단기 과정에서는 여러 환경적 요소가 제한적일 수 밖에 없습니다. 프로젝트를 수행하는 시간도 부족하고, 팀원들도 모두 이런 프로젝트를 해보지 않았기도 하고 배운 내용을 아직 다 익히기도 짧은 기간이기 때문입니다. 그럼에도 불구하고 프로젝트 형 수업의 장점을 너무도 잘 알고 있기 때문에 또 포기하기도 쉽지 않습니다. 그럴때는 강의를 책임지는 제가 적극적으로 개입할 때도 있긴 하지만, 어디까지나 스스로 진행해야하기 때문에 제가 할 수 있는 일도 많이 제한적입니다. 그럼에도 불구하고 항상 이렇게 수강생의 성과를 소개할 때는 또 기분이 좋습니다. 이 친구들은 6개월 기간의 수업중 5개월차에 파이널 프로젝트에 돌입한 친구들입니다. 수강생들의 작명 센..</span>\\n                        </a>\\n                      </li>\\n                    \\n                      <li style=\"position: absolute; left: 0px; top: 1261.7px;\">\\n                        <a href=\"/1428\">\\n                          <span class=\"thum\"><img src=\"//i1.daumcdn.net/thumb/R600x0/?fname=https://blog.kakaocdn.net/dn/4cUUh/btslt1Y9zOD/TtUfnUWkOBGkL0i3FSJqrK/img.png\" alt=\"\"></span>\\n                          \\n                            <span class=\"category\">Education</span>\\n                          \\n                          <span class=\"title\">2023 ICROS 논문 발표. 무려 5팀. 핑크랩도 살짝 발을 담궜습니다.</span>\\n                          <span class=\"excerpt\">23년 6월 21일에 강원도 삼척 쏠비치에서 제어로봇시스템 공학회의 ICROS 학회가 열렸습니다. 작은 회사를 운영하면서, 교육도 하면서, 개발도 하는건 알겠는데 갑자기 왠 학회요? 네. 이번에 참가했습니다. 학회 등록비는 제로베이스를 운영하는 데이원컴퍼니에서 고맙게도 지원했으며, 제가 제로베이스의 수업의 일환으로 진행되는 PBL 수업에 참가한 수강생들 4팀, 애드인에듀에서 제 수업을 들은 친구들 1팀, 이렇게 5팀이 논문을 발표하고, 교신저자로 제가 모두 참여했습니다. 저렇게 5팀의 발표를 하나의 세션에 모아서 진행했습니다. 우리끼리 하는거라 아무도 안올줄 알았는데ㅠㅠ. 꽤 많은 분들이 관심을 가져주셔서 청중도 있었습니다.^^. 근데 부트캠프에서 왜 논문을 발표한 건지 위 논문들은 처음에 이야기했지만,..</span>\\n                        </a>\\n                      </li>\\n                    \\n                      <li style=\"position: absolute; left: 0px; top: 1828.95px;\">\\n                        <a href=\"/1427\">\\n                          <span class=\"thum\"><img src=\"//i1.daumcdn.net/thumb/R600x0/?fname=https://blog.kakaocdn.net/dn/mZyxa/btskllcT9gn/RncR5K8s9eJ03JkKaexNaK/img.png\" alt=\"\"></span>\\n                          \\n                            <span class=\"category\">DeepLearning</span>\\n                          \\n                          <span class=\"title\">영상 인식에 필요한 기초 기법 간편 정리 - ArUCo Marker, YOLO 등</span>\\n                          <span class=\"excerpt\">이번에는 로봇에서 영상인식, 혹은 간단한 프로젝트에서 영상을 인식하는 부분에 대해 간단히 정리해서 유투브에 올렸습니다. 여러가지를 모두 다루면 좋겠지만, 윈도우 환경에서 설명을 했고, OpenCV 기초, ArUCo Marker 이야기, YOLO, YOLO를 위한 라벨링 작업등을 초~간단하게 설명했습니다. 먼저 아래 링크는 영상 전체의 재생목록입니다. https://www.youtube.com/playlist?list=PL83j7f4UkozEKBsOgKNEy79w5ClNMtxSF 영상 인식에 필요한 기법 간편 정리 이번에는 로봇에서 영상인식, 혹은 간단한 프로젝트에서 영상을 인식하는 부분에 대해 간단히 정리해서 유투브에 올렸습니다. 여러가지를 모두 다루면 좋겠지만, 윈도우 환경에서 설명을 했고, www.y..</span>\\n                        </a>\\n                      </li>\\n                    \\n                      <li style=\"position: absolute; left: 0px; top: 2319.72px;\">\\n                        <a href=\"/1426\">\\n                          <span class=\"thum\"><img src=\"//i1.daumcdn.net/thumb/R600x0/?fname=https://blog.kakaocdn.net/dn/bpcaLp/btsjlEE1g6j/ytddI9gaz4lkPBsz6A5RVK/img.png\" alt=\"\"></span>\\n                          \\n                            <span class=\"category\">Education</span>\\n                          \\n                          <span class=\"title\">[수강생 프로젝트 소개] 리뷰 분석 및 리뷰 가치 평가</span>\\n                          <span class=\"excerpt\">이번에 소개해 드릴 프로젝트는 제가 전임강사로 있는 제로베이스의 한 수강생들의 프로젝트입니다. 제로베이스의 수업은 저와 본격적으로 만나게 되는 프로젝트 단계까지 도착하시는 분들이 여러 사정으로 비율로는 낮게 오시는데요. 그 일련의 과정을 버티고 버텨서 도착하신 분들이라 꽤 수준 높은 프로젝트를 진행할 때가 많습니다. 이번에 소개해드릴 팀도 재미있는 프로젝트를 멋지게 수행한 팀 중 한 팀입니다. 개요 제목을 귀여운 공격적 스타일(^?^)로 잘 뽑은 것 같습니다. 그러나 제목에서 하고자 하는 일이 바로 들어나죠. 쇼핑몰의 상품에 달린 리뷰의 사진이 올바르게 찍혔냐는 부분을 검증하는 것으로 보시면 됩니다. 네 위 그림에서 보여주듯이, 좋은 리뷰에게 좋은 보상을 하도록 해서 리뷰 시스템을 건전하게 만들겠다는 것..</span>\\n                        </a>\\n                      </li>\\n                    \\n                  </ul>\\n                </div>\\n              </div>\\n            \\n\\n            \\n\\n            \\n\\n          \\n            \\n\\n            \\n\\n            \\n\\n            \\n\\n            \\n              <div class=\"cover-gallery\">\\n                <div class=\"inner\">\\n                  <h2>최근 글 중 인기글 </h2>\\n                  <ul>\\n                    \\n                      <li>\\n                        <a href=\"/1370\">\\n                          <figure>\\n                          <img src=\"//i1.daumcdn.net/thumb/C600x600/?fname=https://blog.kakaocdn.net/dn/niSNt/btrsOiep7uF/6D4W9nELuR0NrQAE1d97S0/img.png\" alt=\"\">\\n                          </figure>\\n                          <span class=\"title\">Python으로 수행하는 주파수 분석 - FFT, STFT</span>\\n                        </a>\\n                      </li>\\n                    \\n                      <li>\\n                        <a href=\"/1264\">\\n                          <figure>\\n                          <img src=\"//i1.daumcdn.net/thumb/C600x600/?fname=https://t1.daumcdn.net/cfile/tistory/994C20505E1B210C2F\" alt=\"\">\\n                          </figure>\\n                          <span class=\"title\">Python에서 OpenCV로 Canny Detection을 이용하는 차선 인식</span>\\n                        </a>\\n                      </li>\\n                    \\n                      <li>\\n                        <a href=\"/1343\">\\n                          <figure>\\n                          <img src=\"//i1.daumcdn.net/thumb/C600x600/?fname=https://blog.kakaocdn.net/dn/ccBYgD/btqYLzK5Rav/Uv4oRVJG0gWS7N3PtUQwsk/img.png\" alt=\"\">\\n                          </figure>\\n                          <span class=\"title\">VSCODE로 SSH로 접근해서 편집 파일을 저장할때 permission 문제</span>\\n                        </a>\\n                      </li>\\n                    \\n                      <li>\\n                        <a href=\"/986\">\\n                          <figure>\\n                          <img src=\"//i1.daumcdn.net/thumb/C600x600/?fname=https://t1.daumcdn.net/cfile/tistory/213AA539588139B215\" alt=\"\">\\n                          </figure>\\n                          <span class=\"title\">[Seaborn 연재] pairplot, jointplot, tsplot 익히기</span>\\n                        </a>\\n                      </li>\\n                    \\n                      <li>\\n                        <a href=\"/903\">\\n                          <figure>\\n                          <img src=\"//i1.daumcdn.net/thumb/C600x600/?fname=https://t1.daumcdn.net/cfile/tistory/236A444557591B6434\" alt=\"\">\\n                          </figure>\\n                          <span class=\"title\">ROS 3D 시각화 툴 RViz 쉽게 쉽게 처음 시작해보기</span>\\n                        </a>\\n                      </li>\\n                    \\n                      <li>\\n                        <a href=\"/1127\">\\n                          <figure>\\n                          <img src=\"//i1.daumcdn.net/thumb/C600x600/?fname=https://t1.daumcdn.net/cfile/tistory/992C1C4A5AF45FC12A\" alt=\"\">\\n                          </figure>\\n                          <span class=\"title\">Numpy의 polyfit과 poly1d의 사용법 - 최소제곱법과 polynomial class</span>\\n                        </a>\\n                      </li>\\n                    \\n                      <li>\\n                        <a href=\"/1351\">\\n                          <figure>\\n                          <img src=\"//i1.daumcdn.net/thumb/C600x600/?fname=https://blog.kakaocdn.net/dn/lrfUc/btq12wqNkMY/FrPnAB6FKZ8lfJm5XspdJK/img.png\" alt=\"\">\\n                          </figure>\\n                          <span class=\"title\">Jupyter Notebook을 원격으로 접속하기</span>\\n                        </a>\\n                      </li>\\n                    \\n                      <li>\\n                        <a href=\"/1308\">\\n                          <figure>\\n                          <img src=\"//i1.daumcdn.net/thumb/C600x600/?fname=https://t1.daumcdn.net/cfile/tistory/9914D6495FCC9A661E\" alt=\"\">\\n                          </figure>\\n                          <span class=\"title\">라즈베리파이에 VNC로 접속하기</span>\\n                        </a>\\n                      </li>\\n                    \\n                  </ul>\\n                </div>\\n              </div>\\n            \\n\\n          \\n            \\n\\n            \\n\\n            \\n\\n            \\n              <div class=\"cover-list\">\\n                <div class=\"inner\">\\n                  <h2>AI 관련 최신글 </h2>\\n                  <ul>\\n                    \\n                      <li>\\n                        <a href=\"/1427\">\\n                          <figure>\\n                            <img src=\"//i1.daumcdn.net/thumb/C600x600/?fname=https://blog.kakaocdn.net/dn/mZyxa/btskllcT9gn/RncR5K8s9eJ03JkKaexNaK/img.png\" alt=\"\">\\n                          </figure>\\n                          \\n                            <span class=\"category\">DeepLearning</span>\\n                          \\n                          <span class=\"title\">영상 인식에 필요한 기초 기법 간편 정리 - ArUCo Marker, YOLO 등</span>\\n                          <span class=\"excerpt\">이번에는 로봇에서 영상인식, 혹은 간단한 프로젝트에서 영상을 인식하는 부분에 대해 간단히 정리해서 유투브에 올렸습니다. 여러가지를 모두 다루면 좋겠지만, 윈도우 환경에서 설명을 했고, OpenCV 기초, ArUCo Marker 이야기, YOLO, YOLO를 위한 라벨링 작업등을 초~간단하게 설명했습니다. 먼저 아래 링크는 영상 전체의 재생목록입니다. https://www.youtube.com/playlist?list=PL83j7f4UkozEKBsOgKNEy79w5ClNMtxSF 영상 인식에 필요한 기법 간편 정리 이번에는 로봇에서 영상인식, 혹은 간단한 프로젝트에서 영상을 인식하는 부분에 대해 간단히 정리해서 유투브에 올렸습니다. 여러가지를 모두 다루면 좋겠지만, 윈도우 환경에서 설명을 했고, www.y..</span>\\n                        </a>\\n                      </li>\\n                    \\n                      <li>\\n                        <a href=\"/1391\">\\n                          <figure>\\n                            <img src=\"//i1.daumcdn.net/thumb/C600x600/?fname=https://blog.kakaocdn.net/dn/6UqKF/btrH5dJLuIH/lUKr0YEdenVK7O5XqAzpo0/img.png\" alt=\"\">\\n                          </figure>\\n                          \\n                            <span class=\"category\">Project</span>\\n                          \\n                          <span class=\"title\">핑크랩이 문제풀이 학습 시장용 유사문제 찾기 알고리즘에 도전합니다.</span>\\n                          <span class=\"excerpt\">제가 자주 하는 말이지만, 희한하게 어떤 주제에 대해 클라이언트 미팅을 하면 유사 분야의 미팅이 (제가 의도하지 않게) 잡히게 됩니다. 그것도 많은 수가 제가 찾아다닌것이 아니라 클라이언트께서 먼저 연락을 주시는 거죠. 이번에는 문제풀이 학습 시장의 의뢰입니다. 머신러닝/딥러닝을 이용해서 유사한 문제를 찾는 것입니다. 프로젝트 개요 입시분야로 한정하면 \"콴다\"라고 하는 업계의 주도적 서비스가 있습니다. 콰다는 이렇게 폰으로 궁금한 문제를 찾아서 사진을 찍으면 OCR로 판독후 AI로 자사 DB에서 유사한 문제를 찾아 그 해법과 함께 제시하는 것인데요. 해당 문제의 해법을 보여주는 것이 아니라 유사한 문제를 보여주는 것입니다. 학습하고 나면 애초에 궁금했던 문제를 풀수 있겠죠. 저희 핑크랩에 의뢰하신 클라이..</span>\\n                        </a>\\n                      </li>\\n                    \\n                      <li>\\n                        <a href=\"/1390\">\\n                          <figure>\\n                            <img src=\"//i1.daumcdn.net/thumb/C600x600/?fname=https://blog.kakaocdn.net/dn/cr4F8u/btrHZ7w3vd5/1ANL4XfTuX4TreGkReDpVK/img.png\" alt=\"\">\\n                          </figure>\\n                          \\n                            <span class=\"category\">Project</span>\\n                          \\n                          <span class=\"title\">핑크랩이 물류로봇에서 사용될 Pose Estimation 프로젝트를 도전합니다.</span>\\n                          <span class=\"excerpt\">아주 예전에 제가 한양대 에리카에 연구교수로 있을 당시 잠시 관계가 있었던 프로젝트 중에 가구조립 프로젝트가 있었습니다. 저는 당시 다른일로 바빠서 대학원생에게 다 맡겨두고 거의 신경을 쓰지 못했었는데요. [지금 생각하니 너무 미안하군요ㅠㅠ] 그때 했던 연구 중에 로봇팔이 물체를 잡기 위해서 해당 물체의 Pose(자세)를 예측해야 더 잘 잡을 수 있을 거라고 생각을 했었습니다. 위 그림은 당시 대학원생이 작업한 것으로 가구조립에 사용되는 다양한 종류의 못을 보여주고 있습니다. 이 못의 자세를 알아야 로봇팔이 잡을 때 편하겠죠. 그래서 당시에 조금 인연이 있었습니다. 뭐가요? 아~ 바로 pose estimation 입니다.^^ 프로젝트 개요 위 그림은 유명한 NVIDIA의 ISAAC 시스템에 포함된 기능으..</span>\\n                        </a>\\n                      </li>\\n                    \\n                  </ul>\\n                </div>\\n              </div>\\n            \\n\\n            \\n\\n          \\n            \\n              <div class=\"cover-thumbnail-list\">\\n                <div class=\"inner\">\\n                  <h2>로봇 관련 최신 글</h2>\\n                  <ul>\\n                    \\n                      <li>\\n                        <a href=\"/1424\">\\n                          <span class=\"thum\"><img src=\"//i1.daumcdn.net/thumb/C264x200/?fname=https://blog.kakaocdn.net/dn/c1QsGj/btsiag6A19Z/0G5KWIq5dDD2NmND927rkk/img.png\" alt=\"\"></span>\\n                          \\n                            <span class=\"category\">Project</span>\\n                          \\n                          <span class=\"title\">PinkLAB이 Carla - Autoware 프로젝트를 잘 마쳤습니다.</span>\\n                        </a>\\n                      </li>\\n                    \\n                      <li>\\n                        <a href=\"/1420\">\\n                          <span class=\"thum\"><img src=\"//i1.daumcdn.net/thumb/C264x200/?fname=https://blog.kakaocdn.net/dn/caNtI3/btr1UVcjBwM/AfYo8FZdds3KtvbaTzI8n1/img.png\" alt=\"\"></span>\\n                          \\n                            <span class=\"category\">Project</span>\\n                          \\n                          <span class=\"title\">핑크랩이 carla, autoware, ROS2 관련 프로젝트를 시작합니다.</span>\\n                        </a>\\n                      </li>\\n                    \\n                      <li>\\n                        <a href=\"/1417\">\\n                          <span class=\"thum\"><img src=\"//i1.daumcdn.net/thumb/C264x200/?fname=https://blog.kakaocdn.net/dn/bdSuwl/btrZsHUzX2W/F5EkeR0RlWvUOe4UJXDVRK/img.png\" alt=\"\"></span>\\n                          \\n                            <span class=\"category\">Project</span>\\n                          \\n                          <span class=\"title\">아웃도어 분야 자율 주행 로봇관련 기업 프로젝트를 마치며...</span>\\n                        </a>\\n                      </li>\\n                    \\n                      <li>\\n                        <a href=\"/1392\">\\n                          <span class=\"thum\"><img src=\"//i1.daumcdn.net/thumb/C264x200/?fname=https://blog.kakaocdn.net/dn/b76qJZ/btrInFeV1DT/s8gKaD7zUbkbTjvzd48Pv0/img.png\" alt=\"\"></span>\\n                          \\n                            <span class=\"category\">Project</span>\\n                          \\n                          <span class=\"title\">핑크랩이 아웃도어 스포츠에서 사용될 딥러닝을 이용한 자율주행 모델 개발에 참여합니다.</span>\\n                        </a>\\n                      </li>\\n                    \\n                  </ul>\\n                </div>\\n              </div>\\n            \\n\\n            \\n\\n            \\n\\n            \\n\\n            \\n\\n          \\n            \\n\\n            \\n\\n            \\n\\n            \\n\\n            \\n              <div class=\"cover-gallery\">\\n                <div class=\"inner\">\\n                  <h2>SW 관련 최신글</h2>\\n                  <ul>\\n                    \\n                      <li>\\n                        <a href=\"/1430\">\\n                          <figure>\\n                          <img src=\"//i1.daumcdn.net/thumb/C600x600/?fname=https://blog.kakaocdn.net/dn/cWgt1o/btsl9uFwOZ4/7WPMGbKy99lEZMrllKyHRK/img.png\" alt=\"\">\\n                          </figure>\\n                          <span class=\"title\">맥 터미널 xcrun: error: invalid active developer path 대응방법</span>\\n                        </a>\\n                      </li>\\n                    \\n                      <li>\\n                        <a href=\"/1425\">\\n                          <figure>\\n                          <img src=\"//i1.daumcdn.net/thumb/C600x600/?fname=https://blog.kakaocdn.net/dn/bfsXvY/btsjctJi3GW/ZyaGoSUSvhUsDlSYROCmv1/img.png\" alt=\"\">\\n                          </figure>\\n                          <span class=\"title\">맥에서 Conda 설치 후 터미널에서 base 환경 자동 진입 해제</span>\\n                        </a>\\n                      </li>\\n                    \\n                      <li>\\n                        <a href=\"/1367\">\\n                          <figure>\\n                          <img src=\"//i1.daumcdn.net/thumb/C600x600/?fname=https://blog.kakaocdn.net/dn/EW1Bd/btrpIzj6lQK/kJF3RFeQP1eDqImG7cMga1/img.png\" alt=\"\">\\n                          </figure>\\n                          <span class=\"title\">Ubuntu에서 Sublime Text 설치하기</span>\\n                        </a>\\n                      </li>\\n                    \\n                      <li>\\n                        <a href=\"/1364\">\\n                          <figure>\\n                          <img src=\"//i1.daumcdn.net/thumb/C600x600/?fname=https://blog.kakaocdn.net/dn/EEGQz/btritMRgiCg/ZDJesYTLckIK4dhElkqtTk/img.png\" alt=\"\">\\n                          </figure>\\n                          <span class=\"title\">파워포인트나 키노트 등 프리젠테이션 화면을 전체 화면이 아닌 창으로 실행하기</span>\\n                        </a>\\n                      </li>\\n                    \\n                  </ul>\\n                </div>\\n              </div>\\n            \\n\\n          \\n            \\n\\n            \\n\\n            \\n\\n            \\n\\n            \\n              <div class=\"cover-gallery\">\\n                <div class=\"inner\">\\n                  <h2>HW 관련 최신글 </h2>\\n                  <ul>\\n                    \\n                      <li>\\n                        <a href=\"/1401\">\\n                          <figure>\\n                          <img src=\"//i1.daumcdn.net/thumb/C600x600/?fname=https://blog.kakaocdn.net/dn/l6aUJ/btrSaskcqgx/9ODs6Tm1FuSisw8CRD5uJ0/img.png\" alt=\"\">\\n                          </figure>\\n                          <span class=\"title\">Lattepanda 라떼판다에 ubuntu 22.04 설치하기</span>\\n                        </a>\\n                      </li>\\n                    \\n                      <li>\\n                        <a href=\"/1374\">\\n                          <figure>\\n                          <img src=\"//i1.daumcdn.net/thumb/C600x600/?fname=https://blog.kakaocdn.net/dn/dBOEIe/btrtQoSbn3L/pNHKD8k62OhxYgeJmwi1a1/img.png\" alt=\"\">\\n                          </figure>\\n                          <span class=\"title\">HP 파인큐브 핸드헬드 프린터 개봉 및 첫 사용기</span>\\n                        </a>\\n                      </li>\\n                    \\n                      <li>\\n                        <a href=\"/1357\">\\n                          <figure>\\n                          <img src=\"//i1.daumcdn.net/thumb/C600x600/?fname=https://blog.kakaocdn.net/dn/HFCrb/btq6jiPeUV5/6PmDcL487WXRvv50qOKNKk/img.png\" alt=\"\">\\n                          </figure>\\n                          <span class=\"title\">Jetson nano에 Inference 추론기 설치하고 간단히 사용해보</span>\\n                        </a>\\n                      </li>\\n                    \\n                      <li>\\n                        <a href=\"/1356\">\\n                          <figure>\\n                          <img src=\"//i1.daumcdn.net/thumb/C600x600/?fname=https://blog.kakaocdn.net/dn/bYUk9E/btq5t3dQ54s/InkK7BXncGt5hQ4rZt0pq0/img.png\" alt=\"\">\\n                          </figure>\\n                          <span class=\"title\">Raspberry Pi 4 보드에 ROS foxy 설치하기</span>\\n                        </a>\\n                      </li>\\n                    \\n                  </ul>\\n                </div>\\n              </div>\\n            \\n\\n          \\n            \\n\\n            \\n\\n            \\n\\n            \\n\\n            \\n              <div class=\"cover-gallery\">\\n                <div class=\"inner\">\\n                  <h2>문화 생활 관련 최신 글 </h2>\\n                  <ul>\\n                    \\n                      <li>\\n                        <a href=\"/1412\">\\n                          <figure>\\n                          <img src=\"//i1.daumcdn.net/thumb/C600x600/?fname=https://blog.kakaocdn.net/dn/ZErdc/btrW764GoBA/knFMkWSIvOGOf7Qkj6NPg1/img.png\" alt=\"\">\\n                          </figure>\\n                          <span class=\"title\">Guam 괌 마리나 그릴 Marina Grill 돌핀 투어 전에 식사하기 좋은곳</span>\\n                        </a>\\n                      </li>\\n                    \\n                      <li>\\n                        <a href=\"/1408\">\\n                          <figure>\\n                          <img src=\"//i1.daumcdn.net/thumb/C600x600/?fname=https://blog.kakaocdn.net/dn/EXqHF/btrWx8PbAdD/VWraUdMRYawnJKwhqjbEgK/img.png\" alt=\"\">\\n                          </figure>\\n                          <span class=\"title\">괌 GPO의 괜찮은 카페~ Port of Mocha</span>\\n                        </a>\\n                      </li>\\n                    \\n                      <li>\\n                        <a href=\"/1405\">\\n                          <figure>\\n                          <img src=\"//i1.daumcdn.net/thumb/C600x600/?fname=https://blog.kakaocdn.net/dn/5eq1E/btrVI7IRgsi/29QMcPxLLPYBQwMBLeybJK/img.png\" alt=\"\">\\n                          </figure>\\n                          <span class=\"title\">괌 최고의 피자 - PIEOLOGY</span>\\n                        </a>\\n                      </li>\\n                    \\n                      <li>\\n                        <a href=\"/1404\">\\n                          <figure>\\n                          <img src=\"//i1.daumcdn.net/thumb/C600x600/?fname=https://blog.kakaocdn.net/dn/dYztMI/btrVzYlqbwY/SXJAYf7NhXcER97KrxJXy1/img.png\" alt=\"\">\\n                          </figure>\\n                          <span class=\"title\">괌 니코와 두짓 비치 리조트의 세탁실 비교</span>\\n                        </a>\\n                      </li>\\n                    \\n                  </ul>\\n                </div>\\n              </div>\\n            \\n\\n          \\n            \\n\\n            \\n\\n            \\n\\n            \\n\\n            \\n              <div class=\"cover-gallery\">\\n                <div class=\"inner\">\\n                  <h2>일상생활 관련 최신 글</h2>\\n                  <ul>\\n                    \\n                      <li>\\n                        <a href=\"/1403\">\\n                          <figure>\\n                          <img src=\"//i1.daumcdn.net/thumb/C600x600/?fname=https://blog.kakaocdn.net/dn/cfy4Yc/btrU01Kt0ae/eYoNZD3FVYg6xjTrVldNIK/img.png\" alt=\"\">\\n                          </figure>\\n                          <span class=\"title\">2022년 PinkWink 결산</span>\\n                        </a>\\n                      </li>\\n                    \\n                      <li>\\n                        <a href=\"/1402\">\\n                          <figure>\\n                          <img src=\"//i1.daumcdn.net/thumb/C600x600/?fname=https://blog.kakaocdn.net/dn/eyxII3/btrSIsqsgMN/fE4krWhZBlY2KK4vMQF5o0/img.png\" alt=\"\">\\n                          </figure>\\n                          <span class=\"title\">2022년 한국로봇학회로 부터 감사패를 받았습니다.</span>\\n                        </a>\\n                      </li>\\n                    \\n                      <li>\\n                        <a href=\"/1387\">\\n                          <figure>\\n                          <img src=\"//i1.daumcdn.net/thumb/C600x600/?fname=https://blog.kakaocdn.net/dn/cOUfdg/btrG3rvJTRK/9BSJ7Wv17ljypYUqONPya1/img.png\" alt=\"\">\\n                          </figure>\\n                          <span class=\"title\">핑크랩 옆에는 못골 한옥 어린이 도서관이 있어요</span>\\n                        </a>\\n                      </li>\\n                    \\n                      <li>\\n                        <a href=\"/1386\">\\n                          <figure>\\n                          <img src=\"//i1.daumcdn.net/thumb/C600x600/?fname=https://blog.kakaocdn.net/dn/QJf5U/btrDWmdKo52/kBtvOfh9EAOvigFE0hwih0/img.png\" alt=\"\">\\n                          </figure>\\n                          <span class=\"title\">핑크윙크 PinkWink가 핑크랩 PinkLAB을 만들었습니다.</span>\\n                        </a>\\n                      </li>\\n                    \\n                  </ul>\\n                </div>\\n              </div>\\n            \\n\\n          \\n\\n          <div class=\"cover-footer\">\\n            \\n            \\n            <div class=\"social-link\">\\n              \\n              \\n              \\n              \\n            </div>\\n            <nav class=\"menu\">\\n              <ul>\\n  <li class=\"t_menu_link_1 first\"><a href=\"https://www.pinklab.art/\" target=\"_black\">PinkLAB</a></li>\\n  <li class=\"t_menu_link_2\"><a href=\"https://www.linkedin.com/in/pinkwink\" target=\"_black\">PinkWink 프로필</a></li>\\n  <li class=\"t_menu_tag\"><a href=\"/tag/미바뤼\" target=\"\">아기 미바뤼</a></li>\\n  <li class=\"t_menu_link_3\"><a href=\"http://pinkwink.kr/793\" target=\"\">연재 목록</a></li>\\n  <li class=\"t_menu_link_4\"><a href=\"https://www.facebook.com/hyunggi.min.16/\" target=\"_black\">페이스북</a></li>\\n  <li class=\"t_menu_link_5\"><a href=\"https://www.youtube.com/user/pinkwink95\" target=\"_black\">유투브</a></li>\\n  <li class=\"t_menu_link_6\"><a href=\"https://github.com/PinkWink\" target=\"_black\">Github</a></li>\\n  <li class=\"t_menu_guestbook last\"><a href=\"/guestbook\" target=\"\">GuestBook</a></li>\\n</ul>\\n            </nav>\\n          </div>\\n        \\n\\n      \\n\\n      \\n\\n      \\n\\n      <div class=\"inner\">\\n        \\n\\n                \\n        <script async=\"\" src=\"https://pagead2.googlesyndication.com/pagead/js/adsbygoogle.js?client=ca-pub-2982459700139266\" crossorigin=\"anonymous\" data-checked-head=\"true\"></script>\\n<ins class=\"adsbygoogle\" style=\"display: block; height: 377px;\" data-ad-format=\"autorelaxed\" data-ad-client=\"ca-pub-2982459700139266\" data-ad-slot=\"4966491850\" data-adsbygoogle-status=\"done\"><div id=\"aswift_1_host\" style=\"border: none; height: 377px; width: 629px; margin: 0px; padding: 0px; position: relative; visibility: visible; background-color: transparent; display: inline-block;\"></div></ins>\\n<script>\\n     (adsbygoogle = window.adsbygoogle || []).push({});\\n</script>\\n      </div>\\n\\n      \\n\\n      \\n\\n      \\n\\n    </article>\\n\\n  \\n  </section>\\n  <hr>\\n  <div class=\"revenue_unit_wrap position_list\">\\n  <div class=\"revenue_unit_item adsense responsive\">\\n    <div class=\"revenue_unit_info\">반응형</div>\\n    <script src=\"//pagead2.googlesyndication.com/pagead/js/adsbygoogle.js\" async=\"async\"></script>\\n    <ins class=\"adsbygoogle\" style=\"display: block; height: 280px;\" data-ad-host=\"ca-host-pub-9691043933427338\" data-ad-client=\"ca-pub-2982459700139266\" data-ad-format=\"auto\" data-adsbygoogle-status=\"done\"><div id=\"aswift_2_host\" style=\"border: none; height: 280px; width: 665px; margin: 0px; padding: 0px; position: relative; visibility: visible; background-color: transparent; display: inline-block;\"></div></ins>\\n    <script>(adsbygoogle = window.adsbygoogle || []).push({});</script>\\n  </div>\\n</div>\\n  <footer id=\"footer\">\\n    <p class=\"copyright\">DESIGN BY <a href=\"#\">TISTORY</a> <a href=\"https://pinkwink.tistory.com/manage\" class=\"admin\">관리자</a></p>\\n  </footer>\\n</div>\\n<script src=\"https://tistory1.daumcdn.net/tistory/371175/skin/images/script.js?_version_=1687613150\"></script>\\n\\n\\n\\n<script async=\"\" src=\"//pagead2.googlesyndication.com/pagead/js/adsbygoogle.js\"></script>\\n<div class=\"#menubar menu_toolbar \">\\n  <h2 class=\"screen_out\">티스토리툴바</h2>\\n</div>\\n<div class=\"#menubar menu_toolbar \"></div>\\n<iframe id=\"editEntry\" style=\"position:absolute;width:1px;height:1px;left:-100px;top:-100px\" src=\"//pinkwink.tistory.com/api\"></iframe>\\n\\n                        <!-- SyntaxHighlight - START -->\\n        <link href=\"//cdnjs.cloudflare.com/ajax/libs/highlight.js/10.7.3/styles/github.min.css\" rel=\"stylesheet\"><script src=\"//cdnjs.cloudflare.com/ajax/libs/highlight.js/10.7.3/highlight.min.js\"></script>\\n<script src=\"//cdnjs.cloudflare.com/ajax/libs/highlight.js/10.7.3/languages/delphi.min.js\"></script>\\n<script src=\"//cdnjs.cloudflare.com/ajax/libs/highlight.js/10.7.3/languages/php.min.js\"></script>\\n<script src=\"//cdnjs.cloudflare.com/ajax/libs/highlight.js/10.7.3/languages/python.min.js\"></script>\\n<script src=\"//cdnjs.cloudflare.com/ajax/libs/highlight.js/10.7.3/languages/r.min.js\" defer=\"\"></script>\\n<script src=\"//cdnjs.cloudflare.com/ajax/libs/highlight.js/10.7.3/languages/ruby.min.js\"></script>\\n<script src=\"//cdnjs.cloudflare.com/ajax/libs/highlight.js/10.7.3/languages/scala.min.js\" defer=\"\"></script>\\n<script src=\"//cdnjs.cloudflare.com/ajax/libs/highlight.js/10.7.3/languages/shell.min.js\"></script>\\n<script src=\"//cdnjs.cloudflare.com/ajax/libs/highlight.js/10.7.3/languages/sql.min.js\"></script>\\n<script src=\"//cdnjs.cloudflare.com/ajax/libs/highlight.js/10.7.3/languages/swift.min.js\" defer=\"\"></script>\\n<script src=\"//cdnjs.cloudflare.com/ajax/libs/highlight.js/10.7.3/languages/typescript.min.js\" defer=\"\"></script>\\n<script src=\"//cdnjs.cloudflare.com/ajax/libs/highlight.js/10.7.3/languages/vbnet.min.js\" defer=\"\"></script>\\n  <script>hljs.initHighlightingOnLoad();</script>\\n\\n\\n        <!-- SyntaxHighlight - END -->\\n\\n                \\n                <script>window.tiara = {\"svcDomain\":\"user.tistory.com\",\"section\":\"홈\",\"trackPage\":\"홈_보기\",\"page\":\"홈\",\"key\":\"371175\",\"customProps\":{\"userId\":\"0\",\"blogId\":\"371175\",\"entryId\":\"null\",\"role\":\"guest\",\"trackPage\":\"홈_보기\",\"filterTarget\":false},\"entry\":null,\"kakaoAppKey\":\"3e6ddd834b023f24221217e370daed18\",\"appUserId\":\"null\"}</script>\\n<script type=\"text/javascript\" src=\"https://tistory1.daumcdn.net/tistory_admin/userblog/userblog-00c378c6d24ec875851b570c2adc9fbdb7a25e6a/static/script/tiara.min.js\"></script>\\n<script type=\"text/javascript\">(function($) {\\n    $(document).ready(function() {\\n        lightbox.options.fadeDuration = 200;\\n        lightbox.options.resizeDuration = 200;\\n        lightbox.options.wrapAround = false;\\n        lightbox.options.albumLabel = \"%1 / %2\";\\n    })\\n})(tjQuery);</script>\\n<div style=\"margin:0; padding:0; border:none; background:none; float:none; clear:none; z-index:0\"></div>\\n<script type=\"text/javascript\" src=\"https://tistory1.daumcdn.net/tistory_admin/userblog/userblog-00c378c6d24ec875851b570c2adc9fbdb7a25e6a/static/script/common.js\"></script>\\n<script type=\"text/javascript\">window.roosevelt_params_queue = window.roosevelt_params_queue || [{channel_id: \\'dk\\', channel_label: \\'{tistory}\\'}]</script>\\n<script type=\"text/javascript\" src=\"//t1.daumcdn.net/midas/rt/dk_bt/roosevelt_dk_bt.js\" async=\"async\"></script>\\n<script type=\"text/javascript\" src=\"https://tistory1.daumcdn.net/tistory_admin/userblog/userblog-00c378c6d24ec875851b570c2adc9fbdb7a25e6a/static/script/menubar.min.js\"></script>\\n<script>            (function (win, doc, src) {\\n    win.Wpm = win.Wpm || function (name, param) {\\n        win.Wpm.queue = win.Wpm.queue || [];\\n        const { queue } = win.Wpm;\\n        queue.push([name, param]);\\n    };\\n    const script = doc.createElement(\\'script\\');\\n    script.src = src;\\n    script.async = 1;\\n    const [elem] = doc.getElementsByTagName(\\'script\\');\\n    elem.parentNode.insertBefore(script, elem);\\n})(window, document, \\'https://t1.kakaocdn.net/malibu_prod/wpm.js\\');\\n            const APP_KEY = \\'d3cda7e82e6e4144bdc998b8e25f125d\\';\\n            Wpm(\\'appKey\\', APP_KEY);</script>\\n\\n                \\n\\n<ins class=\"adsbygoogle adsbygoogle-noablate\" style=\"display: none !important;\" data-adsbygoogle-status=\"done\" data-ad-status=\"unfilled\"><div id=\"aswift_0_host\" tabindex=\"0\" title=\"Advertisement\" aria-label=\"Advertisement\" style=\"border: none; height: 0px; width: 0px; margin: 0px; padding: 0px; position: relative; visibility: visible; background-color: transparent; display: inline-block;\"><iframe id=\"aswift_0\" name=\"aswift_0\" style=\"left:0;position:absolute;top:0;border:0;width:undefinedpx;height:undefinedpx;\" sandbox=\"allow-forms allow-popups allow-popups-to-escape-sandbox allow-same-origin allow-scripts allow-top-navigation-by-user-activation\" frameborder=\"0\" marginwidth=\"0\" marginheight=\"0\" vspace=\"0\" hspace=\"0\" allowtransparency=\"true\" scrolling=\"no\" src=\"https://googleads.g.doubleclick.net/pagead/ads?client=ca-pub-2982459700139266&amp;output=html&amp;adk=2654006795&amp;adf=462269707&amp;lmt=1691555617&amp;plat=3%3A65536%2C4%3A65536%2C9%3A32768%2C16%3A8388608%2C17%3A32%2C24%3A32%2C25%3A32%2C30%3A34603008%2C32%3A32%2C41%3A32%2C42%3A32&amp;format=0x0&amp;url=https%3A%2F%2Fpinkwink.kr%2F&amp;ea=0&amp;host=ca-host-pub-9691043933427338&amp;pra=5&amp;wgl=1&amp;uach=WyJXaW5kb3dzIiwiMTUuMC4wIiwieDg2IiwiIiwiMTE1LjAuNTc5MC4xNzEiLFtdLDAsbnVsbCwiNjQiLFtbIk5vdC9BKUJyYW5kIiwiOTkuMC4wLjAiXSxbIkdvb2dsZSBDaHJvbWUiLCIxMTUuMC41NzkwLjE3MSJdLFsiQ2hyb21pdW0iLCIxMTUuMC41NzkwLjE3MSJdXSwwXQ..&amp;dt=1691555617673&amp;bpp=1&amp;bdt=249&amp;idt=195&amp;shv=r20230807&amp;mjsv=m202308030101&amp;ptt=9&amp;saldr=aa&amp;abxe=1&amp;cookie=ID%3D0ac38f7787c3073f-22e2e43fc6e20051%3AT%3D1691554339%3ART%3D1691555230%3AS%3DALNI_MYXtGIdKbUT_8pmS_ct9mR-nzGHcg&amp;gpic=UID%3D00000c2992146cfa%3AT%3D1691554339%3ART%3D1691555230%3AS%3DALNI_MaawHB2v5gvQX-44gJfFG5cK1QLQA&amp;nras=1&amp;correlator=1387366127615&amp;frm=20&amp;pv=2&amp;ga_vid=671094291.1691554338&amp;ga_sid=1691555618&amp;ga_hid=1994434937&amp;ga_fc=1&amp;u_tz=540&amp;u_his=10&amp;u_h=1067&amp;u_w=1707&amp;u_ah=1019&amp;u_aw=1707&amp;u_cd=24&amp;u_sd=1.5&amp;dmc=8&amp;adx=-12245933&amp;ady=-12245933&amp;biw=665&amp;bih=861&amp;scr_x=0&amp;scr_y=0&amp;eid=44759876%2C44759842%2C44759927%2C31076087&amp;oid=2&amp;pvsid=3932655204353543&amp;tmod=1039072607&amp;uas=0&amp;nvt=1&amp;fsapi=1&amp;ref=https%3A%2F%2Fpinkwink.kr%2F&amp;fc=1920&amp;brdim=36%2C127%2C36%2C127%2C1707%2C0%2C1250%2C1000%2C681%2C861&amp;vis=1&amp;rsz=%7C%7Cs%7C&amp;abl=NS&amp;fu=32768&amp;bc=31&amp;ifi=1&amp;uci=a!1&amp;fsb=1&amp;dtd=207\" data-google-container-id=\"a!1\" data-load-complete=\"true\"></iframe></div></ins><div id=\"lightboxOverlay\" class=\"lightboxOverlay\" style=\"display: none;\"></div><div id=\"lightbox\" class=\"lightbox\" style=\"display: none;\"><div class=\"lb-outerContainer\"><div class=\"lb-container\"><img class=\"lb-image\" src=\"data:image/gif;base64,R0lGODlhAQABAIAAAP///wAAACH5BAEAAAAALAAAAAABAAEAAAICRAEAOw==\"><div class=\"lb-nav\"><a class=\"lb-prev\" href=\"\"></a><a class=\"lb-next\" href=\"\"></a></div><div class=\"lb-loader\"><a class=\"lb-cancel\"></a></div></div></div><div class=\"lb-dataContainer\"><div class=\"lb-data\"><div class=\"lb-details\"><span class=\"lb-caption\"></span><span class=\"lb-number\"></span></div><div class=\"lb-closeContainer\"><a class=\"lb-close\"></a></div></div></div></div><ins class=\"adsbygoogle adsbygoogle-noablate\" data-adsbygoogle-status=\"done\" data-anchor-status=\"ready-to-display\" style=\"display: none;\" data-ad-status=\"filled\"><div id=\"aswift_3_host\" tabindex=\"0\" title=\"Advertisement\" aria-label=\"Advertisement\" style=\"border: none; height: 82px; width: 665px; margin: 0px; padding: 0px; position: relative; visibility: visible; background-color: transparent; display: inline-block;\"><iframe id=\"aswift_3\" name=\"aswift_3\" style=\"width:665px !IMPORTANT;height:82px !IMPORTANT\" sandbox=\"allow-forms allow-popups allow-popups-to-escape-sandbox allow-same-origin allow-scripts allow-top-navigation-by-user-activation\" width=\"665\" height=\"82\" frameborder=\"0\" marginwidth=\"0\" marginheight=\"0\" vspace=\"0\" hspace=\"0\" allowtransparency=\"true\" scrolling=\"no\" src=\"https://googleads.g.doubleclick.net/pagead/html/r20230807/r20110914/zrt_lookup.html?fsb=1#RS-0-&amp;adk=2654006792&amp;client=ca-pub-2982459700139266&amp;fa=2&amp;ifi=4&amp;uci=a!4&amp;btvi=1&amp;xpc=OSZnoxER6m&amp;p=https%3A//pinkwink.kr\" data-google-container-id=\"a!4\" data-google-query-id=\"CJbt7d3fzoADFUuV6QUdVY4Csw\" data-load-complete=\"true\"></iframe></div><div class=\"grippy-host\" style=\"position: absolute !important; top: 82px !important; width: 100% !important;\"></div></ins><iframe src=\"https://www.google.com/recaptcha/api2/aframe\" width=\"0\" height=\"0\" style=\"display: none;\"></iframe></body><iframe id=\"google_esf\" name=\"google_esf\" src=\"https://googleads.g.doubleclick.net/pagead/html/r20230807/r20190131/zrt_lookup.html\" style=\"display: none;\"></iframe></html>'"
      ]
     },
     "execution_count": 21,
     "metadata": {},
     "output_type": "execute_result"
    }
   ],
   "source": [
    "# 현재 화면의 html 코드 가져오기\n",
    "\n",
    "driver.page_source "
   ]
  },
  {
   "cell_type": "code",
   "execution_count": 22,
   "id": "8cce530a",
   "metadata": {},
   "outputs": [],
   "source": [
    "from bs4 import BeautifulSoup\n",
    "\n",
    "req = driver.page_source\n",
    "soup = BeautifulSoup(req, \"html.parser\")"
   ]
  },
  {
   "cell_type": "code",
   "execution_count": 24,
   "id": "ed9509e7",
   "metadata": {},
   "outputs": [
    {
     "data": {
      "text/plain": [
       "[<span class=\"title\">[수강생 프로젝트 소개] 행동 인지 예측 모델을 이용한 불량 제품 검수 모델 개발</span>,\n",
       " <span class=\"title\">맥 터미널 xcrun: error: invalid active developer path 대응방법</span>,\n",
       " <span class=\"title\">[수강생 프로젝트 소개] 스마트팜을 꿈꾸던 - 수확하는 사람들</span>,\n",
       " <span class=\"title\">2023 ICROS 논문 발표. 무려 5팀. 핑크랩도 살짝 발을 담궜습니다.</span>,\n",
       " <span class=\"title\">영상 인식에 필요한 기초 기법 간편 정리 - ArUCo Marker, YOLO 등</span>,\n",
       " <span class=\"title\">[수강생 프로젝트 소개] 리뷰 분석 및 리뷰 가치 평가</span>,\n",
       " <span class=\"title\">Python으로 수행하는 주파수 분석 - FFT, STFT</span>,\n",
       " <span class=\"title\">Python에서 OpenCV로 Canny Detection을 이용하는 차선 인식</span>,\n",
       " <span class=\"title\">VSCODE로 SSH로 접근해서 편집 파일을 저장할때 permission 문제</span>,\n",
       " <span class=\"title\">[Seaborn 연재] pairplot, jointplot, tsplot 익히기</span>,\n",
       " <span class=\"title\">ROS 3D 시각화 툴 RViz 쉽게 쉽게 처음 시작해보기</span>,\n",
       " <span class=\"title\">Numpy의 polyfit과 poly1d의 사용법 - 최소제곱법과 polynomial class</span>,\n",
       " <span class=\"title\">Jupyter Notebook을 원격으로 접속하기</span>,\n",
       " <span class=\"title\">라즈베리파이에 VNC로 접속하기</span>,\n",
       " <span class=\"title\">영상 인식에 필요한 기초 기법 간편 정리 - ArUCo Marker, YOLO 등</span>,\n",
       " <span class=\"title\">핑크랩이 문제풀이 학습 시장용 유사문제 찾기 알고리즘에 도전합니다.</span>,\n",
       " <span class=\"title\">핑크랩이 물류로봇에서 사용될 Pose Estimation 프로젝트를 도전합니다.</span>,\n",
       " <span class=\"title\">PinkLAB이 Carla - Autoware 프로젝트를 잘 마쳤습니다.</span>,\n",
       " <span class=\"title\">핑크랩이 carla, autoware, ROS2 관련 프로젝트를 시작합니다.</span>,\n",
       " <span class=\"title\">아웃도어 분야 자율 주행 로봇관련 기업 프로젝트를 마치며...</span>,\n",
       " <span class=\"title\">핑크랩이 아웃도어 스포츠에서 사용될 딥러닝을 이용한 자율주행 모델 개발에 참여합니다.</span>,\n",
       " <span class=\"title\">맥 터미널 xcrun: error: invalid active developer path 대응방법</span>,\n",
       " <span class=\"title\">맥에서 Conda 설치 후 터미널에서 base 환경 자동 진입 해제</span>,\n",
       " <span class=\"title\">Ubuntu에서 Sublime Text 설치하기</span>,\n",
       " <span class=\"title\">파워포인트나 키노트 등 프리젠테이션 화면을 전체 화면이 아닌 창으로 실행하기</span>,\n",
       " <span class=\"title\">Lattepanda 라떼판다에 ubuntu 22.04 설치하기</span>,\n",
       " <span class=\"title\">HP 파인큐브 핸드헬드 프린터 개봉 및 첫 사용기</span>,\n",
       " <span class=\"title\">Jetson nano에 Inference 추론기 설치하고 간단히 사용해보</span>,\n",
       " <span class=\"title\">Raspberry Pi 4 보드에 ROS foxy 설치하기</span>,\n",
       " <span class=\"title\">Guam 괌 마리나 그릴 Marina Grill 돌핀 투어 전에 식사하기 좋은곳</span>,\n",
       " <span class=\"title\">괌 GPO의 괜찮은 카페~ Port of Mocha</span>,\n",
       " <span class=\"title\">괌 최고의 피자 - PIEOLOGY</span>,\n",
       " <span class=\"title\">괌 니코와 두짓 비치 리조트의 세탁실 비교</span>,\n",
       " <span class=\"title\">2022년 PinkWink 결산</span>,\n",
       " <span class=\"title\">2022년 한국로봇학회로 부터 감사패를 받았습니다.</span>,\n",
       " <span class=\"title\">핑크랩 옆에는 못골 한옥 어린이 도서관이 있어요</span>,\n",
       " <span class=\"title\">핑크윙크 PinkWink가 핑크랩 PinkLAB을 만들었습니다.</span>]"
      ]
     },
     "execution_count": 24,
     "metadata": {},
     "output_type": "execute_result"
    }
   ],
   "source": [
    "soup.select('.title')"
   ]
  },
  {
   "cell_type": "code",
   "execution_count": 25,
   "id": "411160e6",
   "metadata": {},
   "outputs": [
    {
     "data": {
      "text/plain": [
       "37"
      ]
     },
     "execution_count": 25,
     "metadata": {},
     "output_type": "execute_result"
    }
   ],
   "source": [
    "contents = soup.select('.title')\n",
    "len(contents)"
   ]
  },
  {
   "cell_type": "code",
   "execution_count": 27,
   "id": "d5d9568e",
   "metadata": {},
   "outputs": [
    {
     "data": {
      "text/plain": [
       "<span class=\"title\">맥 터미널 xcrun: error: invalid active developer path 대응방법</span>"
      ]
     },
     "execution_count": 27,
     "metadata": {},
     "output_type": "execute_result"
    }
   ],
   "source": [
    "contents[1]"
   ]
  },
  {
   "cell_type": "code",
   "execution_count": 28,
   "id": "50dd2f3f",
   "metadata": {},
   "outputs": [],
   "source": [
    "driver.quit()"
   ]
  },
  {
   "cell_type": "code",
   "execution_count": null,
   "id": "5cebc2a5",
   "metadata": {},
   "outputs": [],
   "source": []
  }
 ],
 "metadata": {
  "kernelspec": {
   "display_name": "Python 3 (ipykernel)",
   "language": "python",
   "name": "python3"
  },
  "language_info": {
   "codemirror_mode": {
    "name": "ipython",
    "version": 3
   },
   "file_extension": ".py",
   "mimetype": "text/x-python",
   "name": "python",
   "nbconvert_exporter": "python",
   "pygments_lexer": "ipython3",
   "version": "3.8.17"
  }
 },
 "nbformat": 4,
 "nbformat_minor": 5
}
