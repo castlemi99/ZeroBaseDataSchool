{
 "cells": [
  {
   "cell_type": "markdown",
   "id": "b9c3eaeb",
   "metadata": {},
   "source": [
    "# Selenium Basic"
   ]
  },
  {
   "cell_type": "markdown",
   "id": "9fb7295a",
   "metadata": {},
   "source": [
    "## 1. selenium webdriver 사용하기"
   ]
  },
  {
   "cell_type": "code",
   "execution_count": 40,
   "id": "78d551c8",
   "metadata": {},
   "outputs": [],
   "source": [
    "from selenium import webdriver\n",
    "\n",
    "driver = webdriver.Chrome()\n",
    "driver.get('https://pinkwink.kr/')"
   ]
  },
  {
   "cell_type": "code",
   "execution_count": 4,
   "id": "42a1e2e1",
   "metadata": {},
   "outputs": [],
   "source": [
    "driver.quit() # 띄운 창을 닫는 방법"
   ]
  },
  {
   "cell_type": "code",
   "execution_count": 6,
   "id": "31f0c781",
   "metadata": {},
   "outputs": [],
   "source": [
    "# 화면 최대 크기 설정\n",
    "driver.maximize_window()"
   ]
  },
  {
   "cell_type": "code",
   "execution_count": 7,
   "id": "d69e64ad",
   "metadata": {},
   "outputs": [],
   "source": [
    "# 화면 최소 크기 설정\n",
    "driver.minimize_window()"
   ]
  },
  {
   "cell_type": "code",
   "execution_count": 8,
   "id": "9beab64d",
   "metadata": {},
   "outputs": [],
   "source": [
    "# 화면 크기 설정\n",
    "driver.set_window_size(600,600)"
   ]
  },
  {
   "cell_type": "code",
   "execution_count": null,
   "id": "5d771de6",
   "metadata": {},
   "outputs": [],
   "source": [
    "### selenium은 해당 지점 화면에서의 데이터만 추출할 수 있으므로\n",
    "### 화면 크기를 설정하여 데이터가 많이 나타나도록 설정하는 작업이 필요함."
   ]
  },
  {
   "cell_type": "code",
   "execution_count": 9,
   "id": "b1070e69",
   "metadata": {},
   "outputs": [],
   "source": [
    "# 새로고침\n",
    "driver.refresh()"
   ]
  },
  {
   "cell_type": "code",
   "execution_count": 11,
   "id": "bbd89b73",
   "metadata": {},
   "outputs": [],
   "source": [
    "# 뒤로 가기\n",
    "driver.back()"
   ]
  },
  {
   "cell_type": "code",
   "execution_count": 12,
   "id": "db291279",
   "metadata": {},
   "outputs": [],
   "source": [
    "# 앞으로 가기\n",
    "driver.forward()"
   ]
  },
  {
   "cell_type": "code",
   "execution_count": 32,
   "id": "f28fe1f4",
   "metadata": {},
   "outputs": [],
   "source": [
    "# 클릭\n",
    "from selenium.webdriver.common.by import By\n",
    "\n",
    "first_content = driver.find_element(By.CSS_SELECTOR, '#content > div.cover-masonry > div > ul > li:nth-child(1)')\n",
    "                                                    ## 크롤링할 부분 -> Copy -> Copy selector\n",
    "first_content.click()"
   ]
  },
  {
   "cell_type": "code",
   "execution_count": 33,
   "id": "c4d546f1",
   "metadata": {},
   "outputs": [],
   "source": [
    "# 새로운 탭 생성      # 자바스크립트 문법\n",
    "driver.execute_script('window.open(\"https://www.naver.com\")')"
   ]
  },
  {
   "cell_type": "code",
   "execution_count": 38,
   "id": "1ce37a5a",
   "metadata": {},
   "outputs": [],
   "source": [
    "# 탭 이동\n",
    "driver.switch_to.window(driver.window_handles[0]) \n",
    "# driver.window_handles : 내가 지금 다룰 수 있는 창\n",
    "# 인덱스를 넣어줌"
   ]
  },
  {
   "cell_type": "code",
   "execution_count": 39,
   "id": "baf98bf2",
   "metadata": {},
   "outputs": [],
   "source": [
    "# 탭 닫기\n",
    "driver.close() #driver.quit() : 전체 종료"
   ]
  },
  {
   "cell_type": "markdown",
   "id": "e72bfac0",
   "metadata": {},
   "source": [
    "## 2. 화면 스크롤"
   ]
  },
  {
   "cell_type": "code",
   "execution_count": 41,
   "id": "3cbeaf08",
   "metadata": {},
   "outputs": [
    {
     "data": {
      "text/plain": [
       "5575"
      ]
     },
     "execution_count": 41,
     "metadata": {},
     "output_type": "execute_result"
    }
   ],
   "source": [
    "# 스크롤 가능한 높이(길이)\n",
    "# 자바스크립트 코드 실행\n",
    "driver.execute_script('return document.body.scrollHeight')"
   ]
  },
  {
   "cell_type": "code",
   "execution_count": 42,
   "id": "acf56ad2",
   "metadata": {},
   "outputs": [],
   "source": [
    "# 화면 스크롤 하단 이동\n",
    "driver.execute_script('window.scrollTo(0, document.body.scrollHeight);')"
   ]
  },
  {
   "cell_type": "code",
   "execution_count": 43,
   "id": "375b8f24",
   "metadata": {},
   "outputs": [
    {
     "data": {
      "text/plain": [
       "True"
      ]
     },
     "execution_count": 43,
     "metadata": {},
     "output_type": "execute_result"
    }
   ],
   "source": [
    "# 현재 보이는 화면 스크린샷 저장\n",
    "driver.save_screenshot('./last_height.png')"
   ]
  },
  {
   "cell_type": "code",
   "execution_count": 44,
   "id": "2a8fb430",
   "metadata": {},
   "outputs": [],
   "source": [
    "# 화면 스크롤 상단 이동\n",
    "driver.execute_script('window.scrollTo(0,0)')"
   ]
  },
  {
   "cell_type": "code",
   "execution_count": 46,
   "id": "30d597e5",
   "metadata": {},
   "outputs": [],
   "source": [
    "# 특정 태그 지점까지 스크롤 이동\n",
    "from selenium.webdriver import ActionChains\n",
    "## https://selenium-python.readthedocs.io/api.html#module-selenium.webdriver.common.action_chains\n",
    "## ActionChains를 이용하여 다양한 기능을 수행할 수 있음\n",
    "\n",
    "some_tag = driver.find_element(By.CSS_SELECTOR, '#content > div.cover-list > div > ul > li:nth-child(1)')\n",
    "action = ActionChains(driver)\n",
    "action.move_to_element(some_tag).perform()"
   ]
  },
  {
   "cell_type": "code",
   "execution_count": 47,
   "id": "77af91e2",
   "metadata": {},
   "outputs": [],
   "source": [
    "driver.quit()"
   ]
  },
  {
   "cell_type": "code",
   "execution_count": null,
   "id": "f5161acc",
   "metadata": {},
   "outputs": [],
   "source": []
  }
 ],
 "metadata": {
  "kernelspec": {
   "display_name": "Python 3 (ipykernel)",
   "language": "python",
   "name": "python3"
  },
  "language_info": {
   "codemirror_mode": {
    "name": "ipython",
    "version": 3
   },
   "file_extension": ".py",
   "mimetype": "text/x-python",
   "name": "python",
   "nbconvert_exporter": "python",
   "pygments_lexer": "ipython3",
   "version": "3.8.17"
  }
 },
 "nbformat": 4,
 "nbformat_minor": 5
}
