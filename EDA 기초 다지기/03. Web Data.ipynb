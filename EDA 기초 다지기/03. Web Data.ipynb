{
 "cells": [
  {
   "cell_type": "markdown",
   "id": "3a4dccf5",
   "metadata": {},
   "source": [
    "## Python List 데이터형"
   ]
  },
  {
   "cell_type": "markdown",
   "id": "59afb9d3",
   "metadata": {},
   "source": [
    "- list형은 대괄호로 생성"
   ]
  },
  {
   "cell_type": "code",
   "execution_count": 1,
   "id": "8abd4704",
   "metadata": {},
   "outputs": [
    {
     "data": {
      "text/plain": [
       "['red', 'blue', 'green']"
      ]
     },
     "execution_count": 1,
     "metadata": {},
     "output_type": "execute_result"
    }
   ],
   "source": [
    "colors = ['red', 'blue', 'green']\n",
    "\n",
    "colors"
   ]
  },
  {
   "cell_type": "code",
   "execution_count": 2,
   "id": "04a5e6fb",
   "metadata": {},
   "outputs": [
    {
     "data": {
      "text/plain": [
       "['red', 'blue', 'green']"
      ]
     },
     "execution_count": 2,
     "metadata": {},
     "output_type": "execute_result"
    }
   ],
   "source": [
    "b = colors\n",
    "b"
   ]
  },
  {
   "cell_type": "code",
   "execution_count": 3,
   "id": "e2304fe1",
   "metadata": {},
   "outputs": [
    {
     "data": {
      "text/plain": [
       "['red', 'black', 'green']"
      ]
     },
     "execution_count": 3,
     "metadata": {},
     "output_type": "execute_result"
    }
   ],
   "source": [
    "b[1] = \"black\"\n",
    "b"
   ]
  },
  {
   "cell_type": "code",
   "execution_count": 4,
   "id": "c67d8cca",
   "metadata": {},
   "outputs": [
    {
     "data": {
      "text/plain": [
       "['red', 'black', 'green']"
      ]
     },
     "execution_count": 4,
     "metadata": {},
     "output_type": "execute_result"
    }
   ],
   "source": [
    "colors"
   ]
  },
  {
   "cell_type": "code",
   "execution_count": 5,
   "id": "388fd7f3",
   "metadata": {},
   "outputs": [
    {
     "data": {
      "text/plain": [
       "['red', 'black', 'green']"
      ]
     },
     "execution_count": 5,
     "metadata": {},
     "output_type": "execute_result"
    }
   ],
   "source": [
    "c = colors.copy()\n",
    "c"
   ]
  },
  {
   "cell_type": "code",
   "execution_count": 6,
   "id": "f0ea84e6",
   "metadata": {},
   "outputs": [
    {
     "data": {
      "text/plain": [
       "['red', 'yellow', 'green']"
      ]
     },
     "execution_count": 6,
     "metadata": {},
     "output_type": "execute_result"
    }
   ],
   "source": [
    "c[1] = \"yellow\"\n",
    "c"
   ]
  },
  {
   "cell_type": "code",
   "execution_count": 7,
   "id": "7102009c",
   "metadata": {},
   "outputs": [
    {
     "data": {
      "text/plain": [
       "['red', 'black', 'green']"
      ]
     },
     "execution_count": 7,
     "metadata": {},
     "output_type": "execute_result"
    }
   ],
   "source": [
    "colors"
   ]
  },
  {
   "cell_type": "markdown",
   "id": "a7d227f0",
   "metadata": {},
   "source": [
    "- list형을 반복문 for 적용"
   ]
  },
  {
   "cell_type": "code",
   "execution_count": 8,
   "id": "001aaa9c",
   "metadata": {},
   "outputs": [
    {
     "name": "stdout",
     "output_type": "stream",
     "text": [
      "red\n",
      "black\n",
      "green\n"
     ]
    }
   ],
   "source": [
    "for color in colors:\n",
    "    print(color)"
   ]
  },
  {
   "cell_type": "markdown",
   "id": "99874a4d",
   "metadata": {},
   "source": [
    "- in 명령 조건문 적용"
   ]
  },
  {
   "cell_type": "code",
   "execution_count": 9,
   "id": "cd534f8e",
   "metadata": {},
   "outputs": [
    {
     "name": "stdout",
     "output_type": "stream",
     "text": [
      "True\n"
     ]
    }
   ],
   "source": [
    "if \"black\" in colors:\n",
    "    print(\"True\")"
   ]
  },
  {
   "cell_type": "code",
   "execution_count": 10,
   "id": "ba6a254a",
   "metadata": {},
   "outputs": [
    {
     "data": {
      "text/plain": [
       "['라라랜드', '먼 훗날 우리', '어벤져스', '다크나이트']"
      ]
     },
     "execution_count": 10,
     "metadata": {},
     "output_type": "execute_result"
    }
   ],
   "source": [
    "movies = ['라라랜드', '먼 훗날 우리', '어벤져스', '다크나이트']\n",
    "movies"
   ]
  },
  {
   "cell_type": "markdown",
   "id": "93f170b6",
   "metadata": {},
   "source": [
    "- append : list 제일 뒤에 추가"
   ]
  },
  {
   "cell_type": "code",
   "execution_count": 11,
   "id": "4d92daea",
   "metadata": {},
   "outputs": [
    {
     "data": {
      "text/plain": [
       "['라라랜드', '먼 훗날 우리', '어벤져스', '다크나이트', '타이타닉']"
      ]
     },
     "execution_count": 11,
     "metadata": {},
     "output_type": "execute_result"
    }
   ],
   "source": [
    "movies.append(\"타이타닉\")\n",
    "movies"
   ]
  },
  {
   "cell_type": "markdown",
   "id": "f1c7cd26",
   "metadata": {},
   "source": [
    "- pop : list 제일 뒤 자료를 하나씩 삭제"
   ]
  },
  {
   "cell_type": "code",
   "execution_count": 12,
   "id": "6ebd7f8e",
   "metadata": {},
   "outputs": [
    {
     "data": {
      "text/plain": [
       "['라라랜드', '먼 훗날 우리', '어벤져스', '다크나이트']"
      ]
     },
     "execution_count": 12,
     "metadata": {},
     "output_type": "execute_result"
    }
   ],
   "source": [
    "movies.pop()\n",
    "movies"
   ]
  },
  {
   "cell_type": "markdown",
   "id": "ffd8b089",
   "metadata": {},
   "source": [
    "- extend : 제일 뒤에 자료 추가"
   ]
  },
  {
   "cell_type": "code",
   "execution_count": 13,
   "id": "0b60fa16",
   "metadata": {},
   "outputs": [
    {
     "data": {
      "text/plain": [
       "['라라랜드', '먼 훗날 우리', '어벤져스', '다크나이트', '위대한쇼맨', '인셉션', '터미네이터']"
      ]
     },
     "execution_count": 13,
     "metadata": {},
     "output_type": "execute_result"
    }
   ],
   "source": [
    "movies.extend(['위대한쇼맨', '인셉션', '터미네이터'])\n",
    "movies"
   ]
  },
  {
   "cell_type": "markdown",
   "id": "698326ac",
   "metadata": {},
   "source": [
    "- remove : 자료 삭제"
   ]
  },
  {
   "cell_type": "code",
   "execution_count": 14,
   "id": "07156cc6",
   "metadata": {},
   "outputs": [
    {
     "data": {
      "text/plain": [
       "['라라랜드', '먼 훗날 우리', '다크나이트', '위대한쇼맨', '인셉션', '터미네이터']"
      ]
     },
     "execution_count": 14,
     "metadata": {},
     "output_type": "execute_result"
    }
   ],
   "source": [
    "movies.remove(\"어벤져스\")\n",
    "movies"
   ]
  },
  {
   "cell_type": "markdown",
   "id": "cada2507",
   "metadata": {},
   "source": [
    "- 슬라이싱 : [n:m] n부터 m-1까지"
   ]
  },
  {
   "cell_type": "code",
   "execution_count": 15,
   "id": "e941cbf9",
   "metadata": {},
   "outputs": [
    {
     "data": {
      "text/plain": [
       "['위대한쇼맨', '인셉션']"
      ]
     },
     "execution_count": 15,
     "metadata": {},
     "output_type": "execute_result"
    }
   ],
   "source": [
    "movies[3:5]"
   ]
  },
  {
   "cell_type": "code",
   "execution_count": 16,
   "id": "9e41bc1c",
   "metadata": {},
   "outputs": [
    {
     "data": {
      "text/plain": [
       "['위대한쇼맨', '인셉션']"
      ]
     },
     "execution_count": 16,
     "metadata": {},
     "output_type": "execute_result"
    }
   ],
   "source": [
    "favorite_movies = movies[3:5]\n",
    "favorite_movies"
   ]
  },
  {
   "cell_type": "markdown",
   "id": "922a0ee7",
   "metadata": {},
   "source": [
    "- inset : 원하는 위치에 아이템 삽입"
   ]
  },
  {
   "cell_type": "code",
   "execution_count": 19,
   "id": "8bc5ceae",
   "metadata": {},
   "outputs": [
    {
     "data": {
      "text/plain": [
       "['위대한쇼맨', 9.6, '인셉션']"
      ]
     },
     "execution_count": 19,
     "metadata": {},
     "output_type": "execute_result"
    }
   ],
   "source": [
    "favorite_movies.insert(1, 9.60)\n",
    "favorite_movies"
   ]
  },
  {
   "cell_type": "code",
   "execution_count": 20,
   "id": "3c83a4dd",
   "metadata": {},
   "outputs": [
    {
     "data": {
      "text/plain": [
       "['위대한쇼맨', 9.6, '인셉션', 9.5]"
      ]
     },
     "execution_count": 20,
     "metadata": {},
     "output_type": "execute_result"
    }
   ],
   "source": [
    "favorite_movies.insert(3, 9.50)\n",
    "favorite_movies"
   ]
  },
  {
   "cell_type": "markdown",
   "id": "96c85d56",
   "metadata": {},
   "source": [
    "- list안에 list"
   ]
  },
  {
   "cell_type": "code",
   "execution_count": 22,
   "id": "306ca17f",
   "metadata": {},
   "outputs": [
    {
     "data": {
      "text/plain": [
       "['위대한쇼맨', 9.6, '인셉션', 9.5, ['휴잭맨', '레오나르도 디카프리오']]"
      ]
     },
     "execution_count": 22,
     "metadata": {},
     "output_type": "execute_result"
    }
   ],
   "source": [
    "favorite_movies.insert(5, [\"휴잭맨\", \"레오나르도 디카프리오\"])\n",
    "favorite_movies"
   ]
  },
  {
   "cell_type": "markdown",
   "id": "47868953",
   "metadata": {},
   "source": [
    "- isinstance : 자료형 확인"
   ]
  },
  {
   "cell_type": "code",
   "execution_count": 24,
   "id": "18d91ef5",
   "metadata": {},
   "outputs": [
    {
     "data": {
      "text/plain": [
       "True"
      ]
     },
     "execution_count": 24,
     "metadata": {},
     "output_type": "execute_result"
    }
   ],
   "source": [
    "isinstance(favorite_movies, list)"
   ]
  },
  {
   "cell_type": "code",
   "execution_count": 26,
   "id": "1d569ae3",
   "metadata": {},
   "outputs": [
    {
     "name": "stdout",
     "output_type": "stream",
     "text": [
      "each_item 위대한쇼맨\n",
      "each_item 9.6\n",
      "each_item 인셉션\n",
      "each_item 9.5\n",
      "nested_item 휴잭맨\n",
      "nested_item 레오나르도 디카프리오\n"
     ]
    }
   ],
   "source": [
    "for each_item in favorite_movies:\n",
    "    if isinstance(each_item, list):\n",
    "        for nested_item in each_item:\n",
    "            print(\"nested_item\", nested_item)\n",
    "    else:\n",
    "        print(\"each_item\", each_item)"
   ]
  },
  {
   "cell_type": "code",
   "execution_count": null,
   "id": "e783f53e",
   "metadata": {},
   "outputs": [],
   "source": []
  }
 ],
 "metadata": {
  "kernelspec": {
   "display_name": "Python 3 (ipykernel)",
   "language": "python",
   "name": "python3"
  },
  "language_info": {
   "codemirror_mode": {
    "name": "ipython",
    "version": 3
   },
   "file_extension": ".py",
   "mimetype": "text/x-python",
   "name": "python",
   "nbconvert_exporter": "python",
   "pygments_lexer": "ipython3",
   "version": "3.8.17"
  }
 },
 "nbformat": 4,
 "nbformat_minor": 5
}
